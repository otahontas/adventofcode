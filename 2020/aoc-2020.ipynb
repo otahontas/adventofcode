{
 "cells": [
  {
   "cell_type": "markdown",
   "metadata": {
    "pycharm": {
     "name": "#%% md\n"
    }
   },
   "source": [
    "# Advent of code 2020\n",
    "\n",
    "This notebook contains my (somewhat documented) solutions to advent of code 2020. For\n",
    "each day, I've tried to summarize ideas behind the solutions and to write understandable\n",
    "and explicit code with type hints, so it's easier to follow what's happening.\n",
    "\n",
    "If you want to tinker around with the solutions, you can install needed libraries\n",
    "with either [poetry](https://python-poetry.org/) or just plain `pip install .`. You \n",
    "also need to setup the awesome [advent-of-code-data](\n",
    "https://pypi.org/project/advent-of-code-data/) library, which I'm using for getting\n",
    "input."
   ]
  },
  {
   "cell_type": "markdown",
   "metadata": {
    "collapsed": true,
    "pycharm": {
     "name": "#%% md\n"
    }
   },
   "source": [
    "## Setup and shared functions\n",
    "\n",
    "This first block is used to import all libraries, define all special function and\n",
    "create all types needed in the notebook. These are mainly for parsing data into\n",
    "different forms."
   ]
  },
  {
   "cell_type": "code",
   "execution_count": 1,
   "metadata": {
    "pycharm": {
     "name": "#%%\n"
    }
   },
   "outputs": [
    {
     "data": {
      "application/javascript": [
       "\n",
       "            setTimeout(function() {\n",
       "                var nbb_cell_id = 1;\n",
       "                var nbb_unformatted_code = \"# Load black for automatic code formatting\\n%load_ext nb_black\\n\\n# Load mypy for type checks. To type check, run %mypy in cell\\n%load_ext mypy_ipython\\n\\n# Load libraries\\nimport re\\nimport math\\nimport itertools\\nimport functools\\nfrom abc import ABC, abstractmethod\\nfrom collections import defaultdict, deque, Counter\\nfrom typing import (\\n    Iterable,\\n    Callable,\\n    Optional,\\n    Literal,\\n    Iterator,\\n    Tuple,\\n    Set,\\n    List,\\n    Dict,\\n    Union,\\n    Deque,\\n)\\nfrom dataclasses import dataclass\\n\\nimport aocd\\nimport networkx as nx\\nimport numpy as np\\nimport numba as nb\\nimport scipy\\n\\nVector = Tuple[int, int]\\nSolution = Tuple[Union[int, str], Union[int, str]]\\n\\n\\ndef data(day: int) -> str:\\n    \\\"\\\"\\\"Get days input data as one string.\\\"\\\"\\\"\\n    return aocd.get_data(day=day, year=2020)\\n\\n\\ndef data_to_nums(day: int) -> List[int]:\\n    \\\"\\\"\\\"Get days input data as numbers.\\\"\\\"\\\"\\n    return [int(x) for x in re.findall(r\\\"(\\\\d+)\\\", aocd.get_data(day=day, year=2020))]\\n\\n\\ndef data_to_lines(day: int) -> List[str]:\\n    \\\"\\\"\\\"Get days input data lines as list of strings.\\\"\\\"\\\"\\n    return aocd.get_data(day=day, year=2020).splitlines()\\n\\n\\ndef data_to_blocks(day: int) -> List[str]:\\n    \\\"\\\"\\\"Get days input data blocks that are separated by empty new lines.\\\"\\\"\\\"\\n    return [block for block in aocd.get_data(day=day, year=2020).split(\\\"\\\\n\\\\n\\\")]\\n\\n\\ndef test_day(day: int) -> None:\\n    \\\"\\\"\\\"Run test for given day\\\"\\\"\\\"\\n    return globals()[f\\\"test_day_{day}\\\"]()\\n\\n\\ndef run_day(day: int) -> Solution:\\n    \\\"\\\"\\\"Return solutions for given day.\\\"\\\"\\\"\\n    return globals()[f\\\"day_{day}\\\"]()\\n\\n\\ndef print_day(day: int) -> None:\\n    \\\"\\\"\\\"Print solutions for given day.\\\"\\\"\\\"\\n    first, second = run_day(day=day)\\n    print(\\\"Part 1:\\\", first)\\n    print(\\\"Part 2:\\\", second)\";\n",
       "                var nbb_formatted_code = \"# Load black for automatic code formatting\\n%load_ext nb_black\\n\\n# Load mypy for type checks. To type check, run %mypy in cell\\n%load_ext mypy_ipython\\n\\n# Load libraries\\nimport re\\nimport math\\nimport itertools\\nimport functools\\nfrom abc import ABC, abstractmethod\\nfrom collections import defaultdict, deque, Counter\\nfrom typing import (\\n    Iterable,\\n    Callable,\\n    Optional,\\n    Literal,\\n    Iterator,\\n    Tuple,\\n    Set,\\n    List,\\n    Dict,\\n    Union,\\n    Deque,\\n)\\nfrom dataclasses import dataclass\\n\\nimport aocd\\nimport networkx as nx\\nimport numpy as np\\nimport numba as nb\\nimport scipy\\n\\nVector = Tuple[int, int]\\nSolution = Tuple[Union[int, str], Union[int, str]]\\n\\n\\ndef data(day: int) -> str:\\n    \\\"\\\"\\\"Get days input data as one string.\\\"\\\"\\\"\\n    return aocd.get_data(day=day, year=2020)\\n\\n\\ndef data_to_nums(day: int) -> List[int]:\\n    \\\"\\\"\\\"Get days input data as numbers.\\\"\\\"\\\"\\n    return [int(x) for x in re.findall(r\\\"(\\\\d+)\\\", aocd.get_data(day=day, year=2020))]\\n\\n\\ndef data_to_lines(day: int) -> List[str]:\\n    \\\"\\\"\\\"Get days input data lines as list of strings.\\\"\\\"\\\"\\n    return aocd.get_data(day=day, year=2020).splitlines()\\n\\n\\ndef data_to_blocks(day: int) -> List[str]:\\n    \\\"\\\"\\\"Get days input data blocks that are separated by empty new lines.\\\"\\\"\\\"\\n    return [block for block in aocd.get_data(day=day, year=2020).split(\\\"\\\\n\\\\n\\\")]\\n\\n\\ndef test_day(day: int) -> None:\\n    \\\"\\\"\\\"Run test for given day\\\"\\\"\\\"\\n    return globals()[f\\\"test_day_{day}\\\"]()\\n\\n\\ndef run_day(day: int) -> Solution:\\n    \\\"\\\"\\\"Return solutions for given day.\\\"\\\"\\\"\\n    return globals()[f\\\"day_{day}\\\"]()\\n\\n\\ndef print_day(day: int) -> None:\\n    \\\"\\\"\\\"Print solutions for given day.\\\"\\\"\\\"\\n    first, second = run_day(day=day)\\n    print(\\\"Part 1:\\\", first)\\n    print(\\\"Part 2:\\\", second)\";\n",
       "                var nbb_cells = Jupyter.notebook.get_cells();\n",
       "                for (var i = 0; i < nbb_cells.length; ++i) {\n",
       "                    if (nbb_cells[i].input_prompt_number == nbb_cell_id) {\n",
       "                        if (nbb_cells[i].get_text() == nbb_unformatted_code) {\n",
       "                             nbb_cells[i].set_text(nbb_formatted_code);\n",
       "                        }\n",
       "                        break;\n",
       "                    }\n",
       "                }\n",
       "            }, 500);\n",
       "            "
      ],
      "text/plain": [
       "<IPython.core.display.Javascript object>"
      ]
     },
     "metadata": {},
     "output_type": "display_data"
    }
   ],
   "source": [
    "# Load black for automatic code formatting\n",
    "%load_ext nb_black\n",
    "\n",
    "# Load mypy for type checks. To type check, run %mypy in cell\n",
    "%load_ext mypy_ipython\n",
    "\n",
    "# Load libraries\n",
    "import re\n",
    "import math\n",
    "import itertools\n",
    "import functools\n",
    "from abc import ABC, abstractmethod\n",
    "from collections import defaultdict, deque, Counter\n",
    "from typing import (\n",
    "    Iterable,\n",
    "    Callable,\n",
    "    Optional,\n",
    "    Literal,\n",
    "    Iterator,\n",
    "    Tuple,\n",
    "    Set,\n",
    "    List,\n",
    "    Dict,\n",
    "    Union,\n",
    "    Deque,\n",
    ")\n",
    "from dataclasses import dataclass\n",
    "\n",
    "import aocd\n",
    "import networkx as nx\n",
    "import numpy as np\n",
    "import numba as nb\n",
    "import scipy\n",
    "\n",
    "Vector = Tuple[int, int]\n",
    "Solution = Tuple[Union[int, str], Union[int, str]]\n",
    "\n",
    "\n",
    "def data(day: int) -> str:\n",
    "    \"\"\"Get days input data as one string.\"\"\"\n",
    "    return aocd.get_data(day=day, year=2020)\n",
    "\n",
    "\n",
    "def data_to_nums(day: int) -> List[int]:\n",
    "    \"\"\"Get days input data as numbers.\"\"\"\n",
    "    return [int(x) for x in re.findall(r\"(\\d+)\", aocd.get_data(day=day, year=2020))]\n",
    "\n",
    "\n",
    "def data_to_lines(day: int) -> List[str]:\n",
    "    \"\"\"Get days input data lines as list of strings.\"\"\"\n",
    "    return aocd.get_data(day=day, year=2020).splitlines()\n",
    "\n",
    "\n",
    "def data_to_blocks(day: int) -> List[str]:\n",
    "    \"\"\"Get days input data blocks that are separated by empty new lines.\"\"\"\n",
    "    return [block for block in aocd.get_data(day=day, year=2020).split(\"\\n\\n\")]\n",
    "\n",
    "\n",
    "def test_day(day: int) -> None:\n",
    "    \"\"\"Run test for given day\"\"\"\n",
    "    return globals()[f\"test_day_{day}\"]()\n",
    "\n",
    "\n",
    "def run_day(day: int) -> Solution:\n",
    "    \"\"\"Return solutions for given day.\"\"\"\n",
    "    return globals()[f\"day_{day}\"]()\n",
    "\n",
    "\n",
    "def print_day(day: int) -> None:\n",
    "    \"\"\"Print solutions for given day.\"\"\"\n",
    "    first, second = run_day(day=day)\n",
    "    print(\"Part 1:\", first)\n",
    "    print(\"Part 2:\", second)"
   ]
  },
  {
   "cell_type": "markdown",
   "metadata": {},
   "source": [
    "## Day 1\n",
    "\n",
    "**Task**: find the entries that sum to 2020.\n",
    "\n",
    "Input size is quite small, just hundred numbers, so brute-forcing through every possible\n",
    "combination is fast enough. Here, `combinations` from `itertools` generates possible\n",
    "$k$-length combinations and when correct is found product of them is calculated with `math.prod`."
   ]
  },
  {
   "cell_type": "code",
   "execution_count": 2,
   "metadata": {
    "pycharm": {
     "name": "#%%\n"
    }
   },
   "outputs": [
    {
     "data": {
      "application/javascript": [
       "\n",
       "            setTimeout(function() {\n",
       "                var nbb_cell_id = 2;\n",
       "                var nbb_unformatted_code = \"def solve_day_1(numbers: List[int], k: int) -> int:\\n    \\\"\\\"\\\"Find first k-tuple of entries that has sum equivalent to goal.\\\"\\\"\\\"\\n    goal = 2020\\n    entries = next(c for c in itertools.combinations(numbers, k) if sum(c) == goal)\\n    return math.prod(entries)\";\n",
       "                var nbb_formatted_code = \"def solve_day_1(numbers: List[int], k: int) -> int:\\n    \\\"\\\"\\\"Find first k-tuple of entries that has sum equivalent to goal.\\\"\\\"\\\"\\n    goal = 2020\\n    entries = next(c for c in itertools.combinations(numbers, k) if sum(c) == goal)\\n    return math.prod(entries)\";\n",
       "                var nbb_cells = Jupyter.notebook.get_cells();\n",
       "                for (var i = 0; i < nbb_cells.length; ++i) {\n",
       "                    if (nbb_cells[i].input_prompt_number == nbb_cell_id) {\n",
       "                        if (nbb_cells[i].get_text() == nbb_unformatted_code) {\n",
       "                             nbb_cells[i].set_text(nbb_formatted_code);\n",
       "                        }\n",
       "                        break;\n",
       "                    }\n",
       "                }\n",
       "            }, 500);\n",
       "            "
      ],
      "text/plain": [
       "<IPython.core.display.Javascript object>"
      ]
     },
     "metadata": {},
     "output_type": "display_data"
    }
   ],
   "source": [
    "def solve_day_1(numbers: List[int], k: int) -> int:\n",
    "    \"\"\"Find first k-tuple of entries that has sum equivalent to goal.\"\"\"\n",
    "    goal = 2020\n",
    "    entries = next(c for c in itertools.combinations(numbers, k) if sum(c) == goal)\n",
    "    return math.prod(entries)"
   ]
  },
  {
   "cell_type": "code",
   "execution_count": 3,
   "metadata": {},
   "outputs": [
    {
     "data": {
      "application/javascript": [
       "\n",
       "            setTimeout(function() {\n",
       "                var nbb_cell_id = 3;\n",
       "                var nbb_unformatted_code = \"def test_day_1() -> None:\\n    example = [1721, 979, 366, 299, 675, 1456]\\n    assert solve_day_1(numbers=example, k=2) == 514579\\n    assert solve_day_1(numbers=example, k=3) == 241861950\";\n",
       "                var nbb_formatted_code = \"def test_day_1() -> None:\\n    example = [1721, 979, 366, 299, 675, 1456]\\n    assert solve_day_1(numbers=example, k=2) == 514579\\n    assert solve_day_1(numbers=example, k=3) == 241861950\";\n",
       "                var nbb_cells = Jupyter.notebook.get_cells();\n",
       "                for (var i = 0; i < nbb_cells.length; ++i) {\n",
       "                    if (nbb_cells[i].input_prompt_number == nbb_cell_id) {\n",
       "                        if (nbb_cells[i].get_text() == nbb_unformatted_code) {\n",
       "                             nbb_cells[i].set_text(nbb_formatted_code);\n",
       "                        }\n",
       "                        break;\n",
       "                    }\n",
       "                }\n",
       "            }, 500);\n",
       "            "
      ],
      "text/plain": [
       "<IPython.core.display.Javascript object>"
      ]
     },
     "metadata": {},
     "output_type": "display_data"
    }
   ],
   "source": [
    "def test_day_1() -> None:\n",
    "    example = [1721, 979, 366, 299, 675, 1456]\n",
    "    assert solve_day_1(numbers=example, k=2) == 514579\n",
    "    assert solve_day_1(numbers=example, k=3) == 241861950"
   ]
  },
  {
   "cell_type": "code",
   "execution_count": 4,
   "metadata": {},
   "outputs": [
    {
     "data": {
      "application/javascript": [
       "\n",
       "            setTimeout(function() {\n",
       "                var nbb_cell_id = 4;\n",
       "                var nbb_unformatted_code = \"def day_1() -> Solution:\\n    puzzle_input = data_to_nums(day=1)\\n    return (\\n        solve_day_1(numbers=puzzle_input, k=2),\\n        solve_day_1(numbers=puzzle_input, k=3),\\n    )\";\n",
       "                var nbb_formatted_code = \"def day_1() -> Solution:\\n    puzzle_input = data_to_nums(day=1)\\n    return (\\n        solve_day_1(numbers=puzzle_input, k=2),\\n        solve_day_1(numbers=puzzle_input, k=3),\\n    )\";\n",
       "                var nbb_cells = Jupyter.notebook.get_cells();\n",
       "                for (var i = 0; i < nbb_cells.length; ++i) {\n",
       "                    if (nbb_cells[i].input_prompt_number == nbb_cell_id) {\n",
       "                        if (nbb_cells[i].get_text() == nbb_unformatted_code) {\n",
       "                             nbb_cells[i].set_text(nbb_formatted_code);\n",
       "                        }\n",
       "                        break;\n",
       "                    }\n",
       "                }\n",
       "            }, 500);\n",
       "            "
      ],
      "text/plain": [
       "<IPython.core.display.Javascript object>"
      ]
     },
     "metadata": {},
     "output_type": "display_data"
    }
   ],
   "source": [
    "def day_1() -> Solution:\n",
    "    puzzle_input = data_to_nums(day=1)\n",
    "    return (\n",
    "        solve_day_1(numbers=puzzle_input, k=2),\n",
    "        solve_day_1(numbers=puzzle_input, k=3),\n",
    "    )"
   ]
  },
  {
   "cell_type": "code",
   "execution_count": 5,
   "metadata": {},
   "outputs": [
    {
     "name": "stdout",
     "output_type": "stream",
     "text": [
      "Part 1: 1010299\n",
      "Part 2: 42140160\n"
     ]
    },
    {
     "data": {
      "application/javascript": [
       "\n",
       "            setTimeout(function() {\n",
       "                var nbb_cell_id = 5;\n",
       "                var nbb_unformatted_code = \"test_day(1)\\nprint_day(1)\";\n",
       "                var nbb_formatted_code = \"test_day(1)\\nprint_day(1)\";\n",
       "                var nbb_cells = Jupyter.notebook.get_cells();\n",
       "                for (var i = 0; i < nbb_cells.length; ++i) {\n",
       "                    if (nbb_cells[i].input_prompt_number == nbb_cell_id) {\n",
       "                        if (nbb_cells[i].get_text() == nbb_unformatted_code) {\n",
       "                             nbb_cells[i].set_text(nbb_formatted_code);\n",
       "                        }\n",
       "                        break;\n",
       "                    }\n",
       "                }\n",
       "            }, 500);\n",
       "            "
      ],
      "text/plain": [
       "<IPython.core.display.Javascript object>"
      ]
     },
     "metadata": {},
     "output_type": "display_data"
    }
   ],
   "source": [
    "test_day(1)\n",
    "print_day(1)"
   ]
  },
  {
   "cell_type": "markdown",
   "metadata": {},
   "source": [
    "## Day 2\n",
    "\n",
    "**Task**: find amount of passwords that match their counterpart rule.\n",
    "\n",
    "Classic aocd-style input format! [Regex](https://en.wikipedia.org/wiki/Regular_expression) \n",
    "helps with parsing the input and [exclusive or (XOR)](https://en.wikipedia.org/wiki/Exclusive_or) helps at part two."
   ]
  },
  {
   "cell_type": "code",
   "execution_count": 6,
   "metadata": {
    "pycharm": {
     "name": "#%%\n"
    }
   },
   "outputs": [
    {
     "data": {
      "application/javascript": [
       "\n",
       "            setTimeout(function() {\n",
       "                var nbb_cell_id = 6;\n",
       "                var nbb_unformatted_code = \"class PasswordValidatorBase(ABC):\\n    def __init__(self) -> None:\\n        \\\"\\\"\\\"Initialize regex for splitting input.\\\"\\\"\\\"\\n        self._splitter = re.compile(r\\\"(\\\\d+)-(\\\\d+) ([a-z]): ([a-z]+)\\\")\\n\\n    def _parts(self, line: str) -> Tuple[int, int, str, str]:\\n        \\\"\\\"\\\"Split input to parts and types.\\\"\\\"\\\"\\n        match = self._splitter.match(line)\\n        if not match:\\n            raise ValueError(f\\\"Couldn't get password and policy from line: {line}\\\")\\n        low, high, char, string = match.groups()\\n        return int(low), int(high), char, string\\n\\n    def count_valid_passwords(self, lines: List[str]) -> int:\\n        \\\"\\\"\\\"Count valid passwords according to rules.\\\"\\\"\\\"\\n        return sum(self._validate(*self._parts(line)) for line in lines)\\n\\n    @abstractmethod\\n    def _validate(self, low: int, high: int, char: str, string: str) -> bool:\\n        \\\"\\\"\\\"Validator method that should be implemented by subclass.\\\"\\\"\\\"\\n        raise NotImplementedError\\n\\n\\nclass PasswordValidator(PasswordValidatorBase):\\n    def _validate(self, low: int, high: int, char: str, string: str) -> bool:\\n        \\\"\\\"\\\"Check if string has valid amount of occurences.\\\"\\\"\\\"\\n        return low <= string.count(char) <= high\\n\\n\\nclass ImprovedPasswordValidator(PasswordValidatorBase):\\n    def _validate(self, low: int, high: int, char: str, string: str) -> bool:\\n        \\\"\\\"\\\"Check if char is at either, but not at both positions.\\\"\\\"\\\"\\n        return (string[low - 1] == char) ^ (string[high - 1] == char)\\n\\n\\npassword_validator = PasswordValidator()\\nimproved_password_validator = ImprovedPasswordValidator()\";\n",
       "                var nbb_formatted_code = \"class PasswordValidatorBase(ABC):\\n    def __init__(self) -> None:\\n        \\\"\\\"\\\"Initialize regex for splitting input.\\\"\\\"\\\"\\n        self._splitter = re.compile(r\\\"(\\\\d+)-(\\\\d+) ([a-z]): ([a-z]+)\\\")\\n\\n    def _parts(self, line: str) -> Tuple[int, int, str, str]:\\n        \\\"\\\"\\\"Split input to parts and types.\\\"\\\"\\\"\\n        match = self._splitter.match(line)\\n        if not match:\\n            raise ValueError(f\\\"Couldn't get password and policy from line: {line}\\\")\\n        low, high, char, string = match.groups()\\n        return int(low), int(high), char, string\\n\\n    def count_valid_passwords(self, lines: List[str]) -> int:\\n        \\\"\\\"\\\"Count valid passwords according to rules.\\\"\\\"\\\"\\n        return sum(self._validate(*self._parts(line)) for line in lines)\\n\\n    @abstractmethod\\n    def _validate(self, low: int, high: int, char: str, string: str) -> bool:\\n        \\\"\\\"\\\"Validator method that should be implemented by subclass.\\\"\\\"\\\"\\n        raise NotImplementedError\\n\\n\\nclass PasswordValidator(PasswordValidatorBase):\\n    def _validate(self, low: int, high: int, char: str, string: str) -> bool:\\n        \\\"\\\"\\\"Check if string has valid amount of occurences.\\\"\\\"\\\"\\n        return low <= string.count(char) <= high\\n\\n\\nclass ImprovedPasswordValidator(PasswordValidatorBase):\\n    def _validate(self, low: int, high: int, char: str, string: str) -> bool:\\n        \\\"\\\"\\\"Check if char is at either, but not at both positions.\\\"\\\"\\\"\\n        return (string[low - 1] == char) ^ (string[high - 1] == char)\\n\\n\\npassword_validator = PasswordValidator()\\nimproved_password_validator = ImprovedPasswordValidator()\";\n",
       "                var nbb_cells = Jupyter.notebook.get_cells();\n",
       "                for (var i = 0; i < nbb_cells.length; ++i) {\n",
       "                    if (nbb_cells[i].input_prompt_number == nbb_cell_id) {\n",
       "                        if (nbb_cells[i].get_text() == nbb_unformatted_code) {\n",
       "                             nbb_cells[i].set_text(nbb_formatted_code);\n",
       "                        }\n",
       "                        break;\n",
       "                    }\n",
       "                }\n",
       "            }, 500);\n",
       "            "
      ],
      "text/plain": [
       "<IPython.core.display.Javascript object>"
      ]
     },
     "metadata": {},
     "output_type": "display_data"
    }
   ],
   "source": [
    "class PasswordValidatorBase(ABC):\n",
    "    def __init__(self) -> None:\n",
    "        \"\"\"Initialize regex for splitting input.\"\"\"\n",
    "        self._splitter = re.compile(r\"(\\d+)-(\\d+) ([a-z]): ([a-z]+)\")\n",
    "\n",
    "    def _parts(self, line: str) -> Tuple[int, int, str, str]:\n",
    "        \"\"\"Split input to parts and types.\"\"\"\n",
    "        match = self._splitter.match(line)\n",
    "        if not match:\n",
    "            raise ValueError(f\"Couldn't get password and policy from line: {line}\")\n",
    "        low, high, char, string = match.groups()\n",
    "        return int(low), int(high), char, string\n",
    "\n",
    "    def count_valid_passwords(self, lines: List[str]) -> int:\n",
    "        \"\"\"Count valid passwords according to rules.\"\"\"\n",
    "        return sum(self._validate(*self._parts(line)) for line in lines)\n",
    "\n",
    "    @abstractmethod\n",
    "    def _validate(self, low: int, high: int, char: str, string: str) -> bool:\n",
    "        \"\"\"Validator method that should be implemented by subclass.\"\"\"\n",
    "        raise NotImplementedError\n",
    "\n",
    "\n",
    "class PasswordValidator(PasswordValidatorBase):\n",
    "    def _validate(self, low: int, high: int, char: str, string: str) -> bool:\n",
    "        \"\"\"Check if string has valid amount of occurences.\"\"\"\n",
    "        return low <= string.count(char) <= high\n",
    "\n",
    "\n",
    "class ImprovedPasswordValidator(PasswordValidatorBase):\n",
    "    def _validate(self, low: int, high: int, char: str, string: str) -> bool:\n",
    "        \"\"\"Check if char is at either, but not at both positions.\"\"\"\n",
    "        return (string[low - 1] == char) ^ (string[high - 1] == char)\n",
    "\n",
    "\n",
    "password_validator = PasswordValidator()\n",
    "improved_password_validator = ImprovedPasswordValidator()"
   ]
  },
  {
   "cell_type": "code",
   "execution_count": 7,
   "metadata": {},
   "outputs": [
    {
     "data": {
      "application/javascript": [
       "\n",
       "            setTimeout(function() {\n",
       "                var nbb_cell_id = 7;\n",
       "                var nbb_unformatted_code = \"def test_day_2() -> None:\\n    example = [\\\"1-3 a: abcde\\\", \\\"1-3 b: cdefg\\\", \\\"2-9 c: ccccccccc\\\"]\\n    assert password_validator.count_valid_passwords(example) == 2\\n    assert improved_password_validator.count_valid_passwords(example) == 1\";\n",
       "                var nbb_formatted_code = \"def test_day_2() -> None:\\n    example = [\\\"1-3 a: abcde\\\", \\\"1-3 b: cdefg\\\", \\\"2-9 c: ccccccccc\\\"]\\n    assert password_validator.count_valid_passwords(example) == 2\\n    assert improved_password_validator.count_valid_passwords(example) == 1\";\n",
       "                var nbb_cells = Jupyter.notebook.get_cells();\n",
       "                for (var i = 0; i < nbb_cells.length; ++i) {\n",
       "                    if (nbb_cells[i].input_prompt_number == nbb_cell_id) {\n",
       "                        if (nbb_cells[i].get_text() == nbb_unformatted_code) {\n",
       "                             nbb_cells[i].set_text(nbb_formatted_code);\n",
       "                        }\n",
       "                        break;\n",
       "                    }\n",
       "                }\n",
       "            }, 500);\n",
       "            "
      ],
      "text/plain": [
       "<IPython.core.display.Javascript object>"
      ]
     },
     "metadata": {},
     "output_type": "display_data"
    }
   ],
   "source": [
    "def test_day_2() -> None:\n",
    "    example = [\"1-3 a: abcde\", \"1-3 b: cdefg\", \"2-9 c: ccccccccc\"]\n",
    "    assert password_validator.count_valid_passwords(example) == 2\n",
    "    assert improved_password_validator.count_valid_passwords(example) == 1"
   ]
  },
  {
   "cell_type": "code",
   "execution_count": 8,
   "metadata": {},
   "outputs": [
    {
     "data": {
      "application/javascript": [
       "\n",
       "            setTimeout(function() {\n",
       "                var nbb_cell_id = 8;\n",
       "                var nbb_unformatted_code = \"def day_2() -> Solution:\\n    puzzle_input = data_to_lines(day=2)\\n    return (\\n        password_validator.count_valid_passwords(puzzle_input),\\n        improved_password_validator.count_valid_passwords(puzzle_input),\\n    )\";\n",
       "                var nbb_formatted_code = \"def day_2() -> Solution:\\n    puzzle_input = data_to_lines(day=2)\\n    return (\\n        password_validator.count_valid_passwords(puzzle_input),\\n        improved_password_validator.count_valid_passwords(puzzle_input),\\n    )\";\n",
       "                var nbb_cells = Jupyter.notebook.get_cells();\n",
       "                for (var i = 0; i < nbb_cells.length; ++i) {\n",
       "                    if (nbb_cells[i].input_prompt_number == nbb_cell_id) {\n",
       "                        if (nbb_cells[i].get_text() == nbb_unformatted_code) {\n",
       "                             nbb_cells[i].set_text(nbb_formatted_code);\n",
       "                        }\n",
       "                        break;\n",
       "                    }\n",
       "                }\n",
       "            }, 500);\n",
       "            "
      ],
      "text/plain": [
       "<IPython.core.display.Javascript object>"
      ]
     },
     "metadata": {},
     "output_type": "display_data"
    }
   ],
   "source": [
    "def day_2() -> Solution:\n",
    "    puzzle_input = data_to_lines(day=2)\n",
    "    return (\n",
    "        password_validator.count_valid_passwords(puzzle_input),\n",
    "        improved_password_validator.count_valid_passwords(puzzle_input),\n",
    "    )"
   ]
  },
  {
   "cell_type": "code",
   "execution_count": 9,
   "metadata": {},
   "outputs": [
    {
     "name": "stdout",
     "output_type": "stream",
     "text": [
      "Part 1: 524\n",
      "Part 2: 485\n"
     ]
    },
    {
     "data": {
      "application/javascript": [
       "\n",
       "            setTimeout(function() {\n",
       "                var nbb_cell_id = 9;\n",
       "                var nbb_unformatted_code = \"test_day(2)\\nprint_day(2)\";\n",
       "                var nbb_formatted_code = \"test_day(2)\\nprint_day(2)\";\n",
       "                var nbb_cells = Jupyter.notebook.get_cells();\n",
       "                for (var i = 0; i < nbb_cells.length; ++i) {\n",
       "                    if (nbb_cells[i].input_prompt_number == nbb_cell_id) {\n",
       "                        if (nbb_cells[i].get_text() == nbb_unformatted_code) {\n",
       "                             nbb_cells[i].set_text(nbb_formatted_code);\n",
       "                        }\n",
       "                        break;\n",
       "                    }\n",
       "                }\n",
       "            }, 500);\n",
       "            "
      ],
      "text/plain": [
       "<IPython.core.display.Javascript object>"
      ]
     },
     "metadata": {},
     "output_type": "display_data"
    }
   ],
   "source": [
    "test_day(2)\n",
    "print_day(2)"
   ]
  },
  {
   "cell_type": "markdown",
   "metadata": {
    "pycharm": {
     "name": "#%% md\n"
    }
   },
   "source": [
    "## Day 3\n",
    "\n",
    "**Task**: count the number of trees encountered while traversing the map.\n",
    "\n",
    "Instead of really traversing the map, it's faster to generate possible \n",
    "points with `range` and `count` and calculate corresponding point in map \n",
    "with modulo. "
   ]
  },
  {
   "cell_type": "code",
   "execution_count": 10,
   "metadata": {
    "pycharm": {
     "name": "#%%\n"
    }
   },
   "outputs": [
    {
     "data": {
      "application/javascript": [
       "\n",
       "            setTimeout(function() {\n",
       "                var nbb_cell_id = 10;\n",
       "                var nbb_unformatted_code = \"class TreeCounter:\\n    def __init__(self, area: List[str]) -> None:\\n        \\\"\\\"\\\"Init area map, height and width.\\\"\\\"\\\"\\n        self._area = area\\n        self._height = len(area)\\n        self._width = len(area[0])\\n\\n    def _count_trees(self, slope: Vector) -> int:\\n        \\\"\\\"\\\"Get sum of points where tree is encountered.\\\"\\\"\\\"\\n        right, down = slope\\n        rows = range(0, self._height, down)\\n        cols = itertools.count(start=0, step=right)\\n        return sum(self._area[y][x % self._width] == \\\"#\\\" for y, x in zip(rows, cols))\\n\\n    def _check_slopes(self) -> List[int]:\\n        \\\"\\\"\\\"Get counts for all slopes in the puzzle.\\\"\\\"\\\"\\n        slopes = ((3, 1), (1, 1), (5, 1), (7, 1), (1, 2))\\n        return [self._count_trees(slope=slope) for slope in slopes]\\n\\n    def answers(self) -> Tuple[int, int]:\\n        \\\"\\\"\\\"Get answer for both puzzle parts.\\\"\\\"\\\"\\n        counts = self._check_slopes()\\n        return counts[0], math.prod(counts)\";\n",
       "                var nbb_formatted_code = \"class TreeCounter:\\n    def __init__(self, area: List[str]) -> None:\\n        \\\"\\\"\\\"Init area map, height and width.\\\"\\\"\\\"\\n        self._area = area\\n        self._height = len(area)\\n        self._width = len(area[0])\\n\\n    def _count_trees(self, slope: Vector) -> int:\\n        \\\"\\\"\\\"Get sum of points where tree is encountered.\\\"\\\"\\\"\\n        right, down = slope\\n        rows = range(0, self._height, down)\\n        cols = itertools.count(start=0, step=right)\\n        return sum(self._area[y][x % self._width] == \\\"#\\\" for y, x in zip(rows, cols))\\n\\n    def _check_slopes(self) -> List[int]:\\n        \\\"\\\"\\\"Get counts for all slopes in the puzzle.\\\"\\\"\\\"\\n        slopes = ((3, 1), (1, 1), (5, 1), (7, 1), (1, 2))\\n        return [self._count_trees(slope=slope) for slope in slopes]\\n\\n    def answers(self) -> Tuple[int, int]:\\n        \\\"\\\"\\\"Get answer for both puzzle parts.\\\"\\\"\\\"\\n        counts = self._check_slopes()\\n        return counts[0], math.prod(counts)\";\n",
       "                var nbb_cells = Jupyter.notebook.get_cells();\n",
       "                for (var i = 0; i < nbb_cells.length; ++i) {\n",
       "                    if (nbb_cells[i].input_prompt_number == nbb_cell_id) {\n",
       "                        if (nbb_cells[i].get_text() == nbb_unformatted_code) {\n",
       "                             nbb_cells[i].set_text(nbb_formatted_code);\n",
       "                        }\n",
       "                        break;\n",
       "                    }\n",
       "                }\n",
       "            }, 500);\n",
       "            "
      ],
      "text/plain": [
       "<IPython.core.display.Javascript object>"
      ]
     },
     "metadata": {},
     "output_type": "display_data"
    }
   ],
   "source": [
    "class TreeCounter:\n",
    "    def __init__(self, area: List[str]) -> None:\n",
    "        \"\"\"Init area map, height and width.\"\"\"\n",
    "        self._area = area\n",
    "        self._height = len(area)\n",
    "        self._width = len(area[0])\n",
    "\n",
    "    def _count_trees(self, slope: Vector) -> int:\n",
    "        \"\"\"Get sum of points where tree is encountered.\"\"\"\n",
    "        right, down = slope\n",
    "        rows = range(0, self._height, down)\n",
    "        cols = itertools.count(start=0, step=right)\n",
    "        return sum(self._area[y][x % self._width] == \"#\" for y, x in zip(rows, cols))\n",
    "\n",
    "    def _check_slopes(self) -> List[int]:\n",
    "        \"\"\"Get counts for all slopes in the puzzle.\"\"\"\n",
    "        slopes = ((3, 1), (1, 1), (5, 1), (7, 1), (1, 2))\n",
    "        return [self._count_trees(slope=slope) for slope in slopes]\n",
    "\n",
    "    def answers(self) -> Tuple[int, int]:\n",
    "        \"\"\"Get answer for both puzzle parts.\"\"\"\n",
    "        counts = self._check_slopes()\n",
    "        return counts[0], math.prod(counts)"
   ]
  },
  {
   "cell_type": "code",
   "execution_count": 11,
   "metadata": {},
   "outputs": [
    {
     "data": {
      "application/javascript": [
       "\n",
       "            setTimeout(function() {\n",
       "                var nbb_cell_id = 11;\n",
       "                var nbb_unformatted_code = \"def test_day_3() -> None:\\n    example = [\\n        \\\"..##.......\\\",\\n        \\\"#...#...#..\\\",\\n        \\\".#....#..#.\\\",\\n        \\\"..#.#...#.#\\\",\\n        \\\".#...##..#.\\\",\\n        \\\"..#.##.....\\\",\\n        \\\".#.#.#....#\\\",\\n        \\\".#........#\\\",\\n        \\\"#.##...#...\\\",\\n        \\\"#...##....#\\\",\\n        \\\".#..#...#.#\\\",\\n    ]\\n    counter = TreeCounter(area=example)\\n    assert counter.answers() == (7, 336)\";\n",
       "                var nbb_formatted_code = \"def test_day_3() -> None:\\n    example = [\\n        \\\"..##.......\\\",\\n        \\\"#...#...#..\\\",\\n        \\\".#....#..#.\\\",\\n        \\\"..#.#...#.#\\\",\\n        \\\".#...##..#.\\\",\\n        \\\"..#.##.....\\\",\\n        \\\".#.#.#....#\\\",\\n        \\\".#........#\\\",\\n        \\\"#.##...#...\\\",\\n        \\\"#...##....#\\\",\\n        \\\".#..#...#.#\\\",\\n    ]\\n    counter = TreeCounter(area=example)\\n    assert counter.answers() == (7, 336)\";\n",
       "                var nbb_cells = Jupyter.notebook.get_cells();\n",
       "                for (var i = 0; i < nbb_cells.length; ++i) {\n",
       "                    if (nbb_cells[i].input_prompt_number == nbb_cell_id) {\n",
       "                        if (nbb_cells[i].get_text() == nbb_unformatted_code) {\n",
       "                             nbb_cells[i].set_text(nbb_formatted_code);\n",
       "                        }\n",
       "                        break;\n",
       "                    }\n",
       "                }\n",
       "            }, 500);\n",
       "            "
      ],
      "text/plain": [
       "<IPython.core.display.Javascript object>"
      ]
     },
     "metadata": {},
     "output_type": "display_data"
    }
   ],
   "source": [
    "def test_day_3() -> None:\n",
    "    example = [\n",
    "        \"..##.......\",\n",
    "        \"#...#...#..\",\n",
    "        \".#....#..#.\",\n",
    "        \"..#.#...#.#\",\n",
    "        \".#...##..#.\",\n",
    "        \"..#.##.....\",\n",
    "        \".#.#.#....#\",\n",
    "        \".#........#\",\n",
    "        \"#.##...#...\",\n",
    "        \"#...##....#\",\n",
    "        \".#..#...#.#\",\n",
    "    ]\n",
    "    counter = TreeCounter(area=example)\n",
    "    assert counter.answers() == (7, 336)"
   ]
  },
  {
   "cell_type": "code",
   "execution_count": 12,
   "metadata": {},
   "outputs": [
    {
     "data": {
      "application/javascript": [
       "\n",
       "            setTimeout(function() {\n",
       "                var nbb_cell_id = 12;\n",
       "                var nbb_unformatted_code = \"def day_3() -> Solution:\\n    tree_counter = TreeCounter(area=data_to_lines(day=3))\\n    return tree_counter.answers()\";\n",
       "                var nbb_formatted_code = \"def day_3() -> Solution:\\n    tree_counter = TreeCounter(area=data_to_lines(day=3))\\n    return tree_counter.answers()\";\n",
       "                var nbb_cells = Jupyter.notebook.get_cells();\n",
       "                for (var i = 0; i < nbb_cells.length; ++i) {\n",
       "                    if (nbb_cells[i].input_prompt_number == nbb_cell_id) {\n",
       "                        if (nbb_cells[i].get_text() == nbb_unformatted_code) {\n",
       "                             nbb_cells[i].set_text(nbb_formatted_code);\n",
       "                        }\n",
       "                        break;\n",
       "                    }\n",
       "                }\n",
       "            }, 500);\n",
       "            "
      ],
      "text/plain": [
       "<IPython.core.display.Javascript object>"
      ]
     },
     "metadata": {},
     "output_type": "display_data"
    }
   ],
   "source": [
    "def day_3() -> Solution:\n",
    "    tree_counter = TreeCounter(area=data_to_lines(day=3))\n",
    "    return tree_counter.answers()"
   ]
  },
  {
   "cell_type": "code",
   "execution_count": 13,
   "metadata": {},
   "outputs": [
    {
     "name": "stdout",
     "output_type": "stream",
     "text": [
      "Part 1: 280\n",
      "Part 2: 4355551200\n"
     ]
    },
    {
     "data": {
      "application/javascript": [
       "\n",
       "            setTimeout(function() {\n",
       "                var nbb_cell_id = 13;\n",
       "                var nbb_unformatted_code = \"test_day(3)\\nprint_day(3)\";\n",
       "                var nbb_formatted_code = \"test_day(3)\\nprint_day(3)\";\n",
       "                var nbb_cells = Jupyter.notebook.get_cells();\n",
       "                for (var i = 0; i < nbb_cells.length; ++i) {\n",
       "                    if (nbb_cells[i].input_prompt_number == nbb_cell_id) {\n",
       "                        if (nbb_cells[i].get_text() == nbb_unformatted_code) {\n",
       "                             nbb_cells[i].set_text(nbb_formatted_code);\n",
       "                        }\n",
       "                        break;\n",
       "                    }\n",
       "                }\n",
       "            }, 500);\n",
       "            "
      ],
      "text/plain": [
       "<IPython.core.display.Javascript object>"
      ]
     },
     "metadata": {},
     "output_type": "display_data"
    }
   ],
   "source": [
    "test_day(3)\n",
    "print_day(3)"
   ]
  },
  {
   "cell_type": "markdown",
   "metadata": {},
   "source": [
    "## Day 4\n",
    "\n",
    "**Task**: count the number of valid passports\n",
    "\n",
    "Since this puzzle is also about validation, I'm using the same format than in day 2 and\n",
    "also a very useful data serializing library \n",
    "[marshmallow](https://marshmallow.readthedocs.io/en/stable/quickstart.html#required-fields).\n",
    "\n",
    "\n",
    "In the first part, validator checks that group of expected fields is subset of \n",
    "fields in passport. Expected fields are all fields in schema except cid.\n",
    "In the second part, all passports are validated against the schema."
   ]
  },
  {
   "cell_type": "code",
   "execution_count": 14,
   "metadata": {
    "pycharm": {
     "name": "#%%\n"
    }
   },
   "outputs": [
    {
     "data": {
      "application/javascript": [
       "\n",
       "            setTimeout(function() {\n",
       "                var nbb_cell_id = 14;\n",
       "                var nbb_unformatted_code = \"from marshmallow import Schema, fields, validate, validates, ValidationError\\n\\n\\nclass PassportSchema(Schema):\\n    \\\"\\\"\\\"Marshmallow schema for validation.\\\"\\\"\\\"\\n\\n    byr = fields.Int(required=True, validate=validate.Range(min=1920, max=2002))\\n    iyr = fields.Int(required=True, validate=validate.Range(min=2010, max=2020))\\n    eyr = fields.Int(required=True, validate=validate.Range(min=2020, max=2030))\\n    hgt = fields.Str(required=True)\\n    hcl = fields.Str(required=True, validate=validate.Regexp(r\\\"^#[0-9a-f]{6}$\\\"))\\n    ecl = fields.Str(\\n        required=True,\\n        validate=validate.OneOf([\\\"amb\\\", \\\"blu\\\", \\\"brn\\\", \\\"gry\\\", \\\"grn\\\", \\\"hzl\\\", \\\"oth\\\"]),\\n    )\\n    pid = fields.Str(required=True, validate=validate.Regexp(r\\\"^[0-9]{9}$\\\"))\\n    cid = fields.Str()\\n\\n    @validates(\\\"hgt\\\")\\n    def _validate_hgt(cls, value: str) -> None:\\n        \\\"\\\"\\\"Validate height field in passport\\\"\\\"\\\"\\n        try:\\n            unit = value[-2:]\\n            number = int(value[:-2])\\n        except (TypeError, ValueError):\\n            raise ValidationError(\\\"Invalid height\\\")\\n        if unit == \\\"cm\\\" and 150 <= number <= 193:\\n            return\\n        if unit == \\\"in\\\" and 59 <= number <= 76:\\n            return\\n        raise ValidationError(\\\"Invalid height\\\")\\n\\n\\nclass PassportValidatorBase:\\n    def __init__(self) -> None:\\n        \\\"\\\"\\\"Initialize regex for splitting input.\\\"\\\"\\\"\\n        self._splitter = re.compile(\\\"(\\\\w+):(\\\\S+)\\\")\\n\\n    def parse_to_dict(self, line: str) -> Dict[str, str]:\\n        \\\"\\\"\\\"Parse line to dictionary with fields and values.\\\"\\\"\\\"\\n        return dict(self._splitter.findall(line))\\n\\n    def count_valid_passports(self, lines: List[str]) -> int:\\n        \\\"\\\"\\\"Count valid passports according to rules.\\\"\\\"\\\"\\n        return sum(self._validate(self.parse_to_dict(line)) for line in lines)\\n\\n    @abstractmethod\\n    def _validate(self, passport_dict: Dict[str, str]) -> bool:\\n        \\\"\\\"\\\"Validator method that should be implemented by subclass.\\\"\\\"\\\"\\n        raise NotImplementedError\\n\\n\\nclass PassportValidator(PassportValidatorBase):\\n    def _validate(self, passport_dict: Dict[str, str]) -> bool:\\n        \\\"\\\"\\\"Check if all needed fields are present.\\\"\\\"\\\"\\n        schema_fields = set(PassportSchema().fields.keys())\\n        expected_fields = frozenset(schema_fields - {\\\"cid\\\"})\\n        return expected_fields.issubset(passport_dict.keys())\\n\\n\\nclass ImprovedPassportValidator(PassportValidatorBase):\\n    def _validate(self, passport_dict: Dict[str, str]) -> bool:\\n        \\\"\\\"\\\"Return false if schema validation has errors, else false.\\\"\\\"\\\"\\n        return not bool(PassportSchema().validate(passport_dict))\\n\\n\\npassport_validator = PassportValidator()\\nimproved_passport_validator = ImprovedPassportValidator()\";\n",
       "                var nbb_formatted_code = \"from marshmallow import Schema, fields, validate, validates, ValidationError\\n\\n\\nclass PassportSchema(Schema):\\n    \\\"\\\"\\\"Marshmallow schema for validation.\\\"\\\"\\\"\\n\\n    byr = fields.Int(required=True, validate=validate.Range(min=1920, max=2002))\\n    iyr = fields.Int(required=True, validate=validate.Range(min=2010, max=2020))\\n    eyr = fields.Int(required=True, validate=validate.Range(min=2020, max=2030))\\n    hgt = fields.Str(required=True)\\n    hcl = fields.Str(required=True, validate=validate.Regexp(r\\\"^#[0-9a-f]{6}$\\\"))\\n    ecl = fields.Str(\\n        required=True,\\n        validate=validate.OneOf([\\\"amb\\\", \\\"blu\\\", \\\"brn\\\", \\\"gry\\\", \\\"grn\\\", \\\"hzl\\\", \\\"oth\\\"]),\\n    )\\n    pid = fields.Str(required=True, validate=validate.Regexp(r\\\"^[0-9]{9}$\\\"))\\n    cid = fields.Str()\\n\\n    @validates(\\\"hgt\\\")\\n    def _validate_hgt(cls, value: str) -> None:\\n        \\\"\\\"\\\"Validate height field in passport\\\"\\\"\\\"\\n        try:\\n            unit = value[-2:]\\n            number = int(value[:-2])\\n        except (TypeError, ValueError):\\n            raise ValidationError(\\\"Invalid height\\\")\\n        if unit == \\\"cm\\\" and 150 <= number <= 193:\\n            return\\n        if unit == \\\"in\\\" and 59 <= number <= 76:\\n            return\\n        raise ValidationError(\\\"Invalid height\\\")\\n\\n\\nclass PassportValidatorBase:\\n    def __init__(self) -> None:\\n        \\\"\\\"\\\"Initialize regex for splitting input.\\\"\\\"\\\"\\n        self._splitter = re.compile(\\\"(\\\\w+):(\\\\S+)\\\")\\n\\n    def parse_to_dict(self, line: str) -> Dict[str, str]:\\n        \\\"\\\"\\\"Parse line to dictionary with fields and values.\\\"\\\"\\\"\\n        return dict(self._splitter.findall(line))\\n\\n    def count_valid_passports(self, lines: List[str]) -> int:\\n        \\\"\\\"\\\"Count valid passports according to rules.\\\"\\\"\\\"\\n        return sum(self._validate(self.parse_to_dict(line)) for line in lines)\\n\\n    @abstractmethod\\n    def _validate(self, passport_dict: Dict[str, str]) -> bool:\\n        \\\"\\\"\\\"Validator method that should be implemented by subclass.\\\"\\\"\\\"\\n        raise NotImplementedError\\n\\n\\nclass PassportValidator(PassportValidatorBase):\\n    def _validate(self, passport_dict: Dict[str, str]) -> bool:\\n        \\\"\\\"\\\"Check if all needed fields are present.\\\"\\\"\\\"\\n        schema_fields = set(PassportSchema().fields.keys())\\n        expected_fields = frozenset(schema_fields - {\\\"cid\\\"})\\n        return expected_fields.issubset(passport_dict.keys())\\n\\n\\nclass ImprovedPassportValidator(PassportValidatorBase):\\n    def _validate(self, passport_dict: Dict[str, str]) -> bool:\\n        \\\"\\\"\\\"Return false if schema validation has errors, else false.\\\"\\\"\\\"\\n        return not bool(PassportSchema().validate(passport_dict))\\n\\n\\npassport_validator = PassportValidator()\\nimproved_passport_validator = ImprovedPassportValidator()\";\n",
       "                var nbb_cells = Jupyter.notebook.get_cells();\n",
       "                for (var i = 0; i < nbb_cells.length; ++i) {\n",
       "                    if (nbb_cells[i].input_prompt_number == nbb_cell_id) {\n",
       "                        if (nbb_cells[i].get_text() == nbb_unformatted_code) {\n",
       "                             nbb_cells[i].set_text(nbb_formatted_code);\n",
       "                        }\n",
       "                        break;\n",
       "                    }\n",
       "                }\n",
       "            }, 500);\n",
       "            "
      ],
      "text/plain": [
       "<IPython.core.display.Javascript object>"
      ]
     },
     "metadata": {},
     "output_type": "display_data"
    }
   ],
   "source": [
    "from marshmallow import Schema, fields, validate, validates, ValidationError\n",
    "\n",
    "\n",
    "class PassportSchema(Schema):\n",
    "    \"\"\"Marshmallow schema for validation.\"\"\"\n",
    "\n",
    "    byr = fields.Int(required=True, validate=validate.Range(min=1920, max=2002))\n",
    "    iyr = fields.Int(required=True, validate=validate.Range(min=2010, max=2020))\n",
    "    eyr = fields.Int(required=True, validate=validate.Range(min=2020, max=2030))\n",
    "    hgt = fields.Str(required=True)\n",
    "    hcl = fields.Str(required=True, validate=validate.Regexp(r\"^#[0-9a-f]{6}$\"))\n",
    "    ecl = fields.Str(\n",
    "        required=True,\n",
    "        validate=validate.OneOf([\"amb\", \"blu\", \"brn\", \"gry\", \"grn\", \"hzl\", \"oth\"]),\n",
    "    )\n",
    "    pid = fields.Str(required=True, validate=validate.Regexp(r\"^[0-9]{9}$\"))\n",
    "    cid = fields.Str()\n",
    "\n",
    "    @validates(\"hgt\")\n",
    "    def _validate_hgt(cls, value: str) -> None:\n",
    "        \"\"\"Validate height field in passport\"\"\"\n",
    "        try:\n",
    "            unit = value[-2:]\n",
    "            number = int(value[:-2])\n",
    "        except (TypeError, ValueError):\n",
    "            raise ValidationError(\"Invalid height\")\n",
    "        if unit == \"cm\" and 150 <= number <= 193:\n",
    "            return\n",
    "        if unit == \"in\" and 59 <= number <= 76:\n",
    "            return\n",
    "        raise ValidationError(\"Invalid height\")\n",
    "\n",
    "\n",
    "class PassportValidatorBase:\n",
    "    def __init__(self) -> None:\n",
    "        \"\"\"Initialize regex for splitting input.\"\"\"\n",
    "        self._splitter = re.compile(\"(\\w+):(\\S+)\")\n",
    "\n",
    "    def parse_to_dict(self, line: str) -> Dict[str, str]:\n",
    "        \"\"\"Parse line to dictionary with fields and values.\"\"\"\n",
    "        return dict(self._splitter.findall(line))\n",
    "\n",
    "    def count_valid_passports(self, lines: List[str]) -> int:\n",
    "        \"\"\"Count valid passports according to rules.\"\"\"\n",
    "        return sum(self._validate(self.parse_to_dict(line)) for line in lines)\n",
    "\n",
    "    @abstractmethod\n",
    "    def _validate(self, passport_dict: Dict[str, str]) -> bool:\n",
    "        \"\"\"Validator method that should be implemented by subclass.\"\"\"\n",
    "        raise NotImplementedError\n",
    "\n",
    "\n",
    "class PassportValidator(PassportValidatorBase):\n",
    "    def _validate(self, passport_dict: Dict[str, str]) -> bool:\n",
    "        \"\"\"Check if all needed fields are present.\"\"\"\n",
    "        schema_fields = set(PassportSchema().fields.keys())\n",
    "        expected_fields = frozenset(schema_fields - {\"cid\"})\n",
    "        return expected_fields.issubset(passport_dict.keys())\n",
    "\n",
    "\n",
    "class ImprovedPassportValidator(PassportValidatorBase):\n",
    "    def _validate(self, passport_dict: Dict[str, str]) -> bool:\n",
    "        \"\"\"Return false if schema validation has errors, else false.\"\"\"\n",
    "        return not bool(PassportSchema().validate(passport_dict))\n",
    "\n",
    "\n",
    "passport_validator = PassportValidator()\n",
    "improved_passport_validator = ImprovedPassportValidator()"
   ]
  },
  {
   "cell_type": "code",
   "execution_count": 15,
   "metadata": {},
   "outputs": [
    {
     "data": {
      "application/javascript": [
       "\n",
       "            setTimeout(function() {\n",
       "                var nbb_cell_id = 15;\n",
       "                var nbb_unformatted_code = \"def test_day_4() -> None:\\n    first_example = [\\n        \\\"ecl:gry pid:860033327 eyr:2020 hcl:#fffffd byr:1937 iyr:2017 cid:147 hgt:183cm\\\",\\n        \\\"iyr:2013 ecl:amb cid:350 eyr:2023 pid:028048884 hcl:#cfa07d byr:1929\\\",\\n        \\\"hcl:#ae17e1 iyr:2013 eyr:2024 ecl:brn pid:760753108 byr:1931 hgt:179cm\\\",\\n        \\\"hcl:#cfa07d eyr:2025 pid:166559648 iyr:2011 ecl:brn hgt:59in\\\",\\n    ]\\n    assert passport_validator.count_valid_passports(first_example) == 2\\n\\n    second_example_invalid = [\\n        \\\"eyr:1972 cid:100 hcl:#18171d ecl:amb hgt:170 pid:186cm iyr:2018 byr:1926\\\",\\n        \\\"iyr:2019 hcl:#602927 eyr:1967 hgt:170cm ecl:grn pid:012533040 byr:1946\\\",\\n        \\\"hcl:dab227 iyr:2012 ecl:brn hgt:182cm pid:021572410 eyr:2020 byr:1992 cid:277\\\",\\n        \\\"hgt:59cm ecl:zzz eyr:2038 hcl:74454a iyr:2023 pid:3556412378 byr:2007\\\",\\n    ]\\n    second_example_valid = [\\n        \\\"pid:087499704 hgt:74in ecl:grn iyr:2012 eyr:2030 byr:1980 hcl:#623a2f\\\",\\n        \\\"eyr:2029 ecl:blu cid:129 byr:1989 iyr:2014 pid:896056539 hcl:#a97842 hgt:165cm\\\",\\n        \\\"hcl:#888785 hgt:164cm byr:2001 iyr:2015 cid:88 pid:545766238 ecl:hzl eyr:2022\\\",\\n        \\\"iyr:2010 hgt:158cm hcl:#b6652a ecl:blu byr:1944 eyr:2021 pid:093154719\\\",\\n    ]\\n    assert (\\n        improved_passport_validator.count_valid_passports(second_example_invalid) == 0\\n    )\\n    assert improved_passport_validator.count_valid_passports(\\n        second_example_valid\\n    ) == len(second_example_valid)\";\n",
       "                var nbb_formatted_code = \"def test_day_4() -> None:\\n    first_example = [\\n        \\\"ecl:gry pid:860033327 eyr:2020 hcl:#fffffd byr:1937 iyr:2017 cid:147 hgt:183cm\\\",\\n        \\\"iyr:2013 ecl:amb cid:350 eyr:2023 pid:028048884 hcl:#cfa07d byr:1929\\\",\\n        \\\"hcl:#ae17e1 iyr:2013 eyr:2024 ecl:brn pid:760753108 byr:1931 hgt:179cm\\\",\\n        \\\"hcl:#cfa07d eyr:2025 pid:166559648 iyr:2011 ecl:brn hgt:59in\\\",\\n    ]\\n    assert passport_validator.count_valid_passports(first_example) == 2\\n\\n    second_example_invalid = [\\n        \\\"eyr:1972 cid:100 hcl:#18171d ecl:amb hgt:170 pid:186cm iyr:2018 byr:1926\\\",\\n        \\\"iyr:2019 hcl:#602927 eyr:1967 hgt:170cm ecl:grn pid:012533040 byr:1946\\\",\\n        \\\"hcl:dab227 iyr:2012 ecl:brn hgt:182cm pid:021572410 eyr:2020 byr:1992 cid:277\\\",\\n        \\\"hgt:59cm ecl:zzz eyr:2038 hcl:74454a iyr:2023 pid:3556412378 byr:2007\\\",\\n    ]\\n    second_example_valid = [\\n        \\\"pid:087499704 hgt:74in ecl:grn iyr:2012 eyr:2030 byr:1980 hcl:#623a2f\\\",\\n        \\\"eyr:2029 ecl:blu cid:129 byr:1989 iyr:2014 pid:896056539 hcl:#a97842 hgt:165cm\\\",\\n        \\\"hcl:#888785 hgt:164cm byr:2001 iyr:2015 cid:88 pid:545766238 ecl:hzl eyr:2022\\\",\\n        \\\"iyr:2010 hgt:158cm hcl:#b6652a ecl:blu byr:1944 eyr:2021 pid:093154719\\\",\\n    ]\\n    assert (\\n        improved_passport_validator.count_valid_passports(second_example_invalid) == 0\\n    )\\n    assert improved_passport_validator.count_valid_passports(\\n        second_example_valid\\n    ) == len(second_example_valid)\";\n",
       "                var nbb_cells = Jupyter.notebook.get_cells();\n",
       "                for (var i = 0; i < nbb_cells.length; ++i) {\n",
       "                    if (nbb_cells[i].input_prompt_number == nbb_cell_id) {\n",
       "                        if (nbb_cells[i].get_text() == nbb_unformatted_code) {\n",
       "                             nbb_cells[i].set_text(nbb_formatted_code);\n",
       "                        }\n",
       "                        break;\n",
       "                    }\n",
       "                }\n",
       "            }, 500);\n",
       "            "
      ],
      "text/plain": [
       "<IPython.core.display.Javascript object>"
      ]
     },
     "metadata": {},
     "output_type": "display_data"
    }
   ],
   "source": [
    "def test_day_4() -> None:\n",
    "    first_example = [\n",
    "        \"ecl:gry pid:860033327 eyr:2020 hcl:#fffffd byr:1937 iyr:2017 cid:147 hgt:183cm\",\n",
    "        \"iyr:2013 ecl:amb cid:350 eyr:2023 pid:028048884 hcl:#cfa07d byr:1929\",\n",
    "        \"hcl:#ae17e1 iyr:2013 eyr:2024 ecl:brn pid:760753108 byr:1931 hgt:179cm\",\n",
    "        \"hcl:#cfa07d eyr:2025 pid:166559648 iyr:2011 ecl:brn hgt:59in\",\n",
    "    ]\n",
    "    assert passport_validator.count_valid_passports(first_example) == 2\n",
    "\n",
    "    second_example_invalid = [\n",
    "        \"eyr:1972 cid:100 hcl:#18171d ecl:amb hgt:170 pid:186cm iyr:2018 byr:1926\",\n",
    "        \"iyr:2019 hcl:#602927 eyr:1967 hgt:170cm ecl:grn pid:012533040 byr:1946\",\n",
    "        \"hcl:dab227 iyr:2012 ecl:brn hgt:182cm pid:021572410 eyr:2020 byr:1992 cid:277\",\n",
    "        \"hgt:59cm ecl:zzz eyr:2038 hcl:74454a iyr:2023 pid:3556412378 byr:2007\",\n",
    "    ]\n",
    "    second_example_valid = [\n",
    "        \"pid:087499704 hgt:74in ecl:grn iyr:2012 eyr:2030 byr:1980 hcl:#623a2f\",\n",
    "        \"eyr:2029 ecl:blu cid:129 byr:1989 iyr:2014 pid:896056539 hcl:#a97842 hgt:165cm\",\n",
    "        \"hcl:#888785 hgt:164cm byr:2001 iyr:2015 cid:88 pid:545766238 ecl:hzl eyr:2022\",\n",
    "        \"iyr:2010 hgt:158cm hcl:#b6652a ecl:blu byr:1944 eyr:2021 pid:093154719\",\n",
    "    ]\n",
    "    assert (\n",
    "        improved_passport_validator.count_valid_passports(second_example_invalid) == 0\n",
    "    )\n",
    "    assert improved_passport_validator.count_valid_passports(\n",
    "        second_example_valid\n",
    "    ) == len(second_example_valid)"
   ]
  },
  {
   "cell_type": "code",
   "execution_count": 16,
   "metadata": {},
   "outputs": [
    {
     "data": {
      "application/javascript": [
       "\n",
       "            setTimeout(function() {\n",
       "                var nbb_cell_id = 16;\n",
       "                var nbb_unformatted_code = \"def day_4() -> Solution:\\n    puzzle_input = data_to_blocks(day=4)\\n    return (\\n        passport_validator.count_valid_passports(puzzle_input),\\n        improved_passport_validator.count_valid_passports(puzzle_input),\\n    )\";\n",
       "                var nbb_formatted_code = \"def day_4() -> Solution:\\n    puzzle_input = data_to_blocks(day=4)\\n    return (\\n        passport_validator.count_valid_passports(puzzle_input),\\n        improved_passport_validator.count_valid_passports(puzzle_input),\\n    )\";\n",
       "                var nbb_cells = Jupyter.notebook.get_cells();\n",
       "                for (var i = 0; i < nbb_cells.length; ++i) {\n",
       "                    if (nbb_cells[i].input_prompt_number == nbb_cell_id) {\n",
       "                        if (nbb_cells[i].get_text() == nbb_unformatted_code) {\n",
       "                             nbb_cells[i].set_text(nbb_formatted_code);\n",
       "                        }\n",
       "                        break;\n",
       "                    }\n",
       "                }\n",
       "            }, 500);\n",
       "            "
      ],
      "text/plain": [
       "<IPython.core.display.Javascript object>"
      ]
     },
     "metadata": {},
     "output_type": "display_data"
    }
   ],
   "source": [
    "def day_4() -> Solution:\n",
    "    puzzle_input = data_to_blocks(day=4)\n",
    "    return (\n",
    "        passport_validator.count_valid_passports(puzzle_input),\n",
    "        improved_passport_validator.count_valid_passports(puzzle_input),\n",
    "    )"
   ]
  },
  {
   "cell_type": "code",
   "execution_count": 17,
   "metadata": {},
   "outputs": [
    {
     "name": "stdout",
     "output_type": "stream",
     "text": [
      "Part 1: 192\n",
      "Part 2: 101\n"
     ]
    },
    {
     "data": {
      "application/javascript": [
       "\n",
       "            setTimeout(function() {\n",
       "                var nbb_cell_id = 17;\n",
       "                var nbb_unformatted_code = \"test_day(4)\\nprint_day(4)\";\n",
       "                var nbb_formatted_code = \"test_day(4)\\nprint_day(4)\";\n",
       "                var nbb_cells = Jupyter.notebook.get_cells();\n",
       "                for (var i = 0; i < nbb_cells.length; ++i) {\n",
       "                    if (nbb_cells[i].input_prompt_number == nbb_cell_id) {\n",
       "                        if (nbb_cells[i].get_text() == nbb_unformatted_code) {\n",
       "                             nbb_cells[i].set_text(nbb_formatted_code);\n",
       "                        }\n",
       "                        break;\n",
       "                    }\n",
       "                }\n",
       "            }, 500);\n",
       "            "
      ],
      "text/plain": [
       "<IPython.core.display.Javascript object>"
      ]
     },
     "metadata": {},
     "output_type": "display_data"
    }
   ],
   "source": [
    "test_day(4)\n",
    "print_day(4)"
   ]
  },
  {
   "cell_type": "markdown",
   "metadata": {},
   "source": [
    "## Day 5\n",
    "\n",
    "**Task**: find out the highest seat ID and your own seat ID.\n",
    "\n",
    "There's a nice catch in the puzzle: char pairs F/L and B/R aren't really different,\n",
    "since each can be substituted with 0 or 1. The result is a [binary number\n",
    "](https://en.wikipedia.org/wiki/Binary_number) string which can be then casted to int.\n",
    "\n",
    "In the second part, potential seat ids are generated until correct one is found."
   ]
  },
  {
   "cell_type": "code",
   "execution_count": 18,
   "metadata": {
    "pycharm": {
     "name": "#%%\n"
    }
   },
   "outputs": [
    {
     "data": {
      "application/javascript": [
       "\n",
       "            setTimeout(function() {\n",
       "                var nbb_cell_id = 18;\n",
       "                var nbb_unformatted_code = \"class SeatIdConverter:\\n    def __init__(self) -> None:\\n        \\\"\\\"\\\"Initialize translation table from chars to nums.\\\"\\\"\\\"\\n        self.table = str.maketrans(\\\"FBLR\\\", \\\"0101\\\")\\n\\n    def to_seat_id(self, line: str) -> int:\\n        \\\"\\\"\\\"Convert binary space partioned line to seat id.\\\"\\\"\\\"\\n        return int(line.translate(self.table), base=2)\\n\\n\\nid_converter = SeatIdConverter()\";\n",
       "                var nbb_formatted_code = \"class SeatIdConverter:\\n    def __init__(self) -> None:\\n        \\\"\\\"\\\"Initialize translation table from chars to nums.\\\"\\\"\\\"\\n        self.table = str.maketrans(\\\"FBLR\\\", \\\"0101\\\")\\n\\n    def to_seat_id(self, line: str) -> int:\\n        \\\"\\\"\\\"Convert binary space partioned line to seat id.\\\"\\\"\\\"\\n        return int(line.translate(self.table), base=2)\\n\\n\\nid_converter = SeatIdConverter()\";\n",
       "                var nbb_cells = Jupyter.notebook.get_cells();\n",
       "                for (var i = 0; i < nbb_cells.length; ++i) {\n",
       "                    if (nbb_cells[i].input_prompt_number == nbb_cell_id) {\n",
       "                        if (nbb_cells[i].get_text() == nbb_unformatted_code) {\n",
       "                             nbb_cells[i].set_text(nbb_formatted_code);\n",
       "                        }\n",
       "                        break;\n",
       "                    }\n",
       "                }\n",
       "            }, 500);\n",
       "            "
      ],
      "text/plain": [
       "<IPython.core.display.Javascript object>"
      ]
     },
     "metadata": {},
     "output_type": "display_data"
    }
   ],
   "source": [
    "class SeatIdConverter:\n",
    "    def __init__(self) -> None:\n",
    "        \"\"\"Initialize translation table from chars to nums.\"\"\"\n",
    "        self.table = str.maketrans(\"FBLR\", \"0101\")\n",
    "\n",
    "    def to_seat_id(self, line: str) -> int:\n",
    "        \"\"\"Convert binary space partioned line to seat id.\"\"\"\n",
    "        return int(line.translate(self.table), base=2)\n",
    "\n",
    "\n",
    "id_converter = SeatIdConverter()"
   ]
  },
  {
   "cell_type": "code",
   "execution_count": 19,
   "metadata": {},
   "outputs": [
    {
     "data": {
      "application/javascript": [
       "\n",
       "            setTimeout(function() {\n",
       "                var nbb_cell_id = 19;\n",
       "                var nbb_unformatted_code = \"def test_day_5() -> None:\\n    assert id_converter.to_seat_id(\\\"BFFFBBFRRR\\\") == 567\\n    assert id_converter.to_seat_id(\\\"FFFBBBFRRR\\\") == 119\\n    assert id_converter.to_seat_id(\\\"BBFFBBFRLL\\\") == 820\";\n",
       "                var nbb_formatted_code = \"def test_day_5() -> None:\\n    assert id_converter.to_seat_id(\\\"BFFFBBFRRR\\\") == 567\\n    assert id_converter.to_seat_id(\\\"FFFBBBFRRR\\\") == 119\\n    assert id_converter.to_seat_id(\\\"BBFFBBFRLL\\\") == 820\";\n",
       "                var nbb_cells = Jupyter.notebook.get_cells();\n",
       "                for (var i = 0; i < nbb_cells.length; ++i) {\n",
       "                    if (nbb_cells[i].input_prompt_number == nbb_cell_id) {\n",
       "                        if (nbb_cells[i].get_text() == nbb_unformatted_code) {\n",
       "                             nbb_cells[i].set_text(nbb_formatted_code);\n",
       "                        }\n",
       "                        break;\n",
       "                    }\n",
       "                }\n",
       "            }, 500);\n",
       "            "
      ],
      "text/plain": [
       "<IPython.core.display.Javascript object>"
      ]
     },
     "metadata": {},
     "output_type": "display_data"
    }
   ],
   "source": [
    "def test_day_5() -> None:\n",
    "    assert id_converter.to_seat_id(\"BFFFBBFRRR\") == 567\n",
    "    assert id_converter.to_seat_id(\"FFFBBBFRRR\") == 119\n",
    "    assert id_converter.to_seat_id(\"BBFFBBFRLL\") == 820"
   ]
  },
  {
   "cell_type": "code",
   "execution_count": 20,
   "metadata": {},
   "outputs": [
    {
     "data": {
      "application/javascript": [
       "\n",
       "            setTimeout(function() {\n",
       "                var nbb_cell_id = 20;\n",
       "                var nbb_unformatted_code = \"def day_5() -> Solution:\\n    seat_ids = {id_converter.to_seat_id(line) for line in data_to_lines(day=5)}\\n    my_seat_id = next(\\n        seat_id\\n        for seat_id in itertools.count(start=1)\\n        if seat_id not in seat_ids\\n        and seat_id - 1 in seat_ids\\n        and seat_id + 1 in seat_ids\\n    )\\n\\n    return max(seat_ids), my_seat_id\";\n",
       "                var nbb_formatted_code = \"def day_5() -> Solution:\\n    seat_ids = {id_converter.to_seat_id(line) for line in data_to_lines(day=5)}\\n    my_seat_id = next(\\n        seat_id\\n        for seat_id in itertools.count(start=1)\\n        if seat_id not in seat_ids\\n        and seat_id - 1 in seat_ids\\n        and seat_id + 1 in seat_ids\\n    )\\n\\n    return max(seat_ids), my_seat_id\";\n",
       "                var nbb_cells = Jupyter.notebook.get_cells();\n",
       "                for (var i = 0; i < nbb_cells.length; ++i) {\n",
       "                    if (nbb_cells[i].input_prompt_number == nbb_cell_id) {\n",
       "                        if (nbb_cells[i].get_text() == nbb_unformatted_code) {\n",
       "                             nbb_cells[i].set_text(nbb_formatted_code);\n",
       "                        }\n",
       "                        break;\n",
       "                    }\n",
       "                }\n",
       "            }, 500);\n",
       "            "
      ],
      "text/plain": [
       "<IPython.core.display.Javascript object>"
      ]
     },
     "metadata": {},
     "output_type": "display_data"
    }
   ],
   "source": [
    "def day_5() -> Solution:\n",
    "    seat_ids = {id_converter.to_seat_id(line) for line in data_to_lines(day=5)}\n",
    "    my_seat_id = next(\n",
    "        seat_id\n",
    "        for seat_id in itertools.count(start=1)\n",
    "        if seat_id not in seat_ids\n",
    "        and seat_id - 1 in seat_ids\n",
    "        and seat_id + 1 in seat_ids\n",
    "    )\n",
    "\n",
    "    return max(seat_ids), my_seat_id"
   ]
  },
  {
   "cell_type": "code",
   "execution_count": 21,
   "metadata": {},
   "outputs": [
    {
     "name": "stdout",
     "output_type": "stream",
     "text": [
      "Part 1: 858\n",
      "Part 2: 557\n"
     ]
    },
    {
     "data": {
      "application/javascript": [
       "\n",
       "            setTimeout(function() {\n",
       "                var nbb_cell_id = 21;\n",
       "                var nbb_unformatted_code = \"test_day(5)\\nprint_day(5)\";\n",
       "                var nbb_formatted_code = \"test_day(5)\\nprint_day(5)\";\n",
       "                var nbb_cells = Jupyter.notebook.get_cells();\n",
       "                for (var i = 0; i < nbb_cells.length; ++i) {\n",
       "                    if (nbb_cells[i].input_prompt_number == nbb_cell_id) {\n",
       "                        if (nbb_cells[i].get_text() == nbb_unformatted_code) {\n",
       "                             nbb_cells[i].set_text(nbb_formatted_code);\n",
       "                        }\n",
       "                        break;\n",
       "                    }\n",
       "                }\n",
       "            }, 500);\n",
       "            "
      ],
      "text/plain": [
       "<IPython.core.display.Javascript object>"
      ]
     },
     "metadata": {},
     "output_type": "display_data"
    }
   ],
   "source": [
    "test_day(5)\n",
    "print_day(5)"
   ]
  },
  {
   "cell_type": "markdown",
   "metadata": {
    "pycharm": {
     "name": "#%% md\n"
    }
   },
   "source": [
    "## Day 6\n",
    "\n",
    "**Task**: Count the number of questions to which anyone/everyone answered \"yes\".\n",
    "\n",
    "In the first part, the question is basically \"Which unique aphabets are present in any\n",
    "persons answer in the group?\". In the second part, question is \"which unique alphabets are present on every \n",
    "persons answer in the group?\", which can be handled with [set intersections\n",
    "](https://en.wikipedia.org/wiki/Intersection_(set_theory))."
   ]
  },
  {
   "cell_type": "code",
   "execution_count": 22,
   "metadata": {
    "pycharm": {
     "name": "#%%\n"
    }
   },
   "outputs": [
    {
     "data": {
      "application/javascript": [
       "\n",
       "            setTimeout(function() {\n",
       "                var nbb_cell_id = 22;\n",
       "                var nbb_unformatted_code = \"class AnswerCounter:\\n    @staticmethod\\n    def answered_by_anyone(group: str) -> Set[str]:\\n        \\\"\\\"\\\"Return unique answers in group.\\\"\\\"\\\"\\n        return {answer for answer in group if answer.isalpha()}\\n\\n    def answered_by_everyone(self, group: str) -> Set[str]:\\n        \\\"\\\"\\\"Return answers that we're persent in every persons answer.\\\"\\\"\\\"\\n        return set.intersection(\\n            *(self.answered_by_anyone(person) for person in group.split(\\\"\\\\n\\\"))\\n        )\\n\\n    def count(self, groups: List[str], attribute: Literal[\\\"anyone\\\", \\\"everyone\\\"]) -> int:\\n        \\\"\\\"\\\"Count amount of answers that satisfy given attribute (anyone/everyone).\\\"\\\"\\\"\\n        return sum(\\n            len(getattr(self, f\\\"answered_by_{attribute}\\\")(group)) for group in groups\\n        )\\n\\n\\ncounter = AnswerCounter()\";\n",
       "                var nbb_formatted_code = \"class AnswerCounter:\\n    @staticmethod\\n    def answered_by_anyone(group: str) -> Set[str]:\\n        \\\"\\\"\\\"Return unique answers in group.\\\"\\\"\\\"\\n        return {answer for answer in group if answer.isalpha()}\\n\\n    def answered_by_everyone(self, group: str) -> Set[str]:\\n        \\\"\\\"\\\"Return answers that we're persent in every persons answer.\\\"\\\"\\\"\\n        return set.intersection(\\n            *(self.answered_by_anyone(person) for person in group.split(\\\"\\\\n\\\"))\\n        )\\n\\n    def count(self, groups: List[str], attribute: Literal[\\\"anyone\\\", \\\"everyone\\\"]) -> int:\\n        \\\"\\\"\\\"Count amount of answers that satisfy given attribute (anyone/everyone).\\\"\\\"\\\"\\n        return sum(\\n            len(getattr(self, f\\\"answered_by_{attribute}\\\")(group)) for group in groups\\n        )\\n\\n\\ncounter = AnswerCounter()\";\n",
       "                var nbb_cells = Jupyter.notebook.get_cells();\n",
       "                for (var i = 0; i < nbb_cells.length; ++i) {\n",
       "                    if (nbb_cells[i].input_prompt_number == nbb_cell_id) {\n",
       "                        if (nbb_cells[i].get_text() == nbb_unformatted_code) {\n",
       "                             nbb_cells[i].set_text(nbb_formatted_code);\n",
       "                        }\n",
       "                        break;\n",
       "                    }\n",
       "                }\n",
       "            }, 500);\n",
       "            "
      ],
      "text/plain": [
       "<IPython.core.display.Javascript object>"
      ]
     },
     "metadata": {},
     "output_type": "display_data"
    }
   ],
   "source": [
    "class AnswerCounter:\n",
    "    @staticmethod\n",
    "    def answered_by_anyone(group: str) -> Set[str]:\n",
    "        \"\"\"Return unique answers in group.\"\"\"\n",
    "        return {answer for answer in group if answer.isalpha()}\n",
    "\n",
    "    def answered_by_everyone(self, group: str) -> Set[str]:\n",
    "        \"\"\"Return answers that we're persent in every persons answer.\"\"\"\n",
    "        return set.intersection(\n",
    "            *(self.answered_by_anyone(person) for person in group.split(\"\\n\"))\n",
    "        )\n",
    "\n",
    "    def count(self, groups: List[str], attribute: Literal[\"anyone\", \"everyone\"]) -> int:\n",
    "        \"\"\"Count amount of answers that satisfy given attribute (anyone/everyone).\"\"\"\n",
    "        return sum(\n",
    "            len(getattr(self, f\"answered_by_{attribute}\")(group)) for group in groups\n",
    "        )\n",
    "\n",
    "\n",
    "counter = AnswerCounter()"
   ]
  },
  {
   "cell_type": "code",
   "execution_count": 23,
   "metadata": {},
   "outputs": [
    {
     "data": {
      "application/javascript": [
       "\n",
       "            setTimeout(function() {\n",
       "                var nbb_cell_id = 23;\n",
       "                var nbb_unformatted_code = \"def test_day_6() -> None:\\n    example = [\\\"abc\\\", \\\"a\\\\nb\\\\nc\\\", \\\"ab\\\\nac\\\", \\\"a\\\\na\\\\na\\\\na\\\", \\\"b\\\"]\\n    assert counter.count(example, \\\"anyone\\\") == 11\\n    assert counter.count(example, \\\"everyone\\\") == 6\";\n",
       "                var nbb_formatted_code = \"def test_day_6() -> None:\\n    example = [\\\"abc\\\", \\\"a\\\\nb\\\\nc\\\", \\\"ab\\\\nac\\\", \\\"a\\\\na\\\\na\\\\na\\\", \\\"b\\\"]\\n    assert counter.count(example, \\\"anyone\\\") == 11\\n    assert counter.count(example, \\\"everyone\\\") == 6\";\n",
       "                var nbb_cells = Jupyter.notebook.get_cells();\n",
       "                for (var i = 0; i < nbb_cells.length; ++i) {\n",
       "                    if (nbb_cells[i].input_prompt_number == nbb_cell_id) {\n",
       "                        if (nbb_cells[i].get_text() == nbb_unformatted_code) {\n",
       "                             nbb_cells[i].set_text(nbb_formatted_code);\n",
       "                        }\n",
       "                        break;\n",
       "                    }\n",
       "                }\n",
       "            }, 500);\n",
       "            "
      ],
      "text/plain": [
       "<IPython.core.display.Javascript object>"
      ]
     },
     "metadata": {},
     "output_type": "display_data"
    }
   ],
   "source": [
    "def test_day_6() -> None:\n",
    "    example = [\"abc\", \"a\\nb\\nc\", \"ab\\nac\", \"a\\na\\na\\na\", \"b\"]\n",
    "    assert counter.count(example, \"anyone\") == 11\n",
    "    assert counter.count(example, \"everyone\") == 6"
   ]
  },
  {
   "cell_type": "code",
   "execution_count": 24,
   "metadata": {},
   "outputs": [
    {
     "data": {
      "application/javascript": [
       "\n",
       "            setTimeout(function() {\n",
       "                var nbb_cell_id = 24;\n",
       "                var nbb_unformatted_code = \"def day_6() -> Solution:\\n    puzzle_input = data_to_blocks(day=6)\\n    return (\\n        counter.count(puzzle_input, \\\"anyone\\\"),\\n        counter.count(puzzle_input, \\\"everyone\\\"),\\n    )\";\n",
       "                var nbb_formatted_code = \"def day_6() -> Solution:\\n    puzzle_input = data_to_blocks(day=6)\\n    return (\\n        counter.count(puzzle_input, \\\"anyone\\\"),\\n        counter.count(puzzle_input, \\\"everyone\\\"),\\n    )\";\n",
       "                var nbb_cells = Jupyter.notebook.get_cells();\n",
       "                for (var i = 0; i < nbb_cells.length; ++i) {\n",
       "                    if (nbb_cells[i].input_prompt_number == nbb_cell_id) {\n",
       "                        if (nbb_cells[i].get_text() == nbb_unformatted_code) {\n",
       "                             nbb_cells[i].set_text(nbb_formatted_code);\n",
       "                        }\n",
       "                        break;\n",
       "                    }\n",
       "                }\n",
       "            }, 500);\n",
       "            "
      ],
      "text/plain": [
       "<IPython.core.display.Javascript object>"
      ]
     },
     "metadata": {},
     "output_type": "display_data"
    }
   ],
   "source": [
    "def day_6() -> Solution:\n",
    "    puzzle_input = data_to_blocks(day=6)\n",
    "    return (\n",
    "        counter.count(puzzle_input, \"anyone\"),\n",
    "        counter.count(puzzle_input, \"everyone\"),\n",
    "    )"
   ]
  },
  {
   "cell_type": "code",
   "execution_count": 25,
   "metadata": {
    "scrolled": true
   },
   "outputs": [
    {
     "name": "stdout",
     "output_type": "stream",
     "text": [
      "Part 1: 6532\n",
      "Part 2: 3427\n"
     ]
    },
    {
     "data": {
      "application/javascript": [
       "\n",
       "            setTimeout(function() {\n",
       "                var nbb_cell_id = 25;\n",
       "                var nbb_unformatted_code = \"test_day(6)\\nprint_day(6)\";\n",
       "                var nbb_formatted_code = \"test_day(6)\\nprint_day(6)\";\n",
       "                var nbb_cells = Jupyter.notebook.get_cells();\n",
       "                for (var i = 0; i < nbb_cells.length; ++i) {\n",
       "                    if (nbb_cells[i].input_prompt_number == nbb_cell_id) {\n",
       "                        if (nbb_cells[i].get_text() == nbb_unformatted_code) {\n",
       "                             nbb_cells[i].set_text(nbb_formatted_code);\n",
       "                        }\n",
       "                        break;\n",
       "                    }\n",
       "                }\n",
       "            }, 500);\n",
       "            "
      ],
      "text/plain": [
       "<IPython.core.display.Javascript object>"
      ]
     },
     "metadata": {},
     "output_type": "display_data"
    }
   ],
   "source": [
    "test_day(6)\n",
    "print_day(6)"
   ]
  },
  {
   "cell_type": "markdown",
   "metadata": {
    "pycharm": {
     "name": "#%% md\n"
    }
   },
   "source": [
    "## Day 7\n",
    "\n",
    "**Task**: Which bags can contain \"shiny gold\" bag / how many bags does \"shiny gold\" bag\n",
    "contain?\n",
    "\n",
    "A bit trickier one! One helpful observation is that the rules define a graph, a\n",
    "[directed acyclic graph](https://en.wikipedia.org/wiki/Directed_acyclic_graph) (DAG) \n",
    "to be precise. So, the excellent network library [NetworkX](https://networkx.org/) can\n",
    "be used.\n",
    "\n",
    "Initially, graph contains weighted edges from container bag to content bags. The first \n",
    "part is solved by turning edges around to answer the question \"which bags can contain\n",
    "this bag\". This way it's easy to walk graph through from the \"shiny gold\" node.\n",
    "\n",
    "In second part, [depth-first-search](https://en.wikipedia.org/wiki/Depth-first_search)\n",
    "is used to sum bag amounts from the innermost bags until \"shiny gold\" is reached."
   ]
  },
  {
   "cell_type": "code",
   "execution_count": 26,
   "metadata": {
    "pycharm": {
     "name": "#%%\n"
    }
   },
   "outputs": [
    {
     "data": {
      "application/javascript": [
       "\n",
       "            setTimeout(function() {\n",
       "                var nbb_cell_id = 26;\n",
       "                var nbb_unformatted_code = \"WeightedEdge = Tuple[str, str, Dict[str, int]]\\n\\n\\nclass BagCounter:\\n    def __init__(self, rules: List[str]) -> None:\\n        \\\"\\\"\\\"Initialize graph.\\\"\\\"\\\"\\n        self._graph = self._rules_to_graph(rules)\\n\\n    def _rules_to_graph(self, rules: List[str]) -> nx.DiGraph:\\n        \\\"\\\"\\\"Transform given list of rules into weighted graph.\\\"\\\"\\\"\\n        splitter = re.compile(r\\\"(\\\\d+|\\\\w+ \\\\w+(?= bag))\\\")\\n\\n        def _edges(rule: str) -> Iterable[WeightedEdge]:\\n            \\\"\\\"\\\"Get edges from rule by iterating content in pairs.\\\"\\\"\\\"\\n            container, *content = splitter.findall(rule)\\n            if \\\"no other\\\" not in content:\\n                for amount, inner in zip(content[0::2], content[1::2]):\\n                    yield (str(container), str(inner), {\\\"amount\\\": int(amount)})\\n\\n        return nx.DiGraph(\\n            itertools.chain.from_iterable(\\n                [edge for edge in _edges(rule)] for rule in rules\\n            )\\n        )\\n\\n    def count_bags_containing(self) -> int:\\n        \\\"\\\"\\\"Return amount of bags that contain shiny gold bag.\\\"\\\"\\\"\\n        return len(nx.dag.descendants(self._graph.reverse(), \\\"shiny gold\\\"))\\n\\n    def count_bags_inside(self) -> int:\\n        \\\"\\\"\\\"Return amount of bags inside shiny gold bag.\\\"\\\"\\\"\\n\\n        def _count_containing(bag: str) -> int:\\n            return 1 + sum(\\n                self._graph[bag][inner][\\\"amount\\\"] * _count_containing(inner)\\n                for inner in self._graph.successors(bag)\\n            )\\n\\n        return _count_containing(\\\"shiny gold\\\") - 1\";\n",
       "                var nbb_formatted_code = \"WeightedEdge = Tuple[str, str, Dict[str, int]]\\n\\n\\nclass BagCounter:\\n    def __init__(self, rules: List[str]) -> None:\\n        \\\"\\\"\\\"Initialize graph.\\\"\\\"\\\"\\n        self._graph = self._rules_to_graph(rules)\\n\\n    def _rules_to_graph(self, rules: List[str]) -> nx.DiGraph:\\n        \\\"\\\"\\\"Transform given list of rules into weighted graph.\\\"\\\"\\\"\\n        splitter = re.compile(r\\\"(\\\\d+|\\\\w+ \\\\w+(?= bag))\\\")\\n\\n        def _edges(rule: str) -> Iterable[WeightedEdge]:\\n            \\\"\\\"\\\"Get edges from rule by iterating content in pairs.\\\"\\\"\\\"\\n            container, *content = splitter.findall(rule)\\n            if \\\"no other\\\" not in content:\\n                for amount, inner in zip(content[0::2], content[1::2]):\\n                    yield (str(container), str(inner), {\\\"amount\\\": int(amount)})\\n\\n        return nx.DiGraph(\\n            itertools.chain.from_iterable(\\n                [edge for edge in _edges(rule)] for rule in rules\\n            )\\n        )\\n\\n    def count_bags_containing(self) -> int:\\n        \\\"\\\"\\\"Return amount of bags that contain shiny gold bag.\\\"\\\"\\\"\\n        return len(nx.dag.descendants(self._graph.reverse(), \\\"shiny gold\\\"))\\n\\n    def count_bags_inside(self) -> int:\\n        \\\"\\\"\\\"Return amount of bags inside shiny gold bag.\\\"\\\"\\\"\\n\\n        def _count_containing(bag: str) -> int:\\n            return 1 + sum(\\n                self._graph[bag][inner][\\\"amount\\\"] * _count_containing(inner)\\n                for inner in self._graph.successors(bag)\\n            )\\n\\n        return _count_containing(\\\"shiny gold\\\") - 1\";\n",
       "                var nbb_cells = Jupyter.notebook.get_cells();\n",
       "                for (var i = 0; i < nbb_cells.length; ++i) {\n",
       "                    if (nbb_cells[i].input_prompt_number == nbb_cell_id) {\n",
       "                        if (nbb_cells[i].get_text() == nbb_unformatted_code) {\n",
       "                             nbb_cells[i].set_text(nbb_formatted_code);\n",
       "                        }\n",
       "                        break;\n",
       "                    }\n",
       "                }\n",
       "            }, 500);\n",
       "            "
      ],
      "text/plain": [
       "<IPython.core.display.Javascript object>"
      ]
     },
     "metadata": {},
     "output_type": "display_data"
    }
   ],
   "source": [
    "WeightedEdge = Tuple[str, str, Dict[str, int]]\n",
    "\n",
    "\n",
    "class BagCounter:\n",
    "    def __init__(self, rules: List[str]) -> None:\n",
    "        \"\"\"Initialize graph.\"\"\"\n",
    "        self._graph = self._rules_to_graph(rules)\n",
    "\n",
    "    def _rules_to_graph(self, rules: List[str]) -> nx.DiGraph:\n",
    "        \"\"\"Transform given list of rules into weighted graph.\"\"\"\n",
    "        splitter = re.compile(r\"(\\d+|\\w+ \\w+(?= bag))\")\n",
    "\n",
    "        def _edges(rule: str) -> Iterable[WeightedEdge]:\n",
    "            \"\"\"Get edges from rule by iterating content in pairs.\"\"\"\n",
    "            container, *content = splitter.findall(rule)\n",
    "            if \"no other\" not in content:\n",
    "                for amount, inner in zip(content[0::2], content[1::2]):\n",
    "                    yield (str(container), str(inner), {\"amount\": int(amount)})\n",
    "\n",
    "        return nx.DiGraph(\n",
    "            itertools.chain.from_iterable(\n",
    "                [edge for edge in _edges(rule)] for rule in rules\n",
    "            )\n",
    "        )\n",
    "\n",
    "    def count_bags_containing(self) -> int:\n",
    "        \"\"\"Return amount of bags that contain shiny gold bag.\"\"\"\n",
    "        return len(nx.dag.descendants(self._graph.reverse(), \"shiny gold\"))\n",
    "\n",
    "    def count_bags_inside(self) -> int:\n",
    "        \"\"\"Return amount of bags inside shiny gold bag.\"\"\"\n",
    "\n",
    "        def _count_containing(bag: str) -> int:\n",
    "            return 1 + sum(\n",
    "                self._graph[bag][inner][\"amount\"] * _count_containing(inner)\n",
    "                for inner in self._graph.successors(bag)\n",
    "            )\n",
    "\n",
    "        return _count_containing(\"shiny gold\") - 1"
   ]
  },
  {
   "cell_type": "code",
   "execution_count": 27,
   "metadata": {},
   "outputs": [
    {
     "data": {
      "application/javascript": [
       "\n",
       "            setTimeout(function() {\n",
       "                var nbb_cell_id = 27;\n",
       "                var nbb_unformatted_code = \"def test_day_7() -> None:\\n    example = [\\n        \\\"light red bags contain 1 bright white bag, 2 muted yellow bags.\\\",\\n        \\\"dark orange bags contain 3 bright white bags, 4 muted yellow bags.\\\",\\n        \\\"bright white bags contain 1 shiny gold bag.\\\",\\n        \\\"muted yellow bags contain 2 shiny gold bags, 9 faded blue bags.\\\",\\n        \\\"shiny gold bags contain 1 dark olive bag, 2 vibrant plum bags.\\\",\\n        \\\"dark olive bags contain 3 faded blue bags, 4 dotted black bags.\\\",\\n        \\\"vibrant plum bags contain 5 faded blue bags, 6 dotted black bags.\\\",\\n        \\\"faded blue bags contain no other bags.\\\",\\n        \\\"dotted black bags contain no other bags.\\\",\\n    ]\\n    counter = BagCounter(example)\\n    assert counter.count_bags_containing() == 4\\n    assert counter.count_bags_inside() == 32\\n\\n    second_example = [\\n        \\\"shiny gold bags contain 2 dark red bags.\\\",\\n        \\\"dark red bags contain 2 dark orange bags.\\\",\\n        \\\"dark orange bags contain 2 dark yellow bags.\\\",\\n        \\\"dark yellow bags contain 2 dark green bags.\\\",\\n        \\\"dark green bags contain 2 dark blue bags.\\\",\\n        \\\"dark blue bags contain 2 dark violet bags.\\\",\\n        \\\"dark violet bags contain no other bags.\\\",\\n    ]\\n    second_counter = BagCounter(second_example)\\n    assert second_counter.count_bags_inside() == 126\";\n",
       "                var nbb_formatted_code = \"def test_day_7() -> None:\\n    example = [\\n        \\\"light red bags contain 1 bright white bag, 2 muted yellow bags.\\\",\\n        \\\"dark orange bags contain 3 bright white bags, 4 muted yellow bags.\\\",\\n        \\\"bright white bags contain 1 shiny gold bag.\\\",\\n        \\\"muted yellow bags contain 2 shiny gold bags, 9 faded blue bags.\\\",\\n        \\\"shiny gold bags contain 1 dark olive bag, 2 vibrant plum bags.\\\",\\n        \\\"dark olive bags contain 3 faded blue bags, 4 dotted black bags.\\\",\\n        \\\"vibrant plum bags contain 5 faded blue bags, 6 dotted black bags.\\\",\\n        \\\"faded blue bags contain no other bags.\\\",\\n        \\\"dotted black bags contain no other bags.\\\",\\n    ]\\n    counter = BagCounter(example)\\n    assert counter.count_bags_containing() == 4\\n    assert counter.count_bags_inside() == 32\\n\\n    second_example = [\\n        \\\"shiny gold bags contain 2 dark red bags.\\\",\\n        \\\"dark red bags contain 2 dark orange bags.\\\",\\n        \\\"dark orange bags contain 2 dark yellow bags.\\\",\\n        \\\"dark yellow bags contain 2 dark green bags.\\\",\\n        \\\"dark green bags contain 2 dark blue bags.\\\",\\n        \\\"dark blue bags contain 2 dark violet bags.\\\",\\n        \\\"dark violet bags contain no other bags.\\\",\\n    ]\\n    second_counter = BagCounter(second_example)\\n    assert second_counter.count_bags_inside() == 126\";\n",
       "                var nbb_cells = Jupyter.notebook.get_cells();\n",
       "                for (var i = 0; i < nbb_cells.length; ++i) {\n",
       "                    if (nbb_cells[i].input_prompt_number == nbb_cell_id) {\n",
       "                        if (nbb_cells[i].get_text() == nbb_unformatted_code) {\n",
       "                             nbb_cells[i].set_text(nbb_formatted_code);\n",
       "                        }\n",
       "                        break;\n",
       "                    }\n",
       "                }\n",
       "            }, 500);\n",
       "            "
      ],
      "text/plain": [
       "<IPython.core.display.Javascript object>"
      ]
     },
     "metadata": {},
     "output_type": "display_data"
    }
   ],
   "source": [
    "def test_day_7() -> None:\n",
    "    example = [\n",
    "        \"light red bags contain 1 bright white bag, 2 muted yellow bags.\",\n",
    "        \"dark orange bags contain 3 bright white bags, 4 muted yellow bags.\",\n",
    "        \"bright white bags contain 1 shiny gold bag.\",\n",
    "        \"muted yellow bags contain 2 shiny gold bags, 9 faded blue bags.\",\n",
    "        \"shiny gold bags contain 1 dark olive bag, 2 vibrant plum bags.\",\n",
    "        \"dark olive bags contain 3 faded blue bags, 4 dotted black bags.\",\n",
    "        \"vibrant plum bags contain 5 faded blue bags, 6 dotted black bags.\",\n",
    "        \"faded blue bags contain no other bags.\",\n",
    "        \"dotted black bags contain no other bags.\",\n",
    "    ]\n",
    "    counter = BagCounter(example)\n",
    "    assert counter.count_bags_containing() == 4\n",
    "    assert counter.count_bags_inside() == 32\n",
    "\n",
    "    second_example = [\n",
    "        \"shiny gold bags contain 2 dark red bags.\",\n",
    "        \"dark red bags contain 2 dark orange bags.\",\n",
    "        \"dark orange bags contain 2 dark yellow bags.\",\n",
    "        \"dark yellow bags contain 2 dark green bags.\",\n",
    "        \"dark green bags contain 2 dark blue bags.\",\n",
    "        \"dark blue bags contain 2 dark violet bags.\",\n",
    "        \"dark violet bags contain no other bags.\",\n",
    "    ]\n",
    "    second_counter = BagCounter(second_example)\n",
    "    assert second_counter.count_bags_inside() == 126"
   ]
  },
  {
   "cell_type": "code",
   "execution_count": 28,
   "metadata": {},
   "outputs": [
    {
     "data": {
      "application/javascript": [
       "\n",
       "            setTimeout(function() {\n",
       "                var nbb_cell_id = 28;\n",
       "                var nbb_unformatted_code = \"def day_7() -> Solution:\\n    counter = BagCounter(data_to_lines(day=7))\\n    return counter.count_bags_containing(), counter.count_bags_inside()\";\n",
       "                var nbb_formatted_code = \"def day_7() -> Solution:\\n    counter = BagCounter(data_to_lines(day=7))\\n    return counter.count_bags_containing(), counter.count_bags_inside()\";\n",
       "                var nbb_cells = Jupyter.notebook.get_cells();\n",
       "                for (var i = 0; i < nbb_cells.length; ++i) {\n",
       "                    if (nbb_cells[i].input_prompt_number == nbb_cell_id) {\n",
       "                        if (nbb_cells[i].get_text() == nbb_unformatted_code) {\n",
       "                             nbb_cells[i].set_text(nbb_formatted_code);\n",
       "                        }\n",
       "                        break;\n",
       "                    }\n",
       "                }\n",
       "            }, 500);\n",
       "            "
      ],
      "text/plain": [
       "<IPython.core.display.Javascript object>"
      ]
     },
     "metadata": {},
     "output_type": "display_data"
    }
   ],
   "source": [
    "def day_7() -> Solution:\n",
    "    counter = BagCounter(data_to_lines(day=7))\n",
    "    return counter.count_bags_containing(), counter.count_bags_inside()"
   ]
  },
  {
   "cell_type": "code",
   "execution_count": 29,
   "metadata": {
    "scrolled": true
   },
   "outputs": [
    {
     "name": "stdout",
     "output_type": "stream",
     "text": [
      "Part 1: 372\n",
      "Part 2: 8015\n"
     ]
    },
    {
     "data": {
      "application/javascript": [
       "\n",
       "            setTimeout(function() {\n",
       "                var nbb_cell_id = 29;\n",
       "                var nbb_unformatted_code = \"test_day(7)\\nprint_day(7)\";\n",
       "                var nbb_formatted_code = \"test_day(7)\\nprint_day(7)\";\n",
       "                var nbb_cells = Jupyter.notebook.get_cells();\n",
       "                for (var i = 0; i < nbb_cells.length; ++i) {\n",
       "                    if (nbb_cells[i].input_prompt_number == nbb_cell_id) {\n",
       "                        if (nbb_cells[i].get_text() == nbb_unformatted_code) {\n",
       "                             nbb_cells[i].set_text(nbb_formatted_code);\n",
       "                        }\n",
       "                        break;\n",
       "                    }\n",
       "                }\n",
       "            }, 500);\n",
       "            "
      ],
      "text/plain": [
       "<IPython.core.display.Javascript object>"
      ]
     },
     "metadata": {},
     "output_type": "display_data"
    }
   ],
   "source": [
    "test_day(7)\n",
    "print_day(7)"
   ]
  },
  {
   "cell_type": "markdown",
   "metadata": {
    "pycharm": {
     "name": "#%% md\n"
    }
   },
   "source": [
    "## Day 8\n",
    "\n",
    "**Task**: Where the given program loops? / Change one instruction to make program terminate successfully.\n",
    "\n",
    "This reminded me of [Intcode computer](https://adventofcode.com/2019/day/2) tasks from\n",
    "AoC 2019, so I decided to just simulate the given program.\n",
    "\n",
    "In the first part, loop breaks once some instruction is visited for the second time. In\n",
    "the second part, generator function is used to generate potential tapes where either\n",
    "\"jmp\" or \"nop\" is replaced until correct one is found."
   ]
  },
  {
   "cell_type": "code",
   "execution_count": 30,
   "metadata": {
    "pycharm": {
     "name": "#%%\n"
    }
   },
   "outputs": [
    {
     "data": {
      "application/javascript": [
       "\n",
       "            setTimeout(function() {\n",
       "                var nbb_cell_id = 30;\n",
       "                var nbb_unformatted_code = \"Instruction = Tuple[str, int]\\nTape = List[Instruction]\\n\\n\\nclass Comp:\\n    def __init__(self, program: str) -> None:\\n        self._tape: Tape = [\\n            (op, int(arg)) for op, arg in re.findall(r\\\"(\\\\w+) ([+-]\\\\d+)\\\", program)\\n        ]\\n\\n    def _run(\\n        self, tape: Tape, mode: Literal[\\\"find_loop\\\", \\\"find_terminating\\\"]\\n    ) -> Optional[int]:\\n        \\\"\\\"\\\"Run program from tape.\\\"\\\"\\\"\\n        accumulator, head = 0, 0\\n        seen: Set[int] = set()\\n        while head not in seen:\\n            seen.add(head)\\n            try:\\n                op, arg = tape[head]\\n            except IndexError:\\n                return accumulator\\n            if op == \\\"acc\\\":\\n                accumulator += arg\\n            head += (movement := arg if op == \\\"jmp\\\" else 1)\\n        if mode == \\\"find_loop\\\":\\n            return accumulator\\n        return None\\n\\n    def find_loop(self) -> int:\\n        \\\"\\\"\\\"Run computer in loop finding mode\\\"\\\"\\\"\\n        result = self._run(self._tape, mode=\\\"find_loop\\\")\\n        if not result:\\n            raise ValueError(\\\"Didn't find loop in program\\\")\\n        return result\\n\\n    def _potential_tapes(self) -> Iterator[Tape]:\\n        \\\"\\\"\\\"Yield potential tape, where one 'jmp' or 'nop' is replaced.\\\"\\\"\\\"\\n        replace = {\\\"jmp\\\": \\\"nop\\\", \\\"nop\\\": \\\"jmp\\\"}\\n        for i, (op, arg) in enumerate(self._tape):\\n            if op in replace:\\n                yield [*self._tape[:i], (replace[op], arg), *self._tape[i + 1 :]]\\n\\n    def find_terminating(self) -> int:\\n        \\\"\\\"\\\"Run computer with different tapes until terminating is found.\\\"\\\"\\\"\\n        return next(\\n            result\\n            for tape in self._potential_tapes()\\n            if (result := self._run(tape, mode=\\\"find_terminating\\\")) is not None\\n        )\";\n",
       "                var nbb_formatted_code = \"Instruction = Tuple[str, int]\\nTape = List[Instruction]\\n\\n\\nclass Comp:\\n    def __init__(self, program: str) -> None:\\n        self._tape: Tape = [\\n            (op, int(arg)) for op, arg in re.findall(r\\\"(\\\\w+) ([+-]\\\\d+)\\\", program)\\n        ]\\n\\n    def _run(\\n        self, tape: Tape, mode: Literal[\\\"find_loop\\\", \\\"find_terminating\\\"]\\n    ) -> Optional[int]:\\n        \\\"\\\"\\\"Run program from tape.\\\"\\\"\\\"\\n        accumulator, head = 0, 0\\n        seen: Set[int] = set()\\n        while head not in seen:\\n            seen.add(head)\\n            try:\\n                op, arg = tape[head]\\n            except IndexError:\\n                return accumulator\\n            if op == \\\"acc\\\":\\n                accumulator += arg\\n            head += (movement := arg if op == \\\"jmp\\\" else 1)\\n        if mode == \\\"find_loop\\\":\\n            return accumulator\\n        return None\\n\\n    def find_loop(self) -> int:\\n        \\\"\\\"\\\"Run computer in loop finding mode\\\"\\\"\\\"\\n        result = self._run(self._tape, mode=\\\"find_loop\\\")\\n        if not result:\\n            raise ValueError(\\\"Didn't find loop in program\\\")\\n        return result\\n\\n    def _potential_tapes(self) -> Iterator[Tape]:\\n        \\\"\\\"\\\"Yield potential tape, where one 'jmp' or 'nop' is replaced.\\\"\\\"\\\"\\n        replace = {\\\"jmp\\\": \\\"nop\\\", \\\"nop\\\": \\\"jmp\\\"}\\n        for i, (op, arg) in enumerate(self._tape):\\n            if op in replace:\\n                yield [*self._tape[:i], (replace[op], arg), *self._tape[i + 1 :]]\\n\\n    def find_terminating(self) -> int:\\n        \\\"\\\"\\\"Run computer with different tapes until terminating is found.\\\"\\\"\\\"\\n        return next(\\n            result\\n            for tape in self._potential_tapes()\\n            if (result := self._run(tape, mode=\\\"find_terminating\\\")) is not None\\n        )\";\n",
       "                var nbb_cells = Jupyter.notebook.get_cells();\n",
       "                for (var i = 0; i < nbb_cells.length; ++i) {\n",
       "                    if (nbb_cells[i].input_prompt_number == nbb_cell_id) {\n",
       "                        if (nbb_cells[i].get_text() == nbb_unformatted_code) {\n",
       "                             nbb_cells[i].set_text(nbb_formatted_code);\n",
       "                        }\n",
       "                        break;\n",
       "                    }\n",
       "                }\n",
       "            }, 500);\n",
       "            "
      ],
      "text/plain": [
       "<IPython.core.display.Javascript object>"
      ]
     },
     "metadata": {},
     "output_type": "display_data"
    }
   ],
   "source": [
    "Instruction = Tuple[str, int]\n",
    "Tape = List[Instruction]\n",
    "\n",
    "\n",
    "class Comp:\n",
    "    def __init__(self, program: str) -> None:\n",
    "        self._tape: Tape = [\n",
    "            (op, int(arg)) for op, arg in re.findall(r\"(\\w+) ([+-]\\d+)\", program)\n",
    "        ]\n",
    "\n",
    "    def _run(\n",
    "        self, tape: Tape, mode: Literal[\"find_loop\", \"find_terminating\"]\n",
    "    ) -> Optional[int]:\n",
    "        \"\"\"Run program from tape.\"\"\"\n",
    "        accumulator, head = 0, 0\n",
    "        seen: Set[int] = set()\n",
    "        while head not in seen:\n",
    "            seen.add(head)\n",
    "            try:\n",
    "                op, arg = tape[head]\n",
    "            except IndexError:\n",
    "                return accumulator\n",
    "            if op == \"acc\":\n",
    "                accumulator += arg\n",
    "            head += (movement := arg if op == \"jmp\" else 1)\n",
    "        if mode == \"find_loop\":\n",
    "            return accumulator\n",
    "        return None\n",
    "\n",
    "    def find_loop(self) -> int:\n",
    "        \"\"\"Run computer in loop finding mode\"\"\"\n",
    "        result = self._run(self._tape, mode=\"find_loop\")\n",
    "        if not result:\n",
    "            raise ValueError(\"Didn't find loop in program\")\n",
    "        return result\n",
    "\n",
    "    def _potential_tapes(self) -> Iterator[Tape]:\n",
    "        \"\"\"Yield potential tape, where one 'jmp' or 'nop' is replaced.\"\"\"\n",
    "        replace = {\"jmp\": \"nop\", \"nop\": \"jmp\"}\n",
    "        for i, (op, arg) in enumerate(self._tape):\n",
    "            if op in replace:\n",
    "                yield [*self._tape[:i], (replace[op], arg), *self._tape[i + 1 :]]\n",
    "\n",
    "    def find_terminating(self) -> int:\n",
    "        \"\"\"Run computer with different tapes until terminating is found.\"\"\"\n",
    "        return next(\n",
    "            result\n",
    "            for tape in self._potential_tapes()\n",
    "            if (result := self._run(tape, mode=\"find_terminating\")) is not None\n",
    "        )"
   ]
  },
  {
   "cell_type": "code",
   "execution_count": 31,
   "metadata": {},
   "outputs": [
    {
     "data": {
      "application/javascript": [
       "\n",
       "            setTimeout(function() {\n",
       "                var nbb_cell_id = 31;\n",
       "                var nbb_unformatted_code = \"def test_day_8() -> None:\\n    program = \\\"\\\"\\\"nop +0\\n    acc +1\\n    jmp +4\\n    acc +3\\n    jmp -3\\n    acc -99\\n    acc +1\\n    jmp -4\\n    acc +6\\\"\\\"\\\"\\n    comp = Comp(program)\\n    assert comp.find_loop() == 5\\n    assert comp.find_terminating() == 8\";\n",
       "                var nbb_formatted_code = \"def test_day_8() -> None:\\n    program = \\\"\\\"\\\"nop +0\\n    acc +1\\n    jmp +4\\n    acc +3\\n    jmp -3\\n    acc -99\\n    acc +1\\n    jmp -4\\n    acc +6\\\"\\\"\\\"\\n    comp = Comp(program)\\n    assert comp.find_loop() == 5\\n    assert comp.find_terminating() == 8\";\n",
       "                var nbb_cells = Jupyter.notebook.get_cells();\n",
       "                for (var i = 0; i < nbb_cells.length; ++i) {\n",
       "                    if (nbb_cells[i].input_prompt_number == nbb_cell_id) {\n",
       "                        if (nbb_cells[i].get_text() == nbb_unformatted_code) {\n",
       "                             nbb_cells[i].set_text(nbb_formatted_code);\n",
       "                        }\n",
       "                        break;\n",
       "                    }\n",
       "                }\n",
       "            }, 500);\n",
       "            "
      ],
      "text/plain": [
       "<IPython.core.display.Javascript object>"
      ]
     },
     "metadata": {},
     "output_type": "display_data"
    }
   ],
   "source": [
    "def test_day_8() -> None:\n",
    "    program = \"\"\"nop +0\n",
    "    acc +1\n",
    "    jmp +4\n",
    "    acc +3\n",
    "    jmp -3\n",
    "    acc -99\n",
    "    acc +1\n",
    "    jmp -4\n",
    "    acc +6\"\"\"\n",
    "    comp = Comp(program)\n",
    "    assert comp.find_loop() == 5\n",
    "    assert comp.find_terminating() == 8"
   ]
  },
  {
   "cell_type": "code",
   "execution_count": 32,
   "metadata": {},
   "outputs": [
    {
     "data": {
      "application/javascript": [
       "\n",
       "            setTimeout(function() {\n",
       "                var nbb_cell_id = 32;\n",
       "                var nbb_unformatted_code = \"def day_8() -> Solution:\\n    comp = Comp(program=data(day=8))\\n    return comp.find_loop(), comp.find_terminating()\";\n",
       "                var nbb_formatted_code = \"def day_8() -> Solution:\\n    comp = Comp(program=data(day=8))\\n    return comp.find_loop(), comp.find_terminating()\";\n",
       "                var nbb_cells = Jupyter.notebook.get_cells();\n",
       "                for (var i = 0; i < nbb_cells.length; ++i) {\n",
       "                    if (nbb_cells[i].input_prompt_number == nbb_cell_id) {\n",
       "                        if (nbb_cells[i].get_text() == nbb_unformatted_code) {\n",
       "                             nbb_cells[i].set_text(nbb_formatted_code);\n",
       "                        }\n",
       "                        break;\n",
       "                    }\n",
       "                }\n",
       "            }, 500);\n",
       "            "
      ],
      "text/plain": [
       "<IPython.core.display.Javascript object>"
      ]
     },
     "metadata": {},
     "output_type": "display_data"
    }
   ],
   "source": [
    "def day_8() -> Solution:\n",
    "    comp = Comp(program=data(day=8))\n",
    "    return comp.find_loop(), comp.find_terminating()"
   ]
  },
  {
   "cell_type": "code",
   "execution_count": 33,
   "metadata": {},
   "outputs": [
    {
     "name": "stdout",
     "output_type": "stream",
     "text": [
      "Part 1: 2034\n",
      "Part 2: 672\n"
     ]
    },
    {
     "data": {
      "application/javascript": [
       "\n",
       "            setTimeout(function() {\n",
       "                var nbb_cell_id = 33;\n",
       "                var nbb_unformatted_code = \"test_day(8)\\nprint_day(8)\";\n",
       "                var nbb_formatted_code = \"test_day(8)\\nprint_day(8)\";\n",
       "                var nbb_cells = Jupyter.notebook.get_cells();\n",
       "                for (var i = 0; i < nbb_cells.length; ++i) {\n",
       "                    if (nbb_cells[i].input_prompt_number == nbb_cell_id) {\n",
       "                        if (nbb_cells[i].get_text() == nbb_unformatted_code) {\n",
       "                             nbb_cells[i].set_text(nbb_formatted_code);\n",
       "                        }\n",
       "                        break;\n",
       "                    }\n",
       "                }\n",
       "            }, 500);\n",
       "            "
      ],
      "text/plain": [
       "<IPython.core.display.Javascript object>"
      ]
     },
     "metadata": {},
     "output_type": "display_data"
    }
   ],
   "source": [
    "test_day(8)\n",
    "print_day(8)"
   ]
  },
  {
   "cell_type": "markdown",
   "metadata": {},
   "source": [
    "## Day 9\n",
    "\n",
    "**Task**: What is the first number that isn't sum of any two numbers of the 25\n",
    "numbers before it? / Find a contiguous subset of numbers that sum up to that first\n",
    "number.\n",
    "\n",
    "Time to brute-force again! In the first part, I had to check if number at\n",
    "an index $i$ is a sum of any combination of previous 25 numbers. Number at first index\n",
    "satisfying this property is the answer.\n",
    "\n",
    "In the second part I decided to put a little of effort to produce an $O(n)$ solution \n",
    "(well, almost, calculating a sum isn't $O(1)$).\n",
    "Solution uses a [sliding window](\n",
    "https://www.geeksforgeeks.org/window-sliding-technique/) in order to have each\n",
    "number added/removed from contiguous range max one time."
   ]
  },
  {
   "cell_type": "code",
   "execution_count": 34,
   "metadata": {
    "pycharm": {
     "name": "#%%\n"
    }
   },
   "outputs": [
    {
     "data": {
      "application/javascript": [
       "\n",
       "            setTimeout(function() {\n",
       "                var nbb_cell_id = 34;\n",
       "                var nbb_unformatted_code = \"@dataclass\\nclass EncryptionCracker:\\n    numbers: List[int]\\n    offset: int\\n\\n    def _sum_in_interval(self, start: int, goal: int) -> bool:\\n        \\\"\\\"\\\"Find out if number at goal is sum of any two numbers in interval.\\\"\\\"\\\"\\n        return any(\\n            sum(combination) == self.numbers[goal]\\n            for combination in itertools.combinations(self.numbers[start:goal], 2)\\n        )\\n\\n    def _find_invalid_number(self) -> int:\\n        \\\"\\\"\\\"Find first number that is not sum of any n(= offset) numbers before it\\\"\\\"\\\"\\n        index = next(\\n            index\\n            for index in range(self.offset, len(self.numbers))\\n            if not self._sum_in_interval(start=index - self.offset, goal=index)\\n        )\\n        return self.numbers[index]\\n\\n    def _find_weakness(self, invalid: int) -> Optional[int]:\\n        \\\"\\\"\\\"Find a first contiguous set that sums up to invalid.\\\"\\\"\\\"\\n        partial: Deque[int] = deque()\\n        for num in self.numbers:\\n            if sum(partial) == invalid and len(partial) >= 2:\\n                return min(partial) + max(partial)\\n            if sum(partial) < invalid:\\n                partial.append(num)\\n            while sum(partial) > invalid:\\n                partial.popleft()\\n        return None\\n\\n    def crack(self) -> Tuple[int, int]:\\n        \\\"\\\"\\\"Crack the XMAS-encryption!\\\"\\\"\\\"\\n        invalid = self._find_invalid_number()\\n        weakness = self._find_weakness(invalid)\\n        if not weakness:\\n            raise ValueError(\\\"Couldn't find weakness\\\")\\n        return invalid, weakness\";\n",
       "                var nbb_formatted_code = \"@dataclass\\nclass EncryptionCracker:\\n    numbers: List[int]\\n    offset: int\\n\\n    def _sum_in_interval(self, start: int, goal: int) -> bool:\\n        \\\"\\\"\\\"Find out if number at goal is sum of any two numbers in interval.\\\"\\\"\\\"\\n        return any(\\n            sum(combination) == self.numbers[goal]\\n            for combination in itertools.combinations(self.numbers[start:goal], 2)\\n        )\\n\\n    def _find_invalid_number(self) -> int:\\n        \\\"\\\"\\\"Find first number that is not sum of any n(= offset) numbers before it\\\"\\\"\\\"\\n        index = next(\\n            index\\n            for index in range(self.offset, len(self.numbers))\\n            if not self._sum_in_interval(start=index - self.offset, goal=index)\\n        )\\n        return self.numbers[index]\\n\\n    def _find_weakness(self, invalid: int) -> Optional[int]:\\n        \\\"\\\"\\\"Find a first contiguous set that sums up to invalid.\\\"\\\"\\\"\\n        partial: Deque[int] = deque()\\n        for num in self.numbers:\\n            if sum(partial) == invalid and len(partial) >= 2:\\n                return min(partial) + max(partial)\\n            if sum(partial) < invalid:\\n                partial.append(num)\\n            while sum(partial) > invalid:\\n                partial.popleft()\\n        return None\\n\\n    def crack(self) -> Tuple[int, int]:\\n        \\\"\\\"\\\"Crack the XMAS-encryption!\\\"\\\"\\\"\\n        invalid = self._find_invalid_number()\\n        weakness = self._find_weakness(invalid)\\n        if not weakness:\\n            raise ValueError(\\\"Couldn't find weakness\\\")\\n        return invalid, weakness\";\n",
       "                var nbb_cells = Jupyter.notebook.get_cells();\n",
       "                for (var i = 0; i < nbb_cells.length; ++i) {\n",
       "                    if (nbb_cells[i].input_prompt_number == nbb_cell_id) {\n",
       "                        if (nbb_cells[i].get_text() == nbb_unformatted_code) {\n",
       "                             nbb_cells[i].set_text(nbb_formatted_code);\n",
       "                        }\n",
       "                        break;\n",
       "                    }\n",
       "                }\n",
       "            }, 500);\n",
       "            "
      ],
      "text/plain": [
       "<IPython.core.display.Javascript object>"
      ]
     },
     "metadata": {},
     "output_type": "display_data"
    }
   ],
   "source": [
    "@dataclass\n",
    "class EncryptionCracker:\n",
    "    numbers: List[int]\n",
    "    offset: int\n",
    "\n",
    "    def _sum_in_interval(self, start: int, goal: int) -> bool:\n",
    "        \"\"\"Find out if number at goal is sum of any two numbers in interval.\"\"\"\n",
    "        return any(\n",
    "            sum(combination) == self.numbers[goal]\n",
    "            for combination in itertools.combinations(self.numbers[start:goal], 2)\n",
    "        )\n",
    "\n",
    "    def _find_invalid_number(self) -> int:\n",
    "        \"\"\"Find first number that is not sum of any n(= offset) numbers before it\"\"\"\n",
    "        index = next(\n",
    "            index\n",
    "            for index in range(self.offset, len(self.numbers))\n",
    "            if not self._sum_in_interval(start=index - self.offset, goal=index)\n",
    "        )\n",
    "        return self.numbers[index]\n",
    "\n",
    "    def _find_weakness(self, invalid: int) -> Optional[int]:\n",
    "        \"\"\"Find a first contiguous set that sums up to invalid.\"\"\"\n",
    "        partial: Deque[int] = deque()\n",
    "        for num in self.numbers:\n",
    "            if sum(partial) == invalid and len(partial) >= 2:\n",
    "                return min(partial) + max(partial)\n",
    "            if sum(partial) < invalid:\n",
    "                partial.append(num)\n",
    "            while sum(partial) > invalid:\n",
    "                partial.popleft()\n",
    "        return None\n",
    "\n",
    "    def crack(self) -> Tuple[int, int]:\n",
    "        \"\"\"Crack the XMAS-encryption!\"\"\"\n",
    "        invalid = self._find_invalid_number()\n",
    "        weakness = self._find_weakness(invalid)\n",
    "        if not weakness:\n",
    "            raise ValueError(\"Couldn't find weakness\")\n",
    "        return invalid, weakness"
   ]
  },
  {
   "cell_type": "code",
   "execution_count": 35,
   "metadata": {},
   "outputs": [
    {
     "data": {
      "application/javascript": [
       "\n",
       "            setTimeout(function() {\n",
       "                var nbb_cell_id = 35;\n",
       "                var nbb_unformatted_code = \"def test_day_9() -> None:\\n    example = [\\n        35,\\n        20,\\n        15,\\n        25,\\n        47,\\n        40,\\n        62,\\n        55,\\n        65,\\n        95,\\n        102,\\n        117,\\n        150,\\n        182,\\n        127,\\n        219,\\n        299,\\n        277,\\n        309,\\n        576,\\n    ]\\n\\n    cracker = EncryptionCracker(numbers=example, offset=5)\\n    assert cracker.crack() == (127, 62)\";\n",
       "                var nbb_formatted_code = \"def test_day_9() -> None:\\n    example = [\\n        35,\\n        20,\\n        15,\\n        25,\\n        47,\\n        40,\\n        62,\\n        55,\\n        65,\\n        95,\\n        102,\\n        117,\\n        150,\\n        182,\\n        127,\\n        219,\\n        299,\\n        277,\\n        309,\\n        576,\\n    ]\\n\\n    cracker = EncryptionCracker(numbers=example, offset=5)\\n    assert cracker.crack() == (127, 62)\";\n",
       "                var nbb_cells = Jupyter.notebook.get_cells();\n",
       "                for (var i = 0; i < nbb_cells.length; ++i) {\n",
       "                    if (nbb_cells[i].input_prompt_number == nbb_cell_id) {\n",
       "                        if (nbb_cells[i].get_text() == nbb_unformatted_code) {\n",
       "                             nbb_cells[i].set_text(nbb_formatted_code);\n",
       "                        }\n",
       "                        break;\n",
       "                    }\n",
       "                }\n",
       "            }, 500);\n",
       "            "
      ],
      "text/plain": [
       "<IPython.core.display.Javascript object>"
      ]
     },
     "metadata": {},
     "output_type": "display_data"
    }
   ],
   "source": [
    "def test_day_9() -> None:\n",
    "    example = [\n",
    "        35,\n",
    "        20,\n",
    "        15,\n",
    "        25,\n",
    "        47,\n",
    "        40,\n",
    "        62,\n",
    "        55,\n",
    "        65,\n",
    "        95,\n",
    "        102,\n",
    "        117,\n",
    "        150,\n",
    "        182,\n",
    "        127,\n",
    "        219,\n",
    "        299,\n",
    "        277,\n",
    "        309,\n",
    "        576,\n",
    "    ]\n",
    "\n",
    "    cracker = EncryptionCracker(numbers=example, offset=5)\n",
    "    assert cracker.crack() == (127, 62)"
   ]
  },
  {
   "cell_type": "code",
   "execution_count": 36,
   "metadata": {},
   "outputs": [
    {
     "data": {
      "application/javascript": [
       "\n",
       "            setTimeout(function() {\n",
       "                var nbb_cell_id = 36;\n",
       "                var nbb_unformatted_code = \"def day_9() -> Solution:\\n    cracker = EncryptionCracker(numbers=data_to_nums(day=9), offset=25)\\n    return cracker.crack()\";\n",
       "                var nbb_formatted_code = \"def day_9() -> Solution:\\n    cracker = EncryptionCracker(numbers=data_to_nums(day=9), offset=25)\\n    return cracker.crack()\";\n",
       "                var nbb_cells = Jupyter.notebook.get_cells();\n",
       "                for (var i = 0; i < nbb_cells.length; ++i) {\n",
       "                    if (nbb_cells[i].input_prompt_number == nbb_cell_id) {\n",
       "                        if (nbb_cells[i].get_text() == nbb_unformatted_code) {\n",
       "                             nbb_cells[i].set_text(nbb_formatted_code);\n",
       "                        }\n",
       "                        break;\n",
       "                    }\n",
       "                }\n",
       "            }, 500);\n",
       "            "
      ],
      "text/plain": [
       "<IPython.core.display.Javascript object>"
      ]
     },
     "metadata": {},
     "output_type": "display_data"
    }
   ],
   "source": [
    "def day_9() -> Solution:\n",
    "    cracker = EncryptionCracker(numbers=data_to_nums(day=9), offset=25)\n",
    "    return cracker.crack()"
   ]
  },
  {
   "cell_type": "code",
   "execution_count": 37,
   "metadata": {},
   "outputs": [
    {
     "name": "stdout",
     "output_type": "stream",
     "text": [
      "Part 1: 542529149\n",
      "Part 2: 75678618\n"
     ]
    },
    {
     "data": {
      "application/javascript": [
       "\n",
       "            setTimeout(function() {\n",
       "                var nbb_cell_id = 37;\n",
       "                var nbb_unformatted_code = \"test_day(9)\\nprint_day(9)\";\n",
       "                var nbb_formatted_code = \"test_day(9)\\nprint_day(9)\";\n",
       "                var nbb_cells = Jupyter.notebook.get_cells();\n",
       "                for (var i = 0; i < nbb_cells.length; ++i) {\n",
       "                    if (nbb_cells[i].input_prompt_number == nbb_cell_id) {\n",
       "                        if (nbb_cells[i].get_text() == nbb_unformatted_code) {\n",
       "                             nbb_cells[i].set_text(nbb_formatted_code);\n",
       "                        }\n",
       "                        break;\n",
       "                    }\n",
       "                }\n",
       "            }, 500);\n",
       "            "
      ],
      "text/plain": [
       "<IPython.core.display.Javascript object>"
      ]
     },
     "metadata": {},
     "output_type": "display_data"
    }
   ],
   "source": [
    "test_day(9)\n",
    "print_day(9)"
   ]
  },
  {
   "cell_type": "markdown",
   "metadata": {},
   "source": [
    "## Day 10\n",
    "\n",
    "**Task**: Count differences between numbers / count total numbers of ways to arrange\n",
    "numbers up to `n`th number.\n",
    "\n",
    "It helps here to sort the given joltage array first. After that, both parts can be\n",
    "solved in $O(n)$ by iterating through the sorted array. \n",
    "\n",
    "For the first part, differences between consecutive numbers are calculated. The \n",
    "second part can be solved with \n",
    "[dynamic programming](https://en.wikipedia.org/wiki/Dynamic_programming): since\n",
    "one can add either adapter with $k+1$, $k+2$ or $k+3$ joltages after an adapter\n",
    "with $k$ joltages, amount of adapters at some $k$ is based on amounts before it.\n",
    "Answer is the amount of possible ways to sum up to charger with largest joltage."
   ]
  },
  {
   "cell_type": "code",
   "execution_count": 38,
   "metadata": {
    "pycharm": {
     "name": "#%%\n"
    }
   },
   "outputs": [
    {
     "data": {
      "application/javascript": [
       "\n",
       "            setTimeout(function() {\n",
       "                var nbb_cell_id = 38;\n",
       "                var nbb_unformatted_code = \"def solve_day_10(numbers: List[int]) -> Solution:\\n    \\\"\\\"\\\"Count differences between joltages and numbers of ways to arrange adapters.\\\"\\\"\\\"\\n    joltages = sorted(numbers)\\n\\n    ways: Dict[int, int] = defaultdict(int)\\n    diffs: Dict[int, int] = defaultdict(int)\\n    prev = 0\\n    ways[0] = 1\\n    for joltage in joltages:\\n        ways[joltage] = sum(ways[joltage - i] for i in [1, 2, 3])\\n        diffs[joltage - prev] += 1\\n        prev = joltage\\n    diffs[3] += 1\\n\\n    return diffs[1] * diffs[3], ways[joltages[-1]]\";\n",
       "                var nbb_formatted_code = \"def solve_day_10(numbers: List[int]) -> Solution:\\n    \\\"\\\"\\\"Count differences between joltages and numbers of ways to arrange adapters.\\\"\\\"\\\"\\n    joltages = sorted(numbers)\\n\\n    ways: Dict[int, int] = defaultdict(int)\\n    diffs: Dict[int, int] = defaultdict(int)\\n    prev = 0\\n    ways[0] = 1\\n    for joltage in joltages:\\n        ways[joltage] = sum(ways[joltage - i] for i in [1, 2, 3])\\n        diffs[joltage - prev] += 1\\n        prev = joltage\\n    diffs[3] += 1\\n\\n    return diffs[1] * diffs[3], ways[joltages[-1]]\";\n",
       "                var nbb_cells = Jupyter.notebook.get_cells();\n",
       "                for (var i = 0; i < nbb_cells.length; ++i) {\n",
       "                    if (nbb_cells[i].input_prompt_number == nbb_cell_id) {\n",
       "                        if (nbb_cells[i].get_text() == nbb_unformatted_code) {\n",
       "                             nbb_cells[i].set_text(nbb_formatted_code);\n",
       "                        }\n",
       "                        break;\n",
       "                    }\n",
       "                }\n",
       "            }, 500);\n",
       "            "
      ],
      "text/plain": [
       "<IPython.core.display.Javascript object>"
      ]
     },
     "metadata": {},
     "output_type": "display_data"
    }
   ],
   "source": [
    "def solve_day_10(numbers: List[int]) -> Solution:\n",
    "    \"\"\"Count differences between joltages and numbers of ways to arrange adapters.\"\"\"\n",
    "    joltages = sorted(numbers)\n",
    "\n",
    "    ways: Dict[int, int] = defaultdict(int)\n",
    "    diffs: Dict[int, int] = defaultdict(int)\n",
    "    prev = 0\n",
    "    ways[0] = 1\n",
    "    for joltage in joltages:\n",
    "        ways[joltage] = sum(ways[joltage - i] for i in [1, 2, 3])\n",
    "        diffs[joltage - prev] += 1\n",
    "        prev = joltage\n",
    "    diffs[3] += 1\n",
    "\n",
    "    return diffs[1] * diffs[3], ways[joltages[-1]]"
   ]
  },
  {
   "cell_type": "code",
   "execution_count": 39,
   "metadata": {},
   "outputs": [
    {
     "data": {
      "application/javascript": [
       "\n",
       "            setTimeout(function() {\n",
       "                var nbb_cell_id = 39;\n",
       "                var nbb_unformatted_code = \"def test_day_10() -> None:\\n    example = [16, 10, 15, 5, 1, 11, 7, 19, 6, 12, 4]\\n    assert solve_day_10(numbers=example) == (35, 8)\\n    second_example = [\\n        28,\\n        33,\\n        18,\\n        42,\\n        31,\\n        14,\\n        46,\\n        20,\\n        48,\\n        47,\\n        24,\\n        23,\\n        49,\\n        45,\\n        19,\\n        38,\\n        39,\\n        11,\\n        1,\\n        32,\\n        25,\\n        35,\\n        8,\\n        17,\\n        7,\\n        9,\\n        4,\\n        2,\\n        34,\\n        10,\\n        3,\\n    ]\\n    assert solve_day_10(numbers=second_example) == (220, 19208)\";\n",
       "                var nbb_formatted_code = \"def test_day_10() -> None:\\n    example = [16, 10, 15, 5, 1, 11, 7, 19, 6, 12, 4]\\n    assert solve_day_10(numbers=example) == (35, 8)\\n    second_example = [\\n        28,\\n        33,\\n        18,\\n        42,\\n        31,\\n        14,\\n        46,\\n        20,\\n        48,\\n        47,\\n        24,\\n        23,\\n        49,\\n        45,\\n        19,\\n        38,\\n        39,\\n        11,\\n        1,\\n        32,\\n        25,\\n        35,\\n        8,\\n        17,\\n        7,\\n        9,\\n        4,\\n        2,\\n        34,\\n        10,\\n        3,\\n    ]\\n    assert solve_day_10(numbers=second_example) == (220, 19208)\";\n",
       "                var nbb_cells = Jupyter.notebook.get_cells();\n",
       "                for (var i = 0; i < nbb_cells.length; ++i) {\n",
       "                    if (nbb_cells[i].input_prompt_number == nbb_cell_id) {\n",
       "                        if (nbb_cells[i].get_text() == nbb_unformatted_code) {\n",
       "                             nbb_cells[i].set_text(nbb_formatted_code);\n",
       "                        }\n",
       "                        break;\n",
       "                    }\n",
       "                }\n",
       "            }, 500);\n",
       "            "
      ],
      "text/plain": [
       "<IPython.core.display.Javascript object>"
      ]
     },
     "metadata": {},
     "output_type": "display_data"
    }
   ],
   "source": [
    "def test_day_10() -> None:\n",
    "    example = [16, 10, 15, 5, 1, 11, 7, 19, 6, 12, 4]\n",
    "    assert solve_day_10(numbers=example) == (35, 8)\n",
    "    second_example = [\n",
    "        28,\n",
    "        33,\n",
    "        18,\n",
    "        42,\n",
    "        31,\n",
    "        14,\n",
    "        46,\n",
    "        20,\n",
    "        48,\n",
    "        47,\n",
    "        24,\n",
    "        23,\n",
    "        49,\n",
    "        45,\n",
    "        19,\n",
    "        38,\n",
    "        39,\n",
    "        11,\n",
    "        1,\n",
    "        32,\n",
    "        25,\n",
    "        35,\n",
    "        8,\n",
    "        17,\n",
    "        7,\n",
    "        9,\n",
    "        4,\n",
    "        2,\n",
    "        34,\n",
    "        10,\n",
    "        3,\n",
    "    ]\n",
    "    assert solve_day_10(numbers=second_example) == (220, 19208)"
   ]
  },
  {
   "cell_type": "code",
   "execution_count": 40,
   "metadata": {},
   "outputs": [
    {
     "data": {
      "application/javascript": [
       "\n",
       "            setTimeout(function() {\n",
       "                var nbb_cell_id = 40;\n",
       "                var nbb_unformatted_code = \"def day_10() -> Solution:\\n    return solve_day_10(numbers=data_to_nums(day=10))\";\n",
       "                var nbb_formatted_code = \"def day_10() -> Solution:\\n    return solve_day_10(numbers=data_to_nums(day=10))\";\n",
       "                var nbb_cells = Jupyter.notebook.get_cells();\n",
       "                for (var i = 0; i < nbb_cells.length; ++i) {\n",
       "                    if (nbb_cells[i].input_prompt_number == nbb_cell_id) {\n",
       "                        if (nbb_cells[i].get_text() == nbb_unformatted_code) {\n",
       "                             nbb_cells[i].set_text(nbb_formatted_code);\n",
       "                        }\n",
       "                        break;\n",
       "                    }\n",
       "                }\n",
       "            }, 500);\n",
       "            "
      ],
      "text/plain": [
       "<IPython.core.display.Javascript object>"
      ]
     },
     "metadata": {},
     "output_type": "display_data"
    }
   ],
   "source": [
    "def day_10() -> Solution:\n",
    "    return solve_day_10(numbers=data_to_nums(day=10))"
   ]
  },
  {
   "cell_type": "code",
   "execution_count": 41,
   "metadata": {
    "scrolled": false
   },
   "outputs": [
    {
     "name": "stdout",
     "output_type": "stream",
     "text": [
      "Part 1: 1656\n",
      "Part 2: 56693912375296\n"
     ]
    },
    {
     "data": {
      "application/javascript": [
       "\n",
       "            setTimeout(function() {\n",
       "                var nbb_cell_id = 41;\n",
       "                var nbb_unformatted_code = \"test_day(10)\\nprint_day(10)\";\n",
       "                var nbb_formatted_code = \"test_day(10)\\nprint_day(10)\";\n",
       "                var nbb_cells = Jupyter.notebook.get_cells();\n",
       "                for (var i = 0; i < nbb_cells.length; ++i) {\n",
       "                    if (nbb_cells[i].input_prompt_number == nbb_cell_id) {\n",
       "                        if (nbb_cells[i].get_text() == nbb_unformatted_code) {\n",
       "                             nbb_cells[i].set_text(nbb_formatted_code);\n",
       "                        }\n",
       "                        break;\n",
       "                    }\n",
       "                }\n",
       "            }, 500);\n",
       "            "
      ],
      "text/plain": [
       "<IPython.core.display.Javascript object>"
      ]
     },
     "metadata": {},
     "output_type": "display_data"
    }
   ],
   "source": [
    "test_day(10)\n",
    "print_day(10)"
   ]
  },
  {
   "cell_type": "markdown",
   "metadata": {},
   "source": [
    "## Day 11\n",
    "\n",
    "**Task**: Run [cellular automaton](https://en.wikipedia.org/wiki/Cellular_automaton)\n",
    "until stable state is reached.\n",
    "\n",
    "Game of life -style problems have been repeating puzzle theme in previous years, so it was nice to see one during 2020 too. Basic idea is quite simple: create new generations based on previous generation and a set of rules until consecutive generations are exactly the same.\n",
    "\n",
    "For efficient solutions, following is needed: fast way to update whether seat is occupied or empty and fast way to get neighbours, especially on the second part. With pure python, fastest solution I could get was around 3 seconds, so I'll let this be the slowest solution this far :)"
   ]
  },
  {
   "cell_type": "code",
   "execution_count": 42,
   "metadata": {},
   "outputs": [
    {
     "data": {
      "application/javascript": [
       "\n",
       "            setTimeout(function() {\n",
       "                var nbb_cell_id = 42;\n",
       "                var nbb_unformatted_code = \"class SeatingSystem:\\n    def __init__(self, lines: List[str], mode: Literal[\\\"direct\\\", \\\"seen\\\"]) -> None:\\n        \\\"\\\"\\\"Initialize system with needed bookkeeping.\\\"\\\"\\\"\\n        self._mode = mode\\n        self._limit = 5 if mode == \\\"seen\\\" else 4\\n\\n        h, w = len(lines), len(lines[0])\\n        self._occupied: Dict[complex, bool] = {\\n            complex(x, y): False\\n            for y in range(h)\\n            for x in range(w)\\n            if lines[y][x] == \\\"L\\\"\\n        }\\n        self._floor: Set[complex] = {\\n            complex(x, y) for y in range(h) for x in range(w) if lines[y][x] == \\\".\\\"\\n        }\\n        self._neighbours = self._get_neighbours()\\n\\n    def _get_neighbours(self) -> Dict[complex, List[complex]]:\\n        \\\"\\\"\\\"Get list of neighbours for each point.\\\"\\\"\\\"\\n        directions = [\\n            complex(x, y)\\n            for x, y in itertools.product((-1, 0, 1), repeat=2)\\n            if (x, y) != (0, 0)\\n        ]\\n        return {\\n            seat: [\\n                neighbour\\n                for direction in directions\\n                if (neighbour := self._get_neighbour(seat=seat, direction=direction))\\n                in self._occupied\\n            ]\\n            for seat in self._occupied.keys()\\n        }\\n\\n    def _get_neighbour(self, seat: complex, direction: complex) -> Optional[complex]:\\n        \\\"\\\"\\\"Get either direct neighbour (first part) or seen neighbours.\\\"\\\"\\\"\\n        if self._mode == \\\"seen\\\":\\n            return next(\\n                point\\n                for multiplier in itertools.count(start=1)\\n                if (point := seat + multiplier * direction) not in self._floor\\n            )\\n        return seat + direction\\n\\n    def _next_generation(self) -> Dict[complex, bool]:\\n        \\\"\\\"\\\"Return next occupy statuses for each seat.\\\"\\\"\\\"\\n        return {seat: self._becomes_occupied(seat) for seat in self._occupied}\\n\\n    def _becomes_occupied(self, seat: complex) -> bool:\\n        \\\"\\\"\\\"Find out if seat becomes occupied based on given rules.\\\"\\\"\\\"\\n        count = sum(self._occupied[neighbour] for neighbour in self._neighbours[seat])\\n        currently_occupied = self._occupied[seat]\\n        if currently_occupied and count >= self._limit:\\n            return False\\n        if not currently_occupied and count == 0:\\n            return True\\n        return currently_occupied\\n\\n    def run(self) -> int:\\n        \\\"\\\"\\\"Run automaton until stable state has been reached.\\\"\\\"\\\"\\n        while True:\\n            next_occupied = self._next_generation()\\n            if next_occupied == self._occupied:\\n                return sum(self._occupied.values())\\n            self._occupied = next_occupied\";\n",
       "                var nbb_formatted_code = \"class SeatingSystem:\\n    def __init__(self, lines: List[str], mode: Literal[\\\"direct\\\", \\\"seen\\\"]) -> None:\\n        \\\"\\\"\\\"Initialize system with needed bookkeeping.\\\"\\\"\\\"\\n        self._mode = mode\\n        self._limit = 5 if mode == \\\"seen\\\" else 4\\n\\n        h, w = len(lines), len(lines[0])\\n        self._occupied: Dict[complex, bool] = {\\n            complex(x, y): False\\n            for y in range(h)\\n            for x in range(w)\\n            if lines[y][x] == \\\"L\\\"\\n        }\\n        self._floor: Set[complex] = {\\n            complex(x, y) for y in range(h) for x in range(w) if lines[y][x] == \\\".\\\"\\n        }\\n        self._neighbours = self._get_neighbours()\\n\\n    def _get_neighbours(self) -> Dict[complex, List[complex]]:\\n        \\\"\\\"\\\"Get list of neighbours for each point.\\\"\\\"\\\"\\n        directions = [\\n            complex(x, y)\\n            for x, y in itertools.product((-1, 0, 1), repeat=2)\\n            if (x, y) != (0, 0)\\n        ]\\n        return {\\n            seat: [\\n                neighbour\\n                for direction in directions\\n                if (neighbour := self._get_neighbour(seat=seat, direction=direction))\\n                in self._occupied\\n            ]\\n            for seat in self._occupied.keys()\\n        }\\n\\n    def _get_neighbour(self, seat: complex, direction: complex) -> Optional[complex]:\\n        \\\"\\\"\\\"Get either direct neighbour (first part) or seen neighbours.\\\"\\\"\\\"\\n        if self._mode == \\\"seen\\\":\\n            return next(\\n                point\\n                for multiplier in itertools.count(start=1)\\n                if (point := seat + multiplier * direction) not in self._floor\\n            )\\n        return seat + direction\\n\\n    def _next_generation(self) -> Dict[complex, bool]:\\n        \\\"\\\"\\\"Return next occupy statuses for each seat.\\\"\\\"\\\"\\n        return {seat: self._becomes_occupied(seat) for seat in self._occupied}\\n\\n    def _becomes_occupied(self, seat: complex) -> bool:\\n        \\\"\\\"\\\"Find out if seat becomes occupied based on given rules.\\\"\\\"\\\"\\n        count = sum(self._occupied[neighbour] for neighbour in self._neighbours[seat])\\n        currently_occupied = self._occupied[seat]\\n        if currently_occupied and count >= self._limit:\\n            return False\\n        if not currently_occupied and count == 0:\\n            return True\\n        return currently_occupied\\n\\n    def run(self) -> int:\\n        \\\"\\\"\\\"Run automaton until stable state has been reached.\\\"\\\"\\\"\\n        while True:\\n            next_occupied = self._next_generation()\\n            if next_occupied == self._occupied:\\n                return sum(self._occupied.values())\\n            self._occupied = next_occupied\";\n",
       "                var nbb_cells = Jupyter.notebook.get_cells();\n",
       "                for (var i = 0; i < nbb_cells.length; ++i) {\n",
       "                    if (nbb_cells[i].input_prompt_number == nbb_cell_id) {\n",
       "                        if (nbb_cells[i].get_text() == nbb_unformatted_code) {\n",
       "                             nbb_cells[i].set_text(nbb_formatted_code);\n",
       "                        }\n",
       "                        break;\n",
       "                    }\n",
       "                }\n",
       "            }, 500);\n",
       "            "
      ],
      "text/plain": [
       "<IPython.core.display.Javascript object>"
      ]
     },
     "metadata": {},
     "output_type": "display_data"
    }
   ],
   "source": [
    "class SeatingSystem:\n",
    "    def __init__(self, lines: List[str], mode: Literal[\"direct\", \"seen\"]) -> None:\n",
    "        \"\"\"Initialize system with needed bookkeeping.\"\"\"\n",
    "        self._mode = mode\n",
    "        self._limit = 5 if mode == \"seen\" else 4\n",
    "\n",
    "        h, w = len(lines), len(lines[0])\n",
    "        self._occupied: Dict[complex, bool] = {\n",
    "            complex(x, y): False\n",
    "            for y in range(h)\n",
    "            for x in range(w)\n",
    "            if lines[y][x] == \"L\"\n",
    "        }\n",
    "        self._floor: Set[complex] = {\n",
    "            complex(x, y) for y in range(h) for x in range(w) if lines[y][x] == \".\"\n",
    "        }\n",
    "        self._neighbours = self._get_neighbours()\n",
    "\n",
    "    def _get_neighbours(self) -> Dict[complex, List[complex]]:\n",
    "        \"\"\"Get list of neighbours for each point.\"\"\"\n",
    "        directions = [\n",
    "            complex(x, y)\n",
    "            for x, y in itertools.product((-1, 0, 1), repeat=2)\n",
    "            if (x, y) != (0, 0)\n",
    "        ]\n",
    "        return {\n",
    "            seat: [\n",
    "                neighbour\n",
    "                for direction in directions\n",
    "                if (neighbour := self._get_neighbour(seat=seat, direction=direction))\n",
    "                in self._occupied\n",
    "            ]\n",
    "            for seat in self._occupied.keys()\n",
    "        }\n",
    "\n",
    "    def _get_neighbour(self, seat: complex, direction: complex) -> Optional[complex]:\n",
    "        \"\"\"Get either direct neighbour (first part) or seen neighbours.\"\"\"\n",
    "        if self._mode == \"seen\":\n",
    "            return next(\n",
    "                point\n",
    "                for multiplier in itertools.count(start=1)\n",
    "                if (point := seat + multiplier * direction) not in self._floor\n",
    "            )\n",
    "        return seat + direction\n",
    "\n",
    "    def _next_generation(self) -> Dict[complex, bool]:\n",
    "        \"\"\"Return next occupy statuses for each seat.\"\"\"\n",
    "        return {seat: self._becomes_occupied(seat) for seat in self._occupied}\n",
    "\n",
    "    def _becomes_occupied(self, seat: complex) -> bool:\n",
    "        \"\"\"Find out if seat becomes occupied based on given rules.\"\"\"\n",
    "        count = sum(self._occupied[neighbour] for neighbour in self._neighbours[seat])\n",
    "        currently_occupied = self._occupied[seat]\n",
    "        if currently_occupied and count >= self._limit:\n",
    "            return False\n",
    "        if not currently_occupied and count == 0:\n",
    "            return True\n",
    "        return currently_occupied\n",
    "\n",
    "    def run(self) -> int:\n",
    "        \"\"\"Run automaton until stable state has been reached.\"\"\"\n",
    "        while True:\n",
    "            next_occupied = self._next_generation()\n",
    "            if next_occupied == self._occupied:\n",
    "                return sum(self._occupied.values())\n",
    "            self._occupied = next_occupied"
   ]
  },
  {
   "cell_type": "code",
   "execution_count": 43,
   "metadata": {},
   "outputs": [
    {
     "data": {
      "application/javascript": [
       "\n",
       "            setTimeout(function() {\n",
       "                var nbb_cell_id = 43;\n",
       "                var nbb_unformatted_code = \"def test_day_11() -> None:\\n    example = [\\n        \\\"L.LL.LL.LL\\\",\\n        \\\"LLLLLLL.LL\\\",\\n        \\\"L.L.L..L..\\\",\\n        \\\"LLLL.LL.LL\\\",\\n        \\\"L.LL.LL.LL\\\",\\n        \\\"L.LLLLL.LL\\\",\\n        \\\"..L.L.....\\\",\\n        \\\"LLLLLLLLLL\\\",\\n        \\\"L.LLLLLL.L\\\",\\n        \\\"L.LLLLL.LL\\\",\\n    ]\\n    assert SeatingSystem(lines=example, mode=\\\"direct\\\").run() == 37\\n    assert SeatingSystem(lines=example, mode=\\\"seen\\\").run() == 26\";\n",
       "                var nbb_formatted_code = \"def test_day_11() -> None:\\n    example = [\\n        \\\"L.LL.LL.LL\\\",\\n        \\\"LLLLLLL.LL\\\",\\n        \\\"L.L.L..L..\\\",\\n        \\\"LLLL.LL.LL\\\",\\n        \\\"L.LL.LL.LL\\\",\\n        \\\"L.LLLLL.LL\\\",\\n        \\\"..L.L.....\\\",\\n        \\\"LLLLLLLLLL\\\",\\n        \\\"L.LLLLLL.L\\\",\\n        \\\"L.LLLLL.LL\\\",\\n    ]\\n    assert SeatingSystem(lines=example, mode=\\\"direct\\\").run() == 37\\n    assert SeatingSystem(lines=example, mode=\\\"seen\\\").run() == 26\";\n",
       "                var nbb_cells = Jupyter.notebook.get_cells();\n",
       "                for (var i = 0; i < nbb_cells.length; ++i) {\n",
       "                    if (nbb_cells[i].input_prompt_number == nbb_cell_id) {\n",
       "                        if (nbb_cells[i].get_text() == nbb_unformatted_code) {\n",
       "                             nbb_cells[i].set_text(nbb_formatted_code);\n",
       "                        }\n",
       "                        break;\n",
       "                    }\n",
       "                }\n",
       "            }, 500);\n",
       "            "
      ],
      "text/plain": [
       "<IPython.core.display.Javascript object>"
      ]
     },
     "metadata": {},
     "output_type": "display_data"
    }
   ],
   "source": [
    "def test_day_11() -> None:\n",
    "    example = [\n",
    "        \"L.LL.LL.LL\",\n",
    "        \"LLLLLLL.LL\",\n",
    "        \"L.L.L..L..\",\n",
    "        \"LLLL.LL.LL\",\n",
    "        \"L.LL.LL.LL\",\n",
    "        \"L.LLLLL.LL\",\n",
    "        \"..L.L.....\",\n",
    "        \"LLLLLLLLLL\",\n",
    "        \"L.LLLLLL.L\",\n",
    "        \"L.LLLLL.LL\",\n",
    "    ]\n",
    "    assert SeatingSystem(lines=example, mode=\"direct\").run() == 37\n",
    "    assert SeatingSystem(lines=example, mode=\"seen\").run() == 26"
   ]
  },
  {
   "cell_type": "code",
   "execution_count": 44,
   "metadata": {},
   "outputs": [
    {
     "data": {
      "application/javascript": [
       "\n",
       "            setTimeout(function() {\n",
       "                var nbb_cell_id = 44;\n",
       "                var nbb_unformatted_code = \"def day_11() -> Solution:\\n    lines = data_to_lines(day=11)\\n    return (\\n        SeatingSystem(lines=lines, mode=\\\"direct\\\").run(),\\n        SeatingSystem(lines=lines, mode=\\\"seen\\\").run(),\\n    )\";\n",
       "                var nbb_formatted_code = \"def day_11() -> Solution:\\n    lines = data_to_lines(day=11)\\n    return (\\n        SeatingSystem(lines=lines, mode=\\\"direct\\\").run(),\\n        SeatingSystem(lines=lines, mode=\\\"seen\\\").run(),\\n    )\";\n",
       "                var nbb_cells = Jupyter.notebook.get_cells();\n",
       "                for (var i = 0; i < nbb_cells.length; ++i) {\n",
       "                    if (nbb_cells[i].input_prompt_number == nbb_cell_id) {\n",
       "                        if (nbb_cells[i].get_text() == nbb_unformatted_code) {\n",
       "                             nbb_cells[i].set_text(nbb_formatted_code);\n",
       "                        }\n",
       "                        break;\n",
       "                    }\n",
       "                }\n",
       "            }, 500);\n",
       "            "
      ],
      "text/plain": [
       "<IPython.core.display.Javascript object>"
      ]
     },
     "metadata": {},
     "output_type": "display_data"
    }
   ],
   "source": [
    "def day_11() -> Solution:\n",
    "    lines = data_to_lines(day=11)\n",
    "    return (\n",
    "        SeatingSystem(lines=lines, mode=\"direct\").run(),\n",
    "        SeatingSystem(lines=lines, mode=\"seen\").run(),\n",
    "    )"
   ]
  },
  {
   "cell_type": "code",
   "execution_count": 45,
   "metadata": {},
   "outputs": [
    {
     "name": "stdout",
     "output_type": "stream",
     "text": [
      "Part 1: 2281\n",
      "Part 2: 2085\n"
     ]
    },
    {
     "data": {
      "application/javascript": [
       "\n",
       "            setTimeout(function() {\n",
       "                var nbb_cell_id = 45;\n",
       "                var nbb_unformatted_code = \"test_day(11)\\nprint_day(11)\";\n",
       "                var nbb_formatted_code = \"test_day(11)\\nprint_day(11)\";\n",
       "                var nbb_cells = Jupyter.notebook.get_cells();\n",
       "                for (var i = 0; i < nbb_cells.length; ++i) {\n",
       "                    if (nbb_cells[i].input_prompt_number == nbb_cell_id) {\n",
       "                        if (nbb_cells[i].get_text() == nbb_unformatted_code) {\n",
       "                             nbb_cells[i].set_text(nbb_formatted_code);\n",
       "                        }\n",
       "                        break;\n",
       "                    }\n",
       "                }\n",
       "            }, 500);\n",
       "            "
      ],
      "text/plain": [
       "<IPython.core.display.Javascript object>"
      ]
     },
     "metadata": {},
     "output_type": "display_data"
    }
   ],
   "source": [
    "test_day(11)\n",
    "print_day(11)"
   ]
  },
  {
   "cell_type": "markdown",
   "metadata": {},
   "source": [
    "## Day 12\n",
    "\n",
    "**Task**: Move ship by given rules, calculate distance between starting and ending\n",
    "positions.\n",
    "\n",
    "Quite straightforward puzzle: biggest difference between parts one and two is \n",
    "movement of direction (part 1) / waypoint (part 2). It also helps again to use\n",
    "`complex` numbers for easier additions, multiplication and especially for doing\n",
    "the rotations: code here uses the fact that raising complex number to the power \n",
    "of $n$ \"moves\" the number along perimeter of circle by multiplies of $90$ degrees. \n",
    "([Here's some info about the math behind](https://brilliant.org/wiki/complex-exponentiation/))"
   ]
  },
  {
   "cell_type": "code",
   "execution_count": 46,
   "metadata": {
    "pycharm": {
     "name": "#%%\n"
    }
   },
   "outputs": [
    {
     "data": {
      "application/javascript": [
       "\n",
       "            setTimeout(function() {\n",
       "                var nbb_cell_id = 46;\n",
       "                var nbb_unformatted_code = \"def solve_day_12(lines: List[str], mode: Literal[\\\"direct\\\", \\\"waypoint\\\"]) -> int:\\n    \\\"\\\"\\\"Run instructions from point (0,0) and return manhattan distance.\\\"\\\"\\\"\\n    instructions = [(line[0], int(line[1:])) for line in lines]\\n    directions = {\\n        \\\"N\\\": complex(0, 1),\\n        \\\"E\\\": complex(1, 0),\\n        \\\"S\\\": complex(0, -1),\\n        \\\"W\\\": complex(-1, 0),\\n    }\\n    rotations = {\\\"L\\\": complex(0, 1), \\\"R\\\": complex(0, -1)}\\n    point = complex(0, 0)\\n    other = complex(10, 1) if mode == \\\"waypoint\\\" else directions[\\\"E\\\"]\\n\\n    for action, value in instructions:\\n        if action in rotations:\\n            other *= rotations[action] ** (value // 90)\\n        elif action == \\\"F\\\":\\n            point += other * value\\n        elif mode == \\\"direct\\\":\\n            point += directions[action] * value\\n        elif mode == \\\"waypoint\\\":\\n            other += directions[action] * value\\n    return int(abs(point.real) + abs(point.imag))\";\n",
       "                var nbb_formatted_code = \"def solve_day_12(lines: List[str], mode: Literal[\\\"direct\\\", \\\"waypoint\\\"]) -> int:\\n    \\\"\\\"\\\"Run instructions from point (0,0) and return manhattan distance.\\\"\\\"\\\"\\n    instructions = [(line[0], int(line[1:])) for line in lines]\\n    directions = {\\n        \\\"N\\\": complex(0, 1),\\n        \\\"E\\\": complex(1, 0),\\n        \\\"S\\\": complex(0, -1),\\n        \\\"W\\\": complex(-1, 0),\\n    }\\n    rotations = {\\\"L\\\": complex(0, 1), \\\"R\\\": complex(0, -1)}\\n    point = complex(0, 0)\\n    other = complex(10, 1) if mode == \\\"waypoint\\\" else directions[\\\"E\\\"]\\n\\n    for action, value in instructions:\\n        if action in rotations:\\n            other *= rotations[action] ** (value // 90)\\n        elif action == \\\"F\\\":\\n            point += other * value\\n        elif mode == \\\"direct\\\":\\n            point += directions[action] * value\\n        elif mode == \\\"waypoint\\\":\\n            other += directions[action] * value\\n    return int(abs(point.real) + abs(point.imag))\";\n",
       "                var nbb_cells = Jupyter.notebook.get_cells();\n",
       "                for (var i = 0; i < nbb_cells.length; ++i) {\n",
       "                    if (nbb_cells[i].input_prompt_number == nbb_cell_id) {\n",
       "                        if (nbb_cells[i].get_text() == nbb_unformatted_code) {\n",
       "                             nbb_cells[i].set_text(nbb_formatted_code);\n",
       "                        }\n",
       "                        break;\n",
       "                    }\n",
       "                }\n",
       "            }, 500);\n",
       "            "
      ],
      "text/plain": [
       "<IPython.core.display.Javascript object>"
      ]
     },
     "metadata": {},
     "output_type": "display_data"
    }
   ],
   "source": [
    "def solve_day_12(lines: List[str], mode: Literal[\"direct\", \"waypoint\"]) -> int:\n",
    "    \"\"\"Run instructions from point (0,0) and return manhattan distance.\"\"\"\n",
    "    instructions = [(line[0], int(line[1:])) for line in lines]\n",
    "    directions = {\n",
    "        \"N\": complex(0, 1),\n",
    "        \"E\": complex(1, 0),\n",
    "        \"S\": complex(0, -1),\n",
    "        \"W\": complex(-1, 0),\n",
    "    }\n",
    "    rotations = {\"L\": complex(0, 1), \"R\": complex(0, -1)}\n",
    "    point = complex(0, 0)\n",
    "    other = complex(10, 1) if mode == \"waypoint\" else directions[\"E\"]\n",
    "\n",
    "    for action, value in instructions:\n",
    "        if action in rotations:\n",
    "            other *= rotations[action] ** (value // 90)\n",
    "        elif action == \"F\":\n",
    "            point += other * value\n",
    "        elif mode == \"direct\":\n",
    "            point += directions[action] * value\n",
    "        elif mode == \"waypoint\":\n",
    "            other += directions[action] * value\n",
    "    return int(abs(point.real) + abs(point.imag))"
   ]
  },
  {
   "cell_type": "code",
   "execution_count": 47,
   "metadata": {},
   "outputs": [
    {
     "data": {
      "application/javascript": [
       "\n",
       "            setTimeout(function() {\n",
       "                var nbb_cell_id = 47;\n",
       "                var nbb_unformatted_code = \"def test_day_12() -> None:\\n    example = [\\\"F10\\\", \\\"N3\\\", \\\"F7\\\", \\\"R90\\\", \\\"F11\\\"]\\n\\n    assert solve_day_12(lines=example, mode=\\\"direct\\\") == 25\\n    assert solve_day_12(lines=example, mode=\\\"waypoint\\\") == 286\";\n",
       "                var nbb_formatted_code = \"def test_day_12() -> None:\\n    example = [\\\"F10\\\", \\\"N3\\\", \\\"F7\\\", \\\"R90\\\", \\\"F11\\\"]\\n\\n    assert solve_day_12(lines=example, mode=\\\"direct\\\") == 25\\n    assert solve_day_12(lines=example, mode=\\\"waypoint\\\") == 286\";\n",
       "                var nbb_cells = Jupyter.notebook.get_cells();\n",
       "                for (var i = 0; i < nbb_cells.length; ++i) {\n",
       "                    if (nbb_cells[i].input_prompt_number == nbb_cell_id) {\n",
       "                        if (nbb_cells[i].get_text() == nbb_unformatted_code) {\n",
       "                             nbb_cells[i].set_text(nbb_formatted_code);\n",
       "                        }\n",
       "                        break;\n",
       "                    }\n",
       "                }\n",
       "            }, 500);\n",
       "            "
      ],
      "text/plain": [
       "<IPython.core.display.Javascript object>"
      ]
     },
     "metadata": {},
     "output_type": "display_data"
    }
   ],
   "source": [
    "def test_day_12() -> None:\n",
    "    example = [\"F10\", \"N3\", \"F7\", \"R90\", \"F11\"]\n",
    "\n",
    "    assert solve_day_12(lines=example, mode=\"direct\") == 25\n",
    "    assert solve_day_12(lines=example, mode=\"waypoint\") == 286"
   ]
  },
  {
   "cell_type": "code",
   "execution_count": 48,
   "metadata": {},
   "outputs": [
    {
     "data": {
      "application/javascript": [
       "\n",
       "            setTimeout(function() {\n",
       "                var nbb_cell_id = 48;\n",
       "                var nbb_unformatted_code = \"def day_12() -> Solution:\\n    lines = data_to_lines(day=12)\\n    return (\\n        solve_day_12(lines=lines, mode=\\\"direct\\\"),\\n        solve_day_12(lines=lines, mode=\\\"waypoint\\\"),\\n    )\";\n",
       "                var nbb_formatted_code = \"def day_12() -> Solution:\\n    lines = data_to_lines(day=12)\\n    return (\\n        solve_day_12(lines=lines, mode=\\\"direct\\\"),\\n        solve_day_12(lines=lines, mode=\\\"waypoint\\\"),\\n    )\";\n",
       "                var nbb_cells = Jupyter.notebook.get_cells();\n",
       "                for (var i = 0; i < nbb_cells.length; ++i) {\n",
       "                    if (nbb_cells[i].input_prompt_number == nbb_cell_id) {\n",
       "                        if (nbb_cells[i].get_text() == nbb_unformatted_code) {\n",
       "                             nbb_cells[i].set_text(nbb_formatted_code);\n",
       "                        }\n",
       "                        break;\n",
       "                    }\n",
       "                }\n",
       "            }, 500);\n",
       "            "
      ],
      "text/plain": [
       "<IPython.core.display.Javascript object>"
      ]
     },
     "metadata": {},
     "output_type": "display_data"
    }
   ],
   "source": [
    "def day_12() -> Solution:\n",
    "    lines = data_to_lines(day=12)\n",
    "    return (\n",
    "        solve_day_12(lines=lines, mode=\"direct\"),\n",
    "        solve_day_12(lines=lines, mode=\"waypoint\"),\n",
    "    )"
   ]
  },
  {
   "cell_type": "code",
   "execution_count": 49,
   "metadata": {
    "pycharm": {
     "name": "#%%\n"
    }
   },
   "outputs": [
    {
     "name": "stdout",
     "output_type": "stream",
     "text": [
      "Part 1: 1010\n",
      "Part 2: 52742\n"
     ]
    },
    {
     "data": {
      "application/javascript": [
       "\n",
       "            setTimeout(function() {\n",
       "                var nbb_cell_id = 49;\n",
       "                var nbb_unformatted_code = \"test_day(12)\\nprint_day(12)\";\n",
       "                var nbb_formatted_code = \"test_day(12)\\nprint_day(12)\";\n",
       "                var nbb_cells = Jupyter.notebook.get_cells();\n",
       "                for (var i = 0; i < nbb_cells.length; ++i) {\n",
       "                    if (nbb_cells[i].input_prompt_number == nbb_cell_id) {\n",
       "                        if (nbb_cells[i].get_text() == nbb_unformatted_code) {\n",
       "                             nbb_cells[i].set_text(nbb_formatted_code);\n",
       "                        }\n",
       "                        break;\n",
       "                    }\n",
       "                }\n",
       "            }, 500);\n",
       "            "
      ],
      "text/plain": [
       "<IPython.core.display.Javascript object>"
      ]
     },
     "metadata": {},
     "output_type": "display_data"
    }
   ],
   "source": [
    "test_day(12)\n",
    "print_day(12)"
   ]
  },
  {
   "cell_type": "markdown",
   "metadata": {},
   "source": [
    "## Day 13\n",
    "\n",
    "**Task**: Given some timestamp, and a bus schedule, what is the earliest time to take\n",
    "a bus (part 1) / the earliest time when busses depart exactly n minutes after first,\n",
    "where n is their placement on the list.\n",
    "\n",
    "For input, ids and diffs between bus id and its placement in schedule are calculated.\n",
    "This helps on part 2.\n",
    "\n",
    "The first part requires simple calculation, which gets remainder between the earliest\n",
    "time and bus ids. The second part, on the other hand, requires some number\n",
    "theory: [chinese remainder theorem](\n",
    "https://en.wikipedia.org/wiki/Chinese_remainder_theorem). Idea here is that, there is\n",
    "one integer $x$ that holds\n",
    "\n",
    "$\\begin{align}\n",
    "x \\equiv a_1 \\pmod{n_1} \\\\\n",
    "x \\equiv a_2 \\pmod{n_2} \\\\\n",
    "x \\equiv a_k \\pmod{n_k} \\\\\n",
    "\\end{align}\n",
    "$\n",
    "\n",
    "where $a$ is a list of bus ids and $n$ is a list of differences between id and busses\n",
    "placement in given schedule. Using the given example, this means that\n",
    "`1068781 % 0 == (7-0) % 0`, `1068781 % 1 == (13-1) % 1`,`1068781 % 4 == (59-4) % 4` etc.\n",
    "\n",
    "Sympy library [provides function](\n",
    "https://docs.sympy.org/latest/modules/ntheory.html?highlight=baby%20step#sympy.ntheory.modular.crt)\n",
    "to calculate the integer $x$."
   ]
  },
  {
   "cell_type": "code",
   "execution_count": 50,
   "metadata": {
    "pycharm": {
     "name": "#%%\n"
    }
   },
   "outputs": [
    {
     "data": {
      "application/javascript": [
       "\n",
       "            setTimeout(function() {\n",
       "                var nbb_cell_id = 50;\n",
       "                var nbb_unformatted_code = \"from sympy.ntheory.modular import crt\\n\\n\\ndef solve_day_13(notes: List[str]) -> Solution:\\n    \\\"\\\"\\\"Solve the first possible departure time for both parts.\\\"\\\"\\\"\\n    departure_time = int(notes[0])\\n    bus_ids, diffs = zip(\\n        *(\\n            (int(bus_id), int(bus_id) - i)\\n            for i, bus_id in enumerate(notes[1].split(\\\",\\\"))\\n            if bus_id != \\\"x\\\"\\n        )\\n    )\\n    earliest_time, earliest_bus_id = min(\\n        (bus_id - departure_time % bus_id, bus_id) for bus_id in bus_ids\\n    )\\n    return earliest_time * earliest_bus_id, crt(bus_ids, diffs)[0]\";\n",
       "                var nbb_formatted_code = \"from sympy.ntheory.modular import crt\\n\\n\\ndef solve_day_13(notes: List[str]) -> Solution:\\n    \\\"\\\"\\\"Solve the first possible departure time for both parts.\\\"\\\"\\\"\\n    departure_time = int(notes[0])\\n    bus_ids, diffs = zip(\\n        *(\\n            (int(bus_id), int(bus_id) - i)\\n            for i, bus_id in enumerate(notes[1].split(\\\",\\\"))\\n            if bus_id != \\\"x\\\"\\n        )\\n    )\\n    earliest_time, earliest_bus_id = min(\\n        (bus_id - departure_time % bus_id, bus_id) for bus_id in bus_ids\\n    )\\n    return earliest_time * earliest_bus_id, crt(bus_ids, diffs)[0]\";\n",
       "                var nbb_cells = Jupyter.notebook.get_cells();\n",
       "                for (var i = 0; i < nbb_cells.length; ++i) {\n",
       "                    if (nbb_cells[i].input_prompt_number == nbb_cell_id) {\n",
       "                        if (nbb_cells[i].get_text() == nbb_unformatted_code) {\n",
       "                             nbb_cells[i].set_text(nbb_formatted_code);\n",
       "                        }\n",
       "                        break;\n",
       "                    }\n",
       "                }\n",
       "            }, 500);\n",
       "            "
      ],
      "text/plain": [
       "<IPython.core.display.Javascript object>"
      ]
     },
     "metadata": {},
     "output_type": "display_data"
    }
   ],
   "source": [
    "from sympy.ntheory.modular import crt\n",
    "\n",
    "\n",
    "def solve_day_13(notes: List[str]) -> Solution:\n",
    "    \"\"\"Solve the first possible departure time for both parts.\"\"\"\n",
    "    departure_time = int(notes[0])\n",
    "    bus_ids, diffs = zip(\n",
    "        *(\n",
    "            (int(bus_id), int(bus_id) - i)\n",
    "            for i, bus_id in enumerate(notes[1].split(\",\"))\n",
    "            if bus_id != \"x\"\n",
    "        )\n",
    "    )\n",
    "    earliest_time, earliest_bus_id = min(\n",
    "        (bus_id - departure_time % bus_id, bus_id) for bus_id in bus_ids\n",
    "    )\n",
    "    return earliest_time * earliest_bus_id, crt(bus_ids, diffs)[0]"
   ]
  },
  {
   "cell_type": "code",
   "execution_count": 51,
   "metadata": {},
   "outputs": [
    {
     "data": {
      "application/javascript": [
       "\n",
       "            setTimeout(function() {\n",
       "                var nbb_cell_id = 51;\n",
       "                var nbb_unformatted_code = \"def test_day_13() -> None:\\n    example = [\\\"939\\\", \\\"7,13,x,x,59,x,31,19\\\"]\\n    first_ans, second_ans = solve_day_13(example)\\n    assert first_ans == 295\\n    assert second_ans == 1068781\";\n",
       "                var nbb_formatted_code = \"def test_day_13() -> None:\\n    example = [\\\"939\\\", \\\"7,13,x,x,59,x,31,19\\\"]\\n    first_ans, second_ans = solve_day_13(example)\\n    assert first_ans == 295\\n    assert second_ans == 1068781\";\n",
       "                var nbb_cells = Jupyter.notebook.get_cells();\n",
       "                for (var i = 0; i < nbb_cells.length; ++i) {\n",
       "                    if (nbb_cells[i].input_prompt_number == nbb_cell_id) {\n",
       "                        if (nbb_cells[i].get_text() == nbb_unformatted_code) {\n",
       "                             nbb_cells[i].set_text(nbb_formatted_code);\n",
       "                        }\n",
       "                        break;\n",
       "                    }\n",
       "                }\n",
       "            }, 500);\n",
       "            "
      ],
      "text/plain": [
       "<IPython.core.display.Javascript object>"
      ]
     },
     "metadata": {},
     "output_type": "display_data"
    }
   ],
   "source": [
    "def test_day_13() -> None:\n",
    "    example = [\"939\", \"7,13,x,x,59,x,31,19\"]\n",
    "    first_ans, second_ans = solve_day_13(example)\n",
    "    assert first_ans == 295\n",
    "    assert second_ans == 1068781"
   ]
  },
  {
   "cell_type": "code",
   "execution_count": 52,
   "metadata": {},
   "outputs": [
    {
     "data": {
      "application/javascript": [
       "\n",
       "            setTimeout(function() {\n",
       "                var nbb_cell_id = 52;\n",
       "                var nbb_unformatted_code = \"def day_13() -> Solution:\\n    return solve_day_13(data_to_lines(day=13))\";\n",
       "                var nbb_formatted_code = \"def day_13() -> Solution:\\n    return solve_day_13(data_to_lines(day=13))\";\n",
       "                var nbb_cells = Jupyter.notebook.get_cells();\n",
       "                for (var i = 0; i < nbb_cells.length; ++i) {\n",
       "                    if (nbb_cells[i].input_prompt_number == nbb_cell_id) {\n",
       "                        if (nbb_cells[i].get_text() == nbb_unformatted_code) {\n",
       "                             nbb_cells[i].set_text(nbb_formatted_code);\n",
       "                        }\n",
       "                        break;\n",
       "                    }\n",
       "                }\n",
       "            }, 500);\n",
       "            "
      ],
      "text/plain": [
       "<IPython.core.display.Javascript object>"
      ]
     },
     "metadata": {},
     "output_type": "display_data"
    }
   ],
   "source": [
    "def day_13() -> Solution:\n",
    "    return solve_day_13(data_to_lines(day=13))"
   ]
  },
  {
   "cell_type": "code",
   "execution_count": 53,
   "metadata": {
    "pycharm": {
     "name": "#%%\n"
    },
    "scrolled": true
   },
   "outputs": [
    {
     "name": "stdout",
     "output_type": "stream",
     "text": [
      "Part 1: 3269\n",
      "Part 2: 672754131923874\n"
     ]
    },
    {
     "data": {
      "application/javascript": [
       "\n",
       "            setTimeout(function() {\n",
       "                var nbb_cell_id = 53;\n",
       "                var nbb_unformatted_code = \"test_day(13)\\nprint_day(13)\";\n",
       "                var nbb_formatted_code = \"test_day(13)\\nprint_day(13)\";\n",
       "                var nbb_cells = Jupyter.notebook.get_cells();\n",
       "                for (var i = 0; i < nbb_cells.length; ++i) {\n",
       "                    if (nbb_cells[i].input_prompt_number == nbb_cell_id) {\n",
       "                        if (nbb_cells[i].get_text() == nbb_unformatted_code) {\n",
       "                             nbb_cells[i].set_text(nbb_formatted_code);\n",
       "                        }\n",
       "                        break;\n",
       "                    }\n",
       "                }\n",
       "            }, 500);\n",
       "            "
      ],
      "text/plain": [
       "<IPython.core.display.Javascript object>"
      ]
     },
     "metadata": {},
     "output_type": "display_data"
    }
   ],
   "source": [
    "test_day(13)\n",
    "print_day(13)"
   ]
  },
  {
   "cell_type": "markdown",
   "metadata": {},
   "source": [
    "## Day 14\n",
    "\n",
    "**Task**: Given a program with changing bitmask, memory addesses and values, what is \n",
    "the sum of the values in memory after executing the program?\n",
    "\n",
    "[Mask article in Wikipedia](https://en.wikipedia.org/wiki/Mask_(computing)) is worth \n",
    "checking (it's actually linked in puzzle description as well), since the first part\n",
    "is just applying two masks: other for masking bits to ones and other for masking bits\n",
    "to zeros.\n",
    "\n",
    "In the second part, things are bit more harder. I decided to go with following \n",
    "generator: apply ones mask and prepend address with zeros to make it 36-bit,\n",
    "then generate all possible products of ones and zeros for \"X\"s in address and\n",
    "yield results until all products have been consumed."
   ]
  },
  {
   "cell_type": "code",
   "execution_count": 54,
   "metadata": {
    "pycharm": {
     "name": "#%%\n"
    }
   },
   "outputs": [
    {
     "data": {
      "application/javascript": [
       "\n",
       "            setTimeout(function() {\n",
       "                var nbb_cell_id = 54;\n",
       "                var nbb_unformatted_code = \"@dataclass\\nclass Masks:\\n    generic: str\\n    zeros: int\\n    ones: int\\n\\n\\nclass InitializationProgramBase:\\n    def __init__(self) -> None:\\n        \\\"\\\"\\\"Initialize needed variables.\\\"\\\"\\\"\\n        self._splitter = re.compile(r\\\"(\\\\d+)\\\")\\n        self._memory: Dict[int, int] = {}\\n        self._masks = Masks(generic=\\\"\\\", zeros=0, ones=0)\\n\\n    def run(self, program: List[str]) -> int:\\n        \\\"\\\"\\\"Execute masking from given program and return sum of memory values.\\\"\\\"\\\"\\n        for line in program:\\n            operation, argument = line.split(\\\" = \\\")\\n            if operation == \\\"mask\\\":\\n                self._masks.zeros = int(argument.replace(\\\"X\\\", \\\"1\\\"), 2)\\n                self._masks.ones = int(argument.replace(\\\"X\\\", \\\"0\\\"), 2)\\n                self._masks.generic = argument\\n            else:\\n                address, value = [int(x) for x in self._splitter.findall(line)]\\n                self._apply_masking(address, value)\\n        return sum(self._memory.values())\\n\\n    @abstractmethod\\n    def _apply_masking(self, address: int, value: int) -> None:\\n        \\\"\\\"\\\"Mask applier that should be implemented by subclass\\\"\\\"\\\"\\n        raise NotImplementedError\\n\\n\\nclass SimpleInitializationProgram(InitializationProgramBase):\\n    def _apply_masking(self, address: int, value: int) -> None:\\n        \\\"\\\"\\\"Apply both masks and write value to memory\\\"\\\"\\\"\\n        value &= self._masks.zeros\\n        value |= self._masks.ones\\n        self._memory[address] = value\\n\\n\\nclass FloatingInitializationProgram(InitializationProgramBase):\\n    def _all_memory_addresses(self, address: int) -> Iterator[int]:\\n        \\\"\\\"\\\"Generate all possible memory addresses.\\\"\\\"\\\"\\n        address_36bit = f\\\"{address | self._masks.ones:b}\\\".zfill(36)\\n        mask = self._masks.generic\\n        for replacements in itertools.product(\\\"01\\\", repeat=mask.count(\\\"X\\\")):\\n            it = iter(replacements)\\n            result = [next(it) if a == \\\"X\\\" else b for a, b in zip(mask, address_36bit)]\\n            yield int(\\\"\\\".join(result), 2)\\n\\n    def _apply_masking(self, address: int, value: int) -> None:\\n        \\\"\\\"\\\"Add value to each generated address.\\\"\\\"\\\"\\n        for new_address in self._all_memory_addresses(address):\\n            self._memory[new_address] = value\";\n",
       "                var nbb_formatted_code = \"@dataclass\\nclass Masks:\\n    generic: str\\n    zeros: int\\n    ones: int\\n\\n\\nclass InitializationProgramBase:\\n    def __init__(self) -> None:\\n        \\\"\\\"\\\"Initialize needed variables.\\\"\\\"\\\"\\n        self._splitter = re.compile(r\\\"(\\\\d+)\\\")\\n        self._memory: Dict[int, int] = {}\\n        self._masks = Masks(generic=\\\"\\\", zeros=0, ones=0)\\n\\n    def run(self, program: List[str]) -> int:\\n        \\\"\\\"\\\"Execute masking from given program and return sum of memory values.\\\"\\\"\\\"\\n        for line in program:\\n            operation, argument = line.split(\\\" = \\\")\\n            if operation == \\\"mask\\\":\\n                self._masks.zeros = int(argument.replace(\\\"X\\\", \\\"1\\\"), 2)\\n                self._masks.ones = int(argument.replace(\\\"X\\\", \\\"0\\\"), 2)\\n                self._masks.generic = argument\\n            else:\\n                address, value = [int(x) for x in self._splitter.findall(line)]\\n                self._apply_masking(address, value)\\n        return sum(self._memory.values())\\n\\n    @abstractmethod\\n    def _apply_masking(self, address: int, value: int) -> None:\\n        \\\"\\\"\\\"Mask applier that should be implemented by subclass\\\"\\\"\\\"\\n        raise NotImplementedError\\n\\n\\nclass SimpleInitializationProgram(InitializationProgramBase):\\n    def _apply_masking(self, address: int, value: int) -> None:\\n        \\\"\\\"\\\"Apply both masks and write value to memory\\\"\\\"\\\"\\n        value &= self._masks.zeros\\n        value |= self._masks.ones\\n        self._memory[address] = value\\n\\n\\nclass FloatingInitializationProgram(InitializationProgramBase):\\n    def _all_memory_addresses(self, address: int) -> Iterator[int]:\\n        \\\"\\\"\\\"Generate all possible memory addresses.\\\"\\\"\\\"\\n        address_36bit = f\\\"{address | self._masks.ones:b}\\\".zfill(36)\\n        mask = self._masks.generic\\n        for replacements in itertools.product(\\\"01\\\", repeat=mask.count(\\\"X\\\")):\\n            it = iter(replacements)\\n            result = [next(it) if a == \\\"X\\\" else b for a, b in zip(mask, address_36bit)]\\n            yield int(\\\"\\\".join(result), 2)\\n\\n    def _apply_masking(self, address: int, value: int) -> None:\\n        \\\"\\\"\\\"Add value to each generated address.\\\"\\\"\\\"\\n        for new_address in self._all_memory_addresses(address):\\n            self._memory[new_address] = value\";\n",
       "                var nbb_cells = Jupyter.notebook.get_cells();\n",
       "                for (var i = 0; i < nbb_cells.length; ++i) {\n",
       "                    if (nbb_cells[i].input_prompt_number == nbb_cell_id) {\n",
       "                        if (nbb_cells[i].get_text() == nbb_unformatted_code) {\n",
       "                             nbb_cells[i].set_text(nbb_formatted_code);\n",
       "                        }\n",
       "                        break;\n",
       "                    }\n",
       "                }\n",
       "            }, 500);\n",
       "            "
      ],
      "text/plain": [
       "<IPython.core.display.Javascript object>"
      ]
     },
     "metadata": {},
     "output_type": "display_data"
    }
   ],
   "source": [
    "@dataclass\n",
    "class Masks:\n",
    "    generic: str\n",
    "    zeros: int\n",
    "    ones: int\n",
    "\n",
    "\n",
    "class InitializationProgramBase:\n",
    "    def __init__(self) -> None:\n",
    "        \"\"\"Initialize needed variables.\"\"\"\n",
    "        self._splitter = re.compile(r\"(\\d+)\")\n",
    "        self._memory: Dict[int, int] = {}\n",
    "        self._masks = Masks(generic=\"\", zeros=0, ones=0)\n",
    "\n",
    "    def run(self, program: List[str]) -> int:\n",
    "        \"\"\"Execute masking from given program and return sum of memory values.\"\"\"\n",
    "        for line in program:\n",
    "            operation, argument = line.split(\" = \")\n",
    "            if operation == \"mask\":\n",
    "                self._masks.zeros = int(argument.replace(\"X\", \"1\"), 2)\n",
    "                self._masks.ones = int(argument.replace(\"X\", \"0\"), 2)\n",
    "                self._masks.generic = argument\n",
    "            else:\n",
    "                address, value = [int(x) for x in self._splitter.findall(line)]\n",
    "                self._apply_masking(address, value)\n",
    "        return sum(self._memory.values())\n",
    "\n",
    "    @abstractmethod\n",
    "    def _apply_masking(self, address: int, value: int) -> None:\n",
    "        \"\"\"Mask applier that should be implemented by subclass\"\"\"\n",
    "        raise NotImplementedError\n",
    "\n",
    "\n",
    "class SimpleInitializationProgram(InitializationProgramBase):\n",
    "    def _apply_masking(self, address: int, value: int) -> None:\n",
    "        \"\"\"Apply both masks and write value to memory\"\"\"\n",
    "        value &= self._masks.zeros\n",
    "        value |= self._masks.ones\n",
    "        self._memory[address] = value\n",
    "\n",
    "\n",
    "class FloatingInitializationProgram(InitializationProgramBase):\n",
    "    def _all_memory_addresses(self, address: int) -> Iterator[int]:\n",
    "        \"\"\"Generate all possible memory addresses.\"\"\"\n",
    "        address_36bit = f\"{address | self._masks.ones:b}\".zfill(36)\n",
    "        mask = self._masks.generic\n",
    "        for replacements in itertools.product(\"01\", repeat=mask.count(\"X\")):\n",
    "            it = iter(replacements)\n",
    "            result = [next(it) if a == \"X\" else b for a, b in zip(mask, address_36bit)]\n",
    "            yield int(\"\".join(result), 2)\n",
    "\n",
    "    def _apply_masking(self, address: int, value: int) -> None:\n",
    "        \"\"\"Add value to each generated address.\"\"\"\n",
    "        for new_address in self._all_memory_addresses(address):\n",
    "            self._memory[new_address] = value\n",
    "\n"
   ]
  },
  {
   "cell_type": "code",
   "execution_count": 55,
   "metadata": {},
   "outputs": [
    {
     "data": {
      "application/javascript": [
       "\n",
       "            setTimeout(function() {\n",
       "                var nbb_cell_id = 55;\n",
       "                var nbb_unformatted_code = \"def test_day_14() -> None:\\n    example = [\\n        \\\"mask = XXXXXXXXXXXXXXXXXXXXXXXXXXXXX1XXXX0X\\\",\\n        \\\"mem[8] = 11\\\",\\n        \\\"mem[7] = 101\\\",\\n        \\\"mem[8] = 0\\\",\\n    ]\\n    assert SimpleInitializationProgram().run(program=example) == 165\\n\\n    second_example = [\\n        \\\"mask = 000000000000000000000000000000X1001X\\\",\\n        \\\"mem[42] = 100\\\",\\n        \\\"mask = 00000000000000000000000000000000X0XX\\\",\\n        \\\"mem[26] = 1\\\",\\n    ]\\n    assert FloatingInitializationProgram().run(program=second_example) == 208\";\n",
       "                var nbb_formatted_code = \"def test_day_14() -> None:\\n    example = [\\n        \\\"mask = XXXXXXXXXXXXXXXXXXXXXXXXXXXXX1XXXX0X\\\",\\n        \\\"mem[8] = 11\\\",\\n        \\\"mem[7] = 101\\\",\\n        \\\"mem[8] = 0\\\",\\n    ]\\n    assert SimpleInitializationProgram().run(program=example) == 165\\n\\n    second_example = [\\n        \\\"mask = 000000000000000000000000000000X1001X\\\",\\n        \\\"mem[42] = 100\\\",\\n        \\\"mask = 00000000000000000000000000000000X0XX\\\",\\n        \\\"mem[26] = 1\\\",\\n    ]\\n    assert FloatingInitializationProgram().run(program=second_example) == 208\";\n",
       "                var nbb_cells = Jupyter.notebook.get_cells();\n",
       "                for (var i = 0; i < nbb_cells.length; ++i) {\n",
       "                    if (nbb_cells[i].input_prompt_number == nbb_cell_id) {\n",
       "                        if (nbb_cells[i].get_text() == nbb_unformatted_code) {\n",
       "                             nbb_cells[i].set_text(nbb_formatted_code);\n",
       "                        }\n",
       "                        break;\n",
       "                    }\n",
       "                }\n",
       "            }, 500);\n",
       "            "
      ],
      "text/plain": [
       "<IPython.core.display.Javascript object>"
      ]
     },
     "metadata": {},
     "output_type": "display_data"
    }
   ],
   "source": [
    "def test_day_14() -> None:\n",
    "    example = [\n",
    "        \"mask = XXXXXXXXXXXXXXXXXXXXXXXXXXXXX1XXXX0X\",\n",
    "        \"mem[8] = 11\",\n",
    "        \"mem[7] = 101\",\n",
    "        \"mem[8] = 0\",\n",
    "    ]\n",
    "    assert SimpleInitializationProgram().run(program=example) == 165\n",
    "\n",
    "    second_example = [\n",
    "        \"mask = 000000000000000000000000000000X1001X\",\n",
    "        \"mem[42] = 100\",\n",
    "        \"mask = 00000000000000000000000000000000X0XX\",\n",
    "        \"mem[26] = 1\",\n",
    "    ]\n",
    "    assert FloatingInitializationProgram().run(program=second_example) == 208"
   ]
  },
  {
   "cell_type": "code",
   "execution_count": 56,
   "metadata": {},
   "outputs": [
    {
     "data": {
      "application/javascript": [
       "\n",
       "            setTimeout(function() {\n",
       "                var nbb_cell_id = 56;\n",
       "                var nbb_unformatted_code = \"def day_14() -> Solution:\\n    puzzle_input = data_to_lines(day=14)\\n    return (\\n        SimpleInitializationProgram().run(program=puzzle_input),\\n        FloatingInitializationProgram().run(program=puzzle_input),\\n    )\";\n",
       "                var nbb_formatted_code = \"def day_14() -> Solution:\\n    puzzle_input = data_to_lines(day=14)\\n    return (\\n        SimpleInitializationProgram().run(program=puzzle_input),\\n        FloatingInitializationProgram().run(program=puzzle_input),\\n    )\";\n",
       "                var nbb_cells = Jupyter.notebook.get_cells();\n",
       "                for (var i = 0; i < nbb_cells.length; ++i) {\n",
       "                    if (nbb_cells[i].input_prompt_number == nbb_cell_id) {\n",
       "                        if (nbb_cells[i].get_text() == nbb_unformatted_code) {\n",
       "                             nbb_cells[i].set_text(nbb_formatted_code);\n",
       "                        }\n",
       "                        break;\n",
       "                    }\n",
       "                }\n",
       "            }, 500);\n",
       "            "
      ],
      "text/plain": [
       "<IPython.core.display.Javascript object>"
      ]
     },
     "metadata": {},
     "output_type": "display_data"
    }
   ],
   "source": [
    "def day_14() -> Solution:\n",
    "    puzzle_input = data_to_lines(day=14)\n",
    "    return (\n",
    "        SimpleInitializationProgram().run(program=puzzle_input),\n",
    "        FloatingInitializationProgram().run(program=puzzle_input),\n",
    "    )"
   ]
  },
  {
   "cell_type": "code",
   "execution_count": 57,
   "metadata": {
    "pycharm": {
     "name": "#%%\n"
    },
    "scrolled": false
   },
   "outputs": [
    {
     "name": "stdout",
     "output_type": "stream",
     "text": [
      "Part 1: 17765746710228\n",
      "Part 2: 4401465949086\n"
     ]
    },
    {
     "data": {
      "application/javascript": [
       "\n",
       "            setTimeout(function() {\n",
       "                var nbb_cell_id = 57;\n",
       "                var nbb_unformatted_code = \"test_day(14)\\nprint_day(14)\";\n",
       "                var nbb_formatted_code = \"test_day(14)\\nprint_day(14)\";\n",
       "                var nbb_cells = Jupyter.notebook.get_cells();\n",
       "                for (var i = 0; i < nbb_cells.length; ++i) {\n",
       "                    if (nbb_cells[i].input_prompt_number == nbb_cell_id) {\n",
       "                        if (nbb_cells[i].get_text() == nbb_unformatted_code) {\n",
       "                             nbb_cells[i].set_text(nbb_formatted_code);\n",
       "                        }\n",
       "                        break;\n",
       "                    }\n",
       "                }\n",
       "            }, 500);\n",
       "            "
      ],
      "text/plain": [
       "<IPython.core.display.Javascript object>"
      ]
     },
     "metadata": {},
     "output_type": "display_data"
    }
   ],
   "source": [
    "test_day(14)\n",
    "print_day(14)"
   ]
  },
  {
   "cell_type": "markdown",
   "metadata": {},
   "source": [
    "## Day 15\n",
    "\n",
    "**Task**: Play a game based on [Van Eck sequence](https://www.youtube.com/watch?v=etMJxB-igrc) and return $n$th number.\n",
    "\n",
    "Game defined in the puzzle is quite simple: it's best to use data structure that allows fast lookups for last index where number was seen. \n",
    "\n",
    "The problem here is that Van Eck sequence is unpredictable and, as far as I know, there's no algorithm to solve $n$:th number of the sequence without calculating previous $n-1$ numbers.\n",
    "I wasn't happy with basic cpython running time (around 7-8 seconds), but using numpy + numba gave some satisfying\n",
    "results."
   ]
  },
  {
   "cell_type": "code",
   "execution_count": 58,
   "metadata": {
    "pycharm": {
     "name": "#%%\n"
    }
   },
   "outputs": [
    {
     "data": {
      "application/javascript": [
       "\n",
       "            setTimeout(function() {\n",
       "                var nbb_cell_id = 58;\n",
       "                var nbb_unformatted_code = \"def solve_day_15(numbers: List[int]) -> Solution:\\n    @nb.njit\\n    def loop(seen: np.ndarray, turns: int, start: int, spoken: int) -> int:\\n        \\\"\\\"\\\"Run loop for n=turns times, sped up with numba.\\\"\\\"\\\"\\n        for turn in range(start, turns):\\n            last_seen = seen[spoken]\\n            seen[spoken] = turn\\n            spoken = last_seen if last_seen == 0 else turn - last_seen\\n        return spoken\\n\\n    def solve(turns) -> int:\\n        seen = np.zeros(turns, dtype=np.int32)\\n        for i, num in enumerate(numbers):\\n            seen[num] = i + 1\\n        return loop(seen, turns, start=len(numbers), spoken=numbers[-1])\\n\\n    return solve(turns=2020), solve(turns=30_000_000)\";\n",
       "                var nbb_formatted_code = \"def solve_day_15(numbers: List[int]) -> Solution:\\n    @nb.njit\\n    def loop(seen: np.ndarray, turns: int, start: int, spoken: int) -> int:\\n        \\\"\\\"\\\"Run loop for n=turns times, sped up with numba.\\\"\\\"\\\"\\n        for turn in range(start, turns):\\n            last_seen = seen[spoken]\\n            seen[spoken] = turn\\n            spoken = last_seen if last_seen == 0 else turn - last_seen\\n        return spoken\\n\\n    def solve(turns) -> int:\\n        seen = np.zeros(turns, dtype=np.int32)\\n        for i, num in enumerate(numbers):\\n            seen[num] = i + 1\\n        return loop(seen, turns, start=len(numbers), spoken=numbers[-1])\\n\\n    return solve(turns=2020), solve(turns=30_000_000)\";\n",
       "                var nbb_cells = Jupyter.notebook.get_cells();\n",
       "                for (var i = 0; i < nbb_cells.length; ++i) {\n",
       "                    if (nbb_cells[i].input_prompt_number == nbb_cell_id) {\n",
       "                        if (nbb_cells[i].get_text() == nbb_unformatted_code) {\n",
       "                             nbb_cells[i].set_text(nbb_formatted_code);\n",
       "                        }\n",
       "                        break;\n",
       "                    }\n",
       "                }\n",
       "            }, 500);\n",
       "            "
      ],
      "text/plain": [
       "<IPython.core.display.Javascript object>"
      ]
     },
     "metadata": {},
     "output_type": "display_data"
    }
   ],
   "source": [
    "def solve_day_15(numbers: List[int]) -> Solution:\n",
    "    @nb.njit\n",
    "    def loop(seen: np.ndarray, turns: int, start: int, spoken: int) -> int:\n",
    "        \"\"\"Run loop for n=turns times, sped up with numba.\"\"\"\n",
    "        for turn in range(start, turns):\n",
    "            last_seen = seen[spoken]\n",
    "            seen[spoken] = turn\n",
    "            spoken = last_seen if last_seen == 0 else turn - last_seen\n",
    "        return spoken\n",
    "\n",
    "    def solve(turns) -> int:\n",
    "        seen = np.zeros(turns, dtype=np.int32)\n",
    "        for i, num in enumerate(numbers):\n",
    "            seen[num] = i + 1\n",
    "        return loop(seen, turns, start=len(numbers), spoken=numbers[-1])\n",
    "\n",
    "    return solve(turns=2020), solve(turns=30_000_000)"
   ]
  },
  {
   "cell_type": "code",
   "execution_count": 59,
   "metadata": {},
   "outputs": [
    {
     "data": {
      "application/javascript": [
       "\n",
       "            setTimeout(function() {\n",
       "                var nbb_cell_id = 59;\n",
       "                var nbb_unformatted_code = \"def test_day_15() -> None:\\n    assert solve_day_15(numbers=[0, 3, 6]) == (436, 175594)\\n    assert solve_day_15(numbers=[2, 1, 3]) == (10, 3544142)\";\n",
       "                var nbb_formatted_code = \"def test_day_15() -> None:\\n    assert solve_day_15(numbers=[0, 3, 6]) == (436, 175594)\\n    assert solve_day_15(numbers=[2, 1, 3]) == (10, 3544142)\";\n",
       "                var nbb_cells = Jupyter.notebook.get_cells();\n",
       "                for (var i = 0; i < nbb_cells.length; ++i) {\n",
       "                    if (nbb_cells[i].input_prompt_number == nbb_cell_id) {\n",
       "                        if (nbb_cells[i].get_text() == nbb_unformatted_code) {\n",
       "                             nbb_cells[i].set_text(nbb_formatted_code);\n",
       "                        }\n",
       "                        break;\n",
       "                    }\n",
       "                }\n",
       "            }, 500);\n",
       "            "
      ],
      "text/plain": [
       "<IPython.core.display.Javascript object>"
      ]
     },
     "metadata": {},
     "output_type": "display_data"
    }
   ],
   "source": [
    "def test_day_15() -> None:\n",
    "    assert solve_day_15(numbers=[0, 3, 6]) == (436, 175594)\n",
    "    assert solve_day_15(numbers=[2, 1, 3]) == (10, 3544142)"
   ]
  },
  {
   "cell_type": "code",
   "execution_count": 60,
   "metadata": {},
   "outputs": [
    {
     "data": {
      "application/javascript": [
       "\n",
       "            setTimeout(function() {\n",
       "                var nbb_cell_id = 60;\n",
       "                var nbb_unformatted_code = \"def day_15() -> Solution:\\n    return solve_day_15(numbers=data_to_nums(day=15))\";\n",
       "                var nbb_formatted_code = \"def day_15() -> Solution:\\n    return solve_day_15(numbers=data_to_nums(day=15))\";\n",
       "                var nbb_cells = Jupyter.notebook.get_cells();\n",
       "                for (var i = 0; i < nbb_cells.length; ++i) {\n",
       "                    if (nbb_cells[i].input_prompt_number == nbb_cell_id) {\n",
       "                        if (nbb_cells[i].get_text() == nbb_unformatted_code) {\n",
       "                             nbb_cells[i].set_text(nbb_formatted_code);\n",
       "                        }\n",
       "                        break;\n",
       "                    }\n",
       "                }\n",
       "            }, 500);\n",
       "            "
      ],
      "text/plain": [
       "<IPython.core.display.Javascript object>"
      ]
     },
     "metadata": {},
     "output_type": "display_data"
    }
   ],
   "source": [
    "def day_15() -> Solution:\n",
    "    return solve_day_15(numbers=data_to_nums(day=15))"
   ]
  },
  {
   "cell_type": "code",
   "execution_count": 61,
   "metadata": {
    "pycharm": {
     "name": "#%%\n"
    },
    "scrolled": true
   },
   "outputs": [
    {
     "name": "stdout",
     "output_type": "stream",
     "text": [
      "Part 1: 1618\n",
      "Part 2: 548531\n"
     ]
    },
    {
     "data": {
      "application/javascript": [
       "\n",
       "            setTimeout(function() {\n",
       "                var nbb_cell_id = 61;\n",
       "                var nbb_unformatted_code = \"test_day(15)\\nprint_day(15)\";\n",
       "                var nbb_formatted_code = \"test_day(15)\\nprint_day(15)\";\n",
       "                var nbb_cells = Jupyter.notebook.get_cells();\n",
       "                for (var i = 0; i < nbb_cells.length; ++i) {\n",
       "                    if (nbb_cells[i].input_prompt_number == nbb_cell_id) {\n",
       "                        if (nbb_cells[i].get_text() == nbb_unformatted_code) {\n",
       "                             nbb_cells[i].set_text(nbb_formatted_code);\n",
       "                        }\n",
       "                        break;\n",
       "                    }\n",
       "                }\n",
       "            }, 500);\n",
       "            "
      ],
      "text/plain": [
       "<IPython.core.display.Javascript object>"
      ]
     },
     "metadata": {},
     "output_type": "display_data"
    }
   ],
   "source": [
    "test_day(15)\n",
    "print_day(15)"
   ]
  },
  {
   "cell_type": "markdown",
   "metadata": {},
   "source": [
    "## Day 16\n",
    "\n",
    "**Task**: Given a list of rules for ticket fields and some ticket examples, find out which rule corresponds to which field. Report error on invalid example tickets and values of some fields from your own ticket.\n",
    "\n",
    "This one required quite much of parsing, but was quite straight-forwardly solvable after getting setup right. Parsing is done in following order: get ranges in rules and make set\n",
    "of all allowed numbers (=numbers in ranges), then take all nearby tickets, check if ticket\n",
    "has only valid values and if it doesn't, add values to error_rate. This is how the answer\n",
    "to the first part is solved.\n",
    "\n",
    "Second part requires some matching: each field corresponds to some rule and there is one\n",
    "obvious way to do the matching. Therefor, [bipartite matching](https://en.wikipedia.org/wiki/Bipartite_graph) helps. One way to solve matching\n",
    "would be to format problem as graph and find graph's max flow. However, scipy already has\n",
    "good implementation, that takes a list of list of edges as an input."
   ]
  },
  {
   "cell_type": "code",
   "execution_count": 62,
   "metadata": {},
   "outputs": [
    {
     "data": {
      "application/javascript": [
       "\n",
       "            setTimeout(function() {\n",
       "                var nbb_cell_id = 62;\n",
       "                var nbb_unformatted_code = \"from scipy.sparse import csr_matrix\\nfrom scipy.sparse.csgraph import maximum_bipartite_matching\\n\\n\\n@dataclass\\nclass FieldRule:\\n    name: str\\n    ranges: List[int]\\n    position: Optional[int] = None\\n\\n\\nclass TicketParser:\\n    def __init__(self, notes: List[str]) -> None:\\n        \\\"\\\"\\\"Parse rules, my ticket and nearby tickets from original data.\\\"\\\"\\\"\\n        self._error_rate = 0\\n        self._rules: List[FieldRule] = []\\n        self._valid_values: Set[int] = set()\\n        self._nearby_tickets: List[List[int]] = []\\n\\n        raw_rules, raw_my_ticket, raw_nearby_tickets = notes\\n        self._parse_rules(raw_rules)\\n        self._parse_nearby_tickets(raw_nearby_tickets)\\n        self._match_field_nums_to_rules()\\n        self._my_ticket = self._parse_ticket(raw_ticket=raw_my_ticket.splitlines()[1])\\n\\n    @staticmethod\\n    def _parse_ticket(raw_ticket: str) -> List[int]:\\n        \\\"\\\"\\\"Parse values from single ticket\\\"\\\"\\\"\\n        return [int(x) for x in raw_ticket.split(\\\",\\\")]\\n\\n    def _parse_rules(self, raw_rules: str) -> None:\\n        \\\"\\\"\\\"Parse rule names and ranges from given rules and collect valid values to set.\\\"\\\"\\\"\\n        splitter = re.compile(r\\\"\\\\w+(?=:)|\\\\w+ \\\\w+(?=:)|\\\\d+\\\")\\n\\n        for raw_rule in raw_rules.splitlines():\\n            name, *ranges_raw = splitter.findall(raw_rule)\\n            ranges = [int(x) for x in ranges_raw]\\n            self._rules.append(FieldRule(name, ranges))\\n            self._valid_values |= set(\\n                (*range(ranges[0], ranges[1] + 1), *range(ranges[2], ranges[3] + 1))\\n            )\\n\\n    def _parse_nearby_tickets(self, raw_nearby_tickets: str) -> None:\\n        \\\"\\\"\\\"Parse nearby tickets and collect error rate from invalid tickets.\\\"\\\"\\\"\\n        for raw_ticket in raw_nearby_tickets.splitlines()[1:]:\\n            ticket = self._parse_ticket(raw_ticket)\\n            if all(value in self._valid_values for value in ticket):\\n                self._nearby_tickets.append(ticket)\\n            else:\\n                self._error_rate += sum(\\n                    value for value in ticket if value not in self._valid_values\\n                )\\n\\n    def _match_field_nums_to_rules(self) -> None:\\n        \\\"\\\"\\\"Create mapping from field number to rule name.\\\"\\\"\\\"\\n\\n        def valid_for_rule(rule: FieldRule, field: int) -> bool:\\n            \\\"\\\"\\\"Check if rule matches all fields at this position.\\\"\\\"\\\"\\n            a, b, c, d = rule.ranges\\n            return all(\\n                a <= t[field] <= b or c <= t[field] <= d for t in self._nearby_tickets\\n            )\\n\\n        potential_rules_per_position = [\\n            [valid_for_rule(rule, field=index) for rule in self._rules]\\n            for index, _ in enumerate(self._rules)\\n        ]\\n        positions = maximum_bipartite_matching(csr_matrix(potential_rules_per_position))\\n        for position, rule in zip(positions, self._rules):\\n            rule.position = position\\n\\n    @property\\n    def error_rate(self) -> int:\\n        \\\"\\\"\\\"Return answer to part one.\\\"\\\"\\\"\\n        return self._error_rate\\n\\n    def sum_of_departure_fields(self) -> int:\\n        \\\"\\\"\\\"Return answer to part two.\\\"\\\"\\\"\\n        names_per_position = {rule.position: rule.name for rule in self._rules}\\n        return math.prod(\\n            value\\n            for i, value in enumerate(self._my_ticket)\\n            if names_per_position[i].startswith(\\\"departure\\\")\\n        )\";\n",
       "                var nbb_formatted_code = \"from scipy.sparse import csr_matrix\\nfrom scipy.sparse.csgraph import maximum_bipartite_matching\\n\\n\\n@dataclass\\nclass FieldRule:\\n    name: str\\n    ranges: List[int]\\n    position: Optional[int] = None\\n\\n\\nclass TicketParser:\\n    def __init__(self, notes: List[str]) -> None:\\n        \\\"\\\"\\\"Parse rules, my ticket and nearby tickets from original data.\\\"\\\"\\\"\\n        self._error_rate = 0\\n        self._rules: List[FieldRule] = []\\n        self._valid_values: Set[int] = set()\\n        self._nearby_tickets: List[List[int]] = []\\n\\n        raw_rules, raw_my_ticket, raw_nearby_tickets = notes\\n        self._parse_rules(raw_rules)\\n        self._parse_nearby_tickets(raw_nearby_tickets)\\n        self._match_field_nums_to_rules()\\n        self._my_ticket = self._parse_ticket(raw_ticket=raw_my_ticket.splitlines()[1])\\n\\n    @staticmethod\\n    def _parse_ticket(raw_ticket: str) -> List[int]:\\n        \\\"\\\"\\\"Parse values from single ticket\\\"\\\"\\\"\\n        return [int(x) for x in raw_ticket.split(\\\",\\\")]\\n\\n    def _parse_rules(self, raw_rules: str) -> None:\\n        \\\"\\\"\\\"Parse rule names and ranges from given rules and collect valid values to set.\\\"\\\"\\\"\\n        splitter = re.compile(r\\\"\\\\w+(?=:)|\\\\w+ \\\\w+(?=:)|\\\\d+\\\")\\n\\n        for raw_rule in raw_rules.splitlines():\\n            name, *ranges_raw = splitter.findall(raw_rule)\\n            ranges = [int(x) for x in ranges_raw]\\n            self._rules.append(FieldRule(name, ranges))\\n            self._valid_values |= set(\\n                (*range(ranges[0], ranges[1] + 1), *range(ranges[2], ranges[3] + 1))\\n            )\\n\\n    def _parse_nearby_tickets(self, raw_nearby_tickets: str) -> None:\\n        \\\"\\\"\\\"Parse nearby tickets and collect error rate from invalid tickets.\\\"\\\"\\\"\\n        for raw_ticket in raw_nearby_tickets.splitlines()[1:]:\\n            ticket = self._parse_ticket(raw_ticket)\\n            if all(value in self._valid_values for value in ticket):\\n                self._nearby_tickets.append(ticket)\\n            else:\\n                self._error_rate += sum(\\n                    value for value in ticket if value not in self._valid_values\\n                )\\n\\n    def _match_field_nums_to_rules(self) -> None:\\n        \\\"\\\"\\\"Create mapping from field number to rule name.\\\"\\\"\\\"\\n\\n        def valid_for_rule(rule: FieldRule, field: int) -> bool:\\n            \\\"\\\"\\\"Check if rule matches all fields at this position.\\\"\\\"\\\"\\n            a, b, c, d = rule.ranges\\n            return all(\\n                a <= t[field] <= b or c <= t[field] <= d for t in self._nearby_tickets\\n            )\\n\\n        potential_rules_per_position = [\\n            [valid_for_rule(rule, field=index) for rule in self._rules]\\n            for index, _ in enumerate(self._rules)\\n        ]\\n        positions = maximum_bipartite_matching(csr_matrix(potential_rules_per_position))\\n        for position, rule in zip(positions, self._rules):\\n            rule.position = position\\n\\n    @property\\n    def error_rate(self) -> int:\\n        \\\"\\\"\\\"Return answer to part one.\\\"\\\"\\\"\\n        return self._error_rate\\n\\n    def sum_of_departure_fields(self) -> int:\\n        \\\"\\\"\\\"Return answer to part two.\\\"\\\"\\\"\\n        names_per_position = {rule.position: rule.name for rule in self._rules}\\n        return math.prod(\\n            value\\n            for i, value in enumerate(self._my_ticket)\\n            if names_per_position[i].startswith(\\\"departure\\\")\\n        )\";\n",
       "                var nbb_cells = Jupyter.notebook.get_cells();\n",
       "                for (var i = 0; i < nbb_cells.length; ++i) {\n",
       "                    if (nbb_cells[i].input_prompt_number == nbb_cell_id) {\n",
       "                        if (nbb_cells[i].get_text() == nbb_unformatted_code) {\n",
       "                             nbb_cells[i].set_text(nbb_formatted_code);\n",
       "                        }\n",
       "                        break;\n",
       "                    }\n",
       "                }\n",
       "            }, 500);\n",
       "            "
      ],
      "text/plain": [
       "<IPython.core.display.Javascript object>"
      ]
     },
     "metadata": {},
     "output_type": "display_data"
    }
   ],
   "source": [
    "from scipy.sparse import csr_matrix\n",
    "from scipy.sparse.csgraph import maximum_bipartite_matching\n",
    "\n",
    "\n",
    "@dataclass\n",
    "class FieldRule:\n",
    "    name: str\n",
    "    ranges: List[int]\n",
    "    position: Optional[int] = None\n",
    "\n",
    "\n",
    "class TicketParser:\n",
    "    def __init__(self, notes: List[str]) -> None:\n",
    "        \"\"\"Parse rules, my ticket and nearby tickets from original data.\"\"\"\n",
    "        self._error_rate = 0\n",
    "        self._rules: List[FieldRule] = []\n",
    "        self._valid_values: Set[int] = set()\n",
    "        self._nearby_tickets: List[List[int]] = []\n",
    "\n",
    "        raw_rules, raw_my_ticket, raw_nearby_tickets = notes\n",
    "        self._parse_rules(raw_rules)\n",
    "        self._parse_nearby_tickets(raw_nearby_tickets)\n",
    "        self._match_field_nums_to_rules()\n",
    "        self._my_ticket = self._parse_ticket(raw_ticket=raw_my_ticket.splitlines()[1])\n",
    "\n",
    "    @staticmethod\n",
    "    def _parse_ticket(raw_ticket: str) -> List[int]:\n",
    "        \"\"\"Parse values from single ticket\"\"\"\n",
    "        return [int(x) for x in raw_ticket.split(\",\")]\n",
    "\n",
    "    def _parse_rules(self, raw_rules: str) -> None:\n",
    "        \"\"\"Parse rule names and ranges from given rules and collect valid values to set.\"\"\"\n",
    "        splitter = re.compile(r\"\\w+(?=:)|\\w+ \\w+(?=:)|\\d+\")\n",
    "\n",
    "        for raw_rule in raw_rules.splitlines():\n",
    "            name, *ranges_raw = splitter.findall(raw_rule)\n",
    "            ranges = [int(x) for x in ranges_raw]\n",
    "            self._rules.append(FieldRule(name, ranges))\n",
    "            self._valid_values |= set(\n",
    "                (*range(ranges[0], ranges[1] + 1), *range(ranges[2], ranges[3] + 1))\n",
    "            )\n",
    "\n",
    "    def _parse_nearby_tickets(self, raw_nearby_tickets: str) -> None:\n",
    "        \"\"\"Parse nearby tickets and collect error rate from invalid tickets.\"\"\"\n",
    "        for raw_ticket in raw_nearby_tickets.splitlines()[1:]:\n",
    "            ticket = self._parse_ticket(raw_ticket)\n",
    "            if all(value in self._valid_values for value in ticket):\n",
    "                self._nearby_tickets.append(ticket)\n",
    "            else:\n",
    "                self._error_rate += sum(\n",
    "                    value for value in ticket if value not in self._valid_values\n",
    "                )\n",
    "\n",
    "    def _match_field_nums_to_rules(self) -> None:\n",
    "        \"\"\"Create mapping from field number to rule name.\"\"\"\n",
    "\n",
    "        def valid_for_rule(rule: FieldRule, field: int) -> bool:\n",
    "            \"\"\"Check if rule matches all fields at this position.\"\"\"\n",
    "            a, b, c, d = rule.ranges\n",
    "            return all(\n",
    "                a <= t[field] <= b or c <= t[field] <= d for t in self._nearby_tickets\n",
    "            )\n",
    "\n",
    "        potential_rules_per_position = [\n",
    "            [valid_for_rule(rule, field=index) for rule in self._rules]\n",
    "            for index, _ in enumerate(self._rules)\n",
    "        ]\n",
    "        positions = maximum_bipartite_matching(csr_matrix(potential_rules_per_position))\n",
    "        for position, rule in zip(positions, self._rules):\n",
    "            rule.position = position\n",
    "\n",
    "    @property\n",
    "    def error_rate(self) -> int:\n",
    "        \"\"\"Return answer to part one.\"\"\"\n",
    "        return self._error_rate\n",
    "\n",
    "    def sum_of_departure_fields(self) -> int:\n",
    "        \"\"\"Return answer to part two.\"\"\"\n",
    "        names_per_position = {rule.position: rule.name for rule in self._rules}\n",
    "        return math.prod(\n",
    "            value\n",
    "            for i, value in enumerate(self._my_ticket)\n",
    "            if names_per_position[i].startswith(\"departure\")\n",
    "        )"
   ]
  },
  {
   "cell_type": "code",
   "execution_count": 63,
   "metadata": {},
   "outputs": [
    {
     "data": {
      "application/javascript": [
       "\n",
       "            setTimeout(function() {\n",
       "                var nbb_cell_id = 63;\n",
       "                var nbb_unformatted_code = \"def test_day_16() -> None:\\n\\n    example = [\\n        \\\"class: 1-3 or 5-7\\\\nrow: 6-11 or 33-44\\\\nseat: 13-40 or 45-50\\\",\\n        \\\"your ticket:\\\\n7,1,14\\\",\\n        \\\"nearby tickets:\\\\n7,3,47\\\\n40,4,50\\\\n55,2,20\\\\n38,6,12\\\",\\n    ]\\n\\n    parser = TicketParser(notes=example)\\n    assert parser.error_rate == 71\\n\\n    second_example = [\\n        \\\"class: 0-1 or 4-19\\\\nrow: 0-5 or 8-19\\\\nseat: 0-13 or 16-19\\\",\\n        \\\"your ticket:\\\\n11,12,13\\\",\\n        \\\"nearby tickets:\\\\n3,9,18\\\\n15,1,5\\\\n5,14,9\\\",\\n    ]\\n    second_parser = TicketParser(notes=second_example)\\n    # Test that class (first in list) has second pos, row has first and seat has third.\\n    assert second_parser._rules[0].position == 1\\n    assert second_parser._rules[1].position == 0\\n    assert second_parser._rules[2].position == 2\";\n",
       "                var nbb_formatted_code = \"def test_day_16() -> None:\\n\\n    example = [\\n        \\\"class: 1-3 or 5-7\\\\nrow: 6-11 or 33-44\\\\nseat: 13-40 or 45-50\\\",\\n        \\\"your ticket:\\\\n7,1,14\\\",\\n        \\\"nearby tickets:\\\\n7,3,47\\\\n40,4,50\\\\n55,2,20\\\\n38,6,12\\\",\\n    ]\\n\\n    parser = TicketParser(notes=example)\\n    assert parser.error_rate == 71\\n\\n    second_example = [\\n        \\\"class: 0-1 or 4-19\\\\nrow: 0-5 or 8-19\\\\nseat: 0-13 or 16-19\\\",\\n        \\\"your ticket:\\\\n11,12,13\\\",\\n        \\\"nearby tickets:\\\\n3,9,18\\\\n15,1,5\\\\n5,14,9\\\",\\n    ]\\n    second_parser = TicketParser(notes=second_example)\\n    # Test that class (first in list) has second pos, row has first and seat has third.\\n    assert second_parser._rules[0].position == 1\\n    assert second_parser._rules[1].position == 0\\n    assert second_parser._rules[2].position == 2\";\n",
       "                var nbb_cells = Jupyter.notebook.get_cells();\n",
       "                for (var i = 0; i < nbb_cells.length; ++i) {\n",
       "                    if (nbb_cells[i].input_prompt_number == nbb_cell_id) {\n",
       "                        if (nbb_cells[i].get_text() == nbb_unformatted_code) {\n",
       "                             nbb_cells[i].set_text(nbb_formatted_code);\n",
       "                        }\n",
       "                        break;\n",
       "                    }\n",
       "                }\n",
       "            }, 500);\n",
       "            "
      ],
      "text/plain": [
       "<IPython.core.display.Javascript object>"
      ]
     },
     "metadata": {},
     "output_type": "display_data"
    }
   ],
   "source": [
    "def test_day_16() -> None:\n",
    "\n",
    "    example = [\n",
    "        \"class: 1-3 or 5-7\\nrow: 6-11 or 33-44\\nseat: 13-40 or 45-50\",\n",
    "        \"your ticket:\\n7,1,14\",\n",
    "        \"nearby tickets:\\n7,3,47\\n40,4,50\\n55,2,20\\n38,6,12\",\n",
    "    ]\n",
    "\n",
    "    parser = TicketParser(notes=example)\n",
    "    assert parser.error_rate == 71\n",
    "\n",
    "    second_example = [\n",
    "        \"class: 0-1 or 4-19\\nrow: 0-5 or 8-19\\nseat: 0-13 or 16-19\",\n",
    "        \"your ticket:\\n11,12,13\",\n",
    "        \"nearby tickets:\\n3,9,18\\n15,1,5\\n5,14,9\",\n",
    "    ]\n",
    "    second_parser = TicketParser(notes=second_example)\n",
    "    # Test that class (first in list) has second pos, row has first and seat has third.\n",
    "    assert second_parser._rules[0].position == 1\n",
    "    assert second_parser._rules[1].position == 0\n",
    "    assert second_parser._rules[2].position == 2"
   ]
  },
  {
   "cell_type": "code",
   "execution_count": 64,
   "metadata": {},
   "outputs": [
    {
     "data": {
      "application/javascript": [
       "\n",
       "            setTimeout(function() {\n",
       "                var nbb_cell_id = 64;\n",
       "                var nbb_unformatted_code = \"def day_16() -> Solution:\\n    puzzle_input = data_to_blocks(day=16)\\n    parser = TicketParser(notes=puzzle_input)\\n    return parser.error_rate, parser.sum_of_departure_fields()\";\n",
       "                var nbb_formatted_code = \"def day_16() -> Solution:\\n    puzzle_input = data_to_blocks(day=16)\\n    parser = TicketParser(notes=puzzle_input)\\n    return parser.error_rate, parser.sum_of_departure_fields()\";\n",
       "                var nbb_cells = Jupyter.notebook.get_cells();\n",
       "                for (var i = 0; i < nbb_cells.length; ++i) {\n",
       "                    if (nbb_cells[i].input_prompt_number == nbb_cell_id) {\n",
       "                        if (nbb_cells[i].get_text() == nbb_unformatted_code) {\n",
       "                             nbb_cells[i].set_text(nbb_formatted_code);\n",
       "                        }\n",
       "                        break;\n",
       "                    }\n",
       "                }\n",
       "            }, 500);\n",
       "            "
      ],
      "text/plain": [
       "<IPython.core.display.Javascript object>"
      ]
     },
     "metadata": {},
     "output_type": "display_data"
    }
   ],
   "source": [
    "def day_16() -> Solution:\n",
    "    puzzle_input = data_to_blocks(day=16)\n",
    "    parser = TicketParser(notes=puzzle_input)\n",
    "    return parser.error_rate, parser.sum_of_departure_fields()"
   ]
  },
  {
   "cell_type": "code",
   "execution_count": 65,
   "metadata": {},
   "outputs": [
    {
     "name": "stdout",
     "output_type": "stream",
     "text": [
      "Part 1: 20060\n",
      "Part 2: 2843534243843\n"
     ]
    },
    {
     "data": {
      "application/javascript": [
       "\n",
       "            setTimeout(function() {\n",
       "                var nbb_cell_id = 65;\n",
       "                var nbb_unformatted_code = \"test_day(16)\\nprint_day(16)\";\n",
       "                var nbb_formatted_code = \"test_day(16)\\nprint_day(16)\";\n",
       "                var nbb_cells = Jupyter.notebook.get_cells();\n",
       "                for (var i = 0; i < nbb_cells.length; ++i) {\n",
       "                    if (nbb_cells[i].input_prompt_number == nbb_cell_id) {\n",
       "                        if (nbb_cells[i].get_text() == nbb_unformatted_code) {\n",
       "                             nbb_cells[i].set_text(nbb_formatted_code);\n",
       "                        }\n",
       "                        break;\n",
       "                    }\n",
       "                }\n",
       "            }, 500);\n",
       "            "
      ],
      "text/plain": [
       "<IPython.core.display.Javascript object>"
      ]
     },
     "metadata": {},
     "output_type": "display_data"
    }
   ],
   "source": [
    "test_day(16)\n",
    "print_day(16)"
   ]
  },
  {
   "cell_type": "markdown",
   "metadata": {},
   "source": [
    "## Day 17\n",
    "\n",
    "**Task**: Simulate [Conway's Game of life](https://en.wikipedia.org/wiki/Conway%27s_Game_of_Life), but in three and four dimensions.\n",
    "\n",
    "Just like in day 11, this puzzle is a cellular automaton. Difference here is that a) grid is not limited, \n",
    "b) there are more than two dimensions and c) amount of round is given. \n",
    "\n",
    "Otherwise, same idea applies: get next generation based on given rules and make calculating neighbours efficient. \n",
    "Using sets as a way to represent points shines here, since looping through 4 dimension tables will be quite slow."
   ]
  },
  {
   "cell_type": "code",
   "execution_count": 66,
   "metadata": {
    "pycharm": {
     "name": "#%%\n"
    }
   },
   "outputs": [
    {
     "data": {
      "application/javascript": [
       "\n",
       "            setTimeout(function() {\n",
       "                var nbb_cell_id = 66;\n",
       "                var nbb_unformatted_code = \"Cell = Tuple[int, ...]\\n\\n\\nclass GameOfLife:\\n    def __init__(self, lines: List[str], dimensions: int) -> None:\\n        \\\"\\\"\\\"Initialize cells, directions and amount of boot rounds.\\\"\\\"\\\"\\n        self.cells = self.initial_cells(lines, dimensions)\\n        self.directions = [\\n            direction\\n            for direction in itertools.product((-1, 0, 1), repeat=dimensions)\\n            if direction != tuple(0 for _ in range(dimensions))\\n        ]\\n        self._boot_cycle = 6\\n\\n    @staticmethod\\n    def initial_cells(lines: List[str], dimensions: int) -> Set[Cell]:\\n        \\\"\\\"\\\"Get n-dimensional cells from given input.\\\"\\\"\\\"\\n        h, w = len(lines), len(lines[0])\\n        return {\\n            (x, y, *(0 for _ in range(dimensions - 2)))\\n            for y in range(h)\\n            for x in range(w)\\n            if lines[y][x] == \\\"#\\\"\\n        }\\n\\n    def run(self) -> int:\\n        \\\"\\\"\\\"Run automaton for n=boot cycle times.\\\"\\\"\\\"\\n        for _ in range(self._boot_cycle):\\n            self.cells = self.next_generation()\\n        return len(self.cells)\\n\\n    def next_generation(self) -> Set[Cell]:\\n        \\\"\\\"\\\"Get set of cells in next generation\\\"\\\"\\\"\\n        return {\\n            cell\\n            for cell, count in Counter(self.get_neighbours()).items()\\n            if self.becomes_active(cell=cell, count=count)\\n        }\\n\\n    def becomes_active(self, cell: Cell, count: int) -> bool:\\n        \\\"\\\"\\\"Check next status against game of life rules.\\\"\\\"\\\"\\n        return count == 3 or (count == 2 and cell in self.cells)\\n\\n    def get_neighbours(self) -> Iterator[Cell]:\\n        \\\"\\\"\\\"Calculate all neighbours for cell\\\"\\\"\\\"\\n        return itertools.chain.from_iterable(\\n            [self.get_neighbour(cell, direction) for direction in self.directions]\\n            for cell in self.cells\\n        )\\n\\n    @staticmethod\\n    def get_neighbour(cell: Cell, direction: Cell) -> Cell:\\n        \\\"\\\"\\\"Return sum cell and direction, i.e. neighbour.\\\"\\\"\\\"\\n        return tuple(a + b for a, b in zip(cell, direction))\";\n",
       "                var nbb_formatted_code = \"Cell = Tuple[int, ...]\\n\\n\\nclass GameOfLife:\\n    def __init__(self, lines: List[str], dimensions: int) -> None:\\n        \\\"\\\"\\\"Initialize cells, directions and amount of boot rounds.\\\"\\\"\\\"\\n        self.cells = self.initial_cells(lines, dimensions)\\n        self.directions = [\\n            direction\\n            for direction in itertools.product((-1, 0, 1), repeat=dimensions)\\n            if direction != tuple(0 for _ in range(dimensions))\\n        ]\\n        self._boot_cycle = 6\\n\\n    @staticmethod\\n    def initial_cells(lines: List[str], dimensions: int) -> Set[Cell]:\\n        \\\"\\\"\\\"Get n-dimensional cells from given input.\\\"\\\"\\\"\\n        h, w = len(lines), len(lines[0])\\n        return {\\n            (x, y, *(0 for _ in range(dimensions - 2)))\\n            for y in range(h)\\n            for x in range(w)\\n            if lines[y][x] == \\\"#\\\"\\n        }\\n\\n    def run(self) -> int:\\n        \\\"\\\"\\\"Run automaton for n=boot cycle times.\\\"\\\"\\\"\\n        for _ in range(self._boot_cycle):\\n            self.cells = self.next_generation()\\n        return len(self.cells)\\n\\n    def next_generation(self) -> Set[Cell]:\\n        \\\"\\\"\\\"Get set of cells in next generation\\\"\\\"\\\"\\n        return {\\n            cell\\n            for cell, count in Counter(self.get_neighbours()).items()\\n            if self.becomes_active(cell=cell, count=count)\\n        }\\n\\n    def becomes_active(self, cell: Cell, count: int) -> bool:\\n        \\\"\\\"\\\"Check next status against game of life rules.\\\"\\\"\\\"\\n        return count == 3 or (count == 2 and cell in self.cells)\\n\\n    def get_neighbours(self) -> Iterator[Cell]:\\n        \\\"\\\"\\\"Calculate all neighbours for cell\\\"\\\"\\\"\\n        return itertools.chain.from_iterable(\\n            [self.get_neighbour(cell, direction) for direction in self.directions]\\n            for cell in self.cells\\n        )\\n\\n    @staticmethod\\n    def get_neighbour(cell: Cell, direction: Cell) -> Cell:\\n        \\\"\\\"\\\"Return sum cell and direction, i.e. neighbour.\\\"\\\"\\\"\\n        return tuple(a + b for a, b in zip(cell, direction))\";\n",
       "                var nbb_cells = Jupyter.notebook.get_cells();\n",
       "                for (var i = 0; i < nbb_cells.length; ++i) {\n",
       "                    if (nbb_cells[i].input_prompt_number == nbb_cell_id) {\n",
       "                        if (nbb_cells[i].get_text() == nbb_unformatted_code) {\n",
       "                             nbb_cells[i].set_text(nbb_formatted_code);\n",
       "                        }\n",
       "                        break;\n",
       "                    }\n",
       "                }\n",
       "            }, 500);\n",
       "            "
      ],
      "text/plain": [
       "<IPython.core.display.Javascript object>"
      ]
     },
     "metadata": {},
     "output_type": "display_data"
    }
   ],
   "source": [
    "Cell = Tuple[int, ...]\n",
    "\n",
    "\n",
    "class GameOfLife:\n",
    "    def __init__(self, lines: List[str], dimensions: int) -> None:\n",
    "        \"\"\"Initialize cells, directions and amount of boot rounds.\"\"\"\n",
    "        self.cells = self.initial_cells(lines, dimensions)\n",
    "        self.directions = [\n",
    "            direction\n",
    "            for direction in itertools.product((-1, 0, 1), repeat=dimensions)\n",
    "            if direction != tuple(0 for _ in range(dimensions))\n",
    "        ]\n",
    "        self._boot_cycle = 6\n",
    "\n",
    "    @staticmethod\n",
    "    def initial_cells(lines: List[str], dimensions: int) -> Set[Cell]:\n",
    "        \"\"\"Get n-dimensional cells from given input.\"\"\"\n",
    "        h, w = len(lines), len(lines[0])\n",
    "        return {\n",
    "            (x, y, *(0 for _ in range(dimensions - 2)))\n",
    "            for y in range(h)\n",
    "            for x in range(w)\n",
    "            if lines[y][x] == \"#\"\n",
    "        }\n",
    "\n",
    "    def run(self) -> int:\n",
    "        \"\"\"Run automaton for n=boot cycle times.\"\"\"\n",
    "        for _ in range(self._boot_cycle):\n",
    "            self.cells = self.next_generation()\n",
    "        return len(self.cells)\n",
    "\n",
    "    def next_generation(self) -> Set[Cell]:\n",
    "        \"\"\"Get set of cells in next generation\"\"\"\n",
    "        return {\n",
    "            cell\n",
    "            for cell, count in Counter(self.get_neighbours()).items()\n",
    "            if self.becomes_active(cell=cell, count=count)\n",
    "        }\n",
    "\n",
    "    def becomes_active(self, cell: Cell, count: int) -> bool:\n",
    "        \"\"\"Check next status against game of life rules.\"\"\"\n",
    "        return count == 3 or (count == 2 and cell in self.cells)\n",
    "\n",
    "    def get_neighbours(self) -> Iterator[Cell]:\n",
    "        \"\"\"Calculate all neighbours for cell\"\"\"\n",
    "        return itertools.chain.from_iterable(\n",
    "            [self.get_neighbour(cell, direction) for direction in self.directions]\n",
    "            for cell in self.cells\n",
    "        )\n",
    "\n",
    "    @staticmethod\n",
    "    def get_neighbour(cell: Cell, direction: Cell) -> Cell:\n",
    "        \"\"\"Return sum cell and direction, i.e. neighbour.\"\"\"\n",
    "        return tuple(a + b for a, b in zip(cell, direction))"
   ]
  },
  {
   "cell_type": "code",
   "execution_count": 67,
   "metadata": {},
   "outputs": [
    {
     "data": {
      "application/javascript": [
       "\n",
       "            setTimeout(function() {\n",
       "                var nbb_cell_id = 67;\n",
       "                var nbb_unformatted_code = \"def test_day_17() -> None:\\n    example = [\\\".#.\\\", \\\"..#\\\", \\\"###\\\"]\\n    assert GameOfLife(lines=example, dimensions=3).run() == 112\\n    assert GameOfLife(lines=example, dimensions=4).run() == 848\";\n",
       "                var nbb_formatted_code = \"def test_day_17() -> None:\\n    example = [\\\".#.\\\", \\\"..#\\\", \\\"###\\\"]\\n    assert GameOfLife(lines=example, dimensions=3).run() == 112\\n    assert GameOfLife(lines=example, dimensions=4).run() == 848\";\n",
       "                var nbb_cells = Jupyter.notebook.get_cells();\n",
       "                for (var i = 0; i < nbb_cells.length; ++i) {\n",
       "                    if (nbb_cells[i].input_prompt_number == nbb_cell_id) {\n",
       "                        if (nbb_cells[i].get_text() == nbb_unformatted_code) {\n",
       "                             nbb_cells[i].set_text(nbb_formatted_code);\n",
       "                        }\n",
       "                        break;\n",
       "                    }\n",
       "                }\n",
       "            }, 500);\n",
       "            "
      ],
      "text/plain": [
       "<IPython.core.display.Javascript object>"
      ]
     },
     "metadata": {},
     "output_type": "display_data"
    }
   ],
   "source": [
    "def test_day_17() -> None:\n",
    "    example = [\".#.\", \"..#\", \"###\"]\n",
    "    assert GameOfLife(lines=example, dimensions=3).run() == 112\n",
    "    assert GameOfLife(lines=example, dimensions=4).run() == 848"
   ]
  },
  {
   "cell_type": "code",
   "execution_count": 68,
   "metadata": {},
   "outputs": [
    {
     "data": {
      "application/javascript": [
       "\n",
       "            setTimeout(function() {\n",
       "                var nbb_cell_id = 68;\n",
       "                var nbb_unformatted_code = \"def day_17() -> Solution:\\n    puzzle_input = data_to_lines(day=17)\\n    return (\\n        GameOfLife(lines=puzzle_input, dimensions=3).run(),\\n        GameOfLife(lines=puzzle_input, dimensions=4).run(),\\n    )\";\n",
       "                var nbb_formatted_code = \"def day_17() -> Solution:\\n    puzzle_input = data_to_lines(day=17)\\n    return (\\n        GameOfLife(lines=puzzle_input, dimensions=3).run(),\\n        GameOfLife(lines=puzzle_input, dimensions=4).run(),\\n    )\";\n",
       "                var nbb_cells = Jupyter.notebook.get_cells();\n",
       "                for (var i = 0; i < nbb_cells.length; ++i) {\n",
       "                    if (nbb_cells[i].input_prompt_number == nbb_cell_id) {\n",
       "                        if (nbb_cells[i].get_text() == nbb_unformatted_code) {\n",
       "                             nbb_cells[i].set_text(nbb_formatted_code);\n",
       "                        }\n",
       "                        break;\n",
       "                    }\n",
       "                }\n",
       "            }, 500);\n",
       "            "
      ],
      "text/plain": [
       "<IPython.core.display.Javascript object>"
      ]
     },
     "metadata": {},
     "output_type": "display_data"
    }
   ],
   "source": [
    "def day_17() -> Solution:\n",
    "    puzzle_input = data_to_lines(day=17)\n",
    "    return (\n",
    "        GameOfLife(lines=puzzle_input, dimensions=3).run(),\n",
    "        GameOfLife(lines=puzzle_input, dimensions=4).run(),\n",
    "    )"
   ]
  },
  {
   "cell_type": "code",
   "execution_count": 69,
   "metadata": {
    "pycharm": {
     "name": "#%%\n"
    },
    "scrolled": false
   },
   "outputs": [
    {
     "name": "stdout",
     "output_type": "stream",
     "text": [
      "Part 1: 368\n",
      "Part 2: 2696\n"
     ]
    },
    {
     "data": {
      "application/javascript": [
       "\n",
       "            setTimeout(function() {\n",
       "                var nbb_cell_id = 69;\n",
       "                var nbb_unformatted_code = \"test_day(17)\\nprint_day(17)\";\n",
       "                var nbb_formatted_code = \"test_day(17)\\nprint_day(17)\";\n",
       "                var nbb_cells = Jupyter.notebook.get_cells();\n",
       "                for (var i = 0; i < nbb_cells.length; ++i) {\n",
       "                    if (nbb_cells[i].input_prompt_number == nbb_cell_id) {\n",
       "                        if (nbb_cells[i].get_text() == nbb_unformatted_code) {\n",
       "                             nbb_cells[i].set_text(nbb_formatted_code);\n",
       "                        }\n",
       "                        break;\n",
       "                    }\n",
       "                }\n",
       "            }, 500);\n",
       "            "
      ],
      "text/plain": [
       "<IPython.core.display.Javascript object>"
      ]
     },
     "metadata": {},
     "output_type": "display_data"
    }
   ],
   "source": [
    "test_day(17)\n",
    "print_day(17)"
   ]
  },
  {
   "cell_type": "markdown",
   "metadata": {},
   "source": [
    "## Day 18\n",
    "\n",
    "**Task**: Calculate bunch of expressions according to weird math rules. \n",
    "\n",
    "After some amount of googling if changing operator presedence would be possible in python (not easy or even possible), I decided to uses regexes to evaluate expressions in certain order. Method `run` searches for expressions inside parentheses, evaluates expressions (according to rules in part one / two) and replaces expression with evaluated answer. If there's parentheses inside parentheses, recursion goes a level deeper. \n",
    "\n",
    "Answer is found by just summing up everything together."
   ]
  },
  {
   "cell_type": "code",
   "execution_count": 70,
   "metadata": {
    "pycharm": {
     "name": "#%%\n"
    }
   },
   "outputs": [
    {
     "data": {
      "application/javascript": [
       "\n",
       "            setTimeout(function() {\n",
       "                var nbb_cell_id = 70;\n",
       "                var nbb_unformatted_code = \"@dataclass\\nclass Evaluator:\\n    mode: Literal[\\\"same presedence\\\", \\\"addition first\\\"] = \\\"same presedence\\\"\\n    parentheses = re.compile(r\\\"(\\\\([^\\\\(\\\\)]*\\\\))\\\")\\n    add_or_mul = re.compile(r\\\"\\\\d+ [\\\\+*] \\\\d+\\\")\\n    add = re.compile(r\\\"\\\\d+ [\\\\+] \\\\d+\\\")\\n    mul = re.compile(r\\\"\\\\d+ [\\\\*] \\\\d+\\\")\\n\\n    def _run(self, line: str) -> int:\\n        \\\"\\\"\\\"Evaluate single line recursively.\\\"\\\"\\\"\\n        while expr := self.parentheses.search(line):\\n            inner_expr = expr[0][1:-1]\\n            line = self.parentheses.sub(str(self._run(inner_expr)), line, count=1)\\n        if self.mode == \\\"same presedence\\\":\\n            while expr := self.add_or_mul.search(line):\\n                line = self.add_or_mul.sub(str(eval(expr[0])), line, count=1)\\n        else:\\n            while expr := self.add.search(line):\\n                line = self.add.sub(str(eval(expr[0])), line, count=1)\\n            while expr := self.mul.search(line):\\n                line = self.mul.sub(str(eval(expr[0])), line, count=1)\\n        return int(line)\\n\\n    def run_all(self, lines: List[str]) -> int:\\n        \\\"\\\"\\\"Evaluate each line of the homework.\\\"\\\"\\\"\\n        return sum(self._run(line) for line in lines)\";\n",
       "                var nbb_formatted_code = \"@dataclass\\nclass Evaluator:\\n    mode: Literal[\\\"same presedence\\\", \\\"addition first\\\"] = \\\"same presedence\\\"\\n    parentheses = re.compile(r\\\"(\\\\([^\\\\(\\\\)]*\\\\))\\\")\\n    add_or_mul = re.compile(r\\\"\\\\d+ [\\\\+*] \\\\d+\\\")\\n    add = re.compile(r\\\"\\\\d+ [\\\\+] \\\\d+\\\")\\n    mul = re.compile(r\\\"\\\\d+ [\\\\*] \\\\d+\\\")\\n\\n    def _run(self, line: str) -> int:\\n        \\\"\\\"\\\"Evaluate single line recursively.\\\"\\\"\\\"\\n        while expr := self.parentheses.search(line):\\n            inner_expr = expr[0][1:-1]\\n            line = self.parentheses.sub(str(self._run(inner_expr)), line, count=1)\\n        if self.mode == \\\"same presedence\\\":\\n            while expr := self.add_or_mul.search(line):\\n                line = self.add_or_mul.sub(str(eval(expr[0])), line, count=1)\\n        else:\\n            while expr := self.add.search(line):\\n                line = self.add.sub(str(eval(expr[0])), line, count=1)\\n            while expr := self.mul.search(line):\\n                line = self.mul.sub(str(eval(expr[0])), line, count=1)\\n        return int(line)\\n\\n    def run_all(self, lines: List[str]) -> int:\\n        \\\"\\\"\\\"Evaluate each line of the homework.\\\"\\\"\\\"\\n        return sum(self._run(line) for line in lines)\";\n",
       "                var nbb_cells = Jupyter.notebook.get_cells();\n",
       "                for (var i = 0; i < nbb_cells.length; ++i) {\n",
       "                    if (nbb_cells[i].input_prompt_number == nbb_cell_id) {\n",
       "                        if (nbb_cells[i].get_text() == nbb_unformatted_code) {\n",
       "                             nbb_cells[i].set_text(nbb_formatted_code);\n",
       "                        }\n",
       "                        break;\n",
       "                    }\n",
       "                }\n",
       "            }, 500);\n",
       "            "
      ],
      "text/plain": [
       "<IPython.core.display.Javascript object>"
      ]
     },
     "metadata": {},
     "output_type": "display_data"
    }
   ],
   "source": [
    "@dataclass\n",
    "class Evaluator:\n",
    "    mode: Literal[\"same presedence\", \"addition first\"] = \"same presedence\"\n",
    "    parentheses = re.compile(r\"(\\([^\\(\\)]*\\))\")\n",
    "    add_or_mul = re.compile(r\"\\d+ [\\+*] \\d+\")\n",
    "    add = re.compile(r\"\\d+ [\\+] \\d+\")\n",
    "    mul = re.compile(r\"\\d+ [\\*] \\d+\")\n",
    "\n",
    "    def _run(self, line: str) -> int:\n",
    "        \"\"\"Evaluate single line recursively.\"\"\"\n",
    "        while expr := self.parentheses.search(line):\n",
    "            inner_expr = expr[0][1:-1]\n",
    "            line = self.parentheses.sub(str(self._run(inner_expr)), line, count=1)\n",
    "        if self.mode == \"same presedence\":\n",
    "            while expr := self.add_or_mul.search(line):\n",
    "                line = self.add_or_mul.sub(str(eval(expr[0])), line, count=1)\n",
    "        else:\n",
    "            while expr := self.add.search(line):\n",
    "                line = self.add.sub(str(eval(expr[0])), line, count=1)\n",
    "            while expr := self.mul.search(line):\n",
    "                line = self.mul.sub(str(eval(expr[0])), line, count=1)\n",
    "        return int(line)\n",
    "\n",
    "    def run_all(self, lines: List[str]) -> int:\n",
    "        \"\"\"Evaluate each line of the homework.\"\"\"\n",
    "        return sum(self._run(line) for line in lines)"
   ]
  },
  {
   "cell_type": "code",
   "execution_count": 71,
   "metadata": {},
   "outputs": [
    {
     "data": {
      "application/javascript": [
       "\n",
       "            setTimeout(function() {\n",
       "                var nbb_cell_id = 71;\n",
       "                var nbb_unformatted_code = \"def test_day_18() -> None:\\n    evaluator = Evaluator()\\n    assert evaluator._run(\\\"1 + 2 * 3 + 4 * 5 + 6\\\") == 71\\n    assert evaluator._run(\\\"1 + (2 * 3) + (4 * (5 + 6))\\\") == 51\\n    assert evaluator._run(\\\"2 * 3 + (4 * 5)\\\") == 26\\n    assert evaluator._run(\\\"5 + (8 * 3 + 9 + 3 * 4 * 3)\\\") == 437\\n    assert evaluator._run(\\\"5 * 9 * (7 * 3 * 3 + 9 * 3 + (8 + 6 * 4))\\\") == 12240\\n    assert evaluator._run(\\\"((2 + 4 * 9) * (6 + 9 * 8 + 6) + 6) + 2 + 4 * 2\\\") == 13632\\n\\n    evaluator.mode = \\\"addition first\\\"\\n    assert evaluator._run(\\\"1 + (2 * 3) + (4 * (5 + 6))\\\") == 51\\n    assert evaluator._run(\\\"2 * 3 + (4 * 5)\\\") == 46\\n    assert evaluator._run(\\\"5 + (8 * 3 + 9 + 3 * 4 * 3)\\\") == 1445\\n    assert evaluator._run(\\\"5 * 9 * (7 * 3 * 3 + 9 * 3 + (8 + 6 * 4))\\\") == 669060\\n    assert evaluator._run(\\\"((2 + 4 * 9) * (6 + 9 * 8 + 6) + 6) + 2 + 4 * 2\\\") == 23340\";\n",
       "                var nbb_formatted_code = \"def test_day_18() -> None:\\n    evaluator = Evaluator()\\n    assert evaluator._run(\\\"1 + 2 * 3 + 4 * 5 + 6\\\") == 71\\n    assert evaluator._run(\\\"1 + (2 * 3) + (4 * (5 + 6))\\\") == 51\\n    assert evaluator._run(\\\"2 * 3 + (4 * 5)\\\") == 26\\n    assert evaluator._run(\\\"5 + (8 * 3 + 9 + 3 * 4 * 3)\\\") == 437\\n    assert evaluator._run(\\\"5 * 9 * (7 * 3 * 3 + 9 * 3 + (8 + 6 * 4))\\\") == 12240\\n    assert evaluator._run(\\\"((2 + 4 * 9) * (6 + 9 * 8 + 6) + 6) + 2 + 4 * 2\\\") == 13632\\n\\n    evaluator.mode = \\\"addition first\\\"\\n    assert evaluator._run(\\\"1 + (2 * 3) + (4 * (5 + 6))\\\") == 51\\n    assert evaluator._run(\\\"2 * 3 + (4 * 5)\\\") == 46\\n    assert evaluator._run(\\\"5 + (8 * 3 + 9 + 3 * 4 * 3)\\\") == 1445\\n    assert evaluator._run(\\\"5 * 9 * (7 * 3 * 3 + 9 * 3 + (8 + 6 * 4))\\\") == 669060\\n    assert evaluator._run(\\\"((2 + 4 * 9) * (6 + 9 * 8 + 6) + 6) + 2 + 4 * 2\\\") == 23340\";\n",
       "                var nbb_cells = Jupyter.notebook.get_cells();\n",
       "                for (var i = 0; i < nbb_cells.length; ++i) {\n",
       "                    if (nbb_cells[i].input_prompt_number == nbb_cell_id) {\n",
       "                        if (nbb_cells[i].get_text() == nbb_unformatted_code) {\n",
       "                             nbb_cells[i].set_text(nbb_formatted_code);\n",
       "                        }\n",
       "                        break;\n",
       "                    }\n",
       "                }\n",
       "            }, 500);\n",
       "            "
      ],
      "text/plain": [
       "<IPython.core.display.Javascript object>"
      ]
     },
     "metadata": {},
     "output_type": "display_data"
    }
   ],
   "source": [
    "def test_day_18() -> None:\n",
    "    evaluator = Evaluator()\n",
    "    assert evaluator._run(\"1 + 2 * 3 + 4 * 5 + 6\") == 71\n",
    "    assert evaluator._run(\"1 + (2 * 3) + (4 * (5 + 6))\") == 51\n",
    "    assert evaluator._run(\"2 * 3 + (4 * 5)\") == 26\n",
    "    assert evaluator._run(\"5 + (8 * 3 + 9 + 3 * 4 * 3)\") == 437\n",
    "    assert evaluator._run(\"5 * 9 * (7 * 3 * 3 + 9 * 3 + (8 + 6 * 4))\") == 12240\n",
    "    assert evaluator._run(\"((2 + 4 * 9) * (6 + 9 * 8 + 6) + 6) + 2 + 4 * 2\") == 13632\n",
    "\n",
    "    evaluator.mode = \"addition first\"\n",
    "    assert evaluator._run(\"1 + (2 * 3) + (4 * (5 + 6))\") == 51\n",
    "    assert evaluator._run(\"2 * 3 + (4 * 5)\") == 46\n",
    "    assert evaluator._run(\"5 + (8 * 3 + 9 + 3 * 4 * 3)\") == 1445\n",
    "    assert evaluator._run(\"5 * 9 * (7 * 3 * 3 + 9 * 3 + (8 + 6 * 4))\") == 669060\n",
    "    assert evaluator._run(\"((2 + 4 * 9) * (6 + 9 * 8 + 6) + 6) + 2 + 4 * 2\") == 23340"
   ]
  },
  {
   "cell_type": "code",
   "execution_count": 72,
   "metadata": {},
   "outputs": [
    {
     "data": {
      "application/javascript": [
       "\n",
       "            setTimeout(function() {\n",
       "                var nbb_cell_id = 72;\n",
       "                var nbb_unformatted_code = \"def day_18() -> Solution:\\n    puzzle_input = data_to_lines(day=18)\\n    return (\\n        Evaluator().run_all(lines=puzzle_input),\\n        Evaluator(mode=\\\"addition first\\\").run_all(lines=puzzle_input),\\n    )\";\n",
       "                var nbb_formatted_code = \"def day_18() -> Solution:\\n    puzzle_input = data_to_lines(day=18)\\n    return (\\n        Evaluator().run_all(lines=puzzle_input),\\n        Evaluator(mode=\\\"addition first\\\").run_all(lines=puzzle_input),\\n    )\";\n",
       "                var nbb_cells = Jupyter.notebook.get_cells();\n",
       "                for (var i = 0; i < nbb_cells.length; ++i) {\n",
       "                    if (nbb_cells[i].input_prompt_number == nbb_cell_id) {\n",
       "                        if (nbb_cells[i].get_text() == nbb_unformatted_code) {\n",
       "                             nbb_cells[i].set_text(nbb_formatted_code);\n",
       "                        }\n",
       "                        break;\n",
       "                    }\n",
       "                }\n",
       "            }, 500);\n",
       "            "
      ],
      "text/plain": [
       "<IPython.core.display.Javascript object>"
      ]
     },
     "metadata": {},
     "output_type": "display_data"
    }
   ],
   "source": [
    "def day_18() -> Solution:\n",
    "    puzzle_input = data_to_lines(day=18)\n",
    "    return (\n",
    "        Evaluator().run_all(lines=puzzle_input),\n",
    "        Evaluator(mode=\"addition first\").run_all(lines=puzzle_input),\n",
    "    )"
   ]
  },
  {
   "cell_type": "code",
   "execution_count": 73,
   "metadata": {
    "pycharm": {
     "name": "#%%\n"
    },
    "scrolled": true
   },
   "outputs": [
    {
     "name": "stdout",
     "output_type": "stream",
     "text": [
      "Part 1: 4297397455886\n",
      "Part 2: 93000656194428\n"
     ]
    },
    {
     "data": {
      "application/javascript": [
       "\n",
       "            setTimeout(function() {\n",
       "                var nbb_cell_id = 73;\n",
       "                var nbb_unformatted_code = \"test_day(18)\\nprint_day(18)\";\n",
       "                var nbb_formatted_code = \"test_day(18)\\nprint_day(18)\";\n",
       "                var nbb_cells = Jupyter.notebook.get_cells();\n",
       "                for (var i = 0; i < nbb_cells.length; ++i) {\n",
       "                    if (nbb_cells[i].input_prompt_number == nbb_cell_id) {\n",
       "                        if (nbb_cells[i].get_text() == nbb_unformatted_code) {\n",
       "                             nbb_cells[i].set_text(nbb_formatted_code);\n",
       "                        }\n",
       "                        break;\n",
       "                    }\n",
       "                }\n",
       "            }, 500);\n",
       "            "
      ],
      "text/plain": [
       "<IPython.core.display.Javascript object>"
      ]
     },
     "metadata": {},
     "output_type": "display_data"
    }
   ],
   "source": [
    "test_day(18)\n",
    "print_day(18)"
   ]
  },
  {
   "cell_type": "markdown",
   "metadata": {},
   "source": [
    "## Day 19\n",
    "\n",
    "**Task**: From a list of recursively matching rules and list of messages, check what\n",
    "messages match rule number 0.\n",
    "\n",
    "Since given rules basically define a context-free grammar, my initial thought was to\n",
    "use [Cocke–Younger–Kasami algorithm](https://en.wikipedia.org/wiki/CYK_algorithm) to\n",
    "parse rules. After spending way too much time with that, I just decided to generate\n",
    "regex string recursively. That turned out to be quite compact and good way to solve this\n",
    "problem.\n",
    "\n",
    "For the first part, `get_regex` method joins together regex strings recursively adding\n",
    "logical OR:s where needed. The second parts changed rules are handled as follows:\n",
    "`8: 42 | 42 8` means that rules number 42 can occur one or more times.\n",
    "`11: 42 31 | 42 11 31` means that rules 42 and 31 must same amount of times, all 42:s\n",
    "first and then all 31:s. I don't know if it's possible to create regex for this, so I\n",
    "used kinda hacky solution instead: regex matches if there is either one 42 and one 31,\n",
    "two 42:s and two 31:s etc. up to five times. Max five reps here comes just from\n",
    "trial and error: it seemed to be the lowest amount to produce the correct amount."
   ]
  },
  {
   "cell_type": "code",
   "execution_count": 74,
   "metadata": {
    "pycharm": {
     "name": "#%%\n"
    }
   },
   "outputs": [
    {
     "data": {
      "application/javascript": [
       "\n",
       "            setTimeout(function() {\n",
       "                var nbb_cell_id = 74;\n",
       "                var nbb_unformatted_code = \"class RegexFactor:\\n    def __init__(self, raw_rules: str) -> None:\\n        \\\"\\\"\\\"Initialize rules, mode and regex.\\\"\\\"\\\"\\n        self.mode: Literal[\\\"basic\\\", \\\"looping\\\"] = \\\"basic\\\"\\n        self._rules: Dict[int, str] = {}\\n        for line in raw_rules.splitlines():\\n            rule_num, rule = line.split(\\\": \\\")\\n            self._rules[int(rule_num)] = rule[1] if \\\"a\\\" in rule or \\\"b\\\" in rule else rule\\n        self._splitter = re.compile(r\\\"\\\\d+\\\")\\n\\n    def get_regex(self, rule_id: int) -> str:\\n        \\\"\\\"\\\"Get regex for rule recursively.\\\"\\\"\\\"\\n        if self.mode == \\\"looping\\\":\\n            if rule_id == 8:\\n                return self.get_regex(rule_id=42) + \\\"+\\\"\\n            if rule_id == 11:\\n                max_reps = 5\\n                return self.or_join(\\n                    self.get_regex(rule_id=42)\\n                    + f\\\"{{{reps}}}\\\"\\n                    + self.get_regex(rule_id=31)\\n                    + f\\\"{{{reps}}}\\\"\\n                    for reps in range(1, max_reps)\\n                )\\n        if self._rules[rule_id] in \\\"ab\\\":\\n            return self._rules[rule_id]\\n        return self.or_join(\\n            \\\"\\\".join(\\n                self.get_regex(rule_id=int(rule_id))\\n                for rule_id in self._splitter.findall(part)\\n            )\\n            for part in self._rules[rule_id].split(\\\" | \\\")\\n        )\\n\\n    @staticmethod\\n    def or_join(iterable: Iterable) -> str:\\n        \\\"\\\"\\\"Join bunch of regex strings with logical OR.\\\"\\\"\\\"\\n        return \\\"(?:\\\" + \\\"|\\\".join(iterable) + \\\")\\\"\\n\\n\\ndef solve_day_19(blocks: List[str]) -> Solution:\\n    \\\"\\\"\\\"Return amount of matches against rule 0 in both modes.\\\"\\\"\\\"\\n\\n    def count_matches(messages: List[str], regex: str) -> int:\\n        \\\"\\\"\\\"Count message matches against regex.\\\"\\\"\\\"\\n        return sum(\\n            bool(re.fullmatch(regex, message)) for message in raw_messages.splitlines()\\n        )\\n\\n    raw_rules, raw_messages = blocks\\n\\n    factor = RegexFactor(raw_rules)\\n    basic_zero_regex = factor.get_regex(rule_id=0)\\n    factor.mode = \\\"looping\\\"\\n    looping_zero_regex = factor.get_regex(rule_id=0)\\n    messages = raw_messages.splitlines()\\n\\n    return (\\n        count_matches(messages, regex=basic_zero_regex),\\n        count_matches(messages, regex=looping_zero_regex),\\n    )\";\n",
       "                var nbb_formatted_code = \"class RegexFactor:\\n    def __init__(self, raw_rules: str) -> None:\\n        \\\"\\\"\\\"Initialize rules, mode and regex.\\\"\\\"\\\"\\n        self.mode: Literal[\\\"basic\\\", \\\"looping\\\"] = \\\"basic\\\"\\n        self._rules: Dict[int, str] = {}\\n        for line in raw_rules.splitlines():\\n            rule_num, rule = line.split(\\\": \\\")\\n            self._rules[int(rule_num)] = rule[1] if \\\"a\\\" in rule or \\\"b\\\" in rule else rule\\n        self._splitter = re.compile(r\\\"\\\\d+\\\")\\n\\n    def get_regex(self, rule_id: int) -> str:\\n        \\\"\\\"\\\"Get regex for rule recursively.\\\"\\\"\\\"\\n        if self.mode == \\\"looping\\\":\\n            if rule_id == 8:\\n                return self.get_regex(rule_id=42) + \\\"+\\\"\\n            if rule_id == 11:\\n                max_reps = 5\\n                return self.or_join(\\n                    self.get_regex(rule_id=42)\\n                    + f\\\"{{{reps}}}\\\"\\n                    + self.get_regex(rule_id=31)\\n                    + f\\\"{{{reps}}}\\\"\\n                    for reps in range(1, max_reps)\\n                )\\n        if self._rules[rule_id] in \\\"ab\\\":\\n            return self._rules[rule_id]\\n        return self.or_join(\\n            \\\"\\\".join(\\n                self.get_regex(rule_id=int(rule_id))\\n                for rule_id in self._splitter.findall(part)\\n            )\\n            for part in self._rules[rule_id].split(\\\" | \\\")\\n        )\\n\\n    @staticmethod\\n    def or_join(iterable: Iterable) -> str:\\n        \\\"\\\"\\\"Join bunch of regex strings with logical OR.\\\"\\\"\\\"\\n        return \\\"(?:\\\" + \\\"|\\\".join(iterable) + \\\")\\\"\\n\\n\\ndef solve_day_19(blocks: List[str]) -> Solution:\\n    \\\"\\\"\\\"Return amount of matches against rule 0 in both modes.\\\"\\\"\\\"\\n\\n    def count_matches(messages: List[str], regex: str) -> int:\\n        \\\"\\\"\\\"Count message matches against regex.\\\"\\\"\\\"\\n        return sum(\\n            bool(re.fullmatch(regex, message)) for message in raw_messages.splitlines()\\n        )\\n\\n    raw_rules, raw_messages = blocks\\n\\n    factor = RegexFactor(raw_rules)\\n    basic_zero_regex = factor.get_regex(rule_id=0)\\n    factor.mode = \\\"looping\\\"\\n    looping_zero_regex = factor.get_regex(rule_id=0)\\n    messages = raw_messages.splitlines()\\n\\n    return (\\n        count_matches(messages, regex=basic_zero_regex),\\n        count_matches(messages, regex=looping_zero_regex),\\n    )\";\n",
       "                var nbb_cells = Jupyter.notebook.get_cells();\n",
       "                for (var i = 0; i < nbb_cells.length; ++i) {\n",
       "                    if (nbb_cells[i].input_prompt_number == nbb_cell_id) {\n",
       "                        if (nbb_cells[i].get_text() == nbb_unformatted_code) {\n",
       "                             nbb_cells[i].set_text(nbb_formatted_code);\n",
       "                        }\n",
       "                        break;\n",
       "                    }\n",
       "                }\n",
       "            }, 500);\n",
       "            "
      ],
      "text/plain": [
       "<IPython.core.display.Javascript object>"
      ]
     },
     "metadata": {},
     "output_type": "display_data"
    }
   ],
   "source": [
    "class RegexFactor:\n",
    "    def __init__(self, raw_rules: str) -> None:\n",
    "        \"\"\"Initialize rules, mode and regex.\"\"\"\n",
    "        self.mode: Literal[\"basic\", \"looping\"] = \"basic\"\n",
    "        self._rules: Dict[int, str] = {}\n",
    "        for line in raw_rules.splitlines():\n",
    "            rule_num, rule = line.split(\": \")\n",
    "            self._rules[int(rule_num)] = rule[1] if \"a\" in rule or \"b\" in rule else rule\n",
    "        self._splitter = re.compile(r\"\\d+\")\n",
    "\n",
    "    def get_regex(self, rule_id: int) -> str:\n",
    "        \"\"\"Get regex for rule recursively.\"\"\"\n",
    "        if self.mode == \"looping\":\n",
    "            if rule_id == 8:\n",
    "                return self.get_regex(rule_id=42) + \"+\"\n",
    "            if rule_id == 11:\n",
    "                max_reps = 5\n",
    "                return self.or_join(\n",
    "                    self.get_regex(rule_id=42)\n",
    "                    + f\"{{{reps}}}\"\n",
    "                    + self.get_regex(rule_id=31)\n",
    "                    + f\"{{{reps}}}\"\n",
    "                    for reps in range(1, max_reps)\n",
    "                )\n",
    "        if self._rules[rule_id] in \"ab\":\n",
    "            return self._rules[rule_id]\n",
    "        return self.or_join(\n",
    "            \"\".join(\n",
    "                self.get_regex(rule_id=int(rule_id))\n",
    "                for rule_id in self._splitter.findall(part)\n",
    "            )\n",
    "            for part in self._rules[rule_id].split(\" | \")\n",
    "        )\n",
    "\n",
    "    @staticmethod\n",
    "    def or_join(iterable: Iterable) -> str:\n",
    "        \"\"\"Join bunch of regex strings with logical OR.\"\"\"\n",
    "        return \"(?:\" + \"|\".join(iterable) + \")\"\n",
    "\n",
    "\n",
    "def solve_day_19(blocks: List[str]) -> Solution:\n",
    "    \"\"\"Return amount of matches against rule 0 in both modes.\"\"\"\n",
    "\n",
    "    def count_matches(messages: List[str], regex: str) -> int:\n",
    "        \"\"\"Count message matches against regex.\"\"\"\n",
    "        return sum(\n",
    "            bool(re.fullmatch(regex, message)) for message in raw_messages.splitlines()\n",
    "        )\n",
    "\n",
    "    raw_rules, raw_messages = blocks\n",
    "\n",
    "    factor = RegexFactor(raw_rules)\n",
    "    basic_zero_regex = factor.get_regex(rule_id=0)\n",
    "    factor.mode = \"looping\"\n",
    "    looping_zero_regex = factor.get_regex(rule_id=0)\n",
    "    messages = raw_messages.splitlines()\n",
    "\n",
    "    return (\n",
    "        count_matches(messages, regex=basic_zero_regex),\n",
    "        count_matches(messages, regex=looping_zero_regex),\n",
    "    )"
   ]
  },
  {
   "cell_type": "code",
   "execution_count": 75,
   "metadata": {
    "pycharm": {
     "name": "#%%\n"
    },
    "scrolled": false
   },
   "outputs": [
    {
     "data": {
      "application/javascript": [
       "\n",
       "            setTimeout(function() {\n",
       "                var nbb_cell_id = 75;\n",
       "                var nbb_unformatted_code = \"def test_day_19() -> None:\\n    example = \\\"\\\"\\\"0: 4 1 5\\n1: 2 3 | 3 2\\n2: 4 4 | 5 5\\n3: 4 5 | 5 4\\n4: \\\"a\\\"\\n5: \\\"b\\\"\\n\\nababbb\\nbababa\\nabbbab\\naaabbb\\naaaabbb\\\"\\\"\\\".split(\\n        \\\"\\\\n\\\\n\\\"\\n    )\\n    ans, _ = solve_day_19(blocks=example)\\n    assert ans == 2\\n\\n    second_example = \\\"\\\"\\\"42: 9 14 | 10 1\\n9: 14 27 | 1 26\\n10: 23 14 | 28 1\\n1: \\\"a\\\"\\n11: 42 31\\n5: 1 14 | 15 1\\n19: 14 1 | 14 14\\n12: 24 14 | 19 1\\n16: 15 1 | 14 14\\n31: 14 17 | 1 13\\n6: 14 14 | 1 14\\n2: 1 24 | 14 4\\n0: 8 11\\n13: 14 3 | 1 12\\n15: 1 | 14\\n17: 14 2 | 1 7\\n23: 25 1 | 22 14\\n28: 16 1\\n4: 1 1\\n20: 14 14 | 1 15\\n3: 5 14 | 16 1\\n27: 1 6 | 14 18\\n14: \\\"b\\\"\\n21: 14 1 | 1 14\\n25: 1 1 | 1 14\\n22: 14 14\\n8: 42\\n26: 14 22 | 1 20\\n18: 15 15\\n7: 14 5 | 1 21\\n24: 14 1\\n\\nabbbbbabbbaaaababbaabbbbabababbbabbbbbbabaaaa\\nbbabbbbaabaabba\\nbabbbbaabbbbbabbbbbbaabaaabaaa\\naaabbbbbbaaaabaababaabababbabaaabbababababaaa\\nbbbbbbbaaaabbbbaaabbabaaa\\nbbbababbbbaaaaaaaabbababaaababaabab\\nababaaaaaabaaab\\nababaaaaabbbaba\\nbaabbaaaabbaaaababbaababb\\nabbbbabbbbaaaababbbbbbaaaababb\\naaaaabbaabaaaaababaa\\naaaabbaaaabbaaa\\naaaabbaabbaaaaaaabbbabbbaaabbaabaaa\\nbabaaabbbaaabaababbaabababaaab\\naabbbbbaabbbaaaaaabbbbbababaaaaabbaaabba\\\"\\\"\\\".split(\\n        \\\"\\\\n\\\\n\\\"\\n    )\\n\\n    assert solve_day_19(blocks=second_example) == (3, 12)\";\n",
       "                var nbb_formatted_code = \"def test_day_19() -> None:\\n    example = \\\"\\\"\\\"0: 4 1 5\\n1: 2 3 | 3 2\\n2: 4 4 | 5 5\\n3: 4 5 | 5 4\\n4: \\\"a\\\"\\n5: \\\"b\\\"\\n\\nababbb\\nbababa\\nabbbab\\naaabbb\\naaaabbb\\\"\\\"\\\".split(\\n        \\\"\\\\n\\\\n\\\"\\n    )\\n    ans, _ = solve_day_19(blocks=example)\\n    assert ans == 2\\n\\n    second_example = \\\"\\\"\\\"42: 9 14 | 10 1\\n9: 14 27 | 1 26\\n10: 23 14 | 28 1\\n1: \\\"a\\\"\\n11: 42 31\\n5: 1 14 | 15 1\\n19: 14 1 | 14 14\\n12: 24 14 | 19 1\\n16: 15 1 | 14 14\\n31: 14 17 | 1 13\\n6: 14 14 | 1 14\\n2: 1 24 | 14 4\\n0: 8 11\\n13: 14 3 | 1 12\\n15: 1 | 14\\n17: 14 2 | 1 7\\n23: 25 1 | 22 14\\n28: 16 1\\n4: 1 1\\n20: 14 14 | 1 15\\n3: 5 14 | 16 1\\n27: 1 6 | 14 18\\n14: \\\"b\\\"\\n21: 14 1 | 1 14\\n25: 1 1 | 1 14\\n22: 14 14\\n8: 42\\n26: 14 22 | 1 20\\n18: 15 15\\n7: 14 5 | 1 21\\n24: 14 1\\n\\nabbbbbabbbaaaababbaabbbbabababbbabbbbbbabaaaa\\nbbabbbbaabaabba\\nbabbbbaabbbbbabbbbbbaabaaabaaa\\naaabbbbbbaaaabaababaabababbabaaabbababababaaa\\nbbbbbbbaaaabbbbaaabbabaaa\\nbbbababbbbaaaaaaaabbababaaababaabab\\nababaaaaaabaaab\\nababaaaaabbbaba\\nbaabbaaaabbaaaababbaababb\\nabbbbabbbbaaaababbbbbbaaaababb\\naaaaabbaabaaaaababaa\\naaaabbaaaabbaaa\\naaaabbaabbaaaaaaabbbabbbaaabbaabaaa\\nbabaaabbbaaabaababbaabababaaab\\naabbbbbaabbbaaaaaabbbbbababaaaaabbaaabba\\\"\\\"\\\".split(\\n        \\\"\\\\n\\\\n\\\"\\n    )\\n\\n    assert solve_day_19(blocks=second_example) == (3, 12)\";\n",
       "                var nbb_cells = Jupyter.notebook.get_cells();\n",
       "                for (var i = 0; i < nbb_cells.length; ++i) {\n",
       "                    if (nbb_cells[i].input_prompt_number == nbb_cell_id) {\n",
       "                        if (nbb_cells[i].get_text() == nbb_unformatted_code) {\n",
       "                             nbb_cells[i].set_text(nbb_formatted_code);\n",
       "                        }\n",
       "                        break;\n",
       "                    }\n",
       "                }\n",
       "            }, 500);\n",
       "            "
      ],
      "text/plain": [
       "<IPython.core.display.Javascript object>"
      ]
     },
     "metadata": {},
     "output_type": "display_data"
    }
   ],
   "source": [
    "def test_day_19() -> None:\n",
    "    example = \"\"\"0: 4 1 5\n",
    "1: 2 3 | 3 2\n",
    "2: 4 4 | 5 5\n",
    "3: 4 5 | 5 4\n",
    "4: \"a\"\n",
    "5: \"b\"\n",
    "\n",
    "ababbb\n",
    "bababa\n",
    "abbbab\n",
    "aaabbb\n",
    "aaaabbb\"\"\".split(\n",
    "        \"\\n\\n\"\n",
    "    )\n",
    "    ans, _ = solve_day_19(blocks=example)\n",
    "    assert ans == 2\n",
    "\n",
    "    second_example = \"\"\"42: 9 14 | 10 1\n",
    "9: 14 27 | 1 26\n",
    "10: 23 14 | 28 1\n",
    "1: \"a\"\n",
    "11: 42 31\n",
    "5: 1 14 | 15 1\n",
    "19: 14 1 | 14 14\n",
    "12: 24 14 | 19 1\n",
    "16: 15 1 | 14 14\n",
    "31: 14 17 | 1 13\n",
    "6: 14 14 | 1 14\n",
    "2: 1 24 | 14 4\n",
    "0: 8 11\n",
    "13: 14 3 | 1 12\n",
    "15: 1 | 14\n",
    "17: 14 2 | 1 7\n",
    "23: 25 1 | 22 14\n",
    "28: 16 1\n",
    "4: 1 1\n",
    "20: 14 14 | 1 15\n",
    "3: 5 14 | 16 1\n",
    "27: 1 6 | 14 18\n",
    "14: \"b\"\n",
    "21: 14 1 | 1 14\n",
    "25: 1 1 | 1 14\n",
    "22: 14 14\n",
    "8: 42\n",
    "26: 14 22 | 1 20\n",
    "18: 15 15\n",
    "7: 14 5 | 1 21\n",
    "24: 14 1\n",
    "\n",
    "abbbbbabbbaaaababbaabbbbabababbbabbbbbbabaaaa\n",
    "bbabbbbaabaabba\n",
    "babbbbaabbbbbabbbbbbaabaaabaaa\n",
    "aaabbbbbbaaaabaababaabababbabaaabbababababaaa\n",
    "bbbbbbbaaaabbbbaaabbabaaa\n",
    "bbbababbbbaaaaaaaabbababaaababaabab\n",
    "ababaaaaaabaaab\n",
    "ababaaaaabbbaba\n",
    "baabbaaaabbaaaababbaababb\n",
    "abbbbabbbbaaaababbbbbbaaaababb\n",
    "aaaaabbaabaaaaababaa\n",
    "aaaabbaaaabbaaa\n",
    "aaaabbaabbaaaaaaabbbabbbaaabbaabaaa\n",
    "babaaabbbaaabaababbaabababaaab\n",
    "aabbbbbaabbbaaaaaabbbbbababaaaaabbaaabba\"\"\".split(\n",
    "        \"\\n\\n\"\n",
    "    )\n",
    "\n",
    "    assert solve_day_19(blocks=second_example) == (3, 12)"
   ]
  },
  {
   "cell_type": "code",
   "execution_count": 76,
   "metadata": {},
   "outputs": [
    {
     "data": {
      "application/javascript": [
       "\n",
       "            setTimeout(function() {\n",
       "                var nbb_cell_id = 76;\n",
       "                var nbb_unformatted_code = \"def day_19() -> Solution:\\n    return solve_day_19(blocks=data_to_blocks(day=19))\";\n",
       "                var nbb_formatted_code = \"def day_19() -> Solution:\\n    return solve_day_19(blocks=data_to_blocks(day=19))\";\n",
       "                var nbb_cells = Jupyter.notebook.get_cells();\n",
       "                for (var i = 0; i < nbb_cells.length; ++i) {\n",
       "                    if (nbb_cells[i].input_prompt_number == nbb_cell_id) {\n",
       "                        if (nbb_cells[i].get_text() == nbb_unformatted_code) {\n",
       "                             nbb_cells[i].set_text(nbb_formatted_code);\n",
       "                        }\n",
       "                        break;\n",
       "                    }\n",
       "                }\n",
       "            }, 500);\n",
       "            "
      ],
      "text/plain": [
       "<IPython.core.display.Javascript object>"
      ]
     },
     "metadata": {},
     "output_type": "display_data"
    }
   ],
   "source": [
    "def day_19() -> Solution:\n",
    "    return solve_day_19(blocks=data_to_blocks(day=19))"
   ]
  },
  {
   "cell_type": "code",
   "execution_count": 77,
   "metadata": {},
   "outputs": [
    {
     "name": "stdout",
     "output_type": "stream",
     "text": [
      "Part 1: 195\n",
      "Part 2: 309\n"
     ]
    },
    {
     "data": {
      "application/javascript": [
       "\n",
       "            setTimeout(function() {\n",
       "                var nbb_cell_id = 77;\n",
       "                var nbb_unformatted_code = \"test_day(19)\\nprint_day(19)\";\n",
       "                var nbb_formatted_code = \"test_day(19)\\nprint_day(19)\";\n",
       "                var nbb_cells = Jupyter.notebook.get_cells();\n",
       "                for (var i = 0; i < nbb_cells.length; ++i) {\n",
       "                    if (nbb_cells[i].input_prompt_number == nbb_cell_id) {\n",
       "                        if (nbb_cells[i].get_text() == nbb_unformatted_code) {\n",
       "                             nbb_cells[i].set_text(nbb_formatted_code);\n",
       "                        }\n",
       "                        break;\n",
       "                    }\n",
       "                }\n",
       "            }, 500);\n",
       "            "
      ],
      "text/plain": [
       "<IPython.core.display.Javascript object>"
      ]
     },
     "metadata": {},
     "output_type": "display_data"
    }
   ],
   "source": [
    "test_day(19)\n",
    "print_day(19)"
   ]
  },
  {
   "cell_type": "markdown",
   "metadata": {},
   "source": [
    "## Day 20\n",
    "\n",
    "**Task**: Reconstruct image from tiles, then count all the sea monsters in it.\n",
    "\n",
    "This was a very time consuming puzzle and my original implementation was way, waaay more longer than this. After spending some time looking at Aoc reddit thread for better ideas, I decided to go with combination of numpy, scipy and networkX. Here, the basic idea is to first match each tile against others by their borders. Then, based on those borders, an initial grid with starting location for each border is made. Then, image is combined and sea monsters are calculated by applying scipy's correlate method: if some point has same amount of \"#\" -tiles in seamonster-size rectangle thatn seamonster has, then seamonster must be at that point. "
   ]
  },
  {
   "cell_type": "code",
   "execution_count": 78,
   "metadata": {
    "pycharm": {
     "name": "#%%\n"
    }
   },
   "outputs": [
    {
     "data": {
      "application/javascript": [
       "\n",
       "            setTimeout(function() {\n",
       "                var nbb_cell_id = 78;\n",
       "                var nbb_unformatted_code = \"from scipy.ndimage import correlate\\n\\n\\nclass ImageParser:\\n    def __init__(self, blocks: List[str]) -> None:\\n        \\\"\\\"\\\"Initialize tiles.\\\"\\\"\\\"\\n        self._get_num = re.compile(\\\"\\\\d+\\\")\\n        self._tiles = dict(self._parse_id_and_tile(block) for block in blocks)\\n        self._tile_size = len(next(iter(self._tiles.values())))\\n        self._form_image()\\n\\n    def _parse_id_and_tile(self, block: str) -> Tuple[int, np.ndarray]:\\n        \\\"\\\"\\\"Parse single id and tile from one block.\\\"\\\"\\\"\\n        id_row, *tile_rows = block.splitlines()\\n        return int(self._get_num.findall(id_row)[0]), np.array(\\n            [[c == \\\"#\\\" for c in row] for row in tile_rows]\\n        )\\n\\n    @staticmethod\\n    def _orientations(tile: np.ndarray) -> Iterator[np.ndarray]:\\n        \\\"\\\"\\\"Generate all orientations for tiles.\\\"\\\"\\\"\\n        for rotation in (np.rot90(tile, i) for i in range(1, 5)):\\n            yield rotation\\n            yield np.flipud(rotation)\\n\\n    def _borders_match(self, tile_1: np.ndarray, tile_2: np.ndarray) -> bool:\\n        \\\"\\\"\\\"Return matching tiles and direction their borders match.\\\"\\\"\\\"\\n        for tile in self._orientations(tile_2):\\n            if (tile_1[0] == tile[-1]).all():\\n                return tile, (-1, 0)\\n            if (tile_1[-1] == tile[0]).all():\\n                return tile, (1, 0)\\n            if (tile_1[:, -1] == tile[:, 0]).all():\\n                return tile, (0, 1)\\n            if (tile_1[:, 0] == tile[:, -1]).all():\\n                return tile, (0, -1)\\n\\n    def _create_border_graph(self) -> nx.Graph:\\n        \\\"\\\"\\\"Return graph where each matching border has an edge from larger to smaller tile id.\\\"\\\"\\\"\\n        return nx.Graph(\\n            [\\n                (int(id_1), int(id_2))\\n                for (id_1, tile_1), (id_2, tile_2) in itertools.product(\\n                    self._tiles.items(), repeat=2\\n                )\\n                if id_1 > id_2 and self._borders_match(tile_1, tile_2)\\n            ]\\n        )\\n\\n    def _form_image(self) -> None:\\n        \\\"\\\"\\\"Form the image from tiles by matching tiles one by one.\\\"\\\"\\\"\\n        border_graph = self._create_border_graph()\\n        first_id = next(iter(self._tiles.keys()))\\n        stack = [(first_id, (0, 0))]\\n        locations = {(0, 0): first_id}\\n        seen: Set[int] = set()\\n\\n        while stack:\\n            id_1, location = stack.pop()\\n            for id_2 in border_graph.neighbors(id_1):\\n                if id_2 in seen:\\n                    continue\\n                seen.add(id_2)\\n                tile, direction = self._borders_match(\\n                    self._tiles[id_1], self._tiles[id_2]\\n                )\\n                self._tiles[id_2] = tile\\n                next_location = tuple(a + b for a, b in zip(location, direction))\\n                stack.append((id_2, next_location))\\n                locations[next_location] = id_2\\n\\n        n = int(math.sqrt(len(self._tiles)))\\n        m = self._tile_size - 2\\n        image = np.empty((n * m, n * m), dtype=np.int)\\n        offset_x = min(x for x, _ in locations)\\n        offset_y = min(y for _, y in locations)\\n        self._tile_positions = [[0] * n for _ in range(n)]\\n\\n        for i in range(n):\\n            for j in range(n):\\n                tile_id = locations[i + offset_x, j + offset_y]\\n                tile = self._tiles[tile_id][1:-1, 1:-1]\\n                image[i * m : (i + 1) * m, j * m : (j + 1) * m] = tile\\n                self._tile_positions[i][j] = tile_id\\n\\n        seamonster = [\\n            \\\"                  # \\\",\\n            \\\"#    ##    ##    ###\\\",\\n            \\\" #  #  #  #  #  #   \\\",\\n        ]\\n        kernel = np.array([c == \\\"#\\\" for line in seamonster for c in line]).reshape(\\n            (len(seamonster), len(seamonster[0]))\\n        )\\n        monster_size = kernel.sum()\\n        for orientation in self._orientations(image):\\n            matches = (\\n                correlate(orientation, kernel, mode=\\\"constant\\\") == monster_size\\n            ).sum()\\n            if matches > 0:\\n                self._roughness = orientation.sum() - matches * monster_size\\n\\n    @property\\n    def corner_id_prod(self):\\n        \\\"\\\"\\\"Return product of corner ids.\\\"\\\"\\\"\\n        n = int(math.sqrt(len(self._tiles)))\\n        corners = ((0, 0), (0, n - 1), (n - 1, 0), (n - 1, n - 1))\\n        return math.prod([self._tile_positions[i][j] for i, j in corners])\\n\\n    @property\\n    def roughness(self):\\n        \\\"\\\"\\\"Return roughness after it has been calculated.\\\"\\\"\\\"\\n        return self._roughness\";\n",
       "                var nbb_formatted_code = \"from scipy.ndimage import correlate\\n\\n\\nclass ImageParser:\\n    def __init__(self, blocks: List[str]) -> None:\\n        \\\"\\\"\\\"Initialize tiles.\\\"\\\"\\\"\\n        self._get_num = re.compile(\\\"\\\\d+\\\")\\n        self._tiles = dict(self._parse_id_and_tile(block) for block in blocks)\\n        self._tile_size = len(next(iter(self._tiles.values())))\\n        self._form_image()\\n\\n    def _parse_id_and_tile(self, block: str) -> Tuple[int, np.ndarray]:\\n        \\\"\\\"\\\"Parse single id and tile from one block.\\\"\\\"\\\"\\n        id_row, *tile_rows = block.splitlines()\\n        return int(self._get_num.findall(id_row)[0]), np.array(\\n            [[c == \\\"#\\\" for c in row] for row in tile_rows]\\n        )\\n\\n    @staticmethod\\n    def _orientations(tile: np.ndarray) -> Iterator[np.ndarray]:\\n        \\\"\\\"\\\"Generate all orientations for tiles.\\\"\\\"\\\"\\n        for rotation in (np.rot90(tile, i) for i in range(1, 5)):\\n            yield rotation\\n            yield np.flipud(rotation)\\n\\n    def _borders_match(self, tile_1: np.ndarray, tile_2: np.ndarray) -> bool:\\n        \\\"\\\"\\\"Return matching tiles and direction their borders match.\\\"\\\"\\\"\\n        for tile in self._orientations(tile_2):\\n            if (tile_1[0] == tile[-1]).all():\\n                return tile, (-1, 0)\\n            if (tile_1[-1] == tile[0]).all():\\n                return tile, (1, 0)\\n            if (tile_1[:, -1] == tile[:, 0]).all():\\n                return tile, (0, 1)\\n            if (tile_1[:, 0] == tile[:, -1]).all():\\n                return tile, (0, -1)\\n\\n    def _create_border_graph(self) -> nx.Graph:\\n        \\\"\\\"\\\"Return graph where each matching border has an edge from larger to smaller tile id.\\\"\\\"\\\"\\n        return nx.Graph(\\n            [\\n                (int(id_1), int(id_2))\\n                for (id_1, tile_1), (id_2, tile_2) in itertools.product(\\n                    self._tiles.items(), repeat=2\\n                )\\n                if id_1 > id_2 and self._borders_match(tile_1, tile_2)\\n            ]\\n        )\\n\\n    def _form_image(self) -> None:\\n        \\\"\\\"\\\"Form the image from tiles by matching tiles one by one.\\\"\\\"\\\"\\n        border_graph = self._create_border_graph()\\n        first_id = next(iter(self._tiles.keys()))\\n        stack = [(first_id, (0, 0))]\\n        locations = {(0, 0): first_id}\\n        seen: Set[int] = set()\\n\\n        while stack:\\n            id_1, location = stack.pop()\\n            for id_2 in border_graph.neighbors(id_1):\\n                if id_2 in seen:\\n                    continue\\n                seen.add(id_2)\\n                tile, direction = self._borders_match(\\n                    self._tiles[id_1], self._tiles[id_2]\\n                )\\n                self._tiles[id_2] = tile\\n                next_location = tuple(a + b for a, b in zip(location, direction))\\n                stack.append((id_2, next_location))\\n                locations[next_location] = id_2\\n\\n        n = int(math.sqrt(len(self._tiles)))\\n        m = self._tile_size - 2\\n        image = np.empty((n * m, n * m), dtype=np.int)\\n        offset_x = min(x for x, _ in locations)\\n        offset_y = min(y for _, y in locations)\\n        self._tile_positions = [[0] * n for _ in range(n)]\\n\\n        for i in range(n):\\n            for j in range(n):\\n                tile_id = locations[i + offset_x, j + offset_y]\\n                tile = self._tiles[tile_id][1:-1, 1:-1]\\n                image[i * m : (i + 1) * m, j * m : (j + 1) * m] = tile\\n                self._tile_positions[i][j] = tile_id\\n\\n        seamonster = [\\n            \\\"                  # \\\",\\n            \\\"#    ##    ##    ###\\\",\\n            \\\" #  #  #  #  #  #   \\\",\\n        ]\\n        kernel = np.array([c == \\\"#\\\" for line in seamonster for c in line]).reshape(\\n            (len(seamonster), len(seamonster[0]))\\n        )\\n        monster_size = kernel.sum()\\n        for orientation in self._orientations(image):\\n            matches = (\\n                correlate(orientation, kernel, mode=\\\"constant\\\") == monster_size\\n            ).sum()\\n            if matches > 0:\\n                self._roughness = orientation.sum() - matches * monster_size\\n\\n    @property\\n    def corner_id_prod(self):\\n        \\\"\\\"\\\"Return product of corner ids.\\\"\\\"\\\"\\n        n = int(math.sqrt(len(self._tiles)))\\n        corners = ((0, 0), (0, n - 1), (n - 1, 0), (n - 1, n - 1))\\n        return math.prod([self._tile_positions[i][j] for i, j in corners])\\n\\n    @property\\n    def roughness(self):\\n        \\\"\\\"\\\"Return roughness after it has been calculated.\\\"\\\"\\\"\\n        return self._roughness\";\n",
       "                var nbb_cells = Jupyter.notebook.get_cells();\n",
       "                for (var i = 0; i < nbb_cells.length; ++i) {\n",
       "                    if (nbb_cells[i].input_prompt_number == nbb_cell_id) {\n",
       "                        if (nbb_cells[i].get_text() == nbb_unformatted_code) {\n",
       "                             nbb_cells[i].set_text(nbb_formatted_code);\n",
       "                        }\n",
       "                        break;\n",
       "                    }\n",
       "                }\n",
       "            }, 500);\n",
       "            "
      ],
      "text/plain": [
       "<IPython.core.display.Javascript object>"
      ]
     },
     "metadata": {},
     "output_type": "display_data"
    }
   ],
   "source": [
    "from scipy.ndimage import correlate\n",
    "\n",
    "\n",
    "class ImageParser:\n",
    "    def __init__(self, blocks: List[str]) -> None:\n",
    "        \"\"\"Initialize tiles.\"\"\"\n",
    "        self._get_num = re.compile(\"\\d+\")\n",
    "        self._tiles = dict(self._parse_id_and_tile(block) for block in blocks)\n",
    "        self._tile_size = len(next(iter(self._tiles.values())))\n",
    "        self._form_image()\n",
    "\n",
    "    def _parse_id_and_tile(self, block: str) -> Tuple[int, np.ndarray]:\n",
    "        \"\"\"Parse single id and tile from one block.\"\"\"\n",
    "        id_row, *tile_rows = block.splitlines()\n",
    "        return int(self._get_num.findall(id_row)[0]), np.array(\n",
    "            [[c == \"#\" for c in row] for row in tile_rows]\n",
    "        )\n",
    "\n",
    "    @staticmethod\n",
    "    def _orientations(tile: np.ndarray) -> Iterator[np.ndarray]:\n",
    "        \"\"\"Generate all orientations for tiles.\"\"\"\n",
    "        for rotation in (np.rot90(tile, i) for i in range(1, 5)):\n",
    "            yield rotation\n",
    "            yield np.flipud(rotation)\n",
    "\n",
    "    def _borders_match(self, tile_1: np.ndarray, tile_2: np.ndarray) -> bool:\n",
    "        \"\"\"Return matching tiles and direction their borders match.\"\"\"\n",
    "        for tile in self._orientations(tile_2):\n",
    "            if (tile_1[0] == tile[-1]).all():\n",
    "                return tile, (-1, 0)\n",
    "            if (tile_1[-1] == tile[0]).all():\n",
    "                return tile, (1, 0)\n",
    "            if (tile_1[:, -1] == tile[:, 0]).all():\n",
    "                return tile, (0, 1)\n",
    "            if (tile_1[:, 0] == tile[:, -1]).all():\n",
    "                return tile, (0, -1)\n",
    "\n",
    "    def _create_border_graph(self) -> nx.Graph:\n",
    "        \"\"\"Return graph where each matching border has an edge from larger to smaller tile id.\"\"\"\n",
    "        return nx.Graph(\n",
    "            [\n",
    "                (int(id_1), int(id_2))\n",
    "                for (id_1, tile_1), (id_2, tile_2) in itertools.product(\n",
    "                    self._tiles.items(), repeat=2\n",
    "                )\n",
    "                if id_1 > id_2 and self._borders_match(tile_1, tile_2)\n",
    "            ]\n",
    "        )\n",
    "\n",
    "    def _form_image(self) -> None:\n",
    "        \"\"\"Form the image from tiles by matching tiles one by one.\"\"\"\n",
    "        border_graph = self._create_border_graph()\n",
    "        first_id = next(iter(self._tiles.keys()))\n",
    "        stack = [(first_id, (0, 0))]\n",
    "        locations = {(0, 0): first_id}\n",
    "        seen: Set[int] = set()\n",
    "\n",
    "        while stack:\n",
    "            id_1, location = stack.pop()\n",
    "            for id_2 in border_graph.neighbors(id_1):\n",
    "                if id_2 in seen:\n",
    "                    continue\n",
    "                seen.add(id_2)\n",
    "                tile, direction = self._borders_match(\n",
    "                    self._tiles[id_1], self._tiles[id_2]\n",
    "                )\n",
    "                self._tiles[id_2] = tile\n",
    "                next_location = tuple(a + b for a, b in zip(location, direction))\n",
    "                stack.append((id_2, next_location))\n",
    "                locations[next_location] = id_2\n",
    "\n",
    "        n = int(math.sqrt(len(self._tiles)))\n",
    "        m = self._tile_size - 2\n",
    "        image = np.empty((n * m, n * m), dtype=np.int)\n",
    "        offset_x = min(x for x, _ in locations)\n",
    "        offset_y = min(y for _, y in locations)\n",
    "        self._tile_positions = [[0] * n for _ in range(n)]\n",
    "\n",
    "        for i in range(n):\n",
    "            for j in range(n):\n",
    "                tile_id = locations[i + offset_x, j + offset_y]\n",
    "                tile = self._tiles[tile_id][1:-1, 1:-1]\n",
    "                image[i * m : (i + 1) * m, j * m : (j + 1) * m] = tile\n",
    "                self._tile_positions[i][j] = tile_id\n",
    "\n",
    "        seamonster = [\n",
    "            \"                  # \",\n",
    "            \"#    ##    ##    ###\",\n",
    "            \" #  #  #  #  #  #   \",\n",
    "        ]\n",
    "        kernel = np.array([c == \"#\" for line in seamonster for c in line]).reshape(\n",
    "            (len(seamonster), len(seamonster[0]))\n",
    "        )\n",
    "        monster_size = kernel.sum()\n",
    "        for orientation in self._orientations(image):\n",
    "            matches = (\n",
    "                correlate(orientation, kernel, mode=\"constant\") == monster_size\n",
    "            ).sum()\n",
    "            if matches > 0:\n",
    "                self._roughness = orientation.sum() - matches * monster_size\n",
    "\n",
    "    @property\n",
    "    def corner_id_prod(self):\n",
    "        \"\"\"Return product of corner ids.\"\"\"\n",
    "        n = int(math.sqrt(len(self._tiles)))\n",
    "        corners = ((0, 0), (0, n - 1), (n - 1, 0), (n - 1, n - 1))\n",
    "        return math.prod([self._tile_positions[i][j] for i, j in corners])\n",
    "\n",
    "    @property\n",
    "    def roughness(self):\n",
    "        \"\"\"Return roughness after it has been calculated.\"\"\"\n",
    "        return self._roughness"
   ]
  },
  {
   "cell_type": "code",
   "execution_count": 79,
   "metadata": {},
   "outputs": [
    {
     "data": {
      "application/javascript": [
       "\n",
       "            setTimeout(function() {\n",
       "                var nbb_cell_id = 79;\n",
       "                var nbb_unformatted_code = \"def test_day_20() -> None:\\n    example = \\\"\\\"\\\"Tile 2311:\\n..##.#..#.\\n##..#.....\\n#...##..#.\\n####.#...#\\n##.##.###.\\n##...#.###\\n.#.#.#..##\\n..#....#..\\n###...#.#.\\n..###..###\\n\\nTile 1951:\\n#.##...##.\\n#.####...#\\n.....#..##\\n#...######\\n.##.#....#\\n.###.#####\\n###.##.##.\\n.###....#.\\n..#.#..#.#\\n#...##.#..\\n\\nTile 1171:\\n####...##.\\n#..##.#..#\\n##.#..#.#.\\n.###.####.\\n..###.####\\n.##....##.\\n.#...####.\\n#.##.####.\\n####..#...\\n.....##...\\n\\nTile 1427:\\n###.##.#..\\n.#..#.##..\\n.#.##.#..#\\n#.#.#.##.#\\n....#...##\\n...##..##.\\n...#.#####\\n.#.####.#.\\n..#..###.#\\n..##.#..#.\\n\\nTile 1489:\\n##.#.#....\\n..##...#..\\n.##..##...\\n..#...#...\\n#####...#.\\n#..#.#.#.#\\n...#.#.#..\\n##.#...##.\\n..##.##.##\\n###.##.#..\\n\\nTile 2473:\\n#....####.\\n#..#.##...\\n#.##..#...\\n######.#.#\\n.#...#.#.#\\n.#########\\n.###.#..#.\\n########.#\\n##...##.#.\\n..###.#.#.\\n\\nTile 2971:\\n..#.#....#\\n#...###...\\n#.#.###...\\n##.##..#..\\n.#####..##\\n.#..####.#\\n#..#.#..#.\\n..####.###\\n..#.#.###.\\n...#.#.#.#\\n\\nTile 2729:\\n...#.#.#.#\\n####.#....\\n..#.#.....\\n....#..#.#\\n.##..##.#.\\n.#.####...\\n####.#.#..\\n##.####...\\n##..#.##..\\n#.##...##.\\n\\nTile 3079:\\n#.#.#####.\\n.#..######\\n..#.......\\n######....\\n####.#..#.\\n.#...#.##.\\n#.#####.##\\n..#.###...\\n..#.......\\n..#.###...\\\"\\\"\\\".split(\\n        \\\"\\\\n\\\\n\\\"\\n    )\\n    parser = ImageParser(blocks=example)\\n    assert parser.corner_id_prod == 20899048083289\\n    assert parser.roughness == 273\";\n",
       "                var nbb_formatted_code = \"def test_day_20() -> None:\\n    example = \\\"\\\"\\\"Tile 2311:\\n..##.#..#.\\n##..#.....\\n#...##..#.\\n####.#...#\\n##.##.###.\\n##...#.###\\n.#.#.#..##\\n..#....#..\\n###...#.#.\\n..###..###\\n\\nTile 1951:\\n#.##...##.\\n#.####...#\\n.....#..##\\n#...######\\n.##.#....#\\n.###.#####\\n###.##.##.\\n.###....#.\\n..#.#..#.#\\n#...##.#..\\n\\nTile 1171:\\n####...##.\\n#..##.#..#\\n##.#..#.#.\\n.###.####.\\n..###.####\\n.##....##.\\n.#...####.\\n#.##.####.\\n####..#...\\n.....##...\\n\\nTile 1427:\\n###.##.#..\\n.#..#.##..\\n.#.##.#..#\\n#.#.#.##.#\\n....#...##\\n...##..##.\\n...#.#####\\n.#.####.#.\\n..#..###.#\\n..##.#..#.\\n\\nTile 1489:\\n##.#.#....\\n..##...#..\\n.##..##...\\n..#...#...\\n#####...#.\\n#..#.#.#.#\\n...#.#.#..\\n##.#...##.\\n..##.##.##\\n###.##.#..\\n\\nTile 2473:\\n#....####.\\n#..#.##...\\n#.##..#...\\n######.#.#\\n.#...#.#.#\\n.#########\\n.###.#..#.\\n########.#\\n##...##.#.\\n..###.#.#.\\n\\nTile 2971:\\n..#.#....#\\n#...###...\\n#.#.###...\\n##.##..#..\\n.#####..##\\n.#..####.#\\n#..#.#..#.\\n..####.###\\n..#.#.###.\\n...#.#.#.#\\n\\nTile 2729:\\n...#.#.#.#\\n####.#....\\n..#.#.....\\n....#..#.#\\n.##..##.#.\\n.#.####...\\n####.#.#..\\n##.####...\\n##..#.##..\\n#.##...##.\\n\\nTile 3079:\\n#.#.#####.\\n.#..######\\n..#.......\\n######....\\n####.#..#.\\n.#...#.##.\\n#.#####.##\\n..#.###...\\n..#.......\\n..#.###...\\\"\\\"\\\".split(\\n        \\\"\\\\n\\\\n\\\"\\n    )\\n    parser = ImageParser(blocks=example)\\n    assert parser.corner_id_prod == 20899048083289\\n    assert parser.roughness == 273\";\n",
       "                var nbb_cells = Jupyter.notebook.get_cells();\n",
       "                for (var i = 0; i < nbb_cells.length; ++i) {\n",
       "                    if (nbb_cells[i].input_prompt_number == nbb_cell_id) {\n",
       "                        if (nbb_cells[i].get_text() == nbb_unformatted_code) {\n",
       "                             nbb_cells[i].set_text(nbb_formatted_code);\n",
       "                        }\n",
       "                        break;\n",
       "                    }\n",
       "                }\n",
       "            }, 500);\n",
       "            "
      ],
      "text/plain": [
       "<IPython.core.display.Javascript object>"
      ]
     },
     "metadata": {},
     "output_type": "display_data"
    }
   ],
   "source": [
    "def test_day_20() -> None:\n",
    "    example = \"\"\"Tile 2311:\n",
    "..##.#..#.\n",
    "##..#.....\n",
    "#...##..#.\n",
    "####.#...#\n",
    "##.##.###.\n",
    "##...#.###\n",
    ".#.#.#..##\n",
    "..#....#..\n",
    "###...#.#.\n",
    "..###..###\n",
    "\n",
    "Tile 1951:\n",
    "#.##...##.\n",
    "#.####...#\n",
    ".....#..##\n",
    "#...######\n",
    ".##.#....#\n",
    ".###.#####\n",
    "###.##.##.\n",
    ".###....#.\n",
    "..#.#..#.#\n",
    "#...##.#..\n",
    "\n",
    "Tile 1171:\n",
    "####...##.\n",
    "#..##.#..#\n",
    "##.#..#.#.\n",
    ".###.####.\n",
    "..###.####\n",
    ".##....##.\n",
    ".#...####.\n",
    "#.##.####.\n",
    "####..#...\n",
    ".....##...\n",
    "\n",
    "Tile 1427:\n",
    "###.##.#..\n",
    ".#..#.##..\n",
    ".#.##.#..#\n",
    "#.#.#.##.#\n",
    "....#...##\n",
    "...##..##.\n",
    "...#.#####\n",
    ".#.####.#.\n",
    "..#..###.#\n",
    "..##.#..#.\n",
    "\n",
    "Tile 1489:\n",
    "##.#.#....\n",
    "..##...#..\n",
    ".##..##...\n",
    "..#...#...\n",
    "#####...#.\n",
    "#..#.#.#.#\n",
    "...#.#.#..\n",
    "##.#...##.\n",
    "..##.##.##\n",
    "###.##.#..\n",
    "\n",
    "Tile 2473:\n",
    "#....####.\n",
    "#..#.##...\n",
    "#.##..#...\n",
    "######.#.#\n",
    ".#...#.#.#\n",
    ".#########\n",
    ".###.#..#.\n",
    "########.#\n",
    "##...##.#.\n",
    "..###.#.#.\n",
    "\n",
    "Tile 2971:\n",
    "..#.#....#\n",
    "#...###...\n",
    "#.#.###...\n",
    "##.##..#..\n",
    ".#####..##\n",
    ".#..####.#\n",
    "#..#.#..#.\n",
    "..####.###\n",
    "..#.#.###.\n",
    "...#.#.#.#\n",
    "\n",
    "Tile 2729:\n",
    "...#.#.#.#\n",
    "####.#....\n",
    "..#.#.....\n",
    "....#..#.#\n",
    ".##..##.#.\n",
    ".#.####...\n",
    "####.#.#..\n",
    "##.####...\n",
    "##..#.##..\n",
    "#.##...##.\n",
    "\n",
    "Tile 3079:\n",
    "#.#.#####.\n",
    ".#..######\n",
    "..#.......\n",
    "######....\n",
    "####.#..#.\n",
    ".#...#.##.\n",
    "#.#####.##\n",
    "..#.###...\n",
    "..#.......\n",
    "..#.###...\"\"\".split(\n",
    "        \"\\n\\n\"\n",
    "    )\n",
    "    parser = ImageParser(blocks=example)\n",
    "    assert parser.corner_id_prod == 20899048083289\n",
    "    assert parser.roughness == 273"
   ]
  },
  {
   "cell_type": "code",
   "execution_count": 80,
   "metadata": {},
   "outputs": [
    {
     "data": {
      "application/javascript": [
       "\n",
       "            setTimeout(function() {\n",
       "                var nbb_cell_id = 80;\n",
       "                var nbb_unformatted_code = \"def day_20() -> Solution:\\n    parser = ImageParser(blocks=data_to_blocks(day=20))\\n    return parser.corner_id_prod, parser.roughness\";\n",
       "                var nbb_formatted_code = \"def day_20() -> Solution:\\n    parser = ImageParser(blocks=data_to_blocks(day=20))\\n    return parser.corner_id_prod, parser.roughness\";\n",
       "                var nbb_cells = Jupyter.notebook.get_cells();\n",
       "                for (var i = 0; i < nbb_cells.length; ++i) {\n",
       "                    if (nbb_cells[i].input_prompt_number == nbb_cell_id) {\n",
       "                        if (nbb_cells[i].get_text() == nbb_unformatted_code) {\n",
       "                             nbb_cells[i].set_text(nbb_formatted_code);\n",
       "                        }\n",
       "                        break;\n",
       "                    }\n",
       "                }\n",
       "            }, 500);\n",
       "            "
      ],
      "text/plain": [
       "<IPython.core.display.Javascript object>"
      ]
     },
     "metadata": {},
     "output_type": "display_data"
    }
   ],
   "source": [
    "def day_20() -> Solution:\n",
    "    parser = ImageParser(blocks=data_to_blocks(day=20))\n",
    "    return parser.corner_id_prod, parser.roughness"
   ]
  },
  {
   "cell_type": "code",
   "execution_count": 81,
   "metadata": {},
   "outputs": [
    {
     "name": "stdout",
     "output_type": "stream",
     "text": [
      "Part 1: 12519494280967\n",
      "Part 2: 2442\n"
     ]
    },
    {
     "data": {
      "application/javascript": [
       "\n",
       "            setTimeout(function() {\n",
       "                var nbb_cell_id = 81;\n",
       "                var nbb_unformatted_code = \"test_day(20)\\nprint_day(20)\";\n",
       "                var nbb_formatted_code = \"test_day(20)\\nprint_day(20)\";\n",
       "                var nbb_cells = Jupyter.notebook.get_cells();\n",
       "                for (var i = 0; i < nbb_cells.length; ++i) {\n",
       "                    if (nbb_cells[i].input_prompt_number == nbb_cell_id) {\n",
       "                        if (nbb_cells[i].get_text() == nbb_unformatted_code) {\n",
       "                             nbb_cells[i].set_text(nbb_formatted_code);\n",
       "                        }\n",
       "                        break;\n",
       "                    }\n",
       "                }\n",
       "            }, 500);\n",
       "            "
      ],
      "text/plain": [
       "<IPython.core.display.Javascript object>"
      ]
     },
     "metadata": {},
     "output_type": "display_data"
    }
   ],
   "source": [
    "test_day(20)\n",
    "print_day(20)"
   ]
  },
  {
   "cell_type": "markdown",
   "metadata": {},
   "source": [
    "## Day 21\n",
    "\n",
    "**Task**: Parse allergens and match them with foods from encoded list. Report amount of foods without allergens and all foods with allergens.\n",
    "\n",
    "This puzzle is actually almost like the one from the day 16, but instead of building bipartite graph, I decided to take another approach: first, find out all potentially allerginic foods by filtering them with set intersections. Then find out which allergen matches just one food, pop it out, remove food from all other allergen sets and continue until there's no allergens left.\n",
    "\n",
    "Answer for first is solved by merging sets for dictionary `potential` and checking food appearances against those. Second is just sorting allergens by food."
   ]
  },
  {
   "cell_type": "code",
   "execution_count": 82,
   "metadata": {
    "pycharm": {
     "name": "#%%\n"
    }
   },
   "outputs": [
    {
     "data": {
      "application/javascript": [
       "\n",
       "            setTimeout(function() {\n",
       "                var nbb_cell_id = 82;\n",
       "                var nbb_unformatted_code = \"Food = Allergen = str\\n\\n\\ndef solve_day_21(lines: List[str]) -> Solution:\\n    potential_allergens: Dict[Allergen, Set[Food]] = defaultdict(set)\\n    food_appearances = Counter()\\n    final_allergens: List[Tuple[Food, Allergen]] = []\\n    regex = re.compile(r\\\"(\\\\w+)\\\")\\n\\n    for line in lines:\\n        foods, allergens = [regex.findall(part) for part in line.split(\\\"contains\\\")]\\n        food_appearances.update(foods)\\n        for allergen in allergens:\\n            if allergen not in potential_allergens:\\n                potential_allergens[allergen] |= set(foods)\\n            potential_allergens[allergen] &= set(foods)\\n\\n    allergenic_foods = functools.reduce(\\n        lambda x, y: {*x, *y}, potential_allergens.values()\\n    )\\n\\n    while potential_allergens:\\n        allergen = next(\\n            allergen\\n            for allergen in potential_allergens\\n            if len(potential_allergens[allergen]) == 1\\n        )\\n        food = list(potential_allergens[allergen])[0]\\n        final_allergens.append((allergen, food))\\n        for foods in potential_allergens.values():\\n            foods.discard(food)\\n        del potential_allergens[allergen]\\n\\n    first = sum(\\n        appearances\\n        for food, appearances in food_appearances.items()\\n        if food not in allergenic_foods\\n    )\\n    second = \\\",\\\".join(food for _, food in sorted(final_allergens))\\n\\n    return first, second\";\n",
       "                var nbb_formatted_code = \"Food = Allergen = str\\n\\n\\ndef solve_day_21(lines: List[str]) -> Solution:\\n    potential_allergens: Dict[Allergen, Set[Food]] = defaultdict(set)\\n    food_appearances = Counter()\\n    final_allergens: List[Tuple[Food, Allergen]] = []\\n    regex = re.compile(r\\\"(\\\\w+)\\\")\\n\\n    for line in lines:\\n        foods, allergens = [regex.findall(part) for part in line.split(\\\"contains\\\")]\\n        food_appearances.update(foods)\\n        for allergen in allergens:\\n            if allergen not in potential_allergens:\\n                potential_allergens[allergen] |= set(foods)\\n            potential_allergens[allergen] &= set(foods)\\n\\n    allergenic_foods = functools.reduce(\\n        lambda x, y: {*x, *y}, potential_allergens.values()\\n    )\\n\\n    while potential_allergens:\\n        allergen = next(\\n            allergen\\n            for allergen in potential_allergens\\n            if len(potential_allergens[allergen]) == 1\\n        )\\n        food = list(potential_allergens[allergen])[0]\\n        final_allergens.append((allergen, food))\\n        for foods in potential_allergens.values():\\n            foods.discard(food)\\n        del potential_allergens[allergen]\\n\\n    first = sum(\\n        appearances\\n        for food, appearances in food_appearances.items()\\n        if food not in allergenic_foods\\n    )\\n    second = \\\",\\\".join(food for _, food in sorted(final_allergens))\\n\\n    return first, second\";\n",
       "                var nbb_cells = Jupyter.notebook.get_cells();\n",
       "                for (var i = 0; i < nbb_cells.length; ++i) {\n",
       "                    if (nbb_cells[i].input_prompt_number == nbb_cell_id) {\n",
       "                        if (nbb_cells[i].get_text() == nbb_unformatted_code) {\n",
       "                             nbb_cells[i].set_text(nbb_formatted_code);\n",
       "                        }\n",
       "                        break;\n",
       "                    }\n",
       "                }\n",
       "            }, 500);\n",
       "            "
      ],
      "text/plain": [
       "<IPython.core.display.Javascript object>"
      ]
     },
     "metadata": {},
     "output_type": "display_data"
    }
   ],
   "source": [
    "Food = Allergen = str\n",
    "\n",
    "\n",
    "def solve_day_21(lines: List[str]) -> Solution:\n",
    "    potential_allergens: Dict[Allergen, Set[Food]] = defaultdict(set)\n",
    "    food_appearances = Counter()\n",
    "    final_allergens: List[Tuple[Food, Allergen]] = []\n",
    "    regex = re.compile(r\"(\\w+)\")\n",
    "\n",
    "    for line in lines:\n",
    "        foods, allergens = [regex.findall(part) for part in line.split(\"contains\")]\n",
    "        food_appearances.update(foods)\n",
    "        for allergen in allergens:\n",
    "            if allergen not in potential_allergens:\n",
    "                potential_allergens[allergen] |= set(foods)\n",
    "            potential_allergens[allergen] &= set(foods)\n",
    "\n",
    "    allergenic_foods = functools.reduce(\n",
    "        lambda x, y: {*x, *y}, potential_allergens.values()\n",
    "    )\n",
    "\n",
    "    while potential_allergens:\n",
    "        allergen = next(\n",
    "            allergen\n",
    "            for allergen in potential_allergens\n",
    "            if len(potential_allergens[allergen]) == 1\n",
    "        )\n",
    "        food = list(potential_allergens[allergen])[0]\n",
    "        final_allergens.append((allergen, food))\n",
    "        for foods in potential_allergens.values():\n",
    "            foods.discard(food)\n",
    "        del potential_allergens[allergen]\n",
    "\n",
    "    first = sum(\n",
    "        appearances\n",
    "        for food, appearances in food_appearances.items()\n",
    "        if food not in allergenic_foods\n",
    "    )\n",
    "    second = \",\".join(food for _, food in sorted(final_allergens))\n",
    "\n",
    "    return first, second"
   ]
  },
  {
   "cell_type": "code",
   "execution_count": 83,
   "metadata": {},
   "outputs": [
    {
     "data": {
      "application/javascript": [
       "\n",
       "            setTimeout(function() {\n",
       "                var nbb_cell_id = 83;\n",
       "                var nbb_unformatted_code = \"def test_day_21() -> None:\\n    example = [\\n        \\\"mxmxvkd kfcds sqjhc nhms (contains dairy, fish)\\\"\\n        \\\"trh fvjkl sbzzf mxmxvkd (contains dairy)\\\"\\n        \\\"sqjhc fvjkl (contains soy)\\\"\\n        \\\"sqjhc mxmxvkd sbzzf (contains fish)\\\"\\n    ]\\n    assert solve_day_21(example) == (5, \\\"mxmxvkd,sqjhc,fvjkl\\\")\";\n",
       "                var nbb_formatted_code = \"def test_day_21() -> None:\\n    example = [\\n        \\\"mxmxvkd kfcds sqjhc nhms (contains dairy, fish)\\\"\\n        \\\"trh fvjkl sbzzf mxmxvkd (contains dairy)\\\"\\n        \\\"sqjhc fvjkl (contains soy)\\\"\\n        \\\"sqjhc mxmxvkd sbzzf (contains fish)\\\"\\n    ]\\n    assert solve_day_21(example) == (5, \\\"mxmxvkd,sqjhc,fvjkl\\\")\";\n",
       "                var nbb_cells = Jupyter.notebook.get_cells();\n",
       "                for (var i = 0; i < nbb_cells.length; ++i) {\n",
       "                    if (nbb_cells[i].input_prompt_number == nbb_cell_id) {\n",
       "                        if (nbb_cells[i].get_text() == nbb_unformatted_code) {\n",
       "                             nbb_cells[i].set_text(nbb_formatted_code);\n",
       "                        }\n",
       "                        break;\n",
       "                    }\n",
       "                }\n",
       "            }, 500);\n",
       "            "
      ],
      "text/plain": [
       "<IPython.core.display.Javascript object>"
      ]
     },
     "metadata": {},
     "output_type": "display_data"
    }
   ],
   "source": [
    "def test_day_21() -> None:\n",
    "    example = [\n",
    "        \"mxmxvkd kfcds sqjhc nhms (contains dairy, fish)\"\n",
    "        \"trh fvjkl sbzzf mxmxvkd (contains dairy)\"\n",
    "        \"sqjhc fvjkl (contains soy)\"\n",
    "        \"sqjhc mxmxvkd sbzzf (contains fish)\"\n",
    "    ]\n",
    "    assert solve_day_21(example) == (5, \"mxmxvkd,sqjhc,fvjkl\")"
   ]
  },
  {
   "cell_type": "code",
   "execution_count": 84,
   "metadata": {},
   "outputs": [
    {
     "data": {
      "application/javascript": [
       "\n",
       "            setTimeout(function() {\n",
       "                var nbb_cell_id = 84;\n",
       "                var nbb_unformatted_code = \"def day_21() -> Solution:\\n    return solve_day_21(data_to_lines(day=21))\";\n",
       "                var nbb_formatted_code = \"def day_21() -> Solution:\\n    return solve_day_21(data_to_lines(day=21))\";\n",
       "                var nbb_cells = Jupyter.notebook.get_cells();\n",
       "                for (var i = 0; i < nbb_cells.length; ++i) {\n",
       "                    if (nbb_cells[i].input_prompt_number == nbb_cell_id) {\n",
       "                        if (nbb_cells[i].get_text() == nbb_unformatted_code) {\n",
       "                             nbb_cells[i].set_text(nbb_formatted_code);\n",
       "                        }\n",
       "                        break;\n",
       "                    }\n",
       "                }\n",
       "            }, 500);\n",
       "            "
      ],
      "text/plain": [
       "<IPython.core.display.Javascript object>"
      ]
     },
     "metadata": {},
     "output_type": "display_data"
    }
   ],
   "source": [
    "def day_21() -> Solution:\n",
    "    return solve_day_21(data_to_lines(day=21))"
   ]
  },
  {
   "cell_type": "code",
   "execution_count": 85,
   "metadata": {
    "pycharm": {
     "name": "#%%\n"
    },
    "scrolled": false
   },
   "outputs": [
    {
     "name": "stdout",
     "output_type": "stream",
     "text": [
      "Part 1: 2779\n",
      "Part 2: lkv,lfcppl,jhsrjlj,jrhvk,zkls,qjltjd,xslr,rfpbpn\n"
     ]
    },
    {
     "data": {
      "application/javascript": [
       "\n",
       "            setTimeout(function() {\n",
       "                var nbb_cell_id = 85;\n",
       "                var nbb_unformatted_code = \"print_day(21)\";\n",
       "                var nbb_formatted_code = \"print_day(21)\";\n",
       "                var nbb_cells = Jupyter.notebook.get_cells();\n",
       "                for (var i = 0; i < nbb_cells.length; ++i) {\n",
       "                    if (nbb_cells[i].input_prompt_number == nbb_cell_id) {\n",
       "                        if (nbb_cells[i].get_text() == nbb_unformatted_code) {\n",
       "                             nbb_cells[i].set_text(nbb_formatted_code);\n",
       "                        }\n",
       "                        break;\n",
       "                    }\n",
       "                }\n",
       "            }, 500);\n",
       "            "
      ],
      "text/plain": [
       "<IPython.core.display.Javascript object>"
      ]
     },
     "metadata": {},
     "output_type": "display_data"
    }
   ],
   "source": [
    "print_day(21)"
   ]
  },
  {
   "cell_type": "markdown",
   "metadata": {},
   "source": [
    "## Day 22\n",
    "\n",
    "**Task**: Play games called \"Combat\" and \"Recursive Combat\".\n",
    "\n",
    "Good old space cards from 2019, but this time, luckily, without a lot of arithmetics ([check this out if you want to see more](https://adventofcode.com/2019/day/22)). \n",
    "\n",
    "For efficiently simulating cards in decks, it's best to use deque: it supports $O(1)$ insertions and removals in both ends and also gives quite efficient way for slicing. This way\n",
    "it's easy to run games according to given rules. "
   ]
  },
  {
   "cell_type": "code",
   "execution_count": 86,
   "metadata": {
    "pycharm": {
     "name": "#%%\n"
    }
   },
   "outputs": [
    {
     "data": {
      "application/javascript": [
       "\n",
       "            setTimeout(function() {\n",
       "                var nbb_cell_id = 86;\n",
       "                var nbb_unformatted_code = \"Winner = str\\nScore = int\\n\\n\\ndef solve_day_22(blocks: List[str]) -> Solution:\\n    def score(deck: Deque) -> Score:\\n        \\\"\\\"\\\"Calculate score.\\\"\\\"\\\"\\n        return sum((i + 1) * num for i, num in enumerate(reversed(deck)))\\n\\n    def play_first(decks: List[Deque]) -> Deque:\\n        \\\"\\\"\\\"Play basic version Combat.\\\"\\\"\\\"\\n        while decks[0] and decks[1]:\\n            cards = [deck.popleft() for deck in decks]\\n            if cards[0] > cards[1]:\\n                decks[0].extend(cards)\\n            else:\\n                decks[1].extend(reversed(cards))\\n        return score(deck=decks[0]) if decks[0] else score(deck=decks[1])\\n\\n    def play_second(decks: List[Deque], at_root=False) -> Union[Winner, Score]:\\n        \\\"\\\"\\\"Play recursive version Combat.\\\"\\\"\\\"\\n        seen = [set() for _ in range(2)]\\n        while decks[0] and decks[1]:\\n            if any(tuple(decks[i]) in seen[i] for i in range(2)):\\n                return \\\"Player 1\\\"\\n            seen[0].add(tuple(decks[0]))\\n            seen[1].add(tuple(decks[1]))\\n            cards = [deck.popleft() for deck in decks]\\n            if all(len(decks[i]) >= cards[i] for i in range(2)):\\n                new_decks = [\\n                    deque(itertools.islice(a, 0, b)) for a, b in zip(decks, cards)\\n                ]\\n                winner = play_second(decks=new_decks)\\n            else:\\n                winner = \\\"Player 1\\\" if cards[0] > cards[1] else \\\"Player 2\\\"\\n            if winner == \\\"Player 1\\\":\\n                decks[0].extend(cards)\\n            else:\\n                decks[1].extend(reversed(cards))\\n        winner = \\\"Player 1\\\" if decks[0] else \\\"Player 2\\\"\\n        if at_root:\\n            return score(deck=decks[0]) if decks[0] else score(deck=decks[1])\\n        return winner\\n\\n    def run(mode: Literal[\\\"first\\\", \\\"second\\\"]) -> Score:\\n        \\\"\\\"\\\"Form decks and \\\"\\\"\\\"\\n        decks = [deque([int(x) for x in nums.splitlines()[1:]]) for nums in blocks]\\n        return (\\n            play_second(decks=decks, at_root=True)\\n            if mode == \\\"second\\\"\\n            else play_first(decks=decks)\\n        )\\n\\n    return run(mode=\\\"first\\\"), run(mode=\\\"second\\\")\";\n",
       "                var nbb_formatted_code = \"Winner = str\\nScore = int\\n\\n\\ndef solve_day_22(blocks: List[str]) -> Solution:\\n    def score(deck: Deque) -> Score:\\n        \\\"\\\"\\\"Calculate score.\\\"\\\"\\\"\\n        return sum((i + 1) * num for i, num in enumerate(reversed(deck)))\\n\\n    def play_first(decks: List[Deque]) -> Deque:\\n        \\\"\\\"\\\"Play basic version Combat.\\\"\\\"\\\"\\n        while decks[0] and decks[1]:\\n            cards = [deck.popleft() for deck in decks]\\n            if cards[0] > cards[1]:\\n                decks[0].extend(cards)\\n            else:\\n                decks[1].extend(reversed(cards))\\n        return score(deck=decks[0]) if decks[0] else score(deck=decks[1])\\n\\n    def play_second(decks: List[Deque], at_root=False) -> Union[Winner, Score]:\\n        \\\"\\\"\\\"Play recursive version Combat.\\\"\\\"\\\"\\n        seen = [set() for _ in range(2)]\\n        while decks[0] and decks[1]:\\n            if any(tuple(decks[i]) in seen[i] for i in range(2)):\\n                return \\\"Player 1\\\"\\n            seen[0].add(tuple(decks[0]))\\n            seen[1].add(tuple(decks[1]))\\n            cards = [deck.popleft() for deck in decks]\\n            if all(len(decks[i]) >= cards[i] for i in range(2)):\\n                new_decks = [\\n                    deque(itertools.islice(a, 0, b)) for a, b in zip(decks, cards)\\n                ]\\n                winner = play_second(decks=new_decks)\\n            else:\\n                winner = \\\"Player 1\\\" if cards[0] > cards[1] else \\\"Player 2\\\"\\n            if winner == \\\"Player 1\\\":\\n                decks[0].extend(cards)\\n            else:\\n                decks[1].extend(reversed(cards))\\n        winner = \\\"Player 1\\\" if decks[0] else \\\"Player 2\\\"\\n        if at_root:\\n            return score(deck=decks[0]) if decks[0] else score(deck=decks[1])\\n        return winner\\n\\n    def run(mode: Literal[\\\"first\\\", \\\"second\\\"]) -> Score:\\n        \\\"\\\"\\\"Form decks and \\\"\\\"\\\"\\n        decks = [deque([int(x) for x in nums.splitlines()[1:]]) for nums in blocks]\\n        return (\\n            play_second(decks=decks, at_root=True)\\n            if mode == \\\"second\\\"\\n            else play_first(decks=decks)\\n        )\\n\\n    return run(mode=\\\"first\\\"), run(mode=\\\"second\\\")\";\n",
       "                var nbb_cells = Jupyter.notebook.get_cells();\n",
       "                for (var i = 0; i < nbb_cells.length; ++i) {\n",
       "                    if (nbb_cells[i].input_prompt_number == nbb_cell_id) {\n",
       "                        if (nbb_cells[i].get_text() == nbb_unformatted_code) {\n",
       "                             nbb_cells[i].set_text(nbb_formatted_code);\n",
       "                        }\n",
       "                        break;\n",
       "                    }\n",
       "                }\n",
       "            }, 500);\n",
       "            "
      ],
      "text/plain": [
       "<IPython.core.display.Javascript object>"
      ]
     },
     "metadata": {},
     "output_type": "display_data"
    }
   ],
   "source": [
    "Winner = str\n",
    "Score = int\n",
    "\n",
    "\n",
    "def solve_day_22(blocks: List[str]) -> Solution:\n",
    "    def score(deck: Deque) -> Score:\n",
    "        \"\"\"Calculate score.\"\"\"\n",
    "        return sum((i + 1) * num for i, num in enumerate(reversed(deck)))\n",
    "\n",
    "    def play_first(decks: List[Deque]) -> Deque:\n",
    "        \"\"\"Play basic version Combat.\"\"\"\n",
    "        while decks[0] and decks[1]:\n",
    "            cards = [deck.popleft() for deck in decks]\n",
    "            if cards[0] > cards[1]:\n",
    "                decks[0].extend(cards)\n",
    "            else:\n",
    "                decks[1].extend(reversed(cards))\n",
    "        return score(deck=decks[0]) if decks[0] else score(deck=decks[1])\n",
    "\n",
    "    def play_second(decks: List[Deque], at_root=False) -> Union[Winner, Score]:\n",
    "        \"\"\"Play recursive version Combat.\"\"\"\n",
    "        seen = [set() for _ in range(2)]\n",
    "        while decks[0] and decks[1]:\n",
    "            if any(tuple(decks[i]) in seen[i] for i in range(2)):\n",
    "                return \"Player 1\"\n",
    "            seen[0].add(tuple(decks[0]))\n",
    "            seen[1].add(tuple(decks[1]))\n",
    "            cards = [deck.popleft() for deck in decks]\n",
    "            if all(len(decks[i]) >= cards[i] for i in range(2)):\n",
    "                new_decks = [\n",
    "                    deque(itertools.islice(a, 0, b)) for a, b in zip(decks, cards)\n",
    "                ]\n",
    "                winner = play_second(decks=new_decks)\n",
    "            else:\n",
    "                winner = \"Player 1\" if cards[0] > cards[1] else \"Player 2\"\n",
    "            if winner == \"Player 1\":\n",
    "                decks[0].extend(cards)\n",
    "            else:\n",
    "                decks[1].extend(reversed(cards))\n",
    "        winner = \"Player 1\" if decks[0] else \"Player 2\"\n",
    "        if at_root:\n",
    "            return score(deck=decks[0]) if decks[0] else score(deck=decks[1])\n",
    "        return winner\n",
    "\n",
    "    def run(mode: Literal[\"first\", \"second\"]) -> Score:\n",
    "        \"\"\"Form decks and \"\"\"\n",
    "        decks = [deque([int(x) for x in nums.splitlines()[1:]]) for nums in blocks]\n",
    "        return (\n",
    "            play_second(decks=decks, at_root=True)\n",
    "            if mode == \"second\"\n",
    "            else play_first(decks=decks)\n",
    "        )\n",
    "\n",
    "    return run(mode=\"first\"), run(mode=\"second\")"
   ]
  },
  {
   "cell_type": "code",
   "execution_count": 87,
   "metadata": {},
   "outputs": [
    {
     "data": {
      "application/javascript": [
       "\n",
       "            setTimeout(function() {\n",
       "                var nbb_cell_id = 87;\n",
       "                var nbb_unformatted_code = \"def test_day_22() -> None:\\n    example = [\\\"Player 1:\\\\n9\\\\n2\\\\n6\\\\n3\\\\n1\\\", \\\"Player 2:\\\\n5\\\\n8\\\\n4\\\\n7\\\\n10\\\"]\\n    assert solve_day_22(example) == (306, 291)\";\n",
       "                var nbb_formatted_code = \"def test_day_22() -> None:\\n    example = [\\\"Player 1:\\\\n9\\\\n2\\\\n6\\\\n3\\\\n1\\\", \\\"Player 2:\\\\n5\\\\n8\\\\n4\\\\n7\\\\n10\\\"]\\n    assert solve_day_22(example) == (306, 291)\";\n",
       "                var nbb_cells = Jupyter.notebook.get_cells();\n",
       "                for (var i = 0; i < nbb_cells.length; ++i) {\n",
       "                    if (nbb_cells[i].input_prompt_number == nbb_cell_id) {\n",
       "                        if (nbb_cells[i].get_text() == nbb_unformatted_code) {\n",
       "                             nbb_cells[i].set_text(nbb_formatted_code);\n",
       "                        }\n",
       "                        break;\n",
       "                    }\n",
       "                }\n",
       "            }, 500);\n",
       "            "
      ],
      "text/plain": [
       "<IPython.core.display.Javascript object>"
      ]
     },
     "metadata": {},
     "output_type": "display_data"
    }
   ],
   "source": [
    "def test_day_22() -> None:\n",
    "    example = [\"Player 1:\\n9\\n2\\n6\\n3\\n1\", \"Player 2:\\n5\\n8\\n4\\n7\\n10\"]\n",
    "    assert solve_day_22(example) == (306, 291)"
   ]
  },
  {
   "cell_type": "code",
   "execution_count": 88,
   "metadata": {},
   "outputs": [
    {
     "data": {
      "application/javascript": [
       "\n",
       "            setTimeout(function() {\n",
       "                var nbb_cell_id = 88;\n",
       "                var nbb_unformatted_code = \"def day_22() -> Solution:\\n    return solve_day_22(data_to_blocks(day=22))\";\n",
       "                var nbb_formatted_code = \"def day_22() -> Solution:\\n    return solve_day_22(data_to_blocks(day=22))\";\n",
       "                var nbb_cells = Jupyter.notebook.get_cells();\n",
       "                for (var i = 0; i < nbb_cells.length; ++i) {\n",
       "                    if (nbb_cells[i].input_prompt_number == nbb_cell_id) {\n",
       "                        if (nbb_cells[i].get_text() == nbb_unformatted_code) {\n",
       "                             nbb_cells[i].set_text(nbb_formatted_code);\n",
       "                        }\n",
       "                        break;\n",
       "                    }\n",
       "                }\n",
       "            }, 500);\n",
       "            "
      ],
      "text/plain": [
       "<IPython.core.display.Javascript object>"
      ]
     },
     "metadata": {},
     "output_type": "display_data"
    }
   ],
   "source": [
    "def day_22() -> Solution:\n",
    "    return solve_day_22(data_to_blocks(day=22))"
   ]
  },
  {
   "cell_type": "code",
   "execution_count": 89,
   "metadata": {
    "pycharm": {
     "name": "#%%\n"
    },
    "scrolled": false
   },
   "outputs": [
    {
     "name": "stdout",
     "output_type": "stream",
     "text": [
      "Part 1: 35013\n",
      "Part 2: 32806\n"
     ]
    },
    {
     "data": {
      "application/javascript": [
       "\n",
       "            setTimeout(function() {\n",
       "                var nbb_cell_id = 89;\n",
       "                var nbb_unformatted_code = \"test_day(22)\\nprint_day(22)\";\n",
       "                var nbb_formatted_code = \"test_day(22)\\nprint_day(22)\";\n",
       "                var nbb_cells = Jupyter.notebook.get_cells();\n",
       "                for (var i = 0; i < nbb_cells.length; ++i) {\n",
       "                    if (nbb_cells[i].input_prompt_number == nbb_cell_id) {\n",
       "                        if (nbb_cells[i].get_text() == nbb_unformatted_code) {\n",
       "                             nbb_cells[i].set_text(nbb_formatted_code);\n",
       "                        }\n",
       "                        break;\n",
       "                    }\n",
       "                }\n",
       "            }, 500);\n",
       "            "
      ],
      "text/plain": [
       "<IPython.core.display.Javascript object>"
      ]
     },
     "metadata": {},
     "output_type": "display_data"
    }
   ],
   "source": [
    "test_day(22)\n",
    "print_day(22)"
   ]
  },
  {
   "cell_type": "markdown",
   "metadata": {},
   "source": [
    "## Day 23\n",
    "\n",
    "**Task**: Play cups and balls magic trick for $n$ rounds.\n",
    "\n",
    "This is one of those aoc-puzzles, where it's easy to write first version, then input size \n",
    "bumps up to something like $10^9$ and you're left with solution that runs for 2 hours.\n",
    "\n",
    "Rules themselves are quite simple: take three elements and move them to another place without changing their order, then repeat. A good data structure for this is linked list, but since\n",
    "python doesn't have one in standard library and only single linked list is needed (to know next cups on the right side), one can simulate linked list with regular list. Here, each index \n",
    "$i$ in the list `neighbour` tells which label is on the right side of cup label $i$.\n",
    "\n",
    "And since simulating cup movements is basically just looping over same code $n$ times, it can\n",
    "be sped up with numba."
   ]
  },
  {
   "cell_type": "code",
   "execution_count": 90,
   "metadata": {
    "pycharm": {
     "name": "#%%\n"
    }
   },
   "outputs": [
    {
     "data": {
      "application/javascript": [
       "\n",
       "            setTimeout(function() {\n",
       "                var nbb_cell_id = 90;\n",
       "                var nbb_unformatted_code = \"def solve_day_23(labels: str) -> Solution:\\n    cups = [int(x) for x in labels]\\n\\n    @nb.njit\\n    def run(curr: int, neighbour: np.ndarray, repeat: int) -> np.ndarray:\\n        \\\"\\\"\\\"Run cup movements for n=repeat times.\\\"\\\"\\\"\\n        n = len(neighbour) - 1\\n        for _ in range(repeat):\\n            first = neighbour[curr]\\n            second = neighbour[first]\\n            last = neighbour[second]\\n            values = {first, second, last}\\n\\n            dest = n if curr == 1 else curr - 1\\n            while dest in values:\\n                dest = n if dest == 1 else dest - 1\\n\\n            neighbour[curr] = neighbour[last]\\n            neighbour[last] = neighbour[dest]\\n            neighbour[dest] = first\\n\\n            curr = neighbour[curr]\\n\\n        return neighbour\\n\\n    def solve(mode: Literal[\\\"first\\\", \\\"second\\\"]) -> Union[int, str]:\\n        \\\"\\\"\\\"Initialize neighbour lists and needed variables.\\\"\\\"\\\"\\n        neighbour = np.empty(len(cups) + 1, dtype=np.int64)\\n        n = len(cups)\\n        for i in range(n - 1):\\n            neighbour[cups[i]] = cups[i + 1]\\n        curr = cups[0]\\n\\n        if mode == \\\"second\\\":\\n            neighbour[cups[n - 1]] = n + 1\\n            neighbour = np.append(\\n                neighbour, np.arange(n + 2, 10 ** 6 + 2, dtype=np.int64)\\n            )\\n            neighbour[-1] = cups[0]\\n            repeat = 10 ** 7\\n        else:\\n            neighbour[cups[-1]] = cups[0]\\n            repeat = 100\\n\\n        solution = run(curr=curr, neighbour=neighbour, repeat=repeat)\\n\\n        if mode == \\\"second\\\":\\n            return solution[1] * solution[solution[1]]\\n\\n        curr, ans = 1, []\\n        while (curr := solution[curr]) != 1:\\n            ans.append(str(curr))\\n        return \\\"\\\".join(ans)\\n\\n    return solve(mode=\\\"first\\\"), solve(mode=\\\"second\\\")\";\n",
       "                var nbb_formatted_code = \"def solve_day_23(labels: str) -> Solution:\\n    cups = [int(x) for x in labels]\\n\\n    @nb.njit\\n    def run(curr: int, neighbour: np.ndarray, repeat: int) -> np.ndarray:\\n        \\\"\\\"\\\"Run cup movements for n=repeat times.\\\"\\\"\\\"\\n        n = len(neighbour) - 1\\n        for _ in range(repeat):\\n            first = neighbour[curr]\\n            second = neighbour[first]\\n            last = neighbour[second]\\n            values = {first, second, last}\\n\\n            dest = n if curr == 1 else curr - 1\\n            while dest in values:\\n                dest = n if dest == 1 else dest - 1\\n\\n            neighbour[curr] = neighbour[last]\\n            neighbour[last] = neighbour[dest]\\n            neighbour[dest] = first\\n\\n            curr = neighbour[curr]\\n\\n        return neighbour\\n\\n    def solve(mode: Literal[\\\"first\\\", \\\"second\\\"]) -> Union[int, str]:\\n        \\\"\\\"\\\"Initialize neighbour lists and needed variables.\\\"\\\"\\\"\\n        neighbour = np.empty(len(cups) + 1, dtype=np.int64)\\n        n = len(cups)\\n        for i in range(n - 1):\\n            neighbour[cups[i]] = cups[i + 1]\\n        curr = cups[0]\\n\\n        if mode == \\\"second\\\":\\n            neighbour[cups[n - 1]] = n + 1\\n            neighbour = np.append(\\n                neighbour, np.arange(n + 2, 10 ** 6 + 2, dtype=np.int64)\\n            )\\n            neighbour[-1] = cups[0]\\n            repeat = 10 ** 7\\n        else:\\n            neighbour[cups[-1]] = cups[0]\\n            repeat = 100\\n\\n        solution = run(curr=curr, neighbour=neighbour, repeat=repeat)\\n\\n        if mode == \\\"second\\\":\\n            return solution[1] * solution[solution[1]]\\n\\n        curr, ans = 1, []\\n        while (curr := solution[curr]) != 1:\\n            ans.append(str(curr))\\n        return \\\"\\\".join(ans)\\n\\n    return solve(mode=\\\"first\\\"), solve(mode=\\\"second\\\")\";\n",
       "                var nbb_cells = Jupyter.notebook.get_cells();\n",
       "                for (var i = 0; i < nbb_cells.length; ++i) {\n",
       "                    if (nbb_cells[i].input_prompt_number == nbb_cell_id) {\n",
       "                        if (nbb_cells[i].get_text() == nbb_unformatted_code) {\n",
       "                             nbb_cells[i].set_text(nbb_formatted_code);\n",
       "                        }\n",
       "                        break;\n",
       "                    }\n",
       "                }\n",
       "            }, 500);\n",
       "            "
      ],
      "text/plain": [
       "<IPython.core.display.Javascript object>"
      ]
     },
     "metadata": {},
     "output_type": "display_data"
    }
   ],
   "source": [
    "def solve_day_23(labels: str) -> Solution:\n",
    "    cups = [int(x) for x in labels]\n",
    "\n",
    "    @nb.njit\n",
    "    def run(curr: int, neighbour: np.ndarray, repeat: int) -> np.ndarray:\n",
    "        \"\"\"Run cup movements for n=repeat times.\"\"\"\n",
    "        n = len(neighbour) - 1\n",
    "        for _ in range(repeat):\n",
    "            first = neighbour[curr]\n",
    "            second = neighbour[first]\n",
    "            last = neighbour[second]\n",
    "            values = {first, second, last}\n",
    "\n",
    "            dest = n if curr == 1 else curr - 1\n",
    "            while dest in values:\n",
    "                dest = n if dest == 1 else dest - 1\n",
    "\n",
    "            neighbour[curr] = neighbour[last]\n",
    "            neighbour[last] = neighbour[dest]\n",
    "            neighbour[dest] = first\n",
    "\n",
    "            curr = neighbour[curr]\n",
    "\n",
    "        return neighbour\n",
    "\n",
    "    def solve(mode: Literal[\"first\", \"second\"]) -> Union[int, str]:\n",
    "        \"\"\"Initialize neighbour lists and needed variables.\"\"\"\n",
    "        neighbour = np.empty(len(cups) + 1, dtype=np.int64)\n",
    "        n = len(cups)\n",
    "        for i in range(n - 1):\n",
    "            neighbour[cups[i]] = cups[i + 1]\n",
    "        curr = cups[0]\n",
    "\n",
    "        if mode == \"second\":\n",
    "            neighbour[cups[n - 1]] = n + 1\n",
    "            neighbour = np.append(\n",
    "                neighbour, np.arange(n + 2, 10 ** 6 + 2, dtype=np.int64)\n",
    "            )\n",
    "            neighbour[-1] = cups[0]\n",
    "            repeat = 10 ** 7\n",
    "        else:\n",
    "            neighbour[cups[-1]] = cups[0]\n",
    "            repeat = 100\n",
    "\n",
    "        solution = run(curr=curr, neighbour=neighbour, repeat=repeat)\n",
    "\n",
    "        if mode == \"second\":\n",
    "            return solution[1] * solution[solution[1]]\n",
    "\n",
    "        curr, ans = 1, []\n",
    "        while (curr := solution[curr]) != 1:\n",
    "            ans.append(str(curr))\n",
    "        return \"\".join(ans)\n",
    "\n",
    "    return solve(mode=\"first\"), solve(mode=\"second\")"
   ]
  },
  {
   "cell_type": "code",
   "execution_count": 91,
   "metadata": {},
   "outputs": [
    {
     "data": {
      "application/javascript": [
       "\n",
       "            setTimeout(function() {\n",
       "                var nbb_cell_id = 91;\n",
       "                var nbb_unformatted_code = \"def test_day_23() -> None:\\n    assert solve_day_23(labels=\\\"389125467\\\") == (\\\"67384529\\\", 149245887792)\";\n",
       "                var nbb_formatted_code = \"def test_day_23() -> None:\\n    assert solve_day_23(labels=\\\"389125467\\\") == (\\\"67384529\\\", 149245887792)\";\n",
       "                var nbb_cells = Jupyter.notebook.get_cells();\n",
       "                for (var i = 0; i < nbb_cells.length; ++i) {\n",
       "                    if (nbb_cells[i].input_prompt_number == nbb_cell_id) {\n",
       "                        if (nbb_cells[i].get_text() == nbb_unformatted_code) {\n",
       "                             nbb_cells[i].set_text(nbb_formatted_code);\n",
       "                        }\n",
       "                        break;\n",
       "                    }\n",
       "                }\n",
       "            }, 500);\n",
       "            "
      ],
      "text/plain": [
       "<IPython.core.display.Javascript object>"
      ]
     },
     "metadata": {},
     "output_type": "display_data"
    }
   ],
   "source": [
    "def test_day_23() -> None:\n",
    "    assert solve_day_23(labels=\"389125467\") == (\"67384529\", 149245887792)"
   ]
  },
  {
   "cell_type": "code",
   "execution_count": 92,
   "metadata": {},
   "outputs": [
    {
     "data": {
      "application/javascript": [
       "\n",
       "            setTimeout(function() {\n",
       "                var nbb_cell_id = 92;\n",
       "                var nbb_unformatted_code = \"def day_23() -> Solution:\\n    return solve_day_23(labels=data(day=23))\";\n",
       "                var nbb_formatted_code = \"def day_23() -> Solution:\\n    return solve_day_23(labels=data(day=23))\";\n",
       "                var nbb_cells = Jupyter.notebook.get_cells();\n",
       "                for (var i = 0; i < nbb_cells.length; ++i) {\n",
       "                    if (nbb_cells[i].input_prompt_number == nbb_cell_id) {\n",
       "                        if (nbb_cells[i].get_text() == nbb_unformatted_code) {\n",
       "                             nbb_cells[i].set_text(nbb_formatted_code);\n",
       "                        }\n",
       "                        break;\n",
       "                    }\n",
       "                }\n",
       "            }, 500);\n",
       "            "
      ],
      "text/plain": [
       "<IPython.core.display.Javascript object>"
      ]
     },
     "metadata": {},
     "output_type": "display_data"
    }
   ],
   "source": [
    "def day_23() -> Solution:\n",
    "    return solve_day_23(labels=data(day=23))"
   ]
  },
  {
   "cell_type": "code",
   "execution_count": 93,
   "metadata": {
    "pycharm": {
     "name": "#%%\n"
    },
    "scrolled": true
   },
   "outputs": [
    {
     "name": "stdout",
     "output_type": "stream",
     "text": [
      "Part 1: 58427369\n",
      "Part 2: 111057672960\n"
     ]
    },
    {
     "data": {
      "application/javascript": [
       "\n",
       "            setTimeout(function() {\n",
       "                var nbb_cell_id = 93;\n",
       "                var nbb_unformatted_code = \"test_day(23)\\nprint_day(23)\";\n",
       "                var nbb_formatted_code = \"test_day(23)\\nprint_day(23)\";\n",
       "                var nbb_cells = Jupyter.notebook.get_cells();\n",
       "                for (var i = 0; i < nbb_cells.length; ++i) {\n",
       "                    if (nbb_cells[i].input_prompt_number == nbb_cell_id) {\n",
       "                        if (nbb_cells[i].get_text() == nbb_unformatted_code) {\n",
       "                             nbb_cells[i].set_text(nbb_formatted_code);\n",
       "                        }\n",
       "                        break;\n",
       "                    }\n",
       "                }\n",
       "            }, 500);\n",
       "            "
      ],
      "text/plain": [
       "<IPython.core.display.Javascript object>"
      ]
     },
     "metadata": {},
     "output_type": "display_data"
    }
   ],
   "source": [
    "test_day(23)\n",
    "print_day(23)"
   ]
  },
  {
   "cell_type": "markdown",
   "metadata": {},
   "source": [
    "## Day 24\n",
    "\n",
    "**Task**: Simulate cellular automaton, but this time with hexagonal grid.\n",
    "\n",
    "Another cellular automaton -style puzzle, so I'll use the same class layout than in day 17. Biggest different here is of course the hexagonal layout. After reading some parts from [excellent tutorial](https://www.redblobgames.com/grids/hexagons/) at Red Blob Games blog, \n",
    "I decided to go with offset coordinate style. Otherwise, code below is almost the same as in day 17."
   ]
  },
  {
   "cell_type": "code",
   "execution_count": 94,
   "metadata": {
    "pycharm": {
     "name": "#%%\n"
    }
   },
   "outputs": [
    {
     "data": {
      "application/javascript": [
       "\n",
       "            setTimeout(function() {\n",
       "                var nbb_cell_id = 94;\n",
       "                var nbb_unformatted_code = \"class Lobby:\\n    def __init__(self, lines: List[str]) -> None:\\n        \\\"\\\"\\\"Initialize cells and directions.\\\"\\\"\\\"\\n        self.directions = {\\n            \\\"nw\\\": complex(0, -1),\\n            \\\"ne\\\": complex(1, -1),\\n            \\\"e\\\": complex(1, 0),\\n            \\\"se\\\": complex(0, 1),\\n            \\\"sw\\\": complex(-1, 1),\\n            \\\"w\\\": complex(-1, 0),\\n        }\\n        self._cells = self.initial_cells(lines)\\n\\n    def initial_cells(self, lines: List[str]) -> Set[complex]:\\n        \\\"\\\"\\\"Get cells by running directions in given input.\\\"\\\"\\\"\\n        regex = re.compile(r\\\"e|se|sw|w|nw|ne\\\")\\n        toggles = [\\n            sum(self.directions[direction] for direction in regex.findall(line))\\n            for line in lines\\n        ]\\n        return {\\n            point\\n            for point, toggle_amount in Counter(toggles).items()\\n            if toggle_amount % 2 == 1\\n        }\\n\\n    def run(self, days: int) -> int:\\n        \\\"\\\"\\\"Run automaton for n=days times.\\\"\\\"\\\"\\n        for _ in range(days):\\n            self._cells = self.next_generation()\\n        return len(self._cells)\\n\\n    def next_generation(self) -> Set[complex]:\\n        \\\"\\\"\\\"Get set of cells in next generation\\\"\\\"\\\"\\n        return {\\n            cell\\n            for cell, count in Counter(self.get_neighbours()).items()\\n            if self.becomes_active(cell=cell, count=count)\\n        }\\n\\n    def becomes_active(self, cell: complex, count: int) -> bool:\\n        \\\"\\\"\\\"Check next status against the tile flipping rules.\\\"\\\"\\\"\\n        return count == 2 or (count == 1 and cell in self._cells)\\n\\n    def get_neighbours(self) -> Iterator[complex]:\\n        \\\"\\\"\\\"Calculate all neighbours for cell\\\"\\\"\\\"\\n        return itertools.chain.from_iterable(\\n            [cell + direction for direction in self.directions.values()]\\n            for cell in self._cells\\n        )\\n\\n    @property\\n    def cells(self) -> int:\\n        \\\"\\\"\\\"Return cell amount.\\\"\\\"\\\"\\n        return len(self._cells)\";\n",
       "                var nbb_formatted_code = \"class Lobby:\\n    def __init__(self, lines: List[str]) -> None:\\n        \\\"\\\"\\\"Initialize cells and directions.\\\"\\\"\\\"\\n        self.directions = {\\n            \\\"nw\\\": complex(0, -1),\\n            \\\"ne\\\": complex(1, -1),\\n            \\\"e\\\": complex(1, 0),\\n            \\\"se\\\": complex(0, 1),\\n            \\\"sw\\\": complex(-1, 1),\\n            \\\"w\\\": complex(-1, 0),\\n        }\\n        self._cells = self.initial_cells(lines)\\n\\n    def initial_cells(self, lines: List[str]) -> Set[complex]:\\n        \\\"\\\"\\\"Get cells by running directions in given input.\\\"\\\"\\\"\\n        regex = re.compile(r\\\"e|se|sw|w|nw|ne\\\")\\n        toggles = [\\n            sum(self.directions[direction] for direction in regex.findall(line))\\n            for line in lines\\n        ]\\n        return {\\n            point\\n            for point, toggle_amount in Counter(toggles).items()\\n            if toggle_amount % 2 == 1\\n        }\\n\\n    def run(self, days: int) -> int:\\n        \\\"\\\"\\\"Run automaton for n=days times.\\\"\\\"\\\"\\n        for _ in range(days):\\n            self._cells = self.next_generation()\\n        return len(self._cells)\\n\\n    def next_generation(self) -> Set[complex]:\\n        \\\"\\\"\\\"Get set of cells in next generation\\\"\\\"\\\"\\n        return {\\n            cell\\n            for cell, count in Counter(self.get_neighbours()).items()\\n            if self.becomes_active(cell=cell, count=count)\\n        }\\n\\n    def becomes_active(self, cell: complex, count: int) -> bool:\\n        \\\"\\\"\\\"Check next status against the tile flipping rules.\\\"\\\"\\\"\\n        return count == 2 or (count == 1 and cell in self._cells)\\n\\n    def get_neighbours(self) -> Iterator[complex]:\\n        \\\"\\\"\\\"Calculate all neighbours for cell\\\"\\\"\\\"\\n        return itertools.chain.from_iterable(\\n            [cell + direction for direction in self.directions.values()]\\n            for cell in self._cells\\n        )\\n\\n    @property\\n    def cells(self) -> int:\\n        \\\"\\\"\\\"Return cell amount.\\\"\\\"\\\"\\n        return len(self._cells)\";\n",
       "                var nbb_cells = Jupyter.notebook.get_cells();\n",
       "                for (var i = 0; i < nbb_cells.length; ++i) {\n",
       "                    if (nbb_cells[i].input_prompt_number == nbb_cell_id) {\n",
       "                        if (nbb_cells[i].get_text() == nbb_unformatted_code) {\n",
       "                             nbb_cells[i].set_text(nbb_formatted_code);\n",
       "                        }\n",
       "                        break;\n",
       "                    }\n",
       "                }\n",
       "            }, 500);\n",
       "            "
      ],
      "text/plain": [
       "<IPython.core.display.Javascript object>"
      ]
     },
     "metadata": {},
     "output_type": "display_data"
    }
   ],
   "source": [
    "class Lobby:\n",
    "    def __init__(self, lines: List[str]) -> None:\n",
    "        \"\"\"Initialize cells and directions.\"\"\"\n",
    "        self.directions = {\n",
    "            \"nw\": complex(0, -1),\n",
    "            \"ne\": complex(1, -1),\n",
    "            \"e\": complex(1, 0),\n",
    "            \"se\": complex(0, 1),\n",
    "            \"sw\": complex(-1, 1),\n",
    "            \"w\": complex(-1, 0),\n",
    "        }\n",
    "        self._cells = self.initial_cells(lines)\n",
    "\n",
    "    def initial_cells(self, lines: List[str]) -> Set[complex]:\n",
    "        \"\"\"Get cells by running directions in given input.\"\"\"\n",
    "        regex = re.compile(r\"e|se|sw|w|nw|ne\")\n",
    "        toggles = [\n",
    "            sum(self.directions[direction] for direction in regex.findall(line))\n",
    "            for line in lines\n",
    "        ]\n",
    "        return {\n",
    "            point\n",
    "            for point, toggle_amount in Counter(toggles).items()\n",
    "            if toggle_amount % 2 == 1\n",
    "        }\n",
    "\n",
    "    def run(self, days: int) -> int:\n",
    "        \"\"\"Run automaton for n=days times.\"\"\"\n",
    "        for _ in range(days):\n",
    "            self._cells = self.next_generation()\n",
    "        return len(self._cells)\n",
    "\n",
    "    def next_generation(self) -> Set[complex]:\n",
    "        \"\"\"Get set of cells in next generation\"\"\"\n",
    "        return {\n",
    "            cell\n",
    "            for cell, count in Counter(self.get_neighbours()).items()\n",
    "            if self.becomes_active(cell=cell, count=count)\n",
    "        }\n",
    "\n",
    "    def becomes_active(self, cell: complex, count: int) -> bool:\n",
    "        \"\"\"Check next status against the tile flipping rules.\"\"\"\n",
    "        return count == 2 or (count == 1 and cell in self._cells)\n",
    "\n",
    "    def get_neighbours(self) -> Iterator[complex]:\n",
    "        \"\"\"Calculate all neighbours for cell\"\"\"\n",
    "        return itertools.chain.from_iterable(\n",
    "            [cell + direction for direction in self.directions.values()]\n",
    "            for cell in self._cells\n",
    "        )\n",
    "\n",
    "    @property\n",
    "    def cells(self) -> int:\n",
    "        \"\"\"Return cell amount.\"\"\"\n",
    "        return len(self._cells)"
   ]
  },
  {
   "cell_type": "code",
   "execution_count": 95,
   "metadata": {},
   "outputs": [
    {
     "data": {
      "application/javascript": [
       "\n",
       "            setTimeout(function() {\n",
       "                var nbb_cell_id = 95;\n",
       "                var nbb_unformatted_code = \"def test_day_24() -> None:\\n    example = [\\n        \\\"sesenwnenenewseeswwswswwnenewsewsw\\\",\\n        \\\"neeenesenwnwwswnenewnwwsewnenwseswesw\\\",\\n        \\\"seswneswswsenwwnwse\\\",\\n        \\\"nwnwneseeswswnenewneswwnewseswneseene\\\",\\n        \\\"swweswneswnenwsewnwneneseenw\\\",\\n        \\\"eesenwseswswnenwswnwnwsewwnwsene\\\",\\n        \\\"sewnenenenesenwsewnenwwwse\\\",\\n        \\\"wenwwweseeeweswwwnwwe\\\",\\n        \\\"wsweesenenewnwwnwsenewsenwwsesesenwne\\\",\\n        \\\"neeswseenwwswnwswswnw\\\",\\n        \\\"nenwswwsewswnenenewsenwsenwnesesenew\\\",\\n        \\\"enewnwewneswsewnwswenweswnenwsenwsw\\\",\\n        \\\"sweneswneswneneenwnewenewwneswswnese\\\",\\n        \\\"swwesenesewenwneswnwwneseswwne\\\",\\n        \\\"enesenwswwswneneswsenwnewswseenwsese\\\",\\n        \\\"wnwnesenesenenwwnenwsewesewsesesew\\\",\\n        \\\"nenewswnwewswnenesenwnesewesw\\\",\\n        \\\"eneswnwswnwsenenwnwnwwseeswneewsenese\\\",\\n        \\\"neswnwewnwnwseenwseesewsenwsweewe\\\",\\n        \\\"wseweeenwnesenwwwswnew\\\",\\n    ]\\n    lobby = Lobby(lines=example)\\n    assert lobby.cells == 10\\n    assert lobby.run(days=100) == 2208\";\n",
       "                var nbb_formatted_code = \"def test_day_24() -> None:\\n    example = [\\n        \\\"sesenwnenenewseeswwswswwnenewsewsw\\\",\\n        \\\"neeenesenwnwwswnenewnwwsewnenwseswesw\\\",\\n        \\\"seswneswswsenwwnwse\\\",\\n        \\\"nwnwneseeswswnenewneswwnewseswneseene\\\",\\n        \\\"swweswneswnenwsewnwneneseenw\\\",\\n        \\\"eesenwseswswnenwswnwnwsewwnwsene\\\",\\n        \\\"sewnenenenesenwsewnenwwwse\\\",\\n        \\\"wenwwweseeeweswwwnwwe\\\",\\n        \\\"wsweesenenewnwwnwsenewsenwwsesesenwne\\\",\\n        \\\"neeswseenwwswnwswswnw\\\",\\n        \\\"nenwswwsewswnenenewsenwsenwnesesenew\\\",\\n        \\\"enewnwewneswsewnwswenweswnenwsenwsw\\\",\\n        \\\"sweneswneswneneenwnewenewwneswswnese\\\",\\n        \\\"swwesenesewenwneswnwwneseswwne\\\",\\n        \\\"enesenwswwswneneswsenwnewswseenwsese\\\",\\n        \\\"wnwnesenesenenwwnenwsewesewsesesew\\\",\\n        \\\"nenewswnwewswnenesenwnesewesw\\\",\\n        \\\"eneswnwswnwsenenwnwnwwseeswneewsenese\\\",\\n        \\\"neswnwewnwnwseenwseesewsenwsweewe\\\",\\n        \\\"wseweeenwnesenwwwswnew\\\",\\n    ]\\n    lobby = Lobby(lines=example)\\n    assert lobby.cells == 10\\n    assert lobby.run(days=100) == 2208\";\n",
       "                var nbb_cells = Jupyter.notebook.get_cells();\n",
       "                for (var i = 0; i < nbb_cells.length; ++i) {\n",
       "                    if (nbb_cells[i].input_prompt_number == nbb_cell_id) {\n",
       "                        if (nbb_cells[i].get_text() == nbb_unformatted_code) {\n",
       "                             nbb_cells[i].set_text(nbb_formatted_code);\n",
       "                        }\n",
       "                        break;\n",
       "                    }\n",
       "                }\n",
       "            }, 500);\n",
       "            "
      ],
      "text/plain": [
       "<IPython.core.display.Javascript object>"
      ]
     },
     "metadata": {},
     "output_type": "display_data"
    }
   ],
   "source": [
    "def test_day_24() -> None:\n",
    "    example = [\n",
    "        \"sesenwnenenewseeswwswswwnenewsewsw\",\n",
    "        \"neeenesenwnwwswnenewnwwsewnenwseswesw\",\n",
    "        \"seswneswswsenwwnwse\",\n",
    "        \"nwnwneseeswswnenewneswwnewseswneseene\",\n",
    "        \"swweswneswnenwsewnwneneseenw\",\n",
    "        \"eesenwseswswnenwswnwnwsewwnwsene\",\n",
    "        \"sewnenenenesenwsewnenwwwse\",\n",
    "        \"wenwwweseeeweswwwnwwe\",\n",
    "        \"wsweesenenewnwwnwsenewsenwwsesesenwne\",\n",
    "        \"neeswseenwwswnwswswnw\",\n",
    "        \"nenwswwsewswnenenewsenwsenwnesesenew\",\n",
    "        \"enewnwewneswsewnwswenweswnenwsenwsw\",\n",
    "        \"sweneswneswneneenwnewenewwneswswnese\",\n",
    "        \"swwesenesewenwneswnwwneseswwne\",\n",
    "        \"enesenwswwswneneswsenwnewswseenwsese\",\n",
    "        \"wnwnesenesenenwwnenwsewesewsesesew\",\n",
    "        \"nenewswnwewswnenesenwnesewesw\",\n",
    "        \"eneswnwswnwsenenwnwnwwseeswneewsenese\",\n",
    "        \"neswnwewnwnwseenwseesewsenwsweewe\",\n",
    "        \"wseweeenwnesenwwwswnew\",\n",
    "    ]\n",
    "    lobby = Lobby(lines=example)\n",
    "    assert lobby.cells == 10\n",
    "    assert lobby.run(days=100) == 2208"
   ]
  },
  {
   "cell_type": "code",
   "execution_count": 96,
   "metadata": {},
   "outputs": [
    {
     "data": {
      "application/javascript": [
       "\n",
       "            setTimeout(function() {\n",
       "                var nbb_cell_id = 96;\n",
       "                var nbb_unformatted_code = \"def day_24() -> Solution:\\n    lobby = Lobby(lines=data_to_lines(day=24))\\n    return lobby.cells, lobby.run(days=100)\";\n",
       "                var nbb_formatted_code = \"def day_24() -> Solution:\\n    lobby = Lobby(lines=data_to_lines(day=24))\\n    return lobby.cells, lobby.run(days=100)\";\n",
       "                var nbb_cells = Jupyter.notebook.get_cells();\n",
       "                for (var i = 0; i < nbb_cells.length; ++i) {\n",
       "                    if (nbb_cells[i].input_prompt_number == nbb_cell_id) {\n",
       "                        if (nbb_cells[i].get_text() == nbb_unformatted_code) {\n",
       "                             nbb_cells[i].set_text(nbb_formatted_code);\n",
       "                        }\n",
       "                        break;\n",
       "                    }\n",
       "                }\n",
       "            }, 500);\n",
       "            "
      ],
      "text/plain": [
       "<IPython.core.display.Javascript object>"
      ]
     },
     "metadata": {},
     "output_type": "display_data"
    }
   ],
   "source": [
    "def day_24() -> Solution:\n",
    "    lobby = Lobby(lines=data_to_lines(day=24))\n",
    "    return lobby.cells, lobby.run(days=100)"
   ]
  },
  {
   "cell_type": "code",
   "execution_count": 97,
   "metadata": {
    "pycharm": {
     "name": "#%%\n"
    },
    "scrolled": false
   },
   "outputs": [
    {
     "name": "stdout",
     "output_type": "stream",
     "text": [
      "Part 1: 400\n",
      "Part 2: 3768\n"
     ]
    },
    {
     "data": {
      "application/javascript": [
       "\n",
       "            setTimeout(function() {\n",
       "                var nbb_cell_id = 97;\n",
       "                var nbb_unformatted_code = \"test_day(24)\\nprint_day(24)\";\n",
       "                var nbb_formatted_code = \"test_day(24)\\nprint_day(24)\";\n",
       "                var nbb_cells = Jupyter.notebook.get_cells();\n",
       "                for (var i = 0; i < nbb_cells.length; ++i) {\n",
       "                    if (nbb_cells[i].input_prompt_number == nbb_cell_id) {\n",
       "                        if (nbb_cells[i].get_text() == nbb_unformatted_code) {\n",
       "                             nbb_cells[i].set_text(nbb_formatted_code);\n",
       "                        }\n",
       "                        break;\n",
       "                    }\n",
       "                }\n",
       "            }, 500);\n",
       "            "
      ],
      "text/plain": [
       "<IPython.core.display.Javascript object>"
      ]
     },
     "metadata": {},
     "output_type": "display_data"
    }
   ],
   "source": [
    "test_day(24)\n",
    "print_day(24)"
   ]
  },
  {
   "cell_type": "markdown",
   "metadata": {},
   "source": [
    "## Day 25\n",
    "\n",
    "**Task**: Given two public keys, find out the encryption key they share.\n",
    "\n",
    "The final day, yeah! Exchange process detailed in the puzzle is a lot like [Diffie-\n",
    "Hellman key exchange](https://en.wikipedia.org/wiki/Diffie%E2%80%93Hellman_key_exchange), \n",
    "and in this case, the secret integer (loop size) must be solved.\n",
    "\n",
    "Transforming process is basically taking $k$th power of the subject number $7$\n",
    "modulo $20201227$, where $k = $ loop size. Since public key $n$ is given, loop \n",
    "size can be found from the equation $7^k \\equiv n \\pmod{20201227}$. \n",
    "\n",
    "Instead of brute forcing loop sizes $1…k$ until correct is found, it's better to\n",
    "calculate [discrete logarithm](https://en.wikipedia.org/wiki/Discrete_logarithm) of\n",
    "$n$ to the base $7$ modulo $20201227$. Luckily, Sympy library provides\n",
    "[suitable function for this](\n",
    "https://docs.sympy.org/latest/modules/ntheory.html?#sympy.ntheory.residue_ntheory.discrete_log)."
   ]
  },
  {
   "cell_type": "code",
   "execution_count": 98,
   "metadata": {
    "pycharm": {
     "name": "#%%\n"
    }
   },
   "outputs": [
    {
     "data": {
      "application/javascript": [
       "\n",
       "            setTimeout(function() {\n",
       "                var nbb_cell_id = 98;\n",
       "                var nbb_unformatted_code = \"from sympy.ntheory import discrete_log\\n\\n\\ndef solve_day_25(keys: List[int]) -> int:\\n    \\\"\\\"\\\"Calculate encryption key based on given keys.\\\"\\\"\\\"\\n    card_key, door_key = keys\\n    subject_number, modulo, loop_size = 7, 20201227, 0\\n\\n    k = discrete_log(modulo, card_key, subject_number)\\n    return int(pow(door_key, k, modulo))\";\n",
       "                var nbb_formatted_code = \"from sympy.ntheory import discrete_log\\n\\n\\ndef solve_day_25(keys: List[int]) -> int:\\n    \\\"\\\"\\\"Calculate encryption key based on given keys.\\\"\\\"\\\"\\n    card_key, door_key = keys\\n    subject_number, modulo, loop_size = 7, 20201227, 0\\n\\n    k = discrete_log(modulo, card_key, subject_number)\\n    return int(pow(door_key, k, modulo))\";\n",
       "                var nbb_cells = Jupyter.notebook.get_cells();\n",
       "                for (var i = 0; i < nbb_cells.length; ++i) {\n",
       "                    if (nbb_cells[i].input_prompt_number == nbb_cell_id) {\n",
       "                        if (nbb_cells[i].get_text() == nbb_unformatted_code) {\n",
       "                             nbb_cells[i].set_text(nbb_formatted_code);\n",
       "                        }\n",
       "                        break;\n",
       "                    }\n",
       "                }\n",
       "            }, 500);\n",
       "            "
      ],
      "text/plain": [
       "<IPython.core.display.Javascript object>"
      ]
     },
     "metadata": {},
     "output_type": "display_data"
    }
   ],
   "source": [
    "from sympy.ntheory import discrete_log\n",
    "\n",
    "\n",
    "def solve_day_25(keys: List[int]) -> int:\n",
    "    \"\"\"Calculate encryption key based on given keys.\"\"\"\n",
    "    card_key, door_key = keys\n",
    "    subject_number, modulo, loop_size = 7, 20201227, 0\n",
    "\n",
    "    k = discrete_log(modulo, card_key, subject_number)\n",
    "    return int(pow(door_key, k, modulo))"
   ]
  },
  {
   "cell_type": "code",
   "execution_count": 99,
   "metadata": {
    "scrolled": true
   },
   "outputs": [
    {
     "data": {
      "application/javascript": [
       "\n",
       "            setTimeout(function() {\n",
       "                var nbb_cell_id = 99;\n",
       "                var nbb_unformatted_code = \"def test_day_25() -> None:\\n    assert solve_day_25(keys=[5764801, 17807724]) == 14897079\";\n",
       "                var nbb_formatted_code = \"def test_day_25() -> None:\\n    assert solve_day_25(keys=[5764801, 17807724]) == 14897079\";\n",
       "                var nbb_cells = Jupyter.notebook.get_cells();\n",
       "                for (var i = 0; i < nbb_cells.length; ++i) {\n",
       "                    if (nbb_cells[i].input_prompt_number == nbb_cell_id) {\n",
       "                        if (nbb_cells[i].get_text() == nbb_unformatted_code) {\n",
       "                             nbb_cells[i].set_text(nbb_formatted_code);\n",
       "                        }\n",
       "                        break;\n",
       "                    }\n",
       "                }\n",
       "            }, 500);\n",
       "            "
      ],
      "text/plain": [
       "<IPython.core.display.Javascript object>"
      ]
     },
     "metadata": {},
     "output_type": "display_data"
    }
   ],
   "source": [
    "def test_day_25() -> None:\n",
    "    assert solve_day_25(keys=[5764801, 17807724]) == 14897079"
   ]
  },
  {
   "cell_type": "code",
   "execution_count": 100,
   "metadata": {},
   "outputs": [
    {
     "data": {
      "application/javascript": [
       "\n",
       "            setTimeout(function() {\n",
       "                var nbb_cell_id = 100;\n",
       "                var nbb_unformatted_code = \"def day_25() -> Solution:\\n    return solve_day_25(keys=data_to_nums(day=25)), None\";\n",
       "                var nbb_formatted_code = \"def day_25() -> Solution:\\n    return solve_day_25(keys=data_to_nums(day=25)), None\";\n",
       "                var nbb_cells = Jupyter.notebook.get_cells();\n",
       "                for (var i = 0; i < nbb_cells.length; ++i) {\n",
       "                    if (nbb_cells[i].input_prompt_number == nbb_cell_id) {\n",
       "                        if (nbb_cells[i].get_text() == nbb_unformatted_code) {\n",
       "                             nbb_cells[i].set_text(nbb_formatted_code);\n",
       "                        }\n",
       "                        break;\n",
       "                    }\n",
       "                }\n",
       "            }, 500);\n",
       "            "
      ],
      "text/plain": [
       "<IPython.core.display.Javascript object>"
      ]
     },
     "metadata": {},
     "output_type": "display_data"
    }
   ],
   "source": [
    "def day_25() -> Solution:\n",
    "    return solve_day_25(keys=data_to_nums(day=25)), None"
   ]
  },
  {
   "cell_type": "code",
   "execution_count": 101,
   "metadata": {},
   "outputs": [
    {
     "name": "stdout",
     "output_type": "stream",
     "text": [
      "Part 1: 3286137\n",
      "Part 2: None\n"
     ]
    },
    {
     "data": {
      "application/javascript": [
       "\n",
       "            setTimeout(function() {\n",
       "                var nbb_cell_id = 101;\n",
       "                var nbb_unformatted_code = \"test_day(25)\\nprint_day(25)\";\n",
       "                var nbb_formatted_code = \"test_day(25)\\nprint_day(25)\";\n",
       "                var nbb_cells = Jupyter.notebook.get_cells();\n",
       "                for (var i = 0; i < nbb_cells.length; ++i) {\n",
       "                    if (nbb_cells[i].input_prompt_number == nbb_cell_id) {\n",
       "                        if (nbb_cells[i].get_text() == nbb_unformatted_code) {\n",
       "                             nbb_cells[i].set_text(nbb_formatted_code);\n",
       "                        }\n",
       "                        break;\n",
       "                    }\n",
       "                }\n",
       "            }, 500);\n",
       "            "
      ],
      "text/plain": [
       "<IPython.core.display.Javascript object>"
      ]
     },
     "metadata": {},
     "output_type": "display_data"
    }
   ],
   "source": [
    "test_day(25)\n",
    "print_day(25)"
   ]
  },
  {
   "cell_type": "markdown",
   "metadata": {},
   "source": [
    "# Timings\n",
    "Most of the solutions should run under one seconds with a decent, modern laptop. Here's the report on 2018 15\" Macbook Pro (2,8 Ghz i7):"
   ]
  },
  {
   "cell_type": "code",
   "execution_count": 102,
   "metadata": {
    "scrolled": true
   },
   "outputs": [
    {
     "name": "stdout",
     "output_type": "stream",
     "text": [
      "Day  Secs.\n",
      "===  =====\n",
      " 1  0.148\n",
      " 2  0.008\n",
      " 3  0.001\n",
      " 4  0.168\n",
      " 5  0.002\n",
      " 6  0.007\n",
      " 7  0.023\n",
      " 8  0.012\n",
      " 9  0.015\n",
      "10  0.001\n",
      "11  2.761\n",
      "12  0.002\n",
      "13  0.001\n",
      "14  0.390\n",
      "15  1.066\n",
      "16  0.018\n",
      "17  0.404\n",
      "18  0.095\n",
      "19  0.016\n",
      "20  1.818\n",
      "21  0.002\n",
      "22  1.543\n",
      "23  3.690\n",
      "24  0.434\n",
      "25  0.001\n",
      "CPU times: user 12.3 s, sys: 180 ms, total: 12.5 s\n",
      "Wall time: 12.6 s\n"
     ]
    },
    {
     "data": {
      "application/javascript": [
       "\n",
       "            setTimeout(function() {\n",
       "                var nbb_cell_id = 102;\n",
       "                var nbb_unformatted_code = \"import time\\n\\n\\ndef timing():\\n    \\\"\\\"\\\"Report on timing for all days.\\\"\\\"\\\"\\n    print(\\\"Day  Secs.\\\")\\n    print(\\\"===  =====\\\")\\n    for day in range(1, 26):\\n        start = time.time()\\n        run_day(day)\\n        total = time.time() - start\\n        print(f\\\"{day:2} {total:6.3f}\\\")\\n\\n\\n%time timing()\";\n",
       "                var nbb_formatted_code = \"import time\\n\\n\\ndef timing():\\n    \\\"\\\"\\\"Report on timing for all days.\\\"\\\"\\\"\\n    print(\\\"Day  Secs.\\\")\\n    print(\\\"===  =====\\\")\\n    for day in range(1, 26):\\n        start = time.time()\\n        run_day(day)\\n        total = time.time() - start\\n        print(f\\\"{day:2} {total:6.3f}\\\")\\n\\n\\n%time timing()\";\n",
       "                var nbb_cells = Jupyter.notebook.get_cells();\n",
       "                for (var i = 0; i < nbb_cells.length; ++i) {\n",
       "                    if (nbb_cells[i].input_prompt_number == nbb_cell_id) {\n",
       "                        if (nbb_cells[i].get_text() == nbb_unformatted_code) {\n",
       "                             nbb_cells[i].set_text(nbb_formatted_code);\n",
       "                        }\n",
       "                        break;\n",
       "                    }\n",
       "                }\n",
       "            }, 500);\n",
       "            "
      ],
      "text/plain": [
       "<IPython.core.display.Javascript object>"
      ]
     },
     "metadata": {},
     "output_type": "display_data"
    }
   ],
   "source": [
    "import time\n",
    "\n",
    "\n",
    "def timing():\n",
    "    \"\"\"Report on timing for all days.\"\"\"\n",
    "    print(\"Day  Secs.\")\n",
    "    print(\"===  =====\")\n",
    "    for day in range(1, 26):\n",
    "        start = time.time()\n",
    "        run_day(day)\n",
    "        total = time.time() - start\n",
    "        print(f\"{day:2} {total:6.3f}\")\n",
    "\n",
    "\n",
    "%time timing()"
   ]
  }
 ],
 "metadata": {
  "kernelspec": {
   "display_name": "Python 3",
   "language": "python",
   "name": "python3"
  },
  "language_info": {
   "codemirror_mode": {
    "name": "ipython",
    "version": 3
   },
   "file_extension": ".py",
   "mimetype": "text/x-python",
   "name": "python",
   "nbconvert_exporter": "python",
   "pygments_lexer": "ipython3",
   "version": "3.8.6"
  }
 },
 "nbformat": 4,
 "nbformat_minor": 1
}
