{
 "cells": [
  {
   "cell_type": "markdown",
   "metadata": {
    "pycharm": {
     "name": "#%% md\n"
    }
   },
   "source": [
    "# Advent of code 2020\n",
    "\n",
    "This notebook contains my (somewhat documented) solutions to advent of code 2020. For\n",
    "each day, I've tried to summarize the solutions into short explanation, understandable\n",
    "code blocks and, if needed, have added some extra information in code docstrings.\n",
    "\n",
    "If you want to tinker around with the solutions, you can install needed libraries\n",
    "with either [poetry](https://python-poetry.org/) or just plain `pip install .`. Some\n",
    "extra setup is also needed for the awesome [advent-of-code-data](\n",
    "https://pypi.org/project/advent-of-code-data/) library, which I'm using for getting input. See\n",
    "project docs for information."
   ]
  },
  {
   "cell_type": "markdown",
   "metadata": {
    "collapsed": true,
    "pycharm": {
     "name": "#%% md\n"
    }
   },
   "source": [
    "## Setup and shared functions\n",
    "\n",
    "This first block is used to import all libraries, define all special function and create all types needed\n",
    "in the notebook. These are mainly for parsing data into different forms."
   ]
  },
  {
   "cell_type": "code",
   "execution_count": 54,
   "metadata": {
    "pycharm": {
     "name": "#%%\n"
    }
   },
   "outputs": [],
   "source": [
    "\n",
    "import re\n",
    "from aocd import get_data\n",
    "from collections import Counter, defaultdict\n",
    "from itertools import combinations\n",
    "from typing import Any, Iterable, Callable, Optional, Literal, Iterator\n",
    "from operator import mul\n",
    "from functools import lru_cache, reduce\n",
    "from dataclasses import dataclass\n",
    "\n",
    "def data_to_nums(data: str) -> list[int]:\n",
    "    \"\"\"Parse integers from given aocd data.\"\"\"\n",
    "    return [int(x) for x in re.findall(r\"(\\d+)\", data)]\n",
    "\n",
    "def data_to_lines(data: str) -> list[str]:\n",
    "    \"\"\"Parse lines from given aocd data.\"\"\"\n",
    "    return data.splitlines()\n",
    "\n",
    "def data_to_blocks(data: str) -> list[str]:\n",
    "    \"\"\"Parse blocks that are separated by empty new lines from given aocd data.\"\"\"\n",
    "    return [block for block in data.split(\"\\n\\n\")]\n",
    "\n",
    "def get_first(iterable: Iterable, condition: Callable) -> Any:\n",
    "    \"\"\"Get first object from iterable that matches given condition.\"\"\"\n",
    "    return next(thing for thing in iterable if condition(thing))\n",
    "\n",
    "def multiply(numbers_to_multiply: Iterable[int]) -> int:\n",
    "    \"\"\"Multiply iterable of integers together.\"\"\"\n",
    "    return reduce(mul, numbers_to_multiply, 1)\n",
    "\n",
    "Vector = tuple[int, int]\n",
    "Mode = Literal[\"first\", \"second\"]"
   ]
  },
  {
   "cell_type": "markdown",
   "metadata": {},
   "source": [
    "## Day 1\n",
    "\n",
    "**Task**: find the entries that sum to 2020.\n",
    "\n",
    "Input size is quite small, just hundred numbers, so brute-forcing through every possible\n",
    "combination is fast enough. Solve-function gets first k-tuple where sum of tuple\n",
    "matches given goal."
   ]
  },
  {
   "cell_type": "code",
   "execution_count": 55,
   "metadata": {
    "pycharm": {
     "name": "#%%\n"
    }
   },
   "outputs": [
    {
     "name": "stdout",
     "output_type": "stream",
     "text": [
      "Part 1: 1010299\n",
      "Part 2: 42140160\n"
     ]
    }
   ],
   "source": [
    "numbers = data_to_nums(get_data(day=1, year=2020))\n",
    "\n",
    "def solve(goal: int, number_of_entries: int) -> int:\n",
    "    return multiply(get_first(combinations(numbers, number_of_entries),\n",
    "                              lambda *combination: sum(*combination) == goal))\n",
    "\n",
    "print(\"Part 1:\", solve(goal=2020, number_of_entries=2))\n",
    "print(\"Part 2:\", solve(goal=2020, number_of_entries=3))"
   ]
  },
  {
   "cell_type": "markdown",
   "metadata": {},
   "source": [
    "## Day 2\n",
    "\n",
    "**Task**: find amount of passwords that match their counterpart rule.\n",
    "\n",
    "Ah, classic aocd-style input format! Luckily, regex is here to help. The first part is\n",
    "handled with Counter from collections library, the second part with exclusive or (XOR)\n",
    "since either, but not both positions must equal to char."
   ]
  },
  {
   "cell_type": "code",
   "execution_count": 3,
   "metadata": {
    "pycharm": {
     "name": "#%%\n"
    }
   },
   "outputs": [
    {
     "name": "stdout",
     "output_type": "stream",
     "text": [
      "Part 1: 524\n",
      "Part 2: 485\n"
     ]
    }
   ],
   "source": [
    "lines = data_to_lines(get_data(day=2, year=2020))\n",
    "first, second = 0, 0\n",
    "\n",
    "for line in lines:\n",
    "    low, high, char, string = re.match(r\"(\\d+)-(\\d+) ([a-z]): ([a-z]+)\", line).groups()\n",
    "    low, high = int(low), int(high)\n",
    "    if low <= Counter(string)[char] <= high:\n",
    "        first += 1\n",
    "    if (string[low - 1] == char) ^ (string[high - 1] == char):\n",
    "        second += 1\n",
    "\n",
    "print(\"Part 1:\", first)\n",
    "print(\"Part 2:\", second)"
   ]
  },
  {
   "cell_type": "markdown",
   "metadata": {
    "pycharm": {
     "name": "#%% md\n"
    }
   },
   "source": [
    "## Day 3\n",
    "\n",
    "**Task**: count the number of trees encountered while traversing the map.\n",
    "\n",
    "Important part here is the \"jump around\" the x-axis, which is done by counting x\n",
    "with modulo width."
   ]
  },
  {
   "cell_type": "code",
   "execution_count": 4,
   "metadata": {
    "pycharm": {
     "name": "#%%\n"
    }
   },
   "outputs": [
    {
     "name": "stdout",
     "output_type": "stream",
     "text": [
      "Part 1: 280\n",
      "Part 2: 4355551200\n"
     ]
    }
   ],
   "source": [
    "grid = data_to_lines(get_data(day=3, year=2020))\n",
    "\n",
    "def travel(slope: Vector) -> int:\n",
    "    x, y, counter = 0, 0, 0\n",
    "    height, width = len(grid), len(grid[0])\n",
    "    right, down = slope\n",
    "\n",
    "    while (y := y + down) < height:\n",
    "        x = (x + right) % width\n",
    "        if grid[y][x] == \"#\":\n",
    "            counter += 1\n",
    "\n",
    "    return counter\n",
    "\n",
    "travels = [travel(slope=slope) for slope in [(3,1), (1, 1), (5, 1), (7, 1), (1, 2)]]\n",
    "\n",
    "print(\"Part 1:\", travels[0])\n",
    "print(\"Part 2:\", multiply(travels))"
   ]
  },
  {
   "cell_type": "markdown",
   "metadata": {},
   "source": [
    "## Day 4\n",
    "\n",
    "**Task**: count the number of valid passwords.\n",
    "\n",
    "Again, regex saves the day! Each password block is ran against seven validators, since\n",
    "\"cid\" field is not important. In the first part, it's enough to check that all validator\n",
    "fields are present. In the second part, has_valid_fields-function checks that all fields\n",
    "are also valid against the given rules."
   ]
  },
  {
   "cell_type": "code",
   "execution_count": 5,
   "metadata": {
    "pycharm": {
     "name": "#%%\n"
    }
   },
   "outputs": [
    {
     "name": "stdout",
     "output_type": "stream",
     "text": [
      "Part 1: 192\n",
      "Part 2: 101\n"
     ]
    }
   ],
   "source": [
    "Validator = Callable[[str], bool]\n",
    "\n",
    "passports = data_to_blocks(get_data(day=4, year=2020))\n",
    "validators: dict[str, Validator] = {\n",
    "    \"byr\": lambda v: 1920 <= int(v) <= 2002,\n",
    "    \"iyr\": lambda v: 2010 <= int(v) <= 2020,\n",
    "    \"eyr\": lambda v: 2020 <= int(v) <= 2030,\n",
    "    \"hgt\": lambda v: (\n",
    "        \"cm\" in v\n",
    "        and 150 <= int(v[:-2]) <= 193\n",
    "        or \"in\" in v\n",
    "        and 59 <= int(v[:-2]) <= 76\n",
    "    ),\n",
    "    \"hcl\": lambda v: bool(re.fullmatch(r\"^#[0-9a-f]{6}$\", v)),\n",
    "    \"ecl\": lambda v: v in [\"amb\", \"blu\", \"brn\", \"gry\", \"grn\", \"hzl\", \"oth\"],\n",
    "    \"pid\": lambda v: bool(re.fullmatch(r\"^[0-9]{9}$\", v)),\n",
    "}\n",
    "\n",
    "def has_valid_fields(fields: list[tuple[str, str]]) -> bool:\n",
    "    return sum(\n",
    "        validators[field_id](value) for field_id, value in fields if field_id != \"cid\"\n",
    "    ) == len(validators)\n",
    "\n",
    "first, second = 0, 0\n",
    "for passport in passports:\n",
    "        fields = re.findall(r\"(\\w+):(\\S+)\", passport)\n",
    "        field_ids = {field_id for field_id, _ in fields}\n",
    "        if all(field_id in field_ids for field_id in validators):\n",
    "            first += 1\n",
    "            if has_valid_fields(fields=fields):\n",
    "                second += 1\n",
    "                \n",
    "print(\"Part 1:\", first)\n",
    "print(\"Part 2:\", second)"
   ]
  },
  {
   "cell_type": "markdown",
   "metadata": {},
   "source": [
    "## Day 5\n",
    "\n",
    "**Task**: Find out the highest seat ID and your own seat ID.\n",
    "\n",
    "There's a nice catch in the puzzle: char pairs F/L and B/R aren't really different, since\n",
    "each can be substituted with 0 or 1. The result is a binary number string which can\n",
    "be casted to int.\n",
    "\n",
    "In the second part, helper function finds the first seat id that matches given\n",
    "conditions."
   ]
  },
  {
   "cell_type": "code",
   "execution_count": 22,
   "metadata": {
    "pycharm": {
     "name": "#%%\n"
    }
   },
   "outputs": [
    {
     "name": "stdout",
     "output_type": "stream",
     "text": [
      "Part 1: 858\n",
      "Part 2: 557\n"
     ]
    }
   ],
   "source": [
    "lines = data_to_lines(get_data(day=5, year=2020))\n",
    "\n",
    "table = str.maketrans(\"FBLR\", \"0101\")\n",
    "seat_ids = {int(line.translate(table), base=2) for line in lines}\n",
    "ans = max(seat_ids)\n",
    "print(\"Part 1:\", ans)\n",
    "\n",
    "print(\"Part 2:\", get_first(range(1, ans), lambda seat: seat not in seat_ids \n",
    "                           and seat - 1 in seat_ids and seat + 1 in seat_ids))"
   ]
  },
  {
   "cell_type": "markdown",
   "metadata": {
    "pycharm": {
     "name": "#%% md\n"
    }
   },
   "source": [
    "## Day 6\n",
    "\n",
    "**Task**: Count the number of questions to which anyone/everyone answered \"yes\".\n",
    "\n",
    "In the first part, the question is basically \"how many unique alphabets there are\n",
    "between newlines?\". In the second part, question is \"which alphabets are present on\n",
    "all lines between newlines?\", which can be handled with [set\n",
    "intersections](https://en.wikipedia.org/wiki/Intersection_(set_theory))."
   ]
  },
  {
   "cell_type": "code",
   "execution_count": 21,
   "metadata": {
    "pycharm": {
     "name": "#%%\n"
    }
   },
   "outputs": [
    {
     "name": "stdout",
     "output_type": "stream",
     "text": [
      "Part 1: 6532\n",
      "Part 2: 3427\n"
     ]
    }
   ],
   "source": [
    "groups = data_to_blocks(get_data(day=6, year=2020))\n",
    "first, second = 0, 0\n",
    "\n",
    "for answers in groups:\n",
    "    answer_ids = {answer for answer in answers if answer.isalpha()}\n",
    "    first += len(answer_ids)\n",
    "    for person in answers.split(\"\\n\"):\n",
    "        answer_ids &= set(person)\n",
    "    second += len(answer_ids)\n",
    "\n",
    "print(\"Part 1:\", first)\n",
    "print(\"Part 2:\", second)"
   ]
  },
  {
   "cell_type": "markdown",
   "metadata": {
    "pycharm": {
     "name": "#%% md\n"
    }
   },
   "source": [
    "## Day 7\n",
    "\n",
    "**Task**: Which bags can contain \"shiny gold\" bag / how many bags does \"shiny gold\" bag contain?\n",
    "\n",
    "A bit trickier one! One helpful obvervation is that the rules define a graph, a [directec acyclic graph](https://en.wikipedia.org/wiki/Directed_acyclic_graph) to be precise. This means that both parts can be solved with [depth first search](https://en.wikipedia.org/wiki/Depth-first_search) (dfs).\n",
    "\n",
    "First dfs uses a graph where edges go from content to container: e.g. \"light red bags contain 1 bright white bag, 2 muted yellow bags.\" results edges `bright white -> light red` and `muted yellow -> light red`. This way it's easy to walk graph through from \"shiny gold\" node.\n",
    "\n",
    "Second dfs uses a graph where edges follow the rules: there's and weighted edge from container to content. Graph is walked through from \"shiny gold\" node and amounts are returned."
   ]
  },
  {
   "cell_type": "code",
   "execution_count": 56,
   "metadata": {
    "pycharm": {
     "name": "#%%\n"
    }
   },
   "outputs": [
    {
     "name": "stdout",
     "output_type": "stream",
     "text": [
      "Part 1: 372\n",
      "Part 2: 8015\n"
     ]
    }
   ],
   "source": [
    "Node = str\n",
    "Edge = tuple[Node, int]\n",
    "Graph = dict[Node, list[Edge]]\n",
    "RevGraph = dict[Node, list[Node]]\n",
    "\n",
    "rules = data_to_lines(get_data(day=7, year=2020))\n",
    "\n",
    "\n",
    "def create_graphs() -> tuple[Graph, RevGraph]:\n",
    "    graph: Graph = defaultdict(list)\n",
    "    reversed_graph: RevGraph = defaultdict(list)\n",
    "    for rule in rules:\n",
    "        container, content = rule.split(\" bags contain \")\n",
    "        content = re.findall(r\"(\\d+) ([\\w\\s]+(?= ))\", content)\n",
    "        for amount, bag in content:\n",
    "            graph[container].append((bag, int(amount)))\n",
    "            reversed_graph[bag].append(container)\n",
    "    return graph, reversed_graph\n",
    "\n",
    "\n",
    "def first(graph: Graph) -> int:\n",
    "    seen: set[Node] = set()\n",
    "    def dfs(bag: Node) -> None:\n",
    "        if bag in seen:\n",
    "            return\n",
    "        seen.add(bag)\n",
    "        for content in graph[bag]:\n",
    "            dfs(content)\n",
    "    \n",
    "    dfs(\"shiny gold\")\n",
    "    return len(seen) - 1\n",
    "\n",
    "\n",
    "def second(graph: Graph) -> int:\n",
    "    def dfs(bag: Node, amount: int) -> int:\n",
    "        if bag not in graph:\n",
    "            return amount\n",
    "        new = 0 if bag == \"shiny gold\" else amount\n",
    "        for content, num in graph[bag]:\n",
    "            new += dfs(content, num * amount)\n",
    "        return new\n",
    "\n",
    "    return dfs(\"shiny gold\", 1)\n",
    "\n",
    "\n",
    "graph, reversed_graph = create_graphs()\n",
    "print(\"Part 1:\", first(graph=reversed_graph))\n",
    "print(\"Part 2:\", second(graph=graph))"
   ]
  },
  {
   "cell_type": "markdown",
   "metadata": {
    "pycharm": {
     "name": "#%% md\n"
    }
   },
   "source": [
    "## Day 8\n",
    "\n",
    "**Task**: Find out where given semi-assemby program loops / change one instruction to terminate succesfully.\n",
    "\n",
    "This reminded me of [Intcode computer](https://adventofcode.com/2019/day/2) tasks from AoC 2019, so I used my last year's Intecode-comp style in this solution too. \n",
    "\n",
    "In the first part, loop breaks once some instruction is visited for the second time. In the second part, generator function is used to brute-force all possible tapes where either \"jmp\" or \"nop\" is replaced. Function get_first returns value from the first tape that goes beyond its index."
   ]
  },
  {
   "cell_type": "code",
   "execution_count": 57,
   "metadata": {
    "pycharm": {
     "name": "#%%\n"
    }
   },
   "outputs": [
    {
     "name": "stdout",
     "output_type": "stream",
     "text": [
      "Part 1: 2034\n",
      "Part 2: 672\n"
     ]
    }
   ],
   "source": [
    "Instruction = tuple[str, int]\n",
    "Tape = list[Instruction]\n",
    "\n",
    "instructions = re.findall(r\"(\\w+) ([\\+-]\\d+)\", get_data(day=8, year=2020))\n",
    "tape = [(op, int(arg)) for op, arg in instructions]\n",
    "\n",
    "\n",
    "@dataclass\n",
    "class Comp:\n",
    "    tape: Tape\n",
    "    accumulator: int = 0\n",
    "    head: int = 0\n",
    "\n",
    "    def run(self, mode: Mode = \"first\") -> Optional[int]:\n",
    "        seen: set[int] = set()\n",
    "        while self.head not in seen:\n",
    "            seen.add(self.head)\n",
    "            try:\n",
    "                op, arg = self.tape[self.head]\n",
    "            except IndexError:\n",
    "                return self.accumulator\n",
    "            if op == \"acc\":\n",
    "                self.accumulator += arg\n",
    "                self.head += 1\n",
    "            elif op == \"jmp\":\n",
    "                self.head += arg\n",
    "            elif op == \"nop\":\n",
    "                self.head += 1\n",
    "        if mode == \"first\":\n",
    "            return self.accumulator\n",
    "        \n",
    "\n",
    "def potential_tapes(tape: Tape) -> Iterator[Tape]:\n",
    "    replace = {\"jmp\": \"nop\", \"nop\": \"jmp\"}\n",
    "    for i, (op, arg) in enumerate(tape):\n",
    "        if op in replace:\n",
    "            yield [*tape[:i], (replace[op], arg), *tape[i + 1:]]\n",
    "\n",
    "print(\"Part 1:\", Comp(tape).run())\n",
    "            \n",
    "print(\"Part 2:\", get_first((Comp(potential_tape).run(mode=\"second\") \n",
    "                            for potential_tape in potential_tapes(tape)),\n",
    "                           lambda result: result is not None))"
   ]
  },
  {
   "cell_type": "markdown",
   "metadata": {},
   "source": [
    "## Day 20\n",
    "\n",
    "We're given `n` tiles, and the problem is to match tiles together to form a sqrt(n)\n",
    "times sqrt(n) square.\n",
    "\n",
    "First part can be solved with just matching suitable borders together. Second part is\n",
    " a bit trickier, since we're asked to construct the whole square based on matched\n",
    " borders and then check the\n",
    "\n",
    "My idea here is that first borders can be just matched. Then, I'm creating an exact\n",
    "cover matrix, which solved by numpy-exact-cover -library. After that creating the\n",
    "solution is quite easy.\n"
   ]
  },
  {
   "cell_type": "code",
   "execution_count": 34,
   "metadata": {
    "pycharm": {
     "name": "#%%\n"
    }
   },
   "outputs": [],
   "source": [
    "Picture = list[str]\n",
    "TileID = int\n",
    "\n",
    "def parse_tiles_from_data() -> dict[TileID, Picture]:\n",
    "    def get_tile_id(header: str) -> TileID:\n",
    "        return int(re.findall(r\"(\\d+)\", header)[0])\n",
    "\n",
    "    data = get_data(day=20, year=2020)\n",
    "    cameras = [camera.splitlines() for camera in data.split(\"\\n\\n\")]\n",
    "    return { get_tile_id(header): pic for (header, *pic) in cameras}\n",
    "\n",
    "tiles = parse_tiles_from_data()"
   ]
  },
  {
   "cell_type": "code",
   "execution_count": null,
   "metadata": {},
   "outputs": [],
   "source": []
  }
 ],
 "metadata": {
  "kernelspec": {
   "display_name": "Python 3",
   "language": "python",
   "name": "python3"
  },
  "language_info": {
   "codemirror_mode": {
    "name": "ipython",
    "version": 3
   },
   "file_extension": ".py",
   "mimetype": "text/x-python",
   "name": "python",
   "nbconvert_exporter": "python",
   "pygments_lexer": "ipython3",
   "version": "3.9.0"
  }
 },
 "nbformat": 4,
 "nbformat_minor": 1
}
