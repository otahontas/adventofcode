{
 "cells": [
  {
   "cell_type": "markdown",
   "metadata": {
    "pycharm": {
     "name": "#%% md\n"
    }
   },
   "source": [
    "# Advent of code 2020\n",
    "\n",
    "This notebook contains my (somewhat documented) solutions to advent of code 2020. For\n",
    "each day, I've tried to summarize the solutions into short explanation, understandable\n",
    "code blocks and, if needed, have added some extra information in code docstrings.\n",
    "\n",
    "If you want to tinker around with the solutions, you can install needed libraries\n",
    "with either [poetry](https://python-poetry.org/) or just plain `pip install .`. Some\n",
    "extra setup is also needed for the awesome [advent-of-code-data](\n",
    "https://pypi.org/project/advent-of-code-data/) library, which I'm using for getting\n",
    "input. See project docs for information."
   ]
  },
  {
   "cell_type": "markdown",
   "metadata": {
    "collapsed": true,
    "pycharm": {
     "name": "#%% md\n"
    }
   },
   "source": [
    "## Setup and shared functions\n",
    "\n",
    "This first block is used to import all libraries, define all special function and\n",
    "create all types needed in the notebook. These are mainly for parsing data into\n",
    "different forms."
   ]
  },
  {
   "cell_type": "code",
   "execution_count": 1,
   "metadata": {
    "pycharm": {
     "name": "#%%\n"
    }
   },
   "outputs": [],
   "source": [
    "import re\n",
    "from aocd import get_data\n",
    "from collections import defaultdict, deque\n",
    "from itertools import combinations, count\n",
    "from math import prod\n",
    "from typing import Any, Iterable, Callable, Optional, Literal, Iterator\n",
    "from dataclasses import dataclass\n",
    "from sympy.ntheory.modular import crt\n",
    "from sympy.ntheory import discrete_log\n",
    "from networkx import DiGraph\n",
    "from networkx.algorithms import dag\n",
    "\n",
    "Vector = tuple[int, int]\n",
    "Mode = Literal[\"first\", \"second\"]\n",
    "Solution = tuple[Any, Any]\n",
    "\n",
    "def data(day: int) -> str:\n",
    "    \"\"\"Get days input data as one string.\"\"\"\n",
    "    return get_data(day=day, year=2020)\n",
    "\n",
    "def data_to_nums(day: int) -> list[int]:\n",
    "    \"\"\"Get days input data as numbers.\"\"\"\n",
    "    return [int(x) for x in re.findall(r\"(\\d+)\", get_data(day=day, year=2020))]\n",
    "\n",
    "def data_to_lines(day: int) -> list[str]:\n",
    "    \"\"\"Get days input data lines as list of strings.\"\"\"\n",
    "    return get_data(day=day, year=2020).splitlines()\n",
    "\n",
    "def data_to_blocks(day: int) -> list[str]:\n",
    "    \"\"\"Get days input data blocks that are separated by empty new lines.\"\"\"\n",
    "    return [block for block in get_data(day=day, year=2020).split(\"\\n\\n\")]\n",
    "\n",
    "def get_next(iterable: Iterable, condition: Callable) -> Any:\n",
    "    \"\"\"Get first object from iterable that matches given condition.\"\"\"\n",
    "    return next(thing for thing in iterable if condition(thing))\n",
    "\n",
    "def run_day(day_number: int) -> Solution:\n",
    "    \"\"\"Return solutions for given day.\"\"\"\n",
    "    day_func = globals()[f\"day_{day_number}\"]\n",
    "    return day_func()\n",
    "    \n",
    "def print_day(day_number: int) -> None:\n",
    "    \"\"\"Print solutions for given day.\"\"\"\n",
    "    first, second = run_day(day_number)\n",
    "    print(\"Part 1:\", first)\n",
    "    print(\"Part 2:\", second)\n",
    "\n",
    "\n",
    "class CellularAutomaton:\n",
    "    \"\"\"Class to simulate different cellular automaton -style problems.\"\"\"\n",
    "    pass"
   ]
  },
  {
   "cell_type": "markdown",
   "metadata": {},
   "source": [
    "## Day 1\n",
    "\n",
    "**Task**: find the entries that sum to 2020.\n",
    "\n",
    "Input size is quite small, just hundred numbers, so brute-forcing through every possible\n",
    "combination is fast enough. Solve-function gets first $k$-tuple where sum of tuple\n",
    "matches given goal."
   ]
  },
  {
   "cell_type": "code",
   "execution_count": 2,
   "metadata": {
    "pycharm": {
     "name": "#%%\n"
    }
   },
   "outputs": [],
   "source": [
    "def day_1() -> Solution:\n",
    "    numbers = data_to_nums(day=1)\n",
    "\n",
    "    def solve(goal: int, number_of_entries: int) -> int:\n",
    "        return prod(get_next(combinations(numbers, number_of_entries),\n",
    "                                  lambda *combination: sum(*combination) == goal))\n",
    "    \n",
    "    first = solve(goal=2020, number_of_entries=2)\n",
    "    second = solve(goal=2020, number_of_entries=3)\n",
    "    \n",
    "    return first, second"
   ]
  },
  {
   "cell_type": "code",
   "execution_count": 3,
   "metadata": {},
   "outputs": [
    {
     "name": "stdout",
     "output_type": "stream",
     "text": [
      "Part 1: 1010299\n",
      "Part 2: 42140160\n"
     ]
    }
   ],
   "source": [
    "print_day(1)"
   ]
  },
  {
   "cell_type": "markdown",
   "metadata": {},
   "source": [
    "## Day 2\n",
    "\n",
    "**Task**: find amount of passwords that match their counterpart rule.\n",
    "\n",
    "Ah, classic aocd-style input format! Luckily, \n",
    "[regex](https://en.wikipedia.org/wiki/Regular_expression) is here to help.\n",
    "\n",
    "For the first part, occurrences of char in string is needed. The second part is handled\n",
    "with [exclusive or (XOR)](https://en.wikipedia.org/wiki/Exclusive_or) since char at\n",
    "either, but not both positions must equal to\n",
    "char in rule."
   ]
  },
  {
   "cell_type": "code",
   "execution_count": 4,
   "metadata": {
    "pycharm": {
     "name": "#%%\n"
    }
   },
   "outputs": [],
   "source": [
    "def day_2() -> Solution:\n",
    "    lines = data_to_lines(day=2)\n",
    "    regex = re.compile(r\"(\\d+)-(\\d+) ([a-z]): ([a-z]+)\")\n",
    "    first, second = 0, 0\n",
    "\n",
    "    for line in lines:\n",
    "        low, high, char, string = regex.match(line).groups()\n",
    "        low, high = int(low), int(high)\n",
    "        if low <= string.count(char) <= high:\n",
    "            first += 1\n",
    "        if (string[low - 1] == char) ^ (string[high - 1] == char):\n",
    "            second += 1\n",
    "            \n",
    "    return first, second"
   ]
  },
  {
   "cell_type": "code",
   "execution_count": 5,
   "metadata": {},
   "outputs": [
    {
     "name": "stdout",
     "output_type": "stream",
     "text": [
      "Part 1: 524\n",
      "Part 2: 485\n"
     ]
    }
   ],
   "source": [
    "print_day(2)"
   ]
  },
  {
   "cell_type": "markdown",
   "metadata": {
    "pycharm": {
     "name": "#%% md\n"
    }
   },
   "source": [
    "## Day 3\n",
    "\n",
    "**Task**: count the number of trees encountered while traversing the map.\n",
    "\n",
    "Instead of really traversing through given map, the `count_trees` function uses `range`\n",
    "and `count` generators zipped into tuples to create all traversed points. Then, it's\n",
    "easy to count encountered trees."
   ]
  },
  {
   "cell_type": "code",
   "execution_count": 6,
   "metadata": {
    "pycharm": {
     "name": "#%%\n"
    }
   },
   "outputs": [],
   "source": [
    "def day_3() -> Solution:\n",
    "    grid = data_to_lines(day=3)\n",
    "\n",
    "    def count_trees(slope: Vector):\n",
    "        right, down = slope\n",
    "        height, width = len(grid), len(grid[0])\n",
    "        return sum(\n",
    "            grid[y][x % width] == \"#\"\n",
    "            for y, x in zip(range(0, height, down), count(start=0, step=right))\n",
    "        )\n",
    "\n",
    "    slopes = [(3,1), (1, 1), (5, 1), (7, 1), (1, 2)]\n",
    "    counts = [count_trees(slope=slope) for slope in slopes]\n",
    "    \n",
    "    return counts[0], prod(counts)"
   ]
  },
  {
   "cell_type": "code",
   "execution_count": 7,
   "metadata": {},
   "outputs": [
    {
     "name": "stdout",
     "output_type": "stream",
     "text": [
      "Part 1: 280\n",
      "Part 2: 4355551200\n"
     ]
    }
   ],
   "source": [
    "print_day(3)"
   ]
  },
  {
   "cell_type": "markdown",
   "metadata": {},
   "source": [
    "## Day 4\n",
    "\n",
    "**Task**: count the number of valid passports\n",
    "\n",
    "In the first part, it's enough to check that all ids in validators are present in a\n",
    "passport. For the second part, all validator lambdas are also executed against passport\n",
    "values."
   ]
  },
  {
   "cell_type": "code",
   "execution_count": 8,
   "metadata": {
    "pycharm": {
     "name": "#%%\n"
    }
   },
   "outputs": [],
   "source": [
    "Validator = Callable[[str], bool]\n",
    "\n",
    "def day_4() -> Solution:\n",
    "    passports = data_to_blocks(day=4)\n",
    "    validators: dict[str, Validator] = {\n",
    "        \"byr\": lambda v: 1920 <= int(v) <= 2002,\n",
    "        \"iyr\": lambda v: 2010 <= int(v) <= 2020,\n",
    "        \"eyr\": lambda v: 2020 <= int(v) <= 2030,\n",
    "        \"hgt\": lambda v: (\n",
    "            \"cm\" in v\n",
    "            and 150 <= int(v[:-2]) <= 193\n",
    "            or \"in\" in v\n",
    "            and 59 <= int(v[:-2]) <= 76\n",
    "        ),\n",
    "        \"hcl\": lambda v: bool(re.fullmatch(r\"^#[0-9a-f]{6}$\", v)),\n",
    "        \"ecl\": lambda v: v in [\"amb\", \"blu\", \"brn\", \"gry\", \"grn\", \"hzl\", \"oth\"],\n",
    "        \"pid\": lambda v: bool(re.fullmatch(r\"^[0-9]{9}$\", v)),\n",
    "    }\n",
    "    regex = re.compile(\"(\\w+):(\\S+)\")\n",
    "    first, second = 0, 0\n",
    "    \n",
    "    for passport in passports:\n",
    "            fields = dict(regex.findall(passport))\n",
    "            if set(validators).issubset(set(fields)):\n",
    "                first += 1\n",
    "                second += all(validate(fields[field_id])\n",
    "                              for field_id, validate \n",
    "                              in validators.items())\n",
    "                \n",
    "    return first, second"
   ]
  },
  {
   "cell_type": "code",
   "execution_count": 9,
   "metadata": {},
   "outputs": [
    {
     "name": "stdout",
     "output_type": "stream",
     "text": [
      "Part 1: 192\n",
      "Part 2: 101\n"
     ]
    }
   ],
   "source": [
    "print_day(4)"
   ]
  },
  {
   "cell_type": "markdown",
   "metadata": {},
   "source": [
    "## Day 5\n",
    "\n",
    "**Task**: Find out the highest seat ID and your own seat ID.\n",
    "\n",
    "There's a nice catch in the puzzle: char pairs F/L and B/R aren't really different,\n",
    "since each can be substituted with 0 or 1. The result is a [binary number\n",
    "](https://en.wikipedia.org/wiki/Binary_number) string which can be casted to int.\n",
    "\n",
    "In the second part, helper function finds the first seat id that matches given\n",
    "conditions."
   ]
  },
  {
   "cell_type": "code",
   "execution_count": 10,
   "metadata": {
    "pycharm": {
     "name": "#%%\n"
    }
   },
   "outputs": [],
   "source": [
    "def day_5() -> Solution:\n",
    "    lines = data_to_lines(day=5)\n",
    "\n",
    "    table = str.maketrans(\"FBLR\", \"0101\")\n",
    "    seat_ids = {int(line.translate(table), base=2) for line in lines}\n",
    "    \n",
    "    first = max(seat_ids)\n",
    "    second = get_next(range(1, first), \n",
    "                      lambda seat: seat not in seat_ids \n",
    "                      and seat - 1 in seat_ids \n",
    "                      and seat + 1 in seat_ids)\n",
    "    \n",
    "    return first, second"
   ]
  },
  {
   "cell_type": "code",
   "execution_count": 11,
   "metadata": {},
   "outputs": [
    {
     "name": "stdout",
     "output_type": "stream",
     "text": [
      "Part 1: 858\n",
      "Part 2: 557\n"
     ]
    }
   ],
   "source": [
    "print_day(5)"
   ]
  },
  {
   "cell_type": "markdown",
   "metadata": {
    "pycharm": {
     "name": "#%% md\n"
    }
   },
   "source": [
    "## Day 6\n",
    "\n",
    "**Task**: Count the number of questions to which anyone/everyone answered \"yes\".\n",
    "\n",
    "In the first part, the question is basically \"how many unique alphabets there are\n",
    "between newlines?\". In the second part, question is \"which alphabets are present on all\n",
    "lines between newlines?\", which can be handled with [set intersections\n",
    "](https://en.wikipedia.org/wiki/Intersection_(set_theory))."
   ]
  },
  {
   "cell_type": "code",
   "execution_count": 12,
   "metadata": {
    "pycharm": {
     "name": "#%%\n"
    }
   },
   "outputs": [],
   "source": [
    "def day_6() -> Solution:\n",
    "    groups = data_to_blocks(day=6)\n",
    "    first, second = 0, 0\n",
    "\n",
    "    for answers in groups:\n",
    "        answer_ids = {answer for answer in answers if answer.isalpha()}\n",
    "        first += len(answer_ids)\n",
    "        for person in answers.split(\"\\n\"):\n",
    "            answer_ids &= set(person)\n",
    "        second += len(answer_ids)\n",
    "        \n",
    "    return first, second"
   ]
  },
  {
   "cell_type": "code",
   "execution_count": 13,
   "metadata": {},
   "outputs": [
    {
     "name": "stdout",
     "output_type": "stream",
     "text": [
      "Part 1: 6532\n",
      "Part 2: 3427\n"
     ]
    }
   ],
   "source": [
    "print_day(6)"
   ]
  },
  {
   "cell_type": "markdown",
   "metadata": {
    "pycharm": {
     "name": "#%% md\n"
    }
   },
   "source": [
    "## Day 7\n",
    "\n",
    "**Task**: Which bags can contain \"shiny gold\" bag / how many bags does \"shiny gold\" bag\n",
    "contain?\n",
    "\n",
    "A bit trickier one! One helpful observation is that the rules define a graph, a\n",
    "[directed acyclic graph](https://en.wikipedia.org/wiki/Directed_acyclic_graph) (DAG) \n",
    "to be precise. So, the excellent network library [NetworkX](https://networkx.org/) can\n",
    "be used.\n",
    "\n",
    "Initially, graph contains weighted edges from container bag to content bags. The first \n",
    "part is solved by turning edges around to answer the question \"which bags can contain\n",
    "this bag\". This way it's easy to walk graph through from the \"shiny gold\" node.\n",
    "\n",
    "In second part, [depth-first-search](https://en.wikipedia.org/wiki/Depth-first_search)\n",
    "is used to sum bag amounts from the innermost bags until \"shiny gold\" is reached."
   ]
  },
  {
   "cell_type": "code",
   "execution_count": 14,
   "metadata": {
    "pycharm": {
     "name": "#%%\n"
    }
   },
   "outputs": [],
   "source": [
    "Node = str\n",
    "Edge = tuple[Node, int]\n",
    "Graph = dict[Node, list[Edge]]\n",
    "\n",
    "def day_7():\n",
    "    rules = data_to_lines(day=7)\n",
    "    graph = DiGraph()\n",
    "\n",
    "    def create_graph() -> None:\n",
    "        regex = re.compile(r\"(\\d+) ([\\w\\s]+(?= ))\")\n",
    "        for rule in rules:\n",
    "            container, content = rule.split(\" bags contain \")\n",
    "            graph.add_weighted_edges_from(\n",
    "                ((container, bag, int(amount)) \n",
    "                for amount, bag \n",
    "                in regex.findall(content))\n",
    "            )\n",
    "\n",
    "    def dfs(bag: str) -> int:\n",
    "        return sum(\n",
    "            dfs(neighbour) * graph[bag][neighbour][\"weight\"] \n",
    "            for neighbour \n",
    "            in graph[bag]\n",
    "        ) + 1\n",
    "\n",
    "    create_graph()\n",
    "    first = len(dag.descendants(graph.reverse(), \"shiny gold\"))\n",
    "    second = dfs(\"shiny gold\") - 1\n",
    "    \n",
    "    return first, second"
   ]
  },
  {
   "cell_type": "code",
   "execution_count": 15,
   "metadata": {
    "scrolled": false
   },
   "outputs": [
    {
     "name": "stdout",
     "output_type": "stream",
     "text": [
      "Part 1: 372\n",
      "Part 2: 8015\n"
     ]
    }
   ],
   "source": [
    "print_day(7)"
   ]
  },
  {
   "cell_type": "markdown",
   "metadata": {
    "pycharm": {
     "name": "#%% md\n"
    }
   },
   "source": [
    "## Day 8\n",
    "\n",
    "**Task**: Where the given semi-assembly program loops? / Change one instruction\n",
    "to make program terminate successfully.\n",
    "\n",
    "This reminded me of [Intcode computer](https://adventofcode.com/2019/day/2) tasks from\n",
    "AoC 2019, so I decided to just simulate the given program.\n",
    "\n",
    "In the first part, loop breaks once some instruction is visited for the second time. In\n",
    "the second part, generator function is used to create potential tapes where either \"jmp\"\n",
    "or \"nop\" is replaced. Function get_first returns value from the first tape that goes\n",
    "beyond its index."
   ]
  },
  {
   "cell_type": "code",
   "execution_count": 16,
   "metadata": {
    "pycharm": {
     "name": "#%%\n"
    }
   },
   "outputs": [],
   "source": [
    "Instruction = tuple[str, int]\n",
    "Tape = list[Instruction]\n",
    "\n",
    "def day_8():\n",
    "    instructions = re.findall(r\"(\\w+) ([+-]\\d+)\", data(day=8))\n",
    "    tape = [(op, int(arg)) for op, arg in instructions]\n",
    "\n",
    "    @dataclass\n",
    "    class Comp:\n",
    "        tape: Tape\n",
    "        accumulator: int = 0\n",
    "        head: int = 0\n",
    "\n",
    "        def run(self, mode: Mode = \"first\") -> Optional[int]:\n",
    "            seen: set[int] = set()\n",
    "            while self.head not in seen:\n",
    "                seen.add(self.head)\n",
    "                try:\n",
    "                    op, arg = self.tape[self.head]\n",
    "                except IndexError:\n",
    "                    return self.accumulator\n",
    "                if op == \"acc\":\n",
    "                    self.accumulator += arg\n",
    "                    self.head += 1\n",
    "                elif op == \"jmp\":\n",
    "                    self.head += arg\n",
    "                elif op == \"nop\":\n",
    "                    self.head += 1\n",
    "            if mode == \"first\":\n",
    "                return self.accumulator\n",
    "\n",
    "    def potential_tapes(broken_tape: Tape) -> Iterator[Tape]:\n",
    "        replace = {\"jmp\": \"nop\", \"nop\": \"jmp\"}\n",
    "        for i, (op, arg) in enumerate(broken_tape):\n",
    "            if op in replace:\n",
    "                yield [*broken_tape[:i], (replace[op], arg), *broken_tape[i + 1:]]\n",
    "                \n",
    "    first = Comp(tape).run()\n",
    "    second = get_next((Comp(potential_tape).run(mode=\"second\")\n",
    "                       for potential_tape in potential_tapes(tape)),\n",
    "                      lambda result: result is not None)\n",
    "    \n",
    "    return first, second"
   ]
  },
  {
   "cell_type": "code",
   "execution_count": 17,
   "metadata": {},
   "outputs": [
    {
     "name": "stdout",
     "output_type": "stream",
     "text": [
      "Part 1: 2034\n",
      "Part 2: 672\n"
     ]
    }
   ],
   "source": [
    "print_day(8)"
   ]
  },
  {
   "cell_type": "markdown",
   "metadata": {},
   "source": [
    "## Day 9\n",
    "\n",
    "**Task**: What is the first number that isn't sum of any two numbers of the 25\n",
    "numbers before it? / Find a contiguous subset of numbers that sum up to that first\n",
    "number.\n",
    "\n",
    "Time to brute-force again! In the first part, sum_in_interval checks if number at\n",
    "an index $i$ is a sum of any combination of previous 25 numbers. Number at first index\n",
    "satisfying this property is the answer.\n",
    "\n",
    "In the second part I decided to put a little of effort to produce an $O(n)$ solution.\n",
    "Solution uses a [sliding window](\n",
    "https://www.geeksforgeeks.org/window-sliding-technique/) and deque in order to have each\n",
    "number added/removed from `sum_nums` max one time."
   ]
  },
  {
   "cell_type": "code",
   "execution_count": 18,
   "metadata": {
    "pycharm": {
     "name": "#%%\n"
    }
   },
   "outputs": [],
   "source": [
    "def day_9():\n",
    "    numbers = data_to_nums(day=9)\n",
    "    n, offset = len(numbers), 25\n",
    "\n",
    "    def sum_in_interval(start_index: int, goal_index: int) -> bool:\n",
    "        return any(sum(combination) == numbers[goal_index] for combination in\n",
    "                   combinations(numbers[start_index:goal_index], 2))\n",
    "\n",
    "    def find_sum(goal: int) -> Optional[int]:\n",
    "        sum_nums, sum_total = deque(), 0\n",
    "        for num in numbers:\n",
    "            if sum_total < goal:\n",
    "                sum_nums.append(num)\n",
    "                sum_total += num\n",
    "            if sum_total == goal and len(sum_nums) >= 2:\n",
    "                return min(sum_nums) + max(sum_nums)\n",
    "            while sum_total > goal:\n",
    "                sum_total -= sum_nums.popleft()\n",
    "\n",
    "    invalid_number_index = get_next(range(offset, n), lambda index: \n",
    "                                    not sum_in_interval(start_index=index-offset,\n",
    "                                                        goal_index=index)\n",
    "                                   )\n",
    "    first = numbers[invalid_number_index]\n",
    "    second = find_sum(goal=first)\n",
    "    \n",
    "    return first, second"
   ]
  },
  {
   "cell_type": "code",
   "execution_count": 19,
   "metadata": {},
   "outputs": [
    {
     "name": "stdout",
     "output_type": "stream",
     "text": [
      "Part 1: 542529149\n",
      "Part 2: 75678618\n"
     ]
    }
   ],
   "source": [
    "print_day(9)"
   ]
  },
  {
   "cell_type": "markdown",
   "metadata": {},
   "source": [
    "## Day 10\n",
    "\n",
    "**Task**: Count differences between numbers / count total numbers of ways to arrange\n",
    "numbers up to `n`th number.\n",
    "\n",
    "It helps here to sort the given joltage array first. After that, both parts can be\n",
    "solved in $O(n)$ by iterating through the sorted array. \n",
    "\n",
    "For the first part, differences between consecutive numbers are calculated. The \n",
    "second part can be solved with \n",
    "[dynamic programming](https://en.wikipedia.org/wiki/Dynamic_programming): since\n",
    "one can add either adapter with $k+1$, $k+2$ or $k+3$ joltages after an adapter\n",
    "with $k$ joltages, amount of adapters at some $k$ is based on amounts before it.\n",
    "Answer is the amount of possible ways to sum up to charger with largest joltage."
   ]
  },
  {
   "cell_type": "code",
   "execution_count": 20,
   "metadata": {
    "pycharm": {
     "name": "#%%\n"
    }
   },
   "outputs": [],
   "source": [
    "def day_10():\n",
    "    joltages = sorted(data_to_nums(day=10))\n",
    "\n",
    "    ways, diffs = defaultdict(int), defaultdict(int)\n",
    "    prev = 0\n",
    "    ways[0] = 1\n",
    "    for joltage in joltages:\n",
    "        ways[joltage] = sum(ways[joltage - i] for i in [1, 2, 3])\n",
    "        diffs[joltage - prev] += 1\n",
    "        prev = joltage\n",
    "    diffs[3] += 1\n",
    "    \n",
    "    first = diffs[1] * diffs[3]\n",
    "    second = ways[joltages[-1]]\n",
    "    \n",
    "    return first, second"
   ]
  },
  {
   "cell_type": "code",
   "execution_count": 21,
   "metadata": {
    "scrolled": false
   },
   "outputs": [
    {
     "name": "stdout",
     "output_type": "stream",
     "text": [
      "Part 1: 1656\n",
      "Part 2: 56693912375296\n"
     ]
    }
   ],
   "source": [
    "print_day(10)"
   ]
  },
  {
   "cell_type": "markdown",
   "metadata": {},
   "source": [
    "## Day 12\n",
    "\n",
    "**Task**: Move ship by given rules, calculate distance between starting and ending\n",
    "positions.\n",
    "\n",
    "Quite straightforward puzzle: biggest difference between parts is movement of\n",
    "direction (part 1) / waypoint (part 2), otherwise program logic is the same between\n",
    "parts. Here, `apply_instructions` function gets direction or waypoint as a keyword\n",
    "argument `other` and returns the placement of the ship after instructions.\n",
    "\n",
    "Note that pythons `complex` type offers fine way to represent points and do arithmetics\n",
    "with them.\n"
   ]
  },
  {
   "cell_type": "code",
   "execution_count": 22,
   "metadata": {
    "pycharm": {
     "name": "#%%\n"
    }
   },
   "outputs": [],
   "source": [
    "def day_12():\n",
    "    instructions = [(line[0], int(line[1:])) for line in data_to_lines(day=12)]\n",
    "    directions = {\"N\": complex(0, 1), \"E\": complex(1, 0),\n",
    "                  \"S\": complex(0, -1), \"W\": complex(-1, 0)}\n",
    "\n",
    "    # TODO: fix type errors here\n",
    "    def turn(degrees: int, direction: complex) -> complex:\n",
    "        x, y = direction.real, direction.imag\n",
    "        return direction if degrees % 360 == 0 else turn(degrees - 90, complex(y, -x))\n",
    "\n",
    "    def move(steps: int, point: complex, direction: complex) -> complex:\n",
    "        x, y = point.real, point.imag\n",
    "        dx, dy = direction.real, direction.imag\n",
    "        return complex(x + steps * dx, y + steps * dy)\n",
    "\n",
    "    def apply_instructions(other: complex, mode: Mode) -> complex:\n",
    "        point = complex(0,0)\n",
    "        for action, value in instructions:\n",
    "            if action == \"R\":\n",
    "                other = turn(degrees=value, direction=other)\n",
    "            elif action == \"L\":\n",
    "                other = turn(degrees=-value, direction=other)\n",
    "            elif action == \"F\":\n",
    "                point = move(steps=value, point=point, direction=other)\n",
    "            elif mode == \"first\":\n",
    "                point = move(steps=value, point=point, direction=directions[action])\n",
    "            elif mode == \"second\":\n",
    "                other = move(steps=value, point=other, direction=directions[action])\n",
    "        return point\n",
    "\n",
    "    def solve(mode: Mode) -> int:\n",
    "        point = (apply_instructions(other=directions[\"E\"], mode=mode) if mode == \"first\"\n",
    "                 else apply_instructions(other=complex(10, 1), mode=mode))\n",
    "        return int(abs(point.real) + abs(point.imag))\n",
    "\n",
    "    return solve(mode=\"first\"), solve(mode=\"second\")"
   ]
  },
  {
   "cell_type": "code",
   "execution_count": 23,
   "metadata": {
    "pycharm": {
     "name": "#%%\n"
    }
   },
   "outputs": [
    {
     "name": "stdout",
     "output_type": "stream",
     "text": [
      "Part 1: 1010\n",
      "Part 2: 52742\n"
     ]
    }
   ],
   "source": [
    "print_day(12)"
   ]
  },
  {
   "cell_type": "markdown",
   "metadata": {},
   "source": [
    "## Day 13\n",
    "\n",
    "**Task**: Given some timestamp, and a bus schedule, what is the earliest time to take\n",
    "a bus (part 1) / the earliest time when busses depart exactly n minutes after first,\n",
    "where n is their placement on the list.\n",
    "\n",
    "For input, ids and diffs between bus id and its placement in schedule are calculated.\n",
    "This helps on part 2.\n",
    "\n",
    "The first part requires simple calculation, which gets remainder between the earliest\n",
    "time and bus ids. The second part, on the other hand, requires some number\n",
    "theory: [chinese remainder theorem](\n",
    "https://en.wikipedia.org/wiki/Chinese_remainder_theorem). Idea here is that, there is\n",
    "one integer $x$ that holds\n",
    "\n",
    "$\\begin{align}\n",
    "x \\equiv a_1 \\pmod{n_1} \\\\\n",
    "x \\equiv a_2 \\pmod{n_2} \\\\\n",
    "x \\equiv a_k \\pmod{n_k} \\\\\n",
    "\\end{align}\n",
    "$\n",
    "\n",
    "where $a$ is a list of bus ids and $n$ is a list of differences between id and busses\n",
    "placement in given schedule. Using the given example, this means that\n",
    "`1068781 % 0 == 7 % 0`, `1068781 % 1 == 13 % 1`,`1068781 % 4 == 59 % 4` etc.\n",
    "\n",
    "Sympy library [provides function](\n",
    "https://docs.sympy.org/latest/modules/ntheory.html?highlight=baby%20step#sympy.ntheory.modular.crt)\n",
    "to calculate the integer $x$."
   ]
  },
  {
   "cell_type": "code",
   "execution_count": 24,
   "metadata": {
    "pycharm": {
     "name": "#%%\n"
    }
   },
   "outputs": [],
   "source": [
    "def day_13():\n",
    "    lines = data_to_lines(day=13)\n",
    "    earliest = int(lines[0])\n",
    "    bus_ids_and_diffs = [\n",
    "        (int(bus_id), int(bus_id) - i)\n",
    "        for i, bus_id in enumerate(lines[1].split(\",\"))\n",
    "        if bus_id != \"x\"\n",
    "    ]\n",
    "\n",
    "    minutes, bus_id = min(\n",
    "        (bus_id - earliest % bus_id, bus_id) for bus_id, _ in bus_ids_and_diffs\n",
    "    )\n",
    "    first = minutes * bus_id\n",
    "\n",
    "    bus_ids, diffs = zip(*bus_ids_and_diffs)\n",
    "    second = crt(bus_ids, diffs)[0]\n",
    "    \n",
    "    return first, second"
   ]
  },
  {
   "cell_type": "code",
   "execution_count": 25,
   "metadata": {
    "pycharm": {
     "name": "#%%\n"
    }
   },
   "outputs": [
    {
     "name": "stdout",
     "output_type": "stream",
     "text": [
      "Part 1: 3269\n",
      "Part 2: 672754131923874\n"
     ]
    }
   ],
   "source": [
    "print_day(13)"
   ]
  },
  {
   "cell_type": "markdown",
   "metadata": {},
   "source": [
    "## Day 25\n",
    "\n",
    "**Task**: Given two public keys, find out the encryption key they share.\n",
    "\n",
    "The final day, yeah! Exchange process detailed in the puzzle is a lot like [Diffie-\n",
    "Hellman key exchange](https://en.wikipedia.org/wiki/Diffie%E2%80%93Hellman_key_exchange)\n",
    "- in this case, the secret integer (loop size) must be solved.\n",
    "\n",
    "Transforming process is basically taking $k$th power of the subject number $7$\n",
    "modulo $20201227$, where $k = $ loop size. Since public key $n$ is given, loop \n",
    "size can be found from the equation $7^k \\equiv n \\pmod{20201227}$. \n",
    "\n",
    "Instead of brute forcing loop sizes $1…k$ until correct is found, it's better to\n",
    "calculate [discrete logarithm](https://en.wikipedia.org/wiki/Discrete_logarithm) of\n",
    "$n$ to the base $7$ modulo $20201227$. Luckily, Sympy library provides\n",
    "[suitable function for this](\n",
    "https://docs.sympy.org/latest/modules/ntheory.html?#sympy.ntheory.residue_ntheory.discrete_log)."
   ]
  },
  {
   "cell_type": "code",
   "execution_count": 26,
   "metadata": {
    "pycharm": {
     "name": "#%%\n"
    }
   },
   "outputs": [],
   "source": [
    "def day_25():\n",
    "    card_key, door_key = data_to_nums(day=25)\n",
    "    subject_number, modulo, loop_size = 7, 20201227, 0\n",
    "    \n",
    "    k = discrete_log(modulo, card_key, subject_number)\n",
    "    \n",
    "    return pow(door_key, k, modulo), None\n"
   ]
  },
  {
   "cell_type": "code",
   "execution_count": 27,
   "metadata": {
    "scrolled": true
   },
   "outputs": [
    {
     "name": "stdout",
     "output_type": "stream",
     "text": [
      "Part 1: 3286137\n",
      "Part 2: None\n"
     ]
    }
   ],
   "source": [
    "print_day(25)"
   ]
  },
  {
   "cell_type": "markdown",
   "metadata": {},
   "source": [
    "# Timings\n",
    "I've been trying to optimize solutions to run under 1 seconds each. Here's the report\n",
    "on 2018 15\" Macbook Pro (2,8 Ghz i7):"
   ]
  },
  {
   "cell_type": "code",
   "execution_count": 28,
   "metadata": {},
   "outputs": [
    {
     "name": "stdout",
     "output_type": "stream",
     "text": [
      "Day  Secs.\n",
      "===  =====\n",
      " 1  0.174\n",
      " 2  0.002\n",
      " 3  0.001\n",
      " 4  0.003\n",
      " 5  0.001\n",
      " 6  0.005\n",
      " 7  0.019\n",
      " 8  0.021\n",
      " 9  0.009\n",
      "10  0.001\n",
      "12  0.002\n",
      "13  0.001\n",
      "25  0.001\n",
      "CPU times: user 234 ms, sys: 9.32 ms, total: 243 ms\n",
      "Wall time: 243 ms\n"
     ]
    }
   ],
   "source": [
    "import time\n",
    "\n",
    "def timing():\n",
    "    \"\"\"Report on timing for all days.\"\"\"\n",
    "    print(\"Day  Secs.\")\n",
    "    print('===  =====')   \n",
    "    for day in [1,2,3,4,5,6,7,8,9,10,12,13,25]:\n",
    "        start = time.time()\n",
    "        run_day(day)\n",
    "        total = time.time() - start\n",
    "        print(f\"{day:2} {total:6.3f}\")\n",
    "\n",
    "%time timing()"
   ]
  },
  {
   "cell_type": "code",
   "execution_count": null,
   "metadata": {},
   "outputs": [],
   "source": []
  }
 ],
 "metadata": {
  "kernelspec": {
   "display_name": "Python 3",
   "language": "python",
   "name": "python3"
  },
  "language_info": {
   "codemirror_mode": {
    "name": "ipython",
    "version": 3
   },
   "file_extension": ".py",
   "mimetype": "text/x-python",
   "name": "python",
   "nbconvert_exporter": "python",
   "pygments_lexer": "ipython3",
   "version": "3.9.0"
  }
 },
 "nbformat": 4,
 "nbformat_minor": 1
}
