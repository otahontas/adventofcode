{
 "cells": [
  {
   "cell_type": "markdown",
   "metadata": {
    "pycharm": {
     "name": "#%% md\n"
    }
   },
   "source": [
    "# Advent of code 2020\n",
    "\n",
    "This notebook contains my (somewhat documented) solutions to advent of code 2020. For\n",
    "each day, I've tried to summarize ideas behind the solutions and to write understandable\n",
    "and explicit code with type hints, so it's easier to follow what's happening. My\n",
    "other goal has been optimizing: most of the solutions should run under one seconds\n",
    "with a decent, modern laptop.\n",
    "\n",
    "If you want to tinker around with the solutions, you can install needed libraries\n",
    "with either [poetry](https://python-poetry.org/) or just plain `pip install .`. Some\n",
    "extra setup is also needed for the awesome [advent-of-code-data](\n",
    "https://pypi.org/project/advent-of-code-data/) library, which I'm using for getting\n",
    "input. See project docs for information.\n",
    "\n",
    "TODO: d20, d22, d23, d24"
   ]
  },
  {
   "cell_type": "markdown",
   "metadata": {
    "collapsed": true,
    "pycharm": {
     "name": "#%% md\n"
    }
   },
   "source": [
    "## Setup and shared functions\n",
    "\n",
    "This first block is used to import all libraries, define all special function and\n",
    "create all types needed in the notebook. These are mainly for parsing data into\n",
    "different forms."
   ]
  },
  {
   "cell_type": "code",
   "execution_count": 1,
   "metadata": {
    "pycharm": {
     "name": "#%%\n"
    }
   },
   "outputs": [
    {
     "data": {
      "application/javascript": [
       "\n",
       "            setTimeout(function() {\n",
       "                var nbb_cell_id = 1;\n",
       "                var nbb_unformatted_code = \"# Load black for automatic code formatting\\n%load_ext nb_black\\n\\n# Load libraries\\nimport re\\nimport math\\nimport itertools\\nimport functools\\nimport networkx as nx\\nimport aocd\\nimport numpy as np\\nimport numba as nb\\n\\nfrom collections import defaultdict, deque, Counter\\nfrom typing import (\\n    Iterable,\\n    Callable,\\n    Optional,\\n    Literal,\\n    Iterator,\\n    Tuple,\\n    Set,\\n    List,\\n    Dict,\\n    Union,\\n    Deque,\\n)\\nfrom dataclasses import dataclass\\nfrom sympy.ntheory.modular import crt\\nfrom sympy.ntheory import discrete_log\\n\\nVector = Tuple[int, int]\\nMode = Literal[\\\"first\\\", \\\"second\\\"]\\nSolution = Tuple[Union[int, str], Union[int, str]]\\n\\n\\ndef data(day: int) -> str:\\n    \\\"\\\"\\\"Get days input data as one string.\\\"\\\"\\\"\\n    return aocd.get_data(day=day, year=2020)\\n\\n\\ndef data_to_nums(day: int) -> List[int]:\\n    \\\"\\\"\\\"Get days input data as numbers.\\\"\\\"\\\"\\n    return [int(x) for x in re.findall(r\\\"(\\\\d+)\\\", aocd.get_data(day=day, year=2020))]\\n\\n\\ndef data_to_lines(day: int) -> List[str]:\\n    \\\"\\\"\\\"Get days input data lines as list of strings.\\\"\\\"\\\"\\n    return aocd.get_data(day=day, year=2020).splitlines()\\n\\n\\ndef data_to_blocks(day: int) -> List[str]:\\n    \\\"\\\"\\\"Get days input data blocks that are separated by empty new lines.\\\"\\\"\\\"\\n    return [block for block in aocd.get_data(day=day, year=2020).split(\\\"\\\\n\\\\n\\\")]\\n\\n\\ndef run_day(day_number: int) -> Solution:\\n    \\\"\\\"\\\"Return solutions for given day.\\\"\\\"\\\"\\n    day_func = globals()[f\\\"day_{day_number}\\\"]\\n    return day_func()\\n\\n\\ndef print_day(day_number: int) -> None:\\n    \\\"\\\"\\\"Print solutions for given day.\\\"\\\"\\\"\\n    first, second = run_day(day_number)\\n    print(\\\"Part 1:\\\", first)\\n    print(\\\"Part 2:\\\", second)\";\n",
       "                var nbb_formatted_code = \"# Load black for automatic code formatting\\n%load_ext nb_black\\n\\n# Load libraries\\nimport re\\nimport math\\nimport itertools\\nimport functools\\nimport networkx as nx\\nimport aocd\\nimport numpy as np\\nimport numba as nb\\n\\nfrom collections import defaultdict, deque, Counter\\nfrom typing import (\\n    Iterable,\\n    Callable,\\n    Optional,\\n    Literal,\\n    Iterator,\\n    Tuple,\\n    Set,\\n    List,\\n    Dict,\\n    Union,\\n    Deque,\\n)\\nfrom dataclasses import dataclass\\nfrom sympy.ntheory.modular import crt\\nfrom sympy.ntheory import discrete_log\\n\\nVector = Tuple[int, int]\\nMode = Literal[\\\"first\\\", \\\"second\\\"]\\nSolution = Tuple[Union[int, str], Union[int, str]]\\n\\n\\ndef data(day: int) -> str:\\n    \\\"\\\"\\\"Get days input data as one string.\\\"\\\"\\\"\\n    return aocd.get_data(day=day, year=2020)\\n\\n\\ndef data_to_nums(day: int) -> List[int]:\\n    \\\"\\\"\\\"Get days input data as numbers.\\\"\\\"\\\"\\n    return [int(x) for x in re.findall(r\\\"(\\\\d+)\\\", aocd.get_data(day=day, year=2020))]\\n\\n\\ndef data_to_lines(day: int) -> List[str]:\\n    \\\"\\\"\\\"Get days input data lines as list of strings.\\\"\\\"\\\"\\n    return aocd.get_data(day=day, year=2020).splitlines()\\n\\n\\ndef data_to_blocks(day: int) -> List[str]:\\n    \\\"\\\"\\\"Get days input data blocks that are separated by empty new lines.\\\"\\\"\\\"\\n    return [block for block in aocd.get_data(day=day, year=2020).split(\\\"\\\\n\\\\n\\\")]\\n\\n\\ndef run_day(day_number: int) -> Solution:\\n    \\\"\\\"\\\"Return solutions for given day.\\\"\\\"\\\"\\n    day_func = globals()[f\\\"day_{day_number}\\\"]\\n    return day_func()\\n\\n\\ndef print_day(day_number: int) -> None:\\n    \\\"\\\"\\\"Print solutions for given day.\\\"\\\"\\\"\\n    first, second = run_day(day_number)\\n    print(\\\"Part 1:\\\", first)\\n    print(\\\"Part 2:\\\", second)\";\n",
       "                var nbb_cells = Jupyter.notebook.get_cells();\n",
       "                for (var i = 0; i < nbb_cells.length; ++i) {\n",
       "                    if (nbb_cells[i].input_prompt_number == nbb_cell_id) {\n",
       "                        if (nbb_cells[i].get_text() == nbb_unformatted_code) {\n",
       "                             nbb_cells[i].set_text(nbb_formatted_code);\n",
       "                        }\n",
       "                        break;\n",
       "                    }\n",
       "                }\n",
       "            }, 500);\n",
       "            "
      ],
      "text/plain": [
       "<IPython.core.display.Javascript object>"
      ]
     },
     "metadata": {},
     "output_type": "display_data"
    }
   ],
   "source": [
    "# Load black for automatic code formatting\n",
    "%load_ext nb_black\n",
    "\n",
    "# Load libraries\n",
    "import re\n",
    "import math\n",
    "import itertools\n",
    "import functools\n",
    "import networkx as nx\n",
    "import aocd\n",
    "import numpy as np\n",
    "import numba as nb\n",
    "\n",
    "from collections import defaultdict, deque, Counter\n",
    "from typing import (\n",
    "    Iterable,\n",
    "    Callable,\n",
    "    Optional,\n",
    "    Literal,\n",
    "    Iterator,\n",
    "    Tuple,\n",
    "    Set,\n",
    "    List,\n",
    "    Dict,\n",
    "    Union,\n",
    "    Deque,\n",
    ")\n",
    "from dataclasses import dataclass\n",
    "from sympy.ntheory.modular import crt\n",
    "from sympy.ntheory import discrete_log\n",
    "\n",
    "Vector = Tuple[int, int]\n",
    "Mode = Literal[\"first\", \"second\"]\n",
    "Solution = Tuple[Union[int, str], Union[int, str]]\n",
    "\n",
    "\n",
    "def data(day: int) -> str:\n",
    "    \"\"\"Get days input data as one string.\"\"\"\n",
    "    return aocd.get_data(day=day, year=2020)\n",
    "\n",
    "\n",
    "def data_to_nums(day: int) -> List[int]:\n",
    "    \"\"\"Get days input data as numbers.\"\"\"\n",
    "    return [int(x) for x in re.findall(r\"(\\d+)\", aocd.get_data(day=day, year=2020))]\n",
    "\n",
    "\n",
    "def data_to_lines(day: int) -> List[str]:\n",
    "    \"\"\"Get days input data lines as list of strings.\"\"\"\n",
    "    return aocd.get_data(day=day, year=2020).splitlines()\n",
    "\n",
    "\n",
    "def data_to_blocks(day: int) -> List[str]:\n",
    "    \"\"\"Get days input data blocks that are separated by empty new lines.\"\"\"\n",
    "    return [block for block in aocd.get_data(day=day, year=2020).split(\"\\n\\n\")]\n",
    "\n",
    "\n",
    "def run_day(day_number: int) -> Solution:\n",
    "    \"\"\"Return solutions for given day.\"\"\"\n",
    "    day_func = globals()[f\"day_{day_number}\"]\n",
    "    return day_func()\n",
    "\n",
    "\n",
    "def print_day(day_number: int) -> None:\n",
    "    \"\"\"Print solutions for given day.\"\"\"\n",
    "    first, second = run_day(day_number)\n",
    "    print(\"Part 1:\", first)\n",
    "    print(\"Part 2:\", second)"
   ]
  },
  {
   "cell_type": "markdown",
   "metadata": {},
   "source": [
    "## Day 1\n",
    "\n",
    "**Task**: find the entries that sum to 2020.\n",
    "\n",
    "Input size is quite small, just hundred numbers, so brute-forcing through every possible\n",
    "combination is fast enough."
   ]
  },
  {
   "cell_type": "code",
   "execution_count": 2,
   "metadata": {
    "pycharm": {
     "name": "#%%\n"
    }
   },
   "outputs": [
    {
     "data": {
      "application/javascript": [
       "\n",
       "            setTimeout(function() {\n",
       "                var nbb_cell_id = 2;\n",
       "                var nbb_unformatted_code = \"def day_1() -> Solution:\\n    numbers = data_to_nums(day=1)\\n\\n    def solve(goal: int, number_of_entries: int) -> int:\\n        \\\"\\\"\\\"Find first tuple that has sum equivalent to goal.\\\"\\\"\\\"\\n        return math.prod(\\n            next(\\n                combination\\n                for combination in itertools.combinations(numbers, number_of_entries)\\n                if sum(combination) == goal\\n            )\\n        )\\n\\n    first = solve(goal=2020, number_of_entries=2)\\n    second = solve(goal=2020, number_of_entries=3)\\n\\n    return first, second\";\n",
       "                var nbb_formatted_code = \"def day_1() -> Solution:\\n    numbers = data_to_nums(day=1)\\n\\n    def solve(goal: int, number_of_entries: int) -> int:\\n        \\\"\\\"\\\"Find first tuple that has sum equivalent to goal.\\\"\\\"\\\"\\n        return math.prod(\\n            next(\\n                combination\\n                for combination in itertools.combinations(numbers, number_of_entries)\\n                if sum(combination) == goal\\n            )\\n        )\\n\\n    first = solve(goal=2020, number_of_entries=2)\\n    second = solve(goal=2020, number_of_entries=3)\\n\\n    return first, second\";\n",
       "                var nbb_cells = Jupyter.notebook.get_cells();\n",
       "                for (var i = 0; i < nbb_cells.length; ++i) {\n",
       "                    if (nbb_cells[i].input_prompt_number == nbb_cell_id) {\n",
       "                        if (nbb_cells[i].get_text() == nbb_unformatted_code) {\n",
       "                             nbb_cells[i].set_text(nbb_formatted_code);\n",
       "                        }\n",
       "                        break;\n",
       "                    }\n",
       "                }\n",
       "            }, 500);\n",
       "            "
      ],
      "text/plain": [
       "<IPython.core.display.Javascript object>"
      ]
     },
     "metadata": {},
     "output_type": "display_data"
    }
   ],
   "source": [
    "def day_1() -> Solution:\n",
    "    numbers = data_to_nums(day=1)\n",
    "\n",
    "    def solve(goal: int, number_of_entries: int) -> int:\n",
    "        \"\"\"Find first tuple that has sum equivalent to goal.\"\"\"\n",
    "        return math.prod(\n",
    "            next(\n",
    "                combination\n",
    "                for combination in itertools.combinations(numbers, number_of_entries)\n",
    "                if sum(combination) == goal\n",
    "            )\n",
    "        )\n",
    "\n",
    "    first = solve(goal=2020, number_of_entries=2)\n",
    "    second = solve(goal=2020, number_of_entries=3)\n",
    "\n",
    "    return first, second"
   ]
  },
  {
   "cell_type": "code",
   "execution_count": 3,
   "metadata": {},
   "outputs": [
    {
     "name": "stdout",
     "output_type": "stream",
     "text": [
      "Part 1: 1010299\n",
      "Part 2: 42140160\n"
     ]
    },
    {
     "data": {
      "application/javascript": [
       "\n",
       "            setTimeout(function() {\n",
       "                var nbb_cell_id = 3;\n",
       "                var nbb_unformatted_code = \"print_day(1)\";\n",
       "                var nbb_formatted_code = \"print_day(1)\";\n",
       "                var nbb_cells = Jupyter.notebook.get_cells();\n",
       "                for (var i = 0; i < nbb_cells.length; ++i) {\n",
       "                    if (nbb_cells[i].input_prompt_number == nbb_cell_id) {\n",
       "                        if (nbb_cells[i].get_text() == nbb_unformatted_code) {\n",
       "                             nbb_cells[i].set_text(nbb_formatted_code);\n",
       "                        }\n",
       "                        break;\n",
       "                    }\n",
       "                }\n",
       "            }, 500);\n",
       "            "
      ],
      "text/plain": [
       "<IPython.core.display.Javascript object>"
      ]
     },
     "metadata": {},
     "output_type": "display_data"
    }
   ],
   "source": [
    "print_day(1)"
   ]
  },
  {
   "cell_type": "markdown",
   "metadata": {},
   "source": [
    "## Day 2\n",
    "\n",
    "**Task**: find amount of passwords that match their counterpart rule.\n",
    "\n",
    "Classic aocd-style input format! Luckily, \n",
    "[regex](https://en.wikipedia.org/wiki/Regular_expression) is here to help.\n",
    "\n",
    "For the first part, occurrences of char in string is needed. The second part is handled\n",
    "with [exclusive or (XOR)](https://en.wikipedia.org/wiki/Exclusive_or) since char at\n",
    "either, but not both positions must equal to\n",
    "char in rule."
   ]
  },
  {
   "cell_type": "code",
   "execution_count": 4,
   "metadata": {
    "pycharm": {
     "name": "#%%\n"
    }
   },
   "outputs": [
    {
     "data": {
      "application/javascript": [
       "\n",
       "            setTimeout(function() {\n",
       "                var nbb_cell_id = 4;\n",
       "                var nbb_unformatted_code = \"def day_2() -> Solution:\\n    lines = data_to_lines(day=2)\\n\\n    regex = re.compile(r\\\"(\\\\d+)-(\\\\d+) ([a-z]): ([a-z]+)\\\")\\n    first, second = 0, 0\\n\\n    for line in lines:\\n        low, high, char, string = regex.match(line).groups()\\n        low, high = int(low), int(high)\\n        if low <= string.count(char) <= high:\\n            first += 1\\n        if (string[low - 1] == char) ^ (string[high - 1] == char):\\n            second += 1\\n\\n    return first, second\";\n",
       "                var nbb_formatted_code = \"def day_2() -> Solution:\\n    lines = data_to_lines(day=2)\\n\\n    regex = re.compile(r\\\"(\\\\d+)-(\\\\d+) ([a-z]): ([a-z]+)\\\")\\n    first, second = 0, 0\\n\\n    for line in lines:\\n        low, high, char, string = regex.match(line).groups()\\n        low, high = int(low), int(high)\\n        if low <= string.count(char) <= high:\\n            first += 1\\n        if (string[low - 1] == char) ^ (string[high - 1] == char):\\n            second += 1\\n\\n    return first, second\";\n",
       "                var nbb_cells = Jupyter.notebook.get_cells();\n",
       "                for (var i = 0; i < nbb_cells.length; ++i) {\n",
       "                    if (nbb_cells[i].input_prompt_number == nbb_cell_id) {\n",
       "                        if (nbb_cells[i].get_text() == nbb_unformatted_code) {\n",
       "                             nbb_cells[i].set_text(nbb_formatted_code);\n",
       "                        }\n",
       "                        break;\n",
       "                    }\n",
       "                }\n",
       "            }, 500);\n",
       "            "
      ],
      "text/plain": [
       "<IPython.core.display.Javascript object>"
      ]
     },
     "metadata": {},
     "output_type": "display_data"
    }
   ],
   "source": [
    "def day_2() -> Solution:\n",
    "    lines = data_to_lines(day=2)\n",
    "\n",
    "    regex = re.compile(r\"(\\d+)-(\\d+) ([a-z]): ([a-z]+)\")\n",
    "    first, second = 0, 0\n",
    "\n",
    "    for line in lines:\n",
    "        low, high, char, string = regex.match(line).groups()\n",
    "        low, high = int(low), int(high)\n",
    "        if low <= string.count(char) <= high:\n",
    "            first += 1\n",
    "        if (string[low - 1] == char) ^ (string[high - 1] == char):\n",
    "            second += 1\n",
    "\n",
    "    return first, second"
   ]
  },
  {
   "cell_type": "code",
   "execution_count": 5,
   "metadata": {},
   "outputs": [
    {
     "name": "stdout",
     "output_type": "stream",
     "text": [
      "Part 1: 524\n",
      "Part 2: 485\n"
     ]
    },
    {
     "data": {
      "application/javascript": [
       "\n",
       "            setTimeout(function() {\n",
       "                var nbb_cell_id = 5;\n",
       "                var nbb_unformatted_code = \"print_day(2)\";\n",
       "                var nbb_formatted_code = \"print_day(2)\";\n",
       "                var nbb_cells = Jupyter.notebook.get_cells();\n",
       "                for (var i = 0; i < nbb_cells.length; ++i) {\n",
       "                    if (nbb_cells[i].input_prompt_number == nbb_cell_id) {\n",
       "                        if (nbb_cells[i].get_text() == nbb_unformatted_code) {\n",
       "                             nbb_cells[i].set_text(nbb_formatted_code);\n",
       "                        }\n",
       "                        break;\n",
       "                    }\n",
       "                }\n",
       "            }, 500);\n",
       "            "
      ],
      "text/plain": [
       "<IPython.core.display.Javascript object>"
      ]
     },
     "metadata": {},
     "output_type": "display_data"
    }
   ],
   "source": [
    "print_day(2)"
   ]
  },
  {
   "cell_type": "markdown",
   "metadata": {
    "pycharm": {
     "name": "#%% md\n"
    }
   },
   "source": [
    "## Day 3\n",
    "\n",
    "**Task**: count the number of trees encountered while traversing the map.\n",
    "\n",
    "Instead of really traversing the who map, generator can be used.\n",
    "The `count_trees` function uses `range` and `count` generators zipped into \n",
    "tuples to create all traversed points. "
   ]
  },
  {
   "cell_type": "code",
   "execution_count": 6,
   "metadata": {
    "pycharm": {
     "name": "#%%\n"
    }
   },
   "outputs": [
    {
     "data": {
      "application/javascript": [
       "\n",
       "            setTimeout(function() {\n",
       "                var nbb_cell_id = 6;\n",
       "                var nbb_unformatted_code = \"def day_3() -> Solution:\\n    grid = data_to_lines(day=3)\\n    height, width = len(grid), len(grid[0])\\n\\n    def count_trees(slope: Vector) -> int:\\n        \\\"\\\"\\\"Get sum of points where tree is encountered.\\\"\\\"\\\"\\n        right, down = slope\\n        return sum(\\n            grid[y][x % width] == \\\"#\\\"\\n            for y, x in zip(\\n                range(0, height, down), itertools.count(start=0, step=right)\\n            )\\n        )\\n\\n    slopes = [(3, 1), (1, 1), (5, 1), (7, 1), (1, 2)]\\n    counts = [count_trees(slope=slope) for slope in slopes]\\n\\n    return counts[0], math.prod(counts)\";\n",
       "                var nbb_formatted_code = \"def day_3() -> Solution:\\n    grid = data_to_lines(day=3)\\n    height, width = len(grid), len(grid[0])\\n\\n    def count_trees(slope: Vector) -> int:\\n        \\\"\\\"\\\"Get sum of points where tree is encountered.\\\"\\\"\\\"\\n        right, down = slope\\n        return sum(\\n            grid[y][x % width] == \\\"#\\\"\\n            for y, x in zip(\\n                range(0, height, down), itertools.count(start=0, step=right)\\n            )\\n        )\\n\\n    slopes = [(3, 1), (1, 1), (5, 1), (7, 1), (1, 2)]\\n    counts = [count_trees(slope=slope) for slope in slopes]\\n\\n    return counts[0], math.prod(counts)\";\n",
       "                var nbb_cells = Jupyter.notebook.get_cells();\n",
       "                for (var i = 0; i < nbb_cells.length; ++i) {\n",
       "                    if (nbb_cells[i].input_prompt_number == nbb_cell_id) {\n",
       "                        if (nbb_cells[i].get_text() == nbb_unformatted_code) {\n",
       "                             nbb_cells[i].set_text(nbb_formatted_code);\n",
       "                        }\n",
       "                        break;\n",
       "                    }\n",
       "                }\n",
       "            }, 500);\n",
       "            "
      ],
      "text/plain": [
       "<IPython.core.display.Javascript object>"
      ]
     },
     "metadata": {},
     "output_type": "display_data"
    }
   ],
   "source": [
    "def day_3() -> Solution:\n",
    "    grid = data_to_lines(day=3)\n",
    "    height, width = len(grid), len(grid[0])\n",
    "\n",
    "    def count_trees(slope: Vector) -> int:\n",
    "        \"\"\"Get sum of points where tree is encountered.\"\"\"\n",
    "        right, down = slope\n",
    "        return sum(\n",
    "            grid[y][x % width] == \"#\"\n",
    "            for y, x in zip(\n",
    "                range(0, height, down), itertools.count(start=0, step=right)\n",
    "            )\n",
    "        )\n",
    "\n",
    "    slopes = [(3, 1), (1, 1), (5, 1), (7, 1), (1, 2)]\n",
    "    counts = [count_trees(slope=slope) for slope in slopes]\n",
    "\n",
    "    return counts[0], math.prod(counts)"
   ]
  },
  {
   "cell_type": "code",
   "execution_count": 7,
   "metadata": {},
   "outputs": [
    {
     "name": "stdout",
     "output_type": "stream",
     "text": [
      "Part 1: 280\n",
      "Part 2: 4355551200\n"
     ]
    },
    {
     "data": {
      "application/javascript": [
       "\n",
       "            setTimeout(function() {\n",
       "                var nbb_cell_id = 7;\n",
       "                var nbb_unformatted_code = \"print_day(3)\";\n",
       "                var nbb_formatted_code = \"print_day(3)\";\n",
       "                var nbb_cells = Jupyter.notebook.get_cells();\n",
       "                for (var i = 0; i < nbb_cells.length; ++i) {\n",
       "                    if (nbb_cells[i].input_prompt_number == nbb_cell_id) {\n",
       "                        if (nbb_cells[i].get_text() == nbb_unformatted_code) {\n",
       "                             nbb_cells[i].set_text(nbb_formatted_code);\n",
       "                        }\n",
       "                        break;\n",
       "                    }\n",
       "                }\n",
       "            }, 500);\n",
       "            "
      ],
      "text/plain": [
       "<IPython.core.display.Javascript object>"
      ]
     },
     "metadata": {},
     "output_type": "display_data"
    }
   ],
   "source": [
    "print_day(3)"
   ]
  },
  {
   "cell_type": "markdown",
   "metadata": {},
   "source": [
    "## Day 4\n",
    "\n",
    "**Task**: count the number of valid passports\n",
    "\n",
    "In the first part, it's enough to check that all ids in validators are present in a\n",
    "passport. For the second part, all validator lambdas are also executed against passport\n",
    "values."
   ]
  },
  {
   "cell_type": "code",
   "execution_count": 8,
   "metadata": {
    "pycharm": {
     "name": "#%%\n"
    }
   },
   "outputs": [
    {
     "data": {
      "application/javascript": [
       "\n",
       "            setTimeout(function() {\n",
       "                var nbb_cell_id = 8;\n",
       "                var nbb_unformatted_code = \"Validator = Callable[[str], bool]\\n\\n\\ndef day_4() -> Solution:\\n    passports = data_to_blocks(day=4)\\n\\n    validators: Dict[str, Validator] = {\\n        \\\"byr\\\": lambda v: 1920 <= int(v) <= 2002,\\n        \\\"iyr\\\": lambda v: 2010 <= int(v) <= 2020,\\n        \\\"eyr\\\": lambda v: 2020 <= int(v) <= 2030,\\n        \\\"hgt\\\": lambda v: (\\n            \\\"cm\\\" in v\\n            and 150 <= int(v[:-2]) <= 193\\n            or \\\"in\\\" in v\\n            and 59 <= int(v[:-2]) <= 76\\n        ),\\n        \\\"hcl\\\": lambda v: bool(re.fullmatch(r\\\"^#[0-9a-f]{6}$\\\", v)),\\n        \\\"ecl\\\": lambda v: v in [\\\"amb\\\", \\\"blu\\\", \\\"brn\\\", \\\"gry\\\", \\\"grn\\\", \\\"hzl\\\", \\\"oth\\\"],\\n        \\\"pid\\\": lambda v: bool(re.fullmatch(r\\\"^[0-9]{9}$\\\", v)),\\n    }\\n    regex = re.compile(\\\"(\\\\w+):(\\\\S+)\\\")\\n    first, second = 0, 0\\n\\n    for passport in passports:\\n        fields = dict(regex.findall(passport))\\n        if set(validators).issubset(set(fields)):\\n            first += 1\\n            second += all(\\n                validate(fields[field_id]) for field_id, validate in validators.items()\\n            )\\n\\n    return first, second\";\n",
       "                var nbb_formatted_code = \"Validator = Callable[[str], bool]\\n\\n\\ndef day_4() -> Solution:\\n    passports = data_to_blocks(day=4)\\n\\n    validators: Dict[str, Validator] = {\\n        \\\"byr\\\": lambda v: 1920 <= int(v) <= 2002,\\n        \\\"iyr\\\": lambda v: 2010 <= int(v) <= 2020,\\n        \\\"eyr\\\": lambda v: 2020 <= int(v) <= 2030,\\n        \\\"hgt\\\": lambda v: (\\n            \\\"cm\\\" in v\\n            and 150 <= int(v[:-2]) <= 193\\n            or \\\"in\\\" in v\\n            and 59 <= int(v[:-2]) <= 76\\n        ),\\n        \\\"hcl\\\": lambda v: bool(re.fullmatch(r\\\"^#[0-9a-f]{6}$\\\", v)),\\n        \\\"ecl\\\": lambda v: v in [\\\"amb\\\", \\\"blu\\\", \\\"brn\\\", \\\"gry\\\", \\\"grn\\\", \\\"hzl\\\", \\\"oth\\\"],\\n        \\\"pid\\\": lambda v: bool(re.fullmatch(r\\\"^[0-9]{9}$\\\", v)),\\n    }\\n    regex = re.compile(\\\"(\\\\w+):(\\\\S+)\\\")\\n    first, second = 0, 0\\n\\n    for passport in passports:\\n        fields = dict(regex.findall(passport))\\n        if set(validators).issubset(set(fields)):\\n            first += 1\\n            second += all(\\n                validate(fields[field_id]) for field_id, validate in validators.items()\\n            )\\n\\n    return first, second\";\n",
       "                var nbb_cells = Jupyter.notebook.get_cells();\n",
       "                for (var i = 0; i < nbb_cells.length; ++i) {\n",
       "                    if (nbb_cells[i].input_prompt_number == nbb_cell_id) {\n",
       "                        if (nbb_cells[i].get_text() == nbb_unformatted_code) {\n",
       "                             nbb_cells[i].set_text(nbb_formatted_code);\n",
       "                        }\n",
       "                        break;\n",
       "                    }\n",
       "                }\n",
       "            }, 500);\n",
       "            "
      ],
      "text/plain": [
       "<IPython.core.display.Javascript object>"
      ]
     },
     "metadata": {},
     "output_type": "display_data"
    }
   ],
   "source": [
    "Validator = Callable[[str], bool]\n",
    "\n",
    "\n",
    "def day_4() -> Solution:\n",
    "    passports = data_to_blocks(day=4)\n",
    "\n",
    "    validators: Dict[str, Validator] = {\n",
    "        \"byr\": lambda v: 1920 <= int(v) <= 2002,\n",
    "        \"iyr\": lambda v: 2010 <= int(v) <= 2020,\n",
    "        \"eyr\": lambda v: 2020 <= int(v) <= 2030,\n",
    "        \"hgt\": lambda v: (\n",
    "            \"cm\" in v\n",
    "            and 150 <= int(v[:-2]) <= 193\n",
    "            or \"in\" in v\n",
    "            and 59 <= int(v[:-2]) <= 76\n",
    "        ),\n",
    "        \"hcl\": lambda v: bool(re.fullmatch(r\"^#[0-9a-f]{6}$\", v)),\n",
    "        \"ecl\": lambda v: v in [\"amb\", \"blu\", \"brn\", \"gry\", \"grn\", \"hzl\", \"oth\"],\n",
    "        \"pid\": lambda v: bool(re.fullmatch(r\"^[0-9]{9}$\", v)),\n",
    "    }\n",
    "    regex = re.compile(\"(\\w+):(\\S+)\")\n",
    "    first, second = 0, 0\n",
    "\n",
    "    for passport in passports:\n",
    "        fields = dict(regex.findall(passport))\n",
    "        if set(validators).issubset(set(fields)):\n",
    "            first += 1\n",
    "            second += all(\n",
    "                validate(fields[field_id]) for field_id, validate in validators.items()\n",
    "            )\n",
    "\n",
    "    return first, second"
   ]
  },
  {
   "cell_type": "code",
   "execution_count": 9,
   "metadata": {},
   "outputs": [
    {
     "name": "stdout",
     "output_type": "stream",
     "text": [
      "Part 1: 192\n",
      "Part 2: 101\n"
     ]
    },
    {
     "data": {
      "application/javascript": [
       "\n",
       "            setTimeout(function() {\n",
       "                var nbb_cell_id = 9;\n",
       "                var nbb_unformatted_code = \"print_day(4)\";\n",
       "                var nbb_formatted_code = \"print_day(4)\";\n",
       "                var nbb_cells = Jupyter.notebook.get_cells();\n",
       "                for (var i = 0; i < nbb_cells.length; ++i) {\n",
       "                    if (nbb_cells[i].input_prompt_number == nbb_cell_id) {\n",
       "                        if (nbb_cells[i].get_text() == nbb_unformatted_code) {\n",
       "                             nbb_cells[i].set_text(nbb_formatted_code);\n",
       "                        }\n",
       "                        break;\n",
       "                    }\n",
       "                }\n",
       "            }, 500);\n",
       "            "
      ],
      "text/plain": [
       "<IPython.core.display.Javascript object>"
      ]
     },
     "metadata": {},
     "output_type": "display_data"
    }
   ],
   "source": [
    "print_day(4)"
   ]
  },
  {
   "cell_type": "markdown",
   "metadata": {},
   "source": [
    "## Day 5\n",
    "\n",
    "**Task**: Find out the highest seat ID and your own seat ID.\n",
    "\n",
    "There's a nice catch in the puzzle: char pairs F/L and B/R aren't really different,\n",
    "since each can be substituted with 0 or 1. The result is a [binary number\n",
    "](https://en.wikipedia.org/wiki/Binary_number) string which can be then casted to int.\n",
    "\n",
    "In the second part, helper function finds the first seat id that matches given\n",
    "conditions."
   ]
  },
  {
   "cell_type": "code",
   "execution_count": 10,
   "metadata": {
    "pycharm": {
     "name": "#%%\n"
    }
   },
   "outputs": [
    {
     "data": {
      "application/javascript": [
       "\n",
       "            setTimeout(function() {\n",
       "                var nbb_cell_id = 10;\n",
       "                var nbb_unformatted_code = \"def day_5() -> Solution:\\n    lines = data_to_lines(day=5)\\n\\n    table = str.maketrans(\\\"FBLR\\\", \\\"0101\\\")\\n    seat_ids = {int(line.translate(table), base=2) for line in lines}\\n\\n    first = max(seat_ids)\\n    second = next(\\n        seat\\n        for seat in range(1, max(seat_ids))\\n        if seat not in seat_ids and seat - 1 in seat_ids and seat + 1 in seat_ids\\n    )\\n\\n    return first, second\";\n",
       "                var nbb_formatted_code = \"def day_5() -> Solution:\\n    lines = data_to_lines(day=5)\\n\\n    table = str.maketrans(\\\"FBLR\\\", \\\"0101\\\")\\n    seat_ids = {int(line.translate(table), base=2) for line in lines}\\n\\n    first = max(seat_ids)\\n    second = next(\\n        seat\\n        for seat in range(1, max(seat_ids))\\n        if seat not in seat_ids and seat - 1 in seat_ids and seat + 1 in seat_ids\\n    )\\n\\n    return first, second\";\n",
       "                var nbb_cells = Jupyter.notebook.get_cells();\n",
       "                for (var i = 0; i < nbb_cells.length; ++i) {\n",
       "                    if (nbb_cells[i].input_prompt_number == nbb_cell_id) {\n",
       "                        if (nbb_cells[i].get_text() == nbb_unformatted_code) {\n",
       "                             nbb_cells[i].set_text(nbb_formatted_code);\n",
       "                        }\n",
       "                        break;\n",
       "                    }\n",
       "                }\n",
       "            }, 500);\n",
       "            "
      ],
      "text/plain": [
       "<IPython.core.display.Javascript object>"
      ]
     },
     "metadata": {},
     "output_type": "display_data"
    }
   ],
   "source": [
    "def day_5() -> Solution:\n",
    "    lines = data_to_lines(day=5)\n",
    "\n",
    "    table = str.maketrans(\"FBLR\", \"0101\")\n",
    "    seat_ids = {int(line.translate(table), base=2) for line in lines}\n",
    "\n",
    "    first = max(seat_ids)\n",
    "    second = next(\n",
    "        seat\n",
    "        for seat in range(1, max(seat_ids))\n",
    "        if seat not in seat_ids and seat - 1 in seat_ids and seat + 1 in seat_ids\n",
    "    )\n",
    "\n",
    "    return first, second"
   ]
  },
  {
   "cell_type": "code",
   "execution_count": 11,
   "metadata": {},
   "outputs": [
    {
     "name": "stdout",
     "output_type": "stream",
     "text": [
      "Part 1: 858\n",
      "Part 2: 557\n"
     ]
    },
    {
     "data": {
      "application/javascript": [
       "\n",
       "            setTimeout(function() {\n",
       "                var nbb_cell_id = 11;\n",
       "                var nbb_unformatted_code = \"print_day(5)\";\n",
       "                var nbb_formatted_code = \"print_day(5)\";\n",
       "                var nbb_cells = Jupyter.notebook.get_cells();\n",
       "                for (var i = 0; i < nbb_cells.length; ++i) {\n",
       "                    if (nbb_cells[i].input_prompt_number == nbb_cell_id) {\n",
       "                        if (nbb_cells[i].get_text() == nbb_unformatted_code) {\n",
       "                             nbb_cells[i].set_text(nbb_formatted_code);\n",
       "                        }\n",
       "                        break;\n",
       "                    }\n",
       "                }\n",
       "            }, 500);\n",
       "            "
      ],
      "text/plain": [
       "<IPython.core.display.Javascript object>"
      ]
     },
     "metadata": {},
     "output_type": "display_data"
    }
   ],
   "source": [
    "print_day(5)"
   ]
  },
  {
   "cell_type": "markdown",
   "metadata": {
    "pycharm": {
     "name": "#%% md\n"
    }
   },
   "source": [
    "## Day 6\n",
    "\n",
    "**Task**: Count the number of questions to which anyone/everyone answered \"yes\".\n",
    "\n",
    "In the first part, the question is basically \"how many unique alphabets there are\n",
    "between newlines?\". In the second part, question is \"which alphabets are present on all\n",
    "lines between newlines?\", which can be handled with [set intersections\n",
    "](https://en.wikipedia.org/wiki/Intersection_(set_theory))."
   ]
  },
  {
   "cell_type": "code",
   "execution_count": 12,
   "metadata": {
    "pycharm": {
     "name": "#%%\n"
    }
   },
   "outputs": [
    {
     "data": {
      "application/javascript": [
       "\n",
       "            setTimeout(function() {\n",
       "                var nbb_cell_id = 12;\n",
       "                var nbb_unformatted_code = \"def day_6() -> Solution:\\n    groups = data_to_blocks(day=6)\\n\\n    first, second = 0, 0\\n\\n    for answers in groups:\\n        answer_ids = {answer for answer in answers if answer.isalpha()}\\n        first += len(answer_ids)\\n        for person in answers.split(\\\"\\\\n\\\"):\\n            answer_ids &= set(person)\\n        second += len(answer_ids)\\n\\n    return first, second\";\n",
       "                var nbb_formatted_code = \"def day_6() -> Solution:\\n    groups = data_to_blocks(day=6)\\n\\n    first, second = 0, 0\\n\\n    for answers in groups:\\n        answer_ids = {answer for answer in answers if answer.isalpha()}\\n        first += len(answer_ids)\\n        for person in answers.split(\\\"\\\\n\\\"):\\n            answer_ids &= set(person)\\n        second += len(answer_ids)\\n\\n    return first, second\";\n",
       "                var nbb_cells = Jupyter.notebook.get_cells();\n",
       "                for (var i = 0; i < nbb_cells.length; ++i) {\n",
       "                    if (nbb_cells[i].input_prompt_number == nbb_cell_id) {\n",
       "                        if (nbb_cells[i].get_text() == nbb_unformatted_code) {\n",
       "                             nbb_cells[i].set_text(nbb_formatted_code);\n",
       "                        }\n",
       "                        break;\n",
       "                    }\n",
       "                }\n",
       "            }, 500);\n",
       "            "
      ],
      "text/plain": [
       "<IPython.core.display.Javascript object>"
      ]
     },
     "metadata": {},
     "output_type": "display_data"
    }
   ],
   "source": [
    "def day_6() -> Solution:\n",
    "    groups = data_to_blocks(day=6)\n",
    "\n",
    "    first, second = 0, 0\n",
    "\n",
    "    for answers in groups:\n",
    "        answer_ids = {answer for answer in answers if answer.isalpha()}\n",
    "        first += len(answer_ids)\n",
    "        for person in answers.split(\"\\n\"):\n",
    "            answer_ids &= set(person)\n",
    "        second += len(answer_ids)\n",
    "\n",
    "    return first, second"
   ]
  },
  {
   "cell_type": "code",
   "execution_count": 13,
   "metadata": {},
   "outputs": [
    {
     "name": "stdout",
     "output_type": "stream",
     "text": [
      "Part 1: 6532\n",
      "Part 2: 3427\n"
     ]
    },
    {
     "data": {
      "application/javascript": [
       "\n",
       "            setTimeout(function() {\n",
       "                var nbb_cell_id = 13;\n",
       "                var nbb_unformatted_code = \"print_day(6)\";\n",
       "                var nbb_formatted_code = \"print_day(6)\";\n",
       "                var nbb_cells = Jupyter.notebook.get_cells();\n",
       "                for (var i = 0; i < nbb_cells.length; ++i) {\n",
       "                    if (nbb_cells[i].input_prompt_number == nbb_cell_id) {\n",
       "                        if (nbb_cells[i].get_text() == nbb_unformatted_code) {\n",
       "                             nbb_cells[i].set_text(nbb_formatted_code);\n",
       "                        }\n",
       "                        break;\n",
       "                    }\n",
       "                }\n",
       "            }, 500);\n",
       "            "
      ],
      "text/plain": [
       "<IPython.core.display.Javascript object>"
      ]
     },
     "metadata": {},
     "output_type": "display_data"
    }
   ],
   "source": [
    "print_day(6)"
   ]
  },
  {
   "cell_type": "markdown",
   "metadata": {
    "pycharm": {
     "name": "#%% md\n"
    }
   },
   "source": [
    "## Day 7\n",
    "\n",
    "**Task**: Which bags can contain \"shiny gold\" bag / how many bags does \"shiny gold\" bag\n",
    "contain?\n",
    "\n",
    "A bit trickier one! One helpful observation is that the rules define a graph, a\n",
    "[directed acyclic graph](https://en.wikipedia.org/wiki/Directed_acyclic_graph) (DAG) \n",
    "to be precise. So, the excellent network library [NetworkX](https://networkx.org/) can\n",
    "be used.\n",
    "\n",
    "Initially, graph contains weighted edges from container bag to content bags. The first \n",
    "part is solved by turning edges around to answer the question \"which bags can contain\n",
    "this bag\". This way it's easy to walk graph through from the \"shiny gold\" node.\n",
    "\n",
    "In second part, [depth-first-search](https://en.wikipedia.org/wiki/Depth-first_search)\n",
    "is used to sum bag amounts from the innermost bags until \"shiny gold\" is reached."
   ]
  },
  {
   "cell_type": "code",
   "execution_count": 14,
   "metadata": {
    "pycharm": {
     "name": "#%%\n"
    }
   },
   "outputs": [
    {
     "data": {
      "application/javascript": [
       "\n",
       "            setTimeout(function() {\n",
       "                var nbb_cell_id = 14;\n",
       "                var nbb_unformatted_code = \"def day_7() -> Solution:\\n    rules = data_to_lines(day=7)\\n\\n    def dfs(bag: str) -> int:\\n        \\\"\\\"\\\"Get amount of bags inside this bag.\\\"\\\"\\\"\\n        return (\\n            sum(dfs(content) * graph[bag][content][\\\"weight\\\"] for content in graph[bag])\\n        ) + 1\\n\\n    graph = nx.DiGraph()\\n    regex = re.compile(r\\\"(\\\\d+) ([\\\\w\\\\s]+(?= ))\\\")\\n\\n    for rule in rules:\\n        container, content = rule.split(\\\" bags contain \\\")\\n        graph.add_weighted_edges_from(\\n            ((container, bag, int(amount)) for amount, bag in regex.findall(content))\\n        )\\n\\n    first = len(nx.dag.descendants(graph.reverse(), \\\"shiny gold\\\"))\\n    second = dfs(\\\"shiny gold\\\") - 1\\n\\n    return first, second\";\n",
       "                var nbb_formatted_code = \"def day_7() -> Solution:\\n    rules = data_to_lines(day=7)\\n\\n    def dfs(bag: str) -> int:\\n        \\\"\\\"\\\"Get amount of bags inside this bag.\\\"\\\"\\\"\\n        return (\\n            sum(dfs(content) * graph[bag][content][\\\"weight\\\"] for content in graph[bag])\\n        ) + 1\\n\\n    graph = nx.DiGraph()\\n    regex = re.compile(r\\\"(\\\\d+) ([\\\\w\\\\s]+(?= ))\\\")\\n\\n    for rule in rules:\\n        container, content = rule.split(\\\" bags contain \\\")\\n        graph.add_weighted_edges_from(\\n            ((container, bag, int(amount)) for amount, bag in regex.findall(content))\\n        )\\n\\n    first = len(nx.dag.descendants(graph.reverse(), \\\"shiny gold\\\"))\\n    second = dfs(\\\"shiny gold\\\") - 1\\n\\n    return first, second\";\n",
       "                var nbb_cells = Jupyter.notebook.get_cells();\n",
       "                for (var i = 0; i < nbb_cells.length; ++i) {\n",
       "                    if (nbb_cells[i].input_prompt_number == nbb_cell_id) {\n",
       "                        if (nbb_cells[i].get_text() == nbb_unformatted_code) {\n",
       "                             nbb_cells[i].set_text(nbb_formatted_code);\n",
       "                        }\n",
       "                        break;\n",
       "                    }\n",
       "                }\n",
       "            }, 500);\n",
       "            "
      ],
      "text/plain": [
       "<IPython.core.display.Javascript object>"
      ]
     },
     "metadata": {},
     "output_type": "display_data"
    }
   ],
   "source": [
    "def day_7() -> Solution:\n",
    "    rules = data_to_lines(day=7)\n",
    "\n",
    "    def dfs(bag: str) -> int:\n",
    "        \"\"\"Get amount of bags inside this bag.\"\"\"\n",
    "        return (\n",
    "            sum(dfs(content) * graph[bag][content][\"weight\"] for content in graph[bag])\n",
    "        ) + 1\n",
    "\n",
    "    graph = nx.DiGraph()\n",
    "    regex = re.compile(r\"(\\d+) ([\\w\\s]+(?= ))\")\n",
    "\n",
    "    for rule in rules:\n",
    "        container, content = rule.split(\" bags contain \")\n",
    "        graph.add_weighted_edges_from(\n",
    "            ((container, bag, int(amount)) for amount, bag in regex.findall(content))\n",
    "        )\n",
    "\n",
    "    first = len(nx.dag.descendants(graph.reverse(), \"shiny gold\"))\n",
    "    second = dfs(\"shiny gold\") - 1\n",
    "\n",
    "    return first, second"
   ]
  },
  {
   "cell_type": "code",
   "execution_count": 15,
   "metadata": {
    "scrolled": false
   },
   "outputs": [
    {
     "name": "stdout",
     "output_type": "stream",
     "text": [
      "Part 1: 372\n",
      "Part 2: 8015\n"
     ]
    },
    {
     "data": {
      "application/javascript": [
       "\n",
       "            setTimeout(function() {\n",
       "                var nbb_cell_id = 15;\n",
       "                var nbb_unformatted_code = \"print_day(7)\";\n",
       "                var nbb_formatted_code = \"print_day(7)\";\n",
       "                var nbb_cells = Jupyter.notebook.get_cells();\n",
       "                for (var i = 0; i < nbb_cells.length; ++i) {\n",
       "                    if (nbb_cells[i].input_prompt_number == nbb_cell_id) {\n",
       "                        if (nbb_cells[i].get_text() == nbb_unformatted_code) {\n",
       "                             nbb_cells[i].set_text(nbb_formatted_code);\n",
       "                        }\n",
       "                        break;\n",
       "                    }\n",
       "                }\n",
       "            }, 500);\n",
       "            "
      ],
      "text/plain": [
       "<IPython.core.display.Javascript object>"
      ]
     },
     "metadata": {},
     "output_type": "display_data"
    }
   ],
   "source": [
    "print_day(7)"
   ]
  },
  {
   "cell_type": "markdown",
   "metadata": {
    "pycharm": {
     "name": "#%% md\n"
    }
   },
   "source": [
    "## Day 8\n",
    "\n",
    "**Task**: Where the given semi-assembly program loops? / Change one instruction\n",
    "to make program terminate successfully.\n",
    "\n",
    "This reminded me of [Intcode computer](https://adventofcode.com/2019/day/2) tasks from\n",
    "AoC 2019, so I decided to just simulate the given program.\n",
    "\n",
    "In the first part, loop breaks once some instruction is visited for the second time. In\n",
    "the second part, generator function is used to generate potential tapes where either\n",
    "\"jmp\" or \"nop\" is replaced until correct one is found."
   ]
  },
  {
   "cell_type": "code",
   "execution_count": 16,
   "metadata": {
    "pycharm": {
     "name": "#%%\n"
    }
   },
   "outputs": [
    {
     "data": {
      "application/javascript": [
       "\n",
       "            setTimeout(function() {\n",
       "                var nbb_cell_id = 16;\n",
       "                var nbb_unformatted_code = \"Instruction = Tuple[str, int]\\nTape = List[Instruction]\\n\\n\\ndef day_8() -> Solution:\\n    instructions = re.findall(r\\\"(\\\\w+) ([+-]\\\\d+)\\\", data(day=8))\\n\\n    @dataclass\\n    class Comp:\\n        tape: Tape\\n        accumulator: int = 0\\n        head: int = 0\\n\\n        def run(self, mode: Mode = \\\"first\\\") -> Optional[int]:\\n            seen: Set[int] = set()\\n            while self.head not in seen:\\n                seen.add(self.head)\\n                try:\\n                    op, arg = self.tape[self.head]\\n                except IndexError:\\n                    return self.accumulator\\n                if op == \\\"acc\\\":\\n                    self.accumulator += arg\\n                    self.head += 1\\n                elif op == \\\"jmp\\\":\\n                    self.head += arg\\n                elif op == \\\"nop\\\":\\n                    self.head += 1\\n            if mode == \\\"first\\\":\\n                return self.accumulator\\n\\n    def potential_tapes(broken_tape: Tape) -> Iterator[Tape]:\\n        \\\"\\\"\\\"Yield potential tape, where one \\\"jmp\\\" or \\\"nop\\\" is replaced.\\\"\\\"\\\"\\n        replace = {\\\"jmp\\\": \\\"nop\\\", \\\"nop\\\": \\\"jmp\\\"}\\n        for i, (op, arg) in enumerate(broken_tape):\\n            if op in replace:\\n                yield [*broken_tape[:i], (replace[op], arg), *broken_tape[i + 1 :]]\\n\\n    tape = [(op, int(arg)) for op, arg in instructions]\\n    potential_comps = (\\n        Comp(potential_tape).run(mode=\\\"second\\\")\\n        for potential_tape in potential_tapes(tape)\\n    )\\n    first = Comp(tape).run()\\n    second = next(result for result in potential_comps if result is not None)\\n\\n    return first, second\";\n",
       "                var nbb_formatted_code = \"Instruction = Tuple[str, int]\\nTape = List[Instruction]\\n\\n\\ndef day_8() -> Solution:\\n    instructions = re.findall(r\\\"(\\\\w+) ([+-]\\\\d+)\\\", data(day=8))\\n\\n    @dataclass\\n    class Comp:\\n        tape: Tape\\n        accumulator: int = 0\\n        head: int = 0\\n\\n        def run(self, mode: Mode = \\\"first\\\") -> Optional[int]:\\n            seen: Set[int] = set()\\n            while self.head not in seen:\\n                seen.add(self.head)\\n                try:\\n                    op, arg = self.tape[self.head]\\n                except IndexError:\\n                    return self.accumulator\\n                if op == \\\"acc\\\":\\n                    self.accumulator += arg\\n                    self.head += 1\\n                elif op == \\\"jmp\\\":\\n                    self.head += arg\\n                elif op == \\\"nop\\\":\\n                    self.head += 1\\n            if mode == \\\"first\\\":\\n                return self.accumulator\\n\\n    def potential_tapes(broken_tape: Tape) -> Iterator[Tape]:\\n        \\\"\\\"\\\"Yield potential tape, where one \\\"jmp\\\" or \\\"nop\\\" is replaced.\\\"\\\"\\\"\\n        replace = {\\\"jmp\\\": \\\"nop\\\", \\\"nop\\\": \\\"jmp\\\"}\\n        for i, (op, arg) in enumerate(broken_tape):\\n            if op in replace:\\n                yield [*broken_tape[:i], (replace[op], arg), *broken_tape[i + 1 :]]\\n\\n    tape = [(op, int(arg)) for op, arg in instructions]\\n    potential_comps = (\\n        Comp(potential_tape).run(mode=\\\"second\\\")\\n        for potential_tape in potential_tapes(tape)\\n    )\\n    first = Comp(tape).run()\\n    second = next(result for result in potential_comps if result is not None)\\n\\n    return first, second\";\n",
       "                var nbb_cells = Jupyter.notebook.get_cells();\n",
       "                for (var i = 0; i < nbb_cells.length; ++i) {\n",
       "                    if (nbb_cells[i].input_prompt_number == nbb_cell_id) {\n",
       "                        if (nbb_cells[i].get_text() == nbb_unformatted_code) {\n",
       "                             nbb_cells[i].set_text(nbb_formatted_code);\n",
       "                        }\n",
       "                        break;\n",
       "                    }\n",
       "                }\n",
       "            }, 500);\n",
       "            "
      ],
      "text/plain": [
       "<IPython.core.display.Javascript object>"
      ]
     },
     "metadata": {},
     "output_type": "display_data"
    }
   ],
   "source": [
    "Instruction = Tuple[str, int]\n",
    "Tape = List[Instruction]\n",
    "\n",
    "\n",
    "def day_8() -> Solution:\n",
    "    instructions = re.findall(r\"(\\w+) ([+-]\\d+)\", data(day=8))\n",
    "\n",
    "    @dataclass\n",
    "    class Comp:\n",
    "        tape: Tape\n",
    "        accumulator: int = 0\n",
    "        head: int = 0\n",
    "\n",
    "        def run(self, mode: Mode = \"first\") -> Optional[int]:\n",
    "            seen: Set[int] = set()\n",
    "            while self.head not in seen:\n",
    "                seen.add(self.head)\n",
    "                try:\n",
    "                    op, arg = self.tape[self.head]\n",
    "                except IndexError:\n",
    "                    return self.accumulator\n",
    "                if op == \"acc\":\n",
    "                    self.accumulator += arg\n",
    "                    self.head += 1\n",
    "                elif op == \"jmp\":\n",
    "                    self.head += arg\n",
    "                elif op == \"nop\":\n",
    "                    self.head += 1\n",
    "            if mode == \"first\":\n",
    "                return self.accumulator\n",
    "\n",
    "    def potential_tapes(broken_tape: Tape) -> Iterator[Tape]:\n",
    "        \"\"\"Yield potential tape, where one \"jmp\" or \"nop\" is replaced.\"\"\"\n",
    "        replace = {\"jmp\": \"nop\", \"nop\": \"jmp\"}\n",
    "        for i, (op, arg) in enumerate(broken_tape):\n",
    "            if op in replace:\n",
    "                yield [*broken_tape[:i], (replace[op], arg), *broken_tape[i + 1 :]]\n",
    "\n",
    "    tape = [(op, int(arg)) for op, arg in instructions]\n",
    "    potential_comps = (\n",
    "        Comp(potential_tape).run(mode=\"second\")\n",
    "        for potential_tape in potential_tapes(tape)\n",
    "    )\n",
    "    first = Comp(tape).run()\n",
    "    second = next(result for result in potential_comps if result is not None)\n",
    "\n",
    "    return first, second"
   ]
  },
  {
   "cell_type": "code",
   "execution_count": 17,
   "metadata": {},
   "outputs": [
    {
     "name": "stdout",
     "output_type": "stream",
     "text": [
      "Part 1: 2034\n",
      "Part 2: 672\n"
     ]
    },
    {
     "data": {
      "application/javascript": [
       "\n",
       "            setTimeout(function() {\n",
       "                var nbb_cell_id = 17;\n",
       "                var nbb_unformatted_code = \"print_day(8)\";\n",
       "                var nbb_formatted_code = \"print_day(8)\";\n",
       "                var nbb_cells = Jupyter.notebook.get_cells();\n",
       "                for (var i = 0; i < nbb_cells.length; ++i) {\n",
       "                    if (nbb_cells[i].input_prompt_number == nbb_cell_id) {\n",
       "                        if (nbb_cells[i].get_text() == nbb_unformatted_code) {\n",
       "                             nbb_cells[i].set_text(nbb_formatted_code);\n",
       "                        }\n",
       "                        break;\n",
       "                    }\n",
       "                }\n",
       "            }, 500);\n",
       "            "
      ],
      "text/plain": [
       "<IPython.core.display.Javascript object>"
      ]
     },
     "metadata": {},
     "output_type": "display_data"
    }
   ],
   "source": [
    "print_day(8)"
   ]
  },
  {
   "cell_type": "markdown",
   "metadata": {},
   "source": [
    "## Day 9\n",
    "\n",
    "**Task**: What is the first number that isn't sum of any two numbers of the 25\n",
    "numbers before it? / Find a contiguous subset of numbers that sum up to that first\n",
    "number.\n",
    "\n",
    "Time to brute-force again! In the first part, sum_in_interval checks if number at\n",
    "an index $i$ is a sum of any combination of previous 25 numbers. Number at first index\n",
    "satisfying this property is the answer.\n",
    "\n",
    "In the second part I decided to put a little of effort to produce an $O(n)$ solution \n",
    "(well, almost, calculating a sum isn't $O(1)$).\n",
    "Solution uses a [sliding window](\n",
    "https://www.geeksforgeeks.org/window-sliding-technique/) in order to have each\n",
    "number added/removed from contiguous range max one time."
   ]
  },
  {
   "cell_type": "code",
   "execution_count": 18,
   "metadata": {
    "pycharm": {
     "name": "#%%\n"
    }
   },
   "outputs": [
    {
     "data": {
      "application/javascript": [
       "\n",
       "            setTimeout(function() {\n",
       "                var nbb_cell_id = 18;\n",
       "                var nbb_unformatted_code = \"def day_9() -> Solution:\\n    numbers = data_to_nums(day=9)\\n\\n    def sum_in_interval(start: int, goal: int) -> bool:\\n        \\\"\\\"\\\"Find out if number at goal is sum of any two numbers in interval.\\\"\\\"\\\"\\n        return any(\\n            sum(combination) == numbers[goal]\\n            for combination in itertools.combinations(numbers[start:goal], 2)\\n        )\\n\\n    def find_sum(goal: int) -> Optional[int]:\\n        \\\"\\\"\\\"Find a first contiguous set that sums up to goal.\\\"\\\"\\\"\\n        partial = deque()\\n        for num in numbers:\\n            if sum(partial) < goal:\\n                partial.append(num)\\n            if sum(partial) == goal and len(partial) >= 2:\\n                return min(partial) + max(partial)\\n            while sum(partial) > goal:\\n                partial.popleft()\\n\\n    n, offset = len(numbers), 25\\n    invalid_number_index = next(\\n        i for i in range(offset, n) if not sum_in_interval(start=i - offset, goal=i)\\n    )\\n\\n    first = numbers[invalid_number_index]\\n    second = find_sum(goal=first)\\n\\n    return first, second\";\n",
       "                var nbb_formatted_code = \"def day_9() -> Solution:\\n    numbers = data_to_nums(day=9)\\n\\n    def sum_in_interval(start: int, goal: int) -> bool:\\n        \\\"\\\"\\\"Find out if number at goal is sum of any two numbers in interval.\\\"\\\"\\\"\\n        return any(\\n            sum(combination) == numbers[goal]\\n            for combination in itertools.combinations(numbers[start:goal], 2)\\n        )\\n\\n    def find_sum(goal: int) -> Optional[int]:\\n        \\\"\\\"\\\"Find a first contiguous set that sums up to goal.\\\"\\\"\\\"\\n        partial = deque()\\n        for num in numbers:\\n            if sum(partial) < goal:\\n                partial.append(num)\\n            if sum(partial) == goal and len(partial) >= 2:\\n                return min(partial) + max(partial)\\n            while sum(partial) > goal:\\n                partial.popleft()\\n\\n    n, offset = len(numbers), 25\\n    invalid_number_index = next(\\n        i for i in range(offset, n) if not sum_in_interval(start=i - offset, goal=i)\\n    )\\n\\n    first = numbers[invalid_number_index]\\n    second = find_sum(goal=first)\\n\\n    return first, second\";\n",
       "                var nbb_cells = Jupyter.notebook.get_cells();\n",
       "                for (var i = 0; i < nbb_cells.length; ++i) {\n",
       "                    if (nbb_cells[i].input_prompt_number == nbb_cell_id) {\n",
       "                        if (nbb_cells[i].get_text() == nbb_unformatted_code) {\n",
       "                             nbb_cells[i].set_text(nbb_formatted_code);\n",
       "                        }\n",
       "                        break;\n",
       "                    }\n",
       "                }\n",
       "            }, 500);\n",
       "            "
      ],
      "text/plain": [
       "<IPython.core.display.Javascript object>"
      ]
     },
     "metadata": {},
     "output_type": "display_data"
    }
   ],
   "source": [
    "def day_9() -> Solution:\n",
    "    numbers = data_to_nums(day=9)\n",
    "\n",
    "    def sum_in_interval(start: int, goal: int) -> bool:\n",
    "        \"\"\"Find out if number at goal is sum of any two numbers in interval.\"\"\"\n",
    "        return any(\n",
    "            sum(combination) == numbers[goal]\n",
    "            for combination in itertools.combinations(numbers[start:goal], 2)\n",
    "        )\n",
    "\n",
    "    def find_sum(goal: int) -> Optional[int]:\n",
    "        \"\"\"Find a first contiguous set that sums up to goal.\"\"\"\n",
    "        partial = deque()\n",
    "        for num in numbers:\n",
    "            if sum(partial) < goal:\n",
    "                partial.append(num)\n",
    "            if sum(partial) == goal and len(partial) >= 2:\n",
    "                return min(partial) + max(partial)\n",
    "            while sum(partial) > goal:\n",
    "                partial.popleft()\n",
    "\n",
    "    n, offset = len(numbers), 25\n",
    "    invalid_number_index = next(\n",
    "        i for i in range(offset, n) if not sum_in_interval(start=i - offset, goal=i)\n",
    "    )\n",
    "\n",
    "    first = numbers[invalid_number_index]\n",
    "    second = find_sum(goal=first)\n",
    "\n",
    "    return first, second"
   ]
  },
  {
   "cell_type": "code",
   "execution_count": 19,
   "metadata": {},
   "outputs": [
    {
     "name": "stdout",
     "output_type": "stream",
     "text": [
      "Part 1: 542529149\n",
      "Part 2: 75678618\n"
     ]
    },
    {
     "data": {
      "application/javascript": [
       "\n",
       "            setTimeout(function() {\n",
       "                var nbb_cell_id = 19;\n",
       "                var nbb_unformatted_code = \"print_day(9)\";\n",
       "                var nbb_formatted_code = \"print_day(9)\";\n",
       "                var nbb_cells = Jupyter.notebook.get_cells();\n",
       "                for (var i = 0; i < nbb_cells.length; ++i) {\n",
       "                    if (nbb_cells[i].input_prompt_number == nbb_cell_id) {\n",
       "                        if (nbb_cells[i].get_text() == nbb_unformatted_code) {\n",
       "                             nbb_cells[i].set_text(nbb_formatted_code);\n",
       "                        }\n",
       "                        break;\n",
       "                    }\n",
       "                }\n",
       "            }, 500);\n",
       "            "
      ],
      "text/plain": [
       "<IPython.core.display.Javascript object>"
      ]
     },
     "metadata": {},
     "output_type": "display_data"
    }
   ],
   "source": [
    "print_day(9)"
   ]
  },
  {
   "cell_type": "markdown",
   "metadata": {},
   "source": [
    "## Day 10\n",
    "\n",
    "**Task**: Count differences between numbers / count total numbers of ways to arrange\n",
    "numbers up to `n`th number.\n",
    "\n",
    "It helps here to sort the given joltage array first. After that, both parts can be\n",
    "solved in $O(n)$ by iterating through the sorted array. \n",
    "\n",
    "For the first part, differences between consecutive numbers are calculated. The \n",
    "second part can be solved with \n",
    "[dynamic programming](https://en.wikipedia.org/wiki/Dynamic_programming): since\n",
    "one can add either adapter with $k+1$, $k+2$ or $k+3$ joltages after an adapter\n",
    "with $k$ joltages, amount of adapters at some $k$ is based on amounts before it.\n",
    "Answer is the amount of possible ways to sum up to charger with largest joltage."
   ]
  },
  {
   "cell_type": "code",
   "execution_count": 20,
   "metadata": {
    "pycharm": {
     "name": "#%%\n"
    }
   },
   "outputs": [
    {
     "data": {
      "application/javascript": [
       "\n",
       "            setTimeout(function() {\n",
       "                var nbb_cell_id = 20;\n",
       "                var nbb_unformatted_code = \"def day_10() -> Solution:\\n    joltages = sorted(data_to_nums(day=10))\\n\\n    ways, diffs = defaultdict(int), defaultdict(int)\\n    prev = 0\\n    ways[0] = 1\\n    for joltage in joltages:\\n        ways[joltage] = sum(ways[joltage - i] for i in [1, 2, 3])\\n        diffs[joltage - prev] += 1\\n        prev = joltage\\n    diffs[3] += 1\\n\\n    first = diffs[1] * diffs[3]\\n    second = ways[joltages[-1]]\\n\\n    return first, second\";\n",
       "                var nbb_formatted_code = \"def day_10() -> Solution:\\n    joltages = sorted(data_to_nums(day=10))\\n\\n    ways, diffs = defaultdict(int), defaultdict(int)\\n    prev = 0\\n    ways[0] = 1\\n    for joltage in joltages:\\n        ways[joltage] = sum(ways[joltage - i] for i in [1, 2, 3])\\n        diffs[joltage - prev] += 1\\n        prev = joltage\\n    diffs[3] += 1\\n\\n    first = diffs[1] * diffs[3]\\n    second = ways[joltages[-1]]\\n\\n    return first, second\";\n",
       "                var nbb_cells = Jupyter.notebook.get_cells();\n",
       "                for (var i = 0; i < nbb_cells.length; ++i) {\n",
       "                    if (nbb_cells[i].input_prompt_number == nbb_cell_id) {\n",
       "                        if (nbb_cells[i].get_text() == nbb_unformatted_code) {\n",
       "                             nbb_cells[i].set_text(nbb_formatted_code);\n",
       "                        }\n",
       "                        break;\n",
       "                    }\n",
       "                }\n",
       "            }, 500);\n",
       "            "
      ],
      "text/plain": [
       "<IPython.core.display.Javascript object>"
      ]
     },
     "metadata": {},
     "output_type": "display_data"
    }
   ],
   "source": [
    "def day_10() -> Solution:\n",
    "    joltages = sorted(data_to_nums(day=10))\n",
    "\n",
    "    ways, diffs = defaultdict(int), defaultdict(int)\n",
    "    prev = 0\n",
    "    ways[0] = 1\n",
    "    for joltage in joltages:\n",
    "        ways[joltage] = sum(ways[joltage - i] for i in [1, 2, 3])\n",
    "        diffs[joltage - prev] += 1\n",
    "        prev = joltage\n",
    "    diffs[3] += 1\n",
    "\n",
    "    first = diffs[1] * diffs[3]\n",
    "    second = ways[joltages[-1]]\n",
    "\n",
    "    return first, second"
   ]
  },
  {
   "cell_type": "code",
   "execution_count": 21,
   "metadata": {
    "scrolled": false
   },
   "outputs": [
    {
     "name": "stdout",
     "output_type": "stream",
     "text": [
      "Part 1: 1656\n",
      "Part 2: 56693912375296\n"
     ]
    },
    {
     "data": {
      "application/javascript": [
       "\n",
       "            setTimeout(function() {\n",
       "                var nbb_cell_id = 21;\n",
       "                var nbb_unformatted_code = \"print_day(10)\";\n",
       "                var nbb_formatted_code = \"print_day(10)\";\n",
       "                var nbb_cells = Jupyter.notebook.get_cells();\n",
       "                for (var i = 0; i < nbb_cells.length; ++i) {\n",
       "                    if (nbb_cells[i].input_prompt_number == nbb_cell_id) {\n",
       "                        if (nbb_cells[i].get_text() == nbb_unformatted_code) {\n",
       "                             nbb_cells[i].set_text(nbb_formatted_code);\n",
       "                        }\n",
       "                        break;\n",
       "                    }\n",
       "                }\n",
       "            }, 500);\n",
       "            "
      ],
      "text/plain": [
       "<IPython.core.display.Javascript object>"
      ]
     },
     "metadata": {},
     "output_type": "display_data"
    }
   ],
   "source": [
    "print_day(10)"
   ]
  },
  {
   "cell_type": "markdown",
   "metadata": {},
   "source": [
    "## Day 11\n",
    "\n",
    "**Task**: Run [cellular automaton](https://en.wikipedia.org/wiki/Cellular_automaton)\n",
    "until stable state is reached.\n",
    "\n",
    "Game of life -style problems have been repeating puzzle theme in previous years, so it was nice to see one during 2020 too. Basic idea is quite simple: create new generations based on previous generation and a set of rules until consecutive generations are exactly the same.\n",
    "\n",
    "For efficient solutions, following is needed: fast way to update whether seat is occupied or empty and fast way to get neighbours, especially on the second part. With pure python, fastest solution I could get was around 3 seconds, so I'll let this be the slowest solution this far :)"
   ]
  },
  {
   "cell_type": "code",
   "execution_count": 22,
   "metadata": {},
   "outputs": [
    {
     "data": {
      "application/javascript": [
       "\n",
       "            setTimeout(function() {\n",
       "                var nbb_cell_id = 22;\n",
       "                var nbb_unformatted_code = \"def day_11() -> Solution:\\n    lines = data_to_lines(day=11)\\n\\n    class SeatingSystem:\\n        def __init__(self, limit: int, mode: Mode) -> None:\\n            self.mode = mode\\n            self.limit = limit\\n            self.occupied = self.grid_to_dict(char=\\\"L\\\", indicator=False)\\n            self.floor = self.grid_to_dict(char=\\\".\\\", indicator=True)\\n            self.neighbours = self.get_neighbours()\\n\\n        @staticmethod\\n        def grid_to_dict(char: str, indicator: bool) -> Dict[complex, bool]:\\n            h, w = len(lines), len(lines[0])\\n            return {\\n                complex(x, y): indicator\\n                for y in range(h)\\n                for x in range(w)\\n                if lines[y][x] == char\\n            }\\n\\n        def get_neighbours(self) -> Dict[complex, List[complex]]:\\n            directions = [\\n                complex(x, y)\\n                for x, y in itertools.product((-1, 0, 1), repeat=2)\\n                if (x, y) != (0, 0)\\n            ]\\n            return {\\n                seat: [\\n                    neighbour\\n                    for direction in directions\\n                    if (neighbour := self.get_neighbour(seat=seat, direction=direction))\\n                    in self.occupied\\n                ]\\n                for seat in self.occupied.keys()\\n            }\\n\\n        def get_neighbour(self, seat: complex, direction: complex) -> Optional[complex]:\\n            if self.mode == \\\"second\\\":\\n                return next(\\n                    point\\n                    for multiplier in itertools.count(start=1)\\n                    if (point := seat + multiplier * direction) not in self.floor\\n                )\\n            return seat + direction\\n\\n        def run(self):\\n            while True:\\n                next_occupied = self.next_generation()\\n                if next_occupied == self.occupied:\\n                    return sum(self.occupied.values())\\n                self.occupied = next_occupied\\n\\n        def next_generation(self):\\n            return {seat: self.becomes_occupied(seat) for seat in self.occupied}\\n\\n        def becomes_occupied(self, seat: complex) -> bool:\\n            count = sum(self.occupied[neighbour] for neighbour in self.neighbours[seat])\\n            currently_occupied = self.occupied[seat]\\n            if currently_occupied and count >= self.limit:\\n                return False\\n            if not currently_occupied and count == 0:\\n                return True\\n            return currently_occupied\\n\\n    first = SeatingSystem(limit=4, mode=\\\"first\\\").run()\\n    second = SeatingSystem(limit=5, mode=\\\"second\\\").run()\\n    return first, second\";\n",
       "                var nbb_formatted_code = \"def day_11() -> Solution:\\n    lines = data_to_lines(day=11)\\n\\n    class SeatingSystem:\\n        def __init__(self, limit: int, mode: Mode) -> None:\\n            self.mode = mode\\n            self.limit = limit\\n            self.occupied = self.grid_to_dict(char=\\\"L\\\", indicator=False)\\n            self.floor = self.grid_to_dict(char=\\\".\\\", indicator=True)\\n            self.neighbours = self.get_neighbours()\\n\\n        @staticmethod\\n        def grid_to_dict(char: str, indicator: bool) -> Dict[complex, bool]:\\n            h, w = len(lines), len(lines[0])\\n            return {\\n                complex(x, y): indicator\\n                for y in range(h)\\n                for x in range(w)\\n                if lines[y][x] == char\\n            }\\n\\n        def get_neighbours(self) -> Dict[complex, List[complex]]:\\n            directions = [\\n                complex(x, y)\\n                for x, y in itertools.product((-1, 0, 1), repeat=2)\\n                if (x, y) != (0, 0)\\n            ]\\n            return {\\n                seat: [\\n                    neighbour\\n                    for direction in directions\\n                    if (neighbour := self.get_neighbour(seat=seat, direction=direction))\\n                    in self.occupied\\n                ]\\n                for seat in self.occupied.keys()\\n            }\\n\\n        def get_neighbour(self, seat: complex, direction: complex) -> Optional[complex]:\\n            if self.mode == \\\"second\\\":\\n                return next(\\n                    point\\n                    for multiplier in itertools.count(start=1)\\n                    if (point := seat + multiplier * direction) not in self.floor\\n                )\\n            return seat + direction\\n\\n        def run(self):\\n            while True:\\n                next_occupied = self.next_generation()\\n                if next_occupied == self.occupied:\\n                    return sum(self.occupied.values())\\n                self.occupied = next_occupied\\n\\n        def next_generation(self):\\n            return {seat: self.becomes_occupied(seat) for seat in self.occupied}\\n\\n        def becomes_occupied(self, seat: complex) -> bool:\\n            count = sum(self.occupied[neighbour] for neighbour in self.neighbours[seat])\\n            currently_occupied = self.occupied[seat]\\n            if currently_occupied and count >= self.limit:\\n                return False\\n            if not currently_occupied and count == 0:\\n                return True\\n            return currently_occupied\\n\\n    first = SeatingSystem(limit=4, mode=\\\"first\\\").run()\\n    second = SeatingSystem(limit=5, mode=\\\"second\\\").run()\\n    return first, second\";\n",
       "                var nbb_cells = Jupyter.notebook.get_cells();\n",
       "                for (var i = 0; i < nbb_cells.length; ++i) {\n",
       "                    if (nbb_cells[i].input_prompt_number == nbb_cell_id) {\n",
       "                        if (nbb_cells[i].get_text() == nbb_unformatted_code) {\n",
       "                             nbb_cells[i].set_text(nbb_formatted_code);\n",
       "                        }\n",
       "                        break;\n",
       "                    }\n",
       "                }\n",
       "            }, 500);\n",
       "            "
      ],
      "text/plain": [
       "<IPython.core.display.Javascript object>"
      ]
     },
     "metadata": {},
     "output_type": "display_data"
    }
   ],
   "source": [
    "def day_11() -> Solution:\n",
    "    lines = data_to_lines(day=11)\n",
    "\n",
    "    class SeatingSystem:\n",
    "        def __init__(self, limit: int, mode: Mode) -> None:\n",
    "            self.mode = mode\n",
    "            self.limit = limit\n",
    "            self.occupied = self.grid_to_dict(char=\"L\", indicator=False)\n",
    "            self.floor = self.grid_to_dict(char=\".\", indicator=True)\n",
    "            self.neighbours = self.get_neighbours()\n",
    "\n",
    "        @staticmethod\n",
    "        def grid_to_dict(char: str, indicator: bool) -> Dict[complex, bool]:\n",
    "            h, w = len(lines), len(lines[0])\n",
    "            return {\n",
    "                complex(x, y): indicator\n",
    "                for y in range(h)\n",
    "                for x in range(w)\n",
    "                if lines[y][x] == char\n",
    "            }\n",
    "\n",
    "        def get_neighbours(self) -> Dict[complex, List[complex]]:\n",
    "            directions = [\n",
    "                complex(x, y)\n",
    "                for x, y in itertools.product((-1, 0, 1), repeat=2)\n",
    "                if (x, y) != (0, 0)\n",
    "            ]\n",
    "            return {\n",
    "                seat: [\n",
    "                    neighbour\n",
    "                    for direction in directions\n",
    "                    if (neighbour := self.get_neighbour(seat=seat, direction=direction))\n",
    "                    in self.occupied\n",
    "                ]\n",
    "                for seat in self.occupied.keys()\n",
    "            }\n",
    "\n",
    "        def get_neighbour(self, seat: complex, direction: complex) -> Optional[complex]:\n",
    "            if self.mode == \"second\":\n",
    "                return next(\n",
    "                    point\n",
    "                    for multiplier in itertools.count(start=1)\n",
    "                    if (point := seat + multiplier * direction) not in self.floor\n",
    "                )\n",
    "            return seat + direction\n",
    "\n",
    "        def run(self):\n",
    "            while True:\n",
    "                next_occupied = self.next_generation()\n",
    "                if next_occupied == self.occupied:\n",
    "                    return sum(self.occupied.values())\n",
    "                self.occupied = next_occupied\n",
    "\n",
    "        def next_generation(self):\n",
    "            return {seat: self.becomes_occupied(seat) for seat in self.occupied}\n",
    "\n",
    "        def becomes_occupied(self, seat: complex) -> bool:\n",
    "            count = sum(self.occupied[neighbour] for neighbour in self.neighbours[seat])\n",
    "            currently_occupied = self.occupied[seat]\n",
    "            if currently_occupied and count >= self.limit:\n",
    "                return False\n",
    "            if not currently_occupied and count == 0:\n",
    "                return True\n",
    "            return currently_occupied\n",
    "\n",
    "    first = SeatingSystem(limit=4, mode=\"first\").run()\n",
    "    second = SeatingSystem(limit=5, mode=\"second\").run()\n",
    "    return first, second"
   ]
  },
  {
   "cell_type": "code",
   "execution_count": 23,
   "metadata": {},
   "outputs": [
    {
     "name": "stdout",
     "output_type": "stream",
     "text": [
      "Part 1: 2281\n",
      "Part 2: 2085\n"
     ]
    },
    {
     "data": {
      "application/javascript": [
       "\n",
       "            setTimeout(function() {\n",
       "                var nbb_cell_id = 23;\n",
       "                var nbb_unformatted_code = \"print_day(11)\";\n",
       "                var nbb_formatted_code = \"print_day(11)\";\n",
       "                var nbb_cells = Jupyter.notebook.get_cells();\n",
       "                for (var i = 0; i < nbb_cells.length; ++i) {\n",
       "                    if (nbb_cells[i].input_prompt_number == nbb_cell_id) {\n",
       "                        if (nbb_cells[i].get_text() == nbb_unformatted_code) {\n",
       "                             nbb_cells[i].set_text(nbb_formatted_code);\n",
       "                        }\n",
       "                        break;\n",
       "                    }\n",
       "                }\n",
       "            }, 500);\n",
       "            "
      ],
      "text/plain": [
       "<IPython.core.display.Javascript object>"
      ]
     },
     "metadata": {},
     "output_type": "display_data"
    }
   ],
   "source": [
    "print_day(11)"
   ]
  },
  {
   "cell_type": "markdown",
   "metadata": {},
   "source": [
    "## Day 12\n",
    "\n",
    "**Task**: Move ship by given rules, calculate distance between starting and ending\n",
    "positions.\n",
    "\n",
    "Quite straightforward puzzle: biggest difference between parts one and two is \n",
    "movement of direction (part 1) / waypoint (part 2). It also helps again to use\n",
    "`complex` numbers for easier additions, multiplication and especially for doing\n",
    "the rotations: code here uses the fact that raising complex number to the power \n",
    "of $n$ \"moves\" the number along perimeter of circle by multiplies of $90$ degrees. \n",
    "([Here's some info about the math behind](https://brilliant.org/wiki/complex-exponentiation/))"
   ]
  },
  {
   "cell_type": "code",
   "execution_count": 24,
   "metadata": {
    "pycharm": {
     "name": "#%%\n"
    }
   },
   "outputs": [
    {
     "data": {
      "application/javascript": [
       "\n",
       "            setTimeout(function() {\n",
       "                var nbb_cell_id = 24;\n",
       "                var nbb_unformatted_code = \"def day_12() -> Solution:\\n    instructions = [(line[0], int(line[1:])) for line in data_to_lines(day=12)]\\n\\n    def solve(mode: Mode) -> int:\\n        directions = {\\n            \\\"N\\\": complex(0, 1),\\n            \\\"E\\\": complex(1, 0),\\n            \\\"S\\\": complex(0, -1),\\n            \\\"W\\\": complex(-1, 0),\\n        }\\n        rotations = {\\\"L\\\": complex(0, 1), \\\"R\\\": complex(0, -1)}\\n        point = complex(0, 0)\\n        other = directions[\\\"E\\\"] if mode == \\\"first\\\" else complex(10, 1)\\n\\n        for action, value in instructions:\\n            if action in rotations:\\n                other *= rotations[action] ** (value // 90)\\n            elif action == \\\"F\\\":\\n                point += other * value\\n            elif mode == \\\"first\\\":\\n                point += directions[action] * value\\n            elif mode == \\\"second\\\":\\n                other += directions[action] * value\\n        return int(abs(point.real) + abs(point.imag))\\n\\n    return solve(mode=\\\"first\\\"), solve(mode=\\\"second\\\")\";\n",
       "                var nbb_formatted_code = \"def day_12() -> Solution:\\n    instructions = [(line[0], int(line[1:])) for line in data_to_lines(day=12)]\\n\\n    def solve(mode: Mode) -> int:\\n        directions = {\\n            \\\"N\\\": complex(0, 1),\\n            \\\"E\\\": complex(1, 0),\\n            \\\"S\\\": complex(0, -1),\\n            \\\"W\\\": complex(-1, 0),\\n        }\\n        rotations = {\\\"L\\\": complex(0, 1), \\\"R\\\": complex(0, -1)}\\n        point = complex(0, 0)\\n        other = directions[\\\"E\\\"] if mode == \\\"first\\\" else complex(10, 1)\\n\\n        for action, value in instructions:\\n            if action in rotations:\\n                other *= rotations[action] ** (value // 90)\\n            elif action == \\\"F\\\":\\n                point += other * value\\n            elif mode == \\\"first\\\":\\n                point += directions[action] * value\\n            elif mode == \\\"second\\\":\\n                other += directions[action] * value\\n        return int(abs(point.real) + abs(point.imag))\\n\\n    return solve(mode=\\\"first\\\"), solve(mode=\\\"second\\\")\";\n",
       "                var nbb_cells = Jupyter.notebook.get_cells();\n",
       "                for (var i = 0; i < nbb_cells.length; ++i) {\n",
       "                    if (nbb_cells[i].input_prompt_number == nbb_cell_id) {\n",
       "                        if (nbb_cells[i].get_text() == nbb_unformatted_code) {\n",
       "                             nbb_cells[i].set_text(nbb_formatted_code);\n",
       "                        }\n",
       "                        break;\n",
       "                    }\n",
       "                }\n",
       "            }, 500);\n",
       "            "
      ],
      "text/plain": [
       "<IPython.core.display.Javascript object>"
      ]
     },
     "metadata": {},
     "output_type": "display_data"
    }
   ],
   "source": [
    "def day_12() -> Solution:\n",
    "    instructions = [(line[0], int(line[1:])) for line in data_to_lines(day=12)]\n",
    "\n",
    "    def solve(mode: Mode) -> int:\n",
    "        directions = {\n",
    "            \"N\": complex(0, 1),\n",
    "            \"E\": complex(1, 0),\n",
    "            \"S\": complex(0, -1),\n",
    "            \"W\": complex(-1, 0),\n",
    "        }\n",
    "        rotations = {\"L\": complex(0, 1), \"R\": complex(0, -1)}\n",
    "        point = complex(0, 0)\n",
    "        other = directions[\"E\"] if mode == \"first\" else complex(10, 1)\n",
    "\n",
    "        for action, value in instructions:\n",
    "            if action in rotations:\n",
    "                other *= rotations[action] ** (value // 90)\n",
    "            elif action == \"F\":\n",
    "                point += other * value\n",
    "            elif mode == \"first\":\n",
    "                point += directions[action] * value\n",
    "            elif mode == \"second\":\n",
    "                other += directions[action] * value\n",
    "        return int(abs(point.real) + abs(point.imag))\n",
    "\n",
    "    return solve(mode=\"first\"), solve(mode=\"second\")"
   ]
  },
  {
   "cell_type": "code",
   "execution_count": 25,
   "metadata": {
    "pycharm": {
     "name": "#%%\n"
    }
   },
   "outputs": [
    {
     "name": "stdout",
     "output_type": "stream",
     "text": [
      "Part 1: 1010\n",
      "Part 2: 52742\n"
     ]
    },
    {
     "data": {
      "application/javascript": [
       "\n",
       "            setTimeout(function() {\n",
       "                var nbb_cell_id = 25;\n",
       "                var nbb_unformatted_code = \"print_day(12)\";\n",
       "                var nbb_formatted_code = \"print_day(12)\";\n",
       "                var nbb_cells = Jupyter.notebook.get_cells();\n",
       "                for (var i = 0; i < nbb_cells.length; ++i) {\n",
       "                    if (nbb_cells[i].input_prompt_number == nbb_cell_id) {\n",
       "                        if (nbb_cells[i].get_text() == nbb_unformatted_code) {\n",
       "                             nbb_cells[i].set_text(nbb_formatted_code);\n",
       "                        }\n",
       "                        break;\n",
       "                    }\n",
       "                }\n",
       "            }, 500);\n",
       "            "
      ],
      "text/plain": [
       "<IPython.core.display.Javascript object>"
      ]
     },
     "metadata": {},
     "output_type": "display_data"
    }
   ],
   "source": [
    "print_day(12)"
   ]
  },
  {
   "cell_type": "markdown",
   "metadata": {},
   "source": [
    "## Day 13\n",
    "\n",
    "**Task**: Given some timestamp, and a bus schedule, what is the earliest time to take\n",
    "a bus (part 1) / the earliest time when busses depart exactly n minutes after first,\n",
    "where n is their placement on the list.\n",
    "\n",
    "For input, ids and diffs between bus id and its placement in schedule are calculated.\n",
    "This helps on part 2.\n",
    "\n",
    "The first part requires simple calculation, which gets remainder between the earliest\n",
    "time and bus ids. The second part, on the other hand, requires some number\n",
    "theory: [chinese remainder theorem](\n",
    "https://en.wikipedia.org/wiki/Chinese_remainder_theorem). Idea here is that, there is\n",
    "one integer $x$ that holds\n",
    "\n",
    "$\\begin{align}\n",
    "x \\equiv a_1 \\pmod{n_1} \\\\\n",
    "x \\equiv a_2 \\pmod{n_2} \\\\\n",
    "x \\equiv a_k \\pmod{n_k} \\\\\n",
    "\\end{align}\n",
    "$\n",
    "\n",
    "where $a$ is a list of bus ids and $n$ is a list of differences between id and busses\n",
    "placement in given schedule. Using the given example, this means that\n",
    "`1068781 % 0 == (7-0) % 0`, `1068781 % 1 == (13-1) % 1`,`1068781 % 4 == (59-4) % 4` etc.\n",
    "\n",
    "Sympy library [provides function](\n",
    "https://docs.sympy.org/latest/modules/ntheory.html?highlight=baby%20step#sympy.ntheory.modular.crt)\n",
    "to calculate the integer $x$."
   ]
  },
  {
   "cell_type": "code",
   "execution_count": 26,
   "metadata": {
    "pycharm": {
     "name": "#%%\n"
    }
   },
   "outputs": [
    {
     "data": {
      "application/javascript": [
       "\n",
       "            setTimeout(function() {\n",
       "                var nbb_cell_id = 26;\n",
       "                var nbb_unformatted_code = \"def day_13() -> Solution:\\n    lines = data_to_lines(day=13)\\n    earliest = int(lines[0])\\n    bus_ids_and_diffs = [\\n        (int(bus_id), int(bus_id) - i)\\n        for i, bus_id in enumerate(lines[1].split(\\\",\\\"))\\n        if bus_id != \\\"x\\\"\\n    ]\\n\\n    minutes, bus_id = min(\\n        (bus_id - earliest % bus_id, bus_id) for bus_id, _ in bus_ids_and_diffs\\n    )\\n    first = minutes * bus_id\\n\\n    bus_ids, diffs = zip(*bus_ids_and_diffs)\\n    second = crt(bus_ids, diffs)[0]\\n\\n    return first, second\";\n",
       "                var nbb_formatted_code = \"def day_13() -> Solution:\\n    lines = data_to_lines(day=13)\\n    earliest = int(lines[0])\\n    bus_ids_and_diffs = [\\n        (int(bus_id), int(bus_id) - i)\\n        for i, bus_id in enumerate(lines[1].split(\\\",\\\"))\\n        if bus_id != \\\"x\\\"\\n    ]\\n\\n    minutes, bus_id = min(\\n        (bus_id - earliest % bus_id, bus_id) for bus_id, _ in bus_ids_and_diffs\\n    )\\n    first = minutes * bus_id\\n\\n    bus_ids, diffs = zip(*bus_ids_and_diffs)\\n    second = crt(bus_ids, diffs)[0]\\n\\n    return first, second\";\n",
       "                var nbb_cells = Jupyter.notebook.get_cells();\n",
       "                for (var i = 0; i < nbb_cells.length; ++i) {\n",
       "                    if (nbb_cells[i].input_prompt_number == nbb_cell_id) {\n",
       "                        if (nbb_cells[i].get_text() == nbb_unformatted_code) {\n",
       "                             nbb_cells[i].set_text(nbb_formatted_code);\n",
       "                        }\n",
       "                        break;\n",
       "                    }\n",
       "                }\n",
       "            }, 500);\n",
       "            "
      ],
      "text/plain": [
       "<IPython.core.display.Javascript object>"
      ]
     },
     "metadata": {},
     "output_type": "display_data"
    }
   ],
   "source": [
    "def day_13() -> Solution:\n",
    "    lines = data_to_lines(day=13)\n",
    "    earliest = int(lines[0])\n",
    "    bus_ids_and_diffs = [\n",
    "        (int(bus_id), int(bus_id) - i)\n",
    "        for i, bus_id in enumerate(lines[1].split(\",\"))\n",
    "        if bus_id != \"x\"\n",
    "    ]\n",
    "\n",
    "    minutes, bus_id = min(\n",
    "        (bus_id - earliest % bus_id, bus_id) for bus_id, _ in bus_ids_and_diffs\n",
    "    )\n",
    "    first = minutes * bus_id\n",
    "\n",
    "    bus_ids, diffs = zip(*bus_ids_and_diffs)\n",
    "    second = crt(bus_ids, diffs)[0]\n",
    "\n",
    "    return first, second"
   ]
  },
  {
   "cell_type": "code",
   "execution_count": 27,
   "metadata": {
    "pycharm": {
     "name": "#%%\n"
    },
    "scrolled": true
   },
   "outputs": [
    {
     "name": "stdout",
     "output_type": "stream",
     "text": [
      "Part 1: 3269\n",
      "Part 2: 672754131923874\n"
     ]
    },
    {
     "data": {
      "application/javascript": [
       "\n",
       "            setTimeout(function() {\n",
       "                var nbb_cell_id = 27;\n",
       "                var nbb_unformatted_code = \"print_day(13)\";\n",
       "                var nbb_formatted_code = \"print_day(13)\";\n",
       "                var nbb_cells = Jupyter.notebook.get_cells();\n",
       "                for (var i = 0; i < nbb_cells.length; ++i) {\n",
       "                    if (nbb_cells[i].input_prompt_number == nbb_cell_id) {\n",
       "                        if (nbb_cells[i].get_text() == nbb_unformatted_code) {\n",
       "                             nbb_cells[i].set_text(nbb_formatted_code);\n",
       "                        }\n",
       "                        break;\n",
       "                    }\n",
       "                }\n",
       "            }, 500);\n",
       "            "
      ],
      "text/plain": [
       "<IPython.core.display.Javascript object>"
      ]
     },
     "metadata": {},
     "output_type": "display_data"
    }
   ],
   "source": [
    "print_day(13)"
   ]
  },
  {
   "cell_type": "markdown",
   "metadata": {},
   "source": [
    "## Day 14\n",
    "\n",
    "**Task**: Given a program with changing bitmask, memory addesses and values, what is \n",
    "the sum of the values in memory after executing the program?\n",
    "\n",
    "[Mask article in Wikipedia](https://en.wikipedia.org/wiki/Mask_(computing)) is worth \n",
    "checking (it's actually linked in puzzle description as well), since the first part\n",
    "is just applying two masks: other for masking bits to ones and other for masking bits\n",
    "to zeros.\n",
    "\n",
    "In the second part, things are bit more harder. I decided to go with following \n",
    "generator: apply ones mask and prepend address with zeros to make it 36-bit,\n",
    "then generate all possible products of ones and zeros for \"X\"s in address and\n",
    "yield results until all products have been consumed."
   ]
  },
  {
   "cell_type": "code",
   "execution_count": 28,
   "metadata": {
    "pycharm": {
     "name": "#%%\n"
    }
   },
   "outputs": [
    {
     "data": {
      "application/javascript": [
       "\n",
       "            setTimeout(function() {\n",
       "                var nbb_cell_id = 28;\n",
       "                var nbb_unformatted_code = \"def day_14() -> Solution:\\n    lines = data_to_lines(day=14)\\n    mask, ones_mask, zeros_mask = None, None, None\\n\\n    def apply_mask(value: int) -> int:\\n        value |= ones_mask\\n        value &= zeros_mask\\n        return value\\n\\n    def all_memory_addresses(address: int) -> Iterator[int]:\\n        address_36bit = f\\\"{address | ones_mask:b}\\\".zfill(36)\\n        for replacements in itertools.product(\\\"01\\\", repeat=mask.count(\\\"X\\\")):\\n            it = iter(replacements)\\n            result = [next(it) if a == \\\"X\\\" else b for a, b in zip(mask, address_36bit)]\\n            yield int(\\\"\\\".join(result), 2)\\n\\n    regex = re.compile(r\\\"(\\\\d+)\\\")\\n    first_memory, second_memory = {}, {}\\n    for line in lines:\\n        operation, argument = line.split(\\\" = \\\")\\n        if operation == \\\"mask\\\":\\n            mask = argument\\n            ones_mask = int(argument.replace(\\\"X\\\", \\\"0\\\"), 2)\\n            zeros_mask = int(argument.replace(\\\"X\\\", \\\"1\\\"), 2)\\n        else:\\n            address, value = [int(x) for x in regex.findall(line)]\\n            first_memory[address] = apply_mask(value=value)\\n            for new_address in all_memory_addresses(address=address):\\n                second_memory[new_address] = value\\n\\n    return sum(first_memory.values()), sum(second_memory.values())\";\n",
       "                var nbb_formatted_code = \"def day_14() -> Solution:\\n    lines = data_to_lines(day=14)\\n    mask, ones_mask, zeros_mask = None, None, None\\n\\n    def apply_mask(value: int) -> int:\\n        value |= ones_mask\\n        value &= zeros_mask\\n        return value\\n\\n    def all_memory_addresses(address: int) -> Iterator[int]:\\n        address_36bit = f\\\"{address | ones_mask:b}\\\".zfill(36)\\n        for replacements in itertools.product(\\\"01\\\", repeat=mask.count(\\\"X\\\")):\\n            it = iter(replacements)\\n            result = [next(it) if a == \\\"X\\\" else b for a, b in zip(mask, address_36bit)]\\n            yield int(\\\"\\\".join(result), 2)\\n\\n    regex = re.compile(r\\\"(\\\\d+)\\\")\\n    first_memory, second_memory = {}, {}\\n    for line in lines:\\n        operation, argument = line.split(\\\" = \\\")\\n        if operation == \\\"mask\\\":\\n            mask = argument\\n            ones_mask = int(argument.replace(\\\"X\\\", \\\"0\\\"), 2)\\n            zeros_mask = int(argument.replace(\\\"X\\\", \\\"1\\\"), 2)\\n        else:\\n            address, value = [int(x) for x in regex.findall(line)]\\n            first_memory[address] = apply_mask(value=value)\\n            for new_address in all_memory_addresses(address=address):\\n                second_memory[new_address] = value\\n\\n    return sum(first_memory.values()), sum(second_memory.values())\";\n",
       "                var nbb_cells = Jupyter.notebook.get_cells();\n",
       "                for (var i = 0; i < nbb_cells.length; ++i) {\n",
       "                    if (nbb_cells[i].input_prompt_number == nbb_cell_id) {\n",
       "                        if (nbb_cells[i].get_text() == nbb_unformatted_code) {\n",
       "                             nbb_cells[i].set_text(nbb_formatted_code);\n",
       "                        }\n",
       "                        break;\n",
       "                    }\n",
       "                }\n",
       "            }, 500);\n",
       "            "
      ],
      "text/plain": [
       "<IPython.core.display.Javascript object>"
      ]
     },
     "metadata": {},
     "output_type": "display_data"
    }
   ],
   "source": [
    "def day_14() -> Solution:\n",
    "    lines = data_to_lines(day=14)\n",
    "    mask, ones_mask, zeros_mask = None, None, None\n",
    "\n",
    "    def apply_mask(value: int) -> int:\n",
    "        value |= ones_mask\n",
    "        value &= zeros_mask\n",
    "        return value\n",
    "\n",
    "    def all_memory_addresses(address: int) -> Iterator[int]:\n",
    "        address_36bit = f\"{address | ones_mask:b}\".zfill(36)\n",
    "        for replacements in itertools.product(\"01\", repeat=mask.count(\"X\")):\n",
    "            it = iter(replacements)\n",
    "            result = [next(it) if a == \"X\" else b for a, b in zip(mask, address_36bit)]\n",
    "            yield int(\"\".join(result), 2)\n",
    "\n",
    "    regex = re.compile(r\"(\\d+)\")\n",
    "    first_memory, second_memory = {}, {}\n",
    "    for line in lines:\n",
    "        operation, argument = line.split(\" = \")\n",
    "        if operation == \"mask\":\n",
    "            mask = argument\n",
    "            ones_mask = int(argument.replace(\"X\", \"0\"), 2)\n",
    "            zeros_mask = int(argument.replace(\"X\", \"1\"), 2)\n",
    "        else:\n",
    "            address, value = [int(x) for x in regex.findall(line)]\n",
    "            first_memory[address] = apply_mask(value=value)\n",
    "            for new_address in all_memory_addresses(address=address):\n",
    "                second_memory[new_address] = value\n",
    "\n",
    "    return sum(first_memory.values()), sum(second_memory.values())"
   ]
  },
  {
   "cell_type": "code",
   "execution_count": 29,
   "metadata": {
    "pycharm": {
     "name": "#%%\n"
    },
    "scrolled": false
   },
   "outputs": [
    {
     "name": "stdout",
     "output_type": "stream",
     "text": [
      "Part 1: 17765746710228\n",
      "Part 2: 4401465949086\n"
     ]
    },
    {
     "data": {
      "application/javascript": [
       "\n",
       "            setTimeout(function() {\n",
       "                var nbb_cell_id = 29;\n",
       "                var nbb_unformatted_code = \"print_day(14)\";\n",
       "                var nbb_formatted_code = \"print_day(14)\";\n",
       "                var nbb_cells = Jupyter.notebook.get_cells();\n",
       "                for (var i = 0; i < nbb_cells.length; ++i) {\n",
       "                    if (nbb_cells[i].input_prompt_number == nbb_cell_id) {\n",
       "                        if (nbb_cells[i].get_text() == nbb_unformatted_code) {\n",
       "                             nbb_cells[i].set_text(nbb_formatted_code);\n",
       "                        }\n",
       "                        break;\n",
       "                    }\n",
       "                }\n",
       "            }, 500);\n",
       "            "
      ],
      "text/plain": [
       "<IPython.core.display.Javascript object>"
      ]
     },
     "metadata": {},
     "output_type": "display_data"
    }
   ],
   "source": [
    "print_day(14)"
   ]
  },
  {
   "cell_type": "markdown",
   "metadata": {},
   "source": [
    "## Day 15\n",
    "\n",
    "**Task**: Play a game based on [Van Eck sequence](https://www.youtube.com/watch?v=etMJxB-igrc) and return $n$th number.\n",
    "\n",
    "Game defined in the puzzle is quite simple: it's best to use data structure that allows fast lookups for last index where number was seen. \n",
    "\n",
    "The problem here is that Van Eck sequence is unpredictable and, as far as I know, there's no algorithm to solve $n$:th number of the sequence without calculating previous $n-1$ numbers.\n",
    "I wasn't happy with basic cpython running time (around 7-8 seconds), but using numpy + numba gave some satisfying\n",
    "results."
   ]
  },
  {
   "cell_type": "code",
   "execution_count": 30,
   "metadata": {
    "pycharm": {
     "name": "#%%\n"
    }
   },
   "outputs": [
    {
     "data": {
      "application/javascript": [
       "\n",
       "            setTimeout(function() {\n",
       "                var nbb_cell_id = 30;\n",
       "                var nbb_unformatted_code = \"def day_15() -> Solution:\\n    numbers = data_to_nums(day=15)\\n\\n    @nb.njit\\n    def loop(seen: np.ndarray, start: int, turns: int, spoken: int) -> int:\\n        for turn in range(start, turns):\\n            last_seen = seen[spoken]\\n            seen[spoken] = turn\\n            spoken = last_seen if last_seen == 0 else turn - last_seen\\n        return spoken\\n\\n    def solve(turns) -> int:\\n        seen = np.zeros(turns, dtype=np.int32)\\n        for i, num in enumerate(numbers):\\n            seen[num] = i + 1\\n        return loop(seen=seen, start=len(numbers), turns=turns, spoken=numbers[-1])\\n\\n    return solve(turns=2020), solve(turns=30_000_000)\";\n",
       "                var nbb_formatted_code = \"def day_15() -> Solution:\\n    numbers = data_to_nums(day=15)\\n\\n    @nb.njit\\n    def loop(seen: np.ndarray, start: int, turns: int, spoken: int) -> int:\\n        for turn in range(start, turns):\\n            last_seen = seen[spoken]\\n            seen[spoken] = turn\\n            spoken = last_seen if last_seen == 0 else turn - last_seen\\n        return spoken\\n\\n    def solve(turns) -> int:\\n        seen = np.zeros(turns, dtype=np.int32)\\n        for i, num in enumerate(numbers):\\n            seen[num] = i + 1\\n        return loop(seen=seen, start=len(numbers), turns=turns, spoken=numbers[-1])\\n\\n    return solve(turns=2020), solve(turns=30_000_000)\";\n",
       "                var nbb_cells = Jupyter.notebook.get_cells();\n",
       "                for (var i = 0; i < nbb_cells.length; ++i) {\n",
       "                    if (nbb_cells[i].input_prompt_number == nbb_cell_id) {\n",
       "                        if (nbb_cells[i].get_text() == nbb_unformatted_code) {\n",
       "                             nbb_cells[i].set_text(nbb_formatted_code);\n",
       "                        }\n",
       "                        break;\n",
       "                    }\n",
       "                }\n",
       "            }, 500);\n",
       "            "
      ],
      "text/plain": [
       "<IPython.core.display.Javascript object>"
      ]
     },
     "metadata": {},
     "output_type": "display_data"
    }
   ],
   "source": [
    "def day_15() -> Solution:\n",
    "    numbers = data_to_nums(day=15)\n",
    "\n",
    "    @nb.njit\n",
    "    def loop(seen: np.ndarray, start: int, turns: int, spoken: int) -> int:\n",
    "        for turn in range(start, turns):\n",
    "            last_seen = seen[spoken]\n",
    "            seen[spoken] = turn\n",
    "            spoken = last_seen if last_seen == 0 else turn - last_seen\n",
    "        return spoken\n",
    "\n",
    "    def solve(turns) -> int:\n",
    "        seen = np.zeros(turns, dtype=np.int32)\n",
    "        for i, num in enumerate(numbers):\n",
    "            seen[num] = i + 1\n",
    "        return loop(seen=seen, start=len(numbers), turns=turns, spoken=numbers[-1])\n",
    "\n",
    "    return solve(turns=2020), solve(turns=30_000_000)"
   ]
  },
  {
   "cell_type": "code",
   "execution_count": 31,
   "metadata": {
    "pycharm": {
     "name": "#%%\n"
    },
    "scrolled": true
   },
   "outputs": [
    {
     "name": "stdout",
     "output_type": "stream",
     "text": [
      "Part 1: 1618\n",
      "Part 2: 548531\n"
     ]
    },
    {
     "data": {
      "application/javascript": [
       "\n",
       "            setTimeout(function() {\n",
       "                var nbb_cell_id = 31;\n",
       "                var nbb_unformatted_code = \"print_day(15)\";\n",
       "                var nbb_formatted_code = \"print_day(15)\";\n",
       "                var nbb_cells = Jupyter.notebook.get_cells();\n",
       "                for (var i = 0; i < nbb_cells.length; ++i) {\n",
       "                    if (nbb_cells[i].input_prompt_number == nbb_cell_id) {\n",
       "                        if (nbb_cells[i].get_text() == nbb_unformatted_code) {\n",
       "                             nbb_cells[i].set_text(nbb_formatted_code);\n",
       "                        }\n",
       "                        break;\n",
       "                    }\n",
       "                }\n",
       "            }, 500);\n",
       "            "
      ],
      "text/plain": [
       "<IPython.core.display.Javascript object>"
      ]
     },
     "metadata": {},
     "output_type": "display_data"
    }
   ],
   "source": [
    "print_day(15)"
   ]
  },
  {
   "cell_type": "markdown",
   "metadata": {},
   "source": [
    "## Day 16\n",
    "\n",
    "**Task**: Given a list of rules for ticket fields and some ticket examples, find out which rule corresponds to which field. Report error on invalid example tickets and decode some fields from your own ticket.\n",
    "\n",
    "Eh, day 16 requires a lot of parsing and is probably one of the longer code cells in this notebook. Idea here is following: in the first part, each field position in each nearby ticket is matched against given rules (class, row etc.) and field-rule pairs without matches for all the valid tickets are filtered away. Error rate (answer for the first part) is calculated here as well. \n",
    "\n",
    "The second part is just finding which field position has only one possible field name, pop it out, remove it from other field positions and continue until all field positions have been matched with some name. \n",
    "\n",
    "Other way to solve this puzzle would be to use bipartite graph and search for max flow (NetworkX has some okay tools for this). I already had solution written, so maybe I'll try different approach next year."
   ]
  },
  {
   "cell_type": "code",
   "execution_count": 32,
   "metadata": {
    "pycharm": {
     "name": "#%%\n"
    }
   },
   "outputs": [
    {
     "data": {
      "application/javascript": [
       "\n",
       "            setTimeout(function() {\n",
       "                var nbb_cell_id = 32;\n",
       "                var nbb_unformatted_code = \"FieldName = str\\nFieldPosition = int\\nRange = Tuple[int, int]\\nFieldMatches = Dict[FieldPosition, List[FieldName]]\\n\\n\\ndef day_16() -> Solution:\\n    notes = data_to_blocks(day=16)\\n\\n    def validate_fields(fields: List[int]) -> Tuple[bool, Union[int, FieldMatches]]:\\n        field_matches: FieldMatches = defaultdict(list)\\n        for field_position, value in enumerate(fields):\\n            matches_for_position = [\\n                field_name\\n                for field_name, ranges in rules.items()\\n                if any(low <= value <= up for low, up in ranges)\\n            ]\\n            if not matches_for_position:\\n                return False, value\\n            field_matches[field_position].extend(matches_for_position)\\n        return True, field_matches\\n\\n    my_ticket = notes[1].splitlines()[1]\\n    nearby_tickets = notes[2].splitlines()[1:]\\n    rules: Dict[FieldName, List[Range]] = {}\\n    all_field_matches: FieldMatches = defaultdict(list)\\n    potential_fields: Dict[FieldPosition, Set[FieldName]] = {}\\n    final_fields: Dict[FieldPosition, FieldName] = {}\\n    regex = re.compile(r\\\"(\\\\d+)-(\\\\d+)\\\")\\n    error_rate, not_valid_tickets = 0, 0\\n\\n    for line in notes[0].splitlines():\\n        field_name, ranges = line.split(\\\": \\\")\\n        rules[field_name] = [(int(low), int(up)) for low, up in regex.findall(ranges)]\\n\\n    for ticket in nearby_tickets:\\n        fields = [int(x) for x in ticket.split(\\\",\\\")]\\n        parsing_ok, data = validate_fields(fields=fields)\\n        if not parsing_ok:\\n            error_rate += data\\n            not_valid_tickets += 1\\n        else:\\n            for field_position, matches in data.items():\\n                all_field_matches[field_position].extend(matches)\\n\\n    valid_amount = len(nearby_tickets) - not_valid_tickets\\n    for field_position, matches in all_field_matches.items():\\n        potential_fields[field_position] = {\\n            field_name\\n            for field_name, match_amount in Counter(matches).items()\\n            if match_amount == valid_amount\\n        }\\n\\n    while potential_fields:\\n        field_position = next(\\n            position\\n            for position in potential_fields\\n            if len(potential_fields[position]) == 1\\n        )\\n        field_name = list(potential_fields[field_position])[0]\\n        final_fields[field_position] = field_name\\n        for field_names in potential_fields.values():\\n            field_names.discard(field_name)\\n        del potential_fields[field_position]\\n\\n    values_from_my_ticket = [\\n        int(value)\\n        for field_position, value in enumerate(my_ticket.split(\\\",\\\"))\\n        if final_fields[field_position].startswith(\\\"departure\\\")\\n    ]\\n\\n    return error_rate, math.prod(values_from_my_ticket)\";\n",
       "                var nbb_formatted_code = \"FieldName = str\\nFieldPosition = int\\nRange = Tuple[int, int]\\nFieldMatches = Dict[FieldPosition, List[FieldName]]\\n\\n\\ndef day_16() -> Solution:\\n    notes = data_to_blocks(day=16)\\n\\n    def validate_fields(fields: List[int]) -> Tuple[bool, Union[int, FieldMatches]]:\\n        field_matches: FieldMatches = defaultdict(list)\\n        for field_position, value in enumerate(fields):\\n            matches_for_position = [\\n                field_name\\n                for field_name, ranges in rules.items()\\n                if any(low <= value <= up for low, up in ranges)\\n            ]\\n            if not matches_for_position:\\n                return False, value\\n            field_matches[field_position].extend(matches_for_position)\\n        return True, field_matches\\n\\n    my_ticket = notes[1].splitlines()[1]\\n    nearby_tickets = notes[2].splitlines()[1:]\\n    rules: Dict[FieldName, List[Range]] = {}\\n    all_field_matches: FieldMatches = defaultdict(list)\\n    potential_fields: Dict[FieldPosition, Set[FieldName]] = {}\\n    final_fields: Dict[FieldPosition, FieldName] = {}\\n    regex = re.compile(r\\\"(\\\\d+)-(\\\\d+)\\\")\\n    error_rate, not_valid_tickets = 0, 0\\n\\n    for line in notes[0].splitlines():\\n        field_name, ranges = line.split(\\\": \\\")\\n        rules[field_name] = [(int(low), int(up)) for low, up in regex.findall(ranges)]\\n\\n    for ticket in nearby_tickets:\\n        fields = [int(x) for x in ticket.split(\\\",\\\")]\\n        parsing_ok, data = validate_fields(fields=fields)\\n        if not parsing_ok:\\n            error_rate += data\\n            not_valid_tickets += 1\\n        else:\\n            for field_position, matches in data.items():\\n                all_field_matches[field_position].extend(matches)\\n\\n    valid_amount = len(nearby_tickets) - not_valid_tickets\\n    for field_position, matches in all_field_matches.items():\\n        potential_fields[field_position] = {\\n            field_name\\n            for field_name, match_amount in Counter(matches).items()\\n            if match_amount == valid_amount\\n        }\\n\\n    while potential_fields:\\n        field_position = next(\\n            position\\n            for position in potential_fields\\n            if len(potential_fields[position]) == 1\\n        )\\n        field_name = list(potential_fields[field_position])[0]\\n        final_fields[field_position] = field_name\\n        for field_names in potential_fields.values():\\n            field_names.discard(field_name)\\n        del potential_fields[field_position]\\n\\n    values_from_my_ticket = [\\n        int(value)\\n        for field_position, value in enumerate(my_ticket.split(\\\",\\\"))\\n        if final_fields[field_position].startswith(\\\"departure\\\")\\n    ]\\n\\n    return error_rate, math.prod(values_from_my_ticket)\";\n",
       "                var nbb_cells = Jupyter.notebook.get_cells();\n",
       "                for (var i = 0; i < nbb_cells.length; ++i) {\n",
       "                    if (nbb_cells[i].input_prompt_number == nbb_cell_id) {\n",
       "                        if (nbb_cells[i].get_text() == nbb_unformatted_code) {\n",
       "                             nbb_cells[i].set_text(nbb_formatted_code);\n",
       "                        }\n",
       "                        break;\n",
       "                    }\n",
       "                }\n",
       "            }, 500);\n",
       "            "
      ],
      "text/plain": [
       "<IPython.core.display.Javascript object>"
      ]
     },
     "metadata": {},
     "output_type": "display_data"
    }
   ],
   "source": [
    "FieldName = str\n",
    "FieldPosition = int\n",
    "Range = Tuple[int, int]\n",
    "FieldMatches = Dict[FieldPosition, List[FieldName]]\n",
    "\n",
    "\n",
    "def day_16() -> Solution:\n",
    "    notes = data_to_blocks(day=16)\n",
    "\n",
    "    def validate_fields(fields: List[int]) -> Tuple[bool, Union[int, FieldMatches]]:\n",
    "        field_matches: FieldMatches = defaultdict(list)\n",
    "        for field_position, value in enumerate(fields):\n",
    "            matches_for_position = [\n",
    "                field_name\n",
    "                for field_name, ranges in rules.items()\n",
    "                if any(low <= value <= up for low, up in ranges)\n",
    "            ]\n",
    "            if not matches_for_position:\n",
    "                return False, value\n",
    "            field_matches[field_position].extend(matches_for_position)\n",
    "        return True, field_matches\n",
    "\n",
    "    my_ticket = notes[1].splitlines()[1]\n",
    "    nearby_tickets = notes[2].splitlines()[1:]\n",
    "    rules: Dict[FieldName, List[Range]] = {}\n",
    "    all_field_matches: FieldMatches = defaultdict(list)\n",
    "    potential_fields: Dict[FieldPosition, Set[FieldName]] = {}\n",
    "    final_fields: Dict[FieldPosition, FieldName] = {}\n",
    "    regex = re.compile(r\"(\\d+)-(\\d+)\")\n",
    "    error_rate, not_valid_tickets = 0, 0\n",
    "\n",
    "    for line in notes[0].splitlines():\n",
    "        field_name, ranges = line.split(\": \")\n",
    "        rules[field_name] = [(int(low), int(up)) for low, up in regex.findall(ranges)]\n",
    "\n",
    "    for ticket in nearby_tickets:\n",
    "        fields = [int(x) for x in ticket.split(\",\")]\n",
    "        parsing_ok, data = validate_fields(fields=fields)\n",
    "        if not parsing_ok:\n",
    "            error_rate += data\n",
    "            not_valid_tickets += 1\n",
    "        else:\n",
    "            for field_position, matches in data.items():\n",
    "                all_field_matches[field_position].extend(matches)\n",
    "\n",
    "    valid_amount = len(nearby_tickets) - not_valid_tickets\n",
    "    for field_position, matches in all_field_matches.items():\n",
    "        potential_fields[field_position] = {\n",
    "            field_name\n",
    "            for field_name, match_amount in Counter(matches).items()\n",
    "            if match_amount == valid_amount\n",
    "        }\n",
    "\n",
    "    while potential_fields:\n",
    "        field_position = next(\n",
    "            position\n",
    "            for position in potential_fields\n",
    "            if len(potential_fields[position]) == 1\n",
    "        )\n",
    "        field_name = list(potential_fields[field_position])[0]\n",
    "        final_fields[field_position] = field_name\n",
    "        for field_names in potential_fields.values():\n",
    "            field_names.discard(field_name)\n",
    "        del potential_fields[field_position]\n",
    "\n",
    "    values_from_my_ticket = [\n",
    "        int(value)\n",
    "        for field_position, value in enumerate(my_ticket.split(\",\"))\n",
    "        if final_fields[field_position].startswith(\"departure\")\n",
    "    ]\n",
    "\n",
    "    return error_rate, math.prod(values_from_my_ticket)"
   ]
  },
  {
   "cell_type": "code",
   "execution_count": 33,
   "metadata": {
    "pycharm": {
     "name": "#%%\n"
    },
    "scrolled": false
   },
   "outputs": [
    {
     "name": "stdout",
     "output_type": "stream",
     "text": [
      "Part 1: 20060\n",
      "Part 2: 2843534243843\n"
     ]
    },
    {
     "data": {
      "application/javascript": [
       "\n",
       "            setTimeout(function() {\n",
       "                var nbb_cell_id = 33;\n",
       "                var nbb_unformatted_code = \"print_day(16)\";\n",
       "                var nbb_formatted_code = \"print_day(16)\";\n",
       "                var nbb_cells = Jupyter.notebook.get_cells();\n",
       "                for (var i = 0; i < nbb_cells.length; ++i) {\n",
       "                    if (nbb_cells[i].input_prompt_number == nbb_cell_id) {\n",
       "                        if (nbb_cells[i].get_text() == nbb_unformatted_code) {\n",
       "                             nbb_cells[i].set_text(nbb_formatted_code);\n",
       "                        }\n",
       "                        break;\n",
       "                    }\n",
       "                }\n",
       "            }, 500);\n",
       "            "
      ],
      "text/plain": [
       "<IPython.core.display.Javascript object>"
      ]
     },
     "metadata": {},
     "output_type": "display_data"
    }
   ],
   "source": [
    "print_day(16)"
   ]
  },
  {
   "cell_type": "markdown",
   "metadata": {},
   "source": [
    "## Day 17\n",
    "\n",
    "**Task**: Simulate [Conway's Game of life](https://en.wikipedia.org/wiki/Conway%27s_Game_of_Life), but in three and four dimensions.\n",
    "\n",
    "Just like in day 11, this puzzle is a cellular automaton. Difference here is that a) grid is not limited, \n",
    "b) there are more than two dimensions and c) amount of round is given. \n",
    "\n",
    "Otherwise, same idea applies: get next generation based on given rules and make calculating neighbours efficient. \n",
    "Using sets as a way to represent points shines here, since looping through 4 dimension tables will be quite slow."
   ]
  },
  {
   "cell_type": "code",
   "execution_count": 34,
   "metadata": {
    "pycharm": {
     "name": "#%%\n"
    }
   },
   "outputs": [
    {
     "data": {
      "application/javascript": [
       "\n",
       "            setTimeout(function() {\n",
       "                var nbb_cell_id = 34;\n",
       "                var nbb_unformatted_code = \"Cell = Tuple[int, ...]\\n\\n\\ndef day_17() -> Solution:\\n    lines = data_to_lines(day=17)\\n\\n    class GameOfLife:\\n        def __init__(self, dimensions: int) -> None:\\n            self.cells = self.initial_cells(dimensions=dimensions)\\n            self.directions = [\\n                direction\\n                for direction in itertools.product((-1, 0, 1), repeat=dimensions)\\n                if direction != tuple(0 for _ in range(dimensions))\\n            ]\\n\\n        @staticmethod\\n        def initial_cells(dimensions: int) -> Set[Cell]:\\n            h, w = len(lines), len(lines[0])\\n            return {\\n                (x, y, *(0 for _ in range(dimensions - 2)))\\n                for y in range(h)\\n                for x in range(w)\\n                if lines[y][x] == \\\"#\\\"\\n            }\\n\\n        def run(self, rounds: int) -> int:\\n            for _ in range(rounds):\\n                self.cells = self.next_generation()\\n            return len(self.cells)\\n\\n        def next_generation(self) -> Set[Cell]:\\n            return {\\n                cell\\n                for cell, count in Counter(self.get_neighbours()).items()\\n                if self.becomes_active(cell=cell, count=count)\\n            }\\n\\n        def becomes_active(self, cell: Cell, count: int) -> bool:\\n            return count == 3 or (count == 2 and cell in self.cells)\\n\\n        def get_neighbours(self) -> Counter:\\n            return itertools.chain.from_iterable(\\n                [self.get_neighbour(cell, direction) for direction in self.directions]\\n                for cell in self.cells\\n            )\\n\\n        @staticmethod\\n        def get_neighbour(cell: Cell, direction: Cell) -> Cell:\\n            return tuple(a + b for a, b in zip(cell, direction))\\n\\n    first = GameOfLife(dimensions=3).run(rounds=6)\\n    second = GameOfLife(dimensions=4).run(rounds=6)\\n    return first, second\";\n",
       "                var nbb_formatted_code = \"Cell = Tuple[int, ...]\\n\\n\\ndef day_17() -> Solution:\\n    lines = data_to_lines(day=17)\\n\\n    class GameOfLife:\\n        def __init__(self, dimensions: int) -> None:\\n            self.cells = self.initial_cells(dimensions=dimensions)\\n            self.directions = [\\n                direction\\n                for direction in itertools.product((-1, 0, 1), repeat=dimensions)\\n                if direction != tuple(0 for _ in range(dimensions))\\n            ]\\n\\n        @staticmethod\\n        def initial_cells(dimensions: int) -> Set[Cell]:\\n            h, w = len(lines), len(lines[0])\\n            return {\\n                (x, y, *(0 for _ in range(dimensions - 2)))\\n                for y in range(h)\\n                for x in range(w)\\n                if lines[y][x] == \\\"#\\\"\\n            }\\n\\n        def run(self, rounds: int) -> int:\\n            for _ in range(rounds):\\n                self.cells = self.next_generation()\\n            return len(self.cells)\\n\\n        def next_generation(self) -> Set[Cell]:\\n            return {\\n                cell\\n                for cell, count in Counter(self.get_neighbours()).items()\\n                if self.becomes_active(cell=cell, count=count)\\n            }\\n\\n        def becomes_active(self, cell: Cell, count: int) -> bool:\\n            return count == 3 or (count == 2 and cell in self.cells)\\n\\n        def get_neighbours(self) -> Counter:\\n            return itertools.chain.from_iterable(\\n                [self.get_neighbour(cell, direction) for direction in self.directions]\\n                for cell in self.cells\\n            )\\n\\n        @staticmethod\\n        def get_neighbour(cell: Cell, direction: Cell) -> Cell:\\n            return tuple(a + b for a, b in zip(cell, direction))\\n\\n    first = GameOfLife(dimensions=3).run(rounds=6)\\n    second = GameOfLife(dimensions=4).run(rounds=6)\\n    return first, second\";\n",
       "                var nbb_cells = Jupyter.notebook.get_cells();\n",
       "                for (var i = 0; i < nbb_cells.length; ++i) {\n",
       "                    if (nbb_cells[i].input_prompt_number == nbb_cell_id) {\n",
       "                        if (nbb_cells[i].get_text() == nbb_unformatted_code) {\n",
       "                             nbb_cells[i].set_text(nbb_formatted_code);\n",
       "                        }\n",
       "                        break;\n",
       "                    }\n",
       "                }\n",
       "            }, 500);\n",
       "            "
      ],
      "text/plain": [
       "<IPython.core.display.Javascript object>"
      ]
     },
     "metadata": {},
     "output_type": "display_data"
    }
   ],
   "source": [
    "Cell = Tuple[int, ...]\n",
    "\n",
    "\n",
    "def day_17() -> Solution:\n",
    "    lines = data_to_lines(day=17)\n",
    "\n",
    "    class GameOfLife:\n",
    "        def __init__(self, dimensions: int) -> None:\n",
    "            self.cells = self.initial_cells(dimensions=dimensions)\n",
    "            self.directions = [\n",
    "                direction\n",
    "                for direction in itertools.product((-1, 0, 1), repeat=dimensions)\n",
    "                if direction != tuple(0 for _ in range(dimensions))\n",
    "            ]\n",
    "\n",
    "        @staticmethod\n",
    "        def initial_cells(dimensions: int) -> Set[Cell]:\n",
    "            h, w = len(lines), len(lines[0])\n",
    "            return {\n",
    "                (x, y, *(0 for _ in range(dimensions - 2)))\n",
    "                for y in range(h)\n",
    "                for x in range(w)\n",
    "                if lines[y][x] == \"#\"\n",
    "            }\n",
    "\n",
    "        def run(self, rounds: int) -> int:\n",
    "            for _ in range(rounds):\n",
    "                self.cells = self.next_generation()\n",
    "            return len(self.cells)\n",
    "\n",
    "        def next_generation(self) -> Set[Cell]:\n",
    "            return {\n",
    "                cell\n",
    "                for cell, count in Counter(self.get_neighbours()).items()\n",
    "                if self.becomes_active(cell=cell, count=count)\n",
    "            }\n",
    "\n",
    "        def becomes_active(self, cell: Cell, count: int) -> bool:\n",
    "            return count == 3 or (count == 2 and cell in self.cells)\n",
    "\n",
    "        def get_neighbours(self) -> Counter:\n",
    "            return itertools.chain.from_iterable(\n",
    "                [self.get_neighbour(cell, direction) for direction in self.directions]\n",
    "                for cell in self.cells\n",
    "            )\n",
    "\n",
    "        @staticmethod\n",
    "        def get_neighbour(cell: Cell, direction: Cell) -> Cell:\n",
    "            return tuple(a + b for a, b in zip(cell, direction))\n",
    "\n",
    "    first = GameOfLife(dimensions=3).run(rounds=6)\n",
    "    second = GameOfLife(dimensions=4).run(rounds=6)\n",
    "    return first, second"
   ]
  },
  {
   "cell_type": "code",
   "execution_count": 35,
   "metadata": {
    "pycharm": {
     "name": "#%%\n"
    },
    "scrolled": false
   },
   "outputs": [
    {
     "name": "stdout",
     "output_type": "stream",
     "text": [
      "Part 1: 368\n",
      "Part 2: 2696\n"
     ]
    },
    {
     "data": {
      "application/javascript": [
       "\n",
       "            setTimeout(function() {\n",
       "                var nbb_cell_id = 35;\n",
       "                var nbb_unformatted_code = \"print_day(17)\";\n",
       "                var nbb_formatted_code = \"print_day(17)\";\n",
       "                var nbb_cells = Jupyter.notebook.get_cells();\n",
       "                for (var i = 0; i < nbb_cells.length; ++i) {\n",
       "                    if (nbb_cells[i].input_prompt_number == nbb_cell_id) {\n",
       "                        if (nbb_cells[i].get_text() == nbb_unformatted_code) {\n",
       "                             nbb_cells[i].set_text(nbb_formatted_code);\n",
       "                        }\n",
       "                        break;\n",
       "                    }\n",
       "                }\n",
       "            }, 500);\n",
       "            "
      ],
      "text/plain": [
       "<IPython.core.display.Javascript object>"
      ]
     },
     "metadata": {},
     "output_type": "display_data"
    }
   ],
   "source": [
    "print_day(17)"
   ]
  },
  {
   "cell_type": "markdown",
   "metadata": {},
   "source": [
    "## Day 18\n",
    "\n",
    "**Task**: Calculate bunch of expressions according to weird math rules. \n",
    "\n",
    "After some amount of googling if changing operator presedence would be possible in python (not easy or even possible), I decided to uses regexes to evaluate expressions in certain order. Method `run` searches for expressions inside parentheses, evaluates expressions (according to rules in part one / two) and replaces expression with evaluated answer. If there's parentheses inside parentheses, recursion goes a level deeper. \n",
    "\n",
    "Answer is found by just summing up everything together."
   ]
  },
  {
   "cell_type": "code",
   "execution_count": 36,
   "metadata": {
    "pycharm": {
     "name": "#%%\n"
    }
   },
   "outputs": [
    {
     "data": {
      "application/javascript": [
       "\n",
       "            setTimeout(function() {\n",
       "                var nbb_cell_id = 36;\n",
       "                var nbb_unformatted_code = \"def day_18():\\n    lines = data_to_lines(day=18)\\n\\n    @dataclass\\n    class Evaluator:\\n        mode: Mode\\n        parentheses = re.compile(r\\\"(\\\\([^\\\\(\\\\)]*\\\\))\\\")\\n        add_or_mul = re.compile(r\\\"\\\\d+ [\\\\+*] \\\\d+\\\")\\n        add = re.compile(r\\\"\\\\d+ [\\\\+] \\\\d+\\\")\\n        mul = re.compile(r\\\"\\\\d+ [\\\\*] \\\\d+\\\")\\n\\n        def run(self, line: str) -> int:\\n            while expr := self.parentheses.search(line):\\n                inner_expr = expr[0][1:-1]\\n                line = self.parentheses.sub(str(self.run(inner_expr)), line, count=1)\\n            if self.mode == \\\"first\\\":\\n                while expr := self.add_or_mul.search(line):\\n                    line = self.add_or_mul.sub(str(eval(expr[0])), line, count=1)\\n            else:\\n                while expr := self.add.search(line):\\n                    line = self.add.sub(str(eval(expr[0])), line, count=1)\\n                while expr := self.mul.search(line):\\n                    line = self.mul.sub(str(eval(expr[0])), line, count=1)\\n            return int(line)\\n\\n    evaluator = Evaluator(mode=\\\"first\\\")\\n    first = sum(evaluator.run(line=line) for line in lines)\\n    evaluator.mode = \\\"second\\\"\\n    second = sum(evaluator.run(line=line) for line in lines)\\n\\n    return first, second\";\n",
       "                var nbb_formatted_code = \"def day_18():\\n    lines = data_to_lines(day=18)\\n\\n    @dataclass\\n    class Evaluator:\\n        mode: Mode\\n        parentheses = re.compile(r\\\"(\\\\([^\\\\(\\\\)]*\\\\))\\\")\\n        add_or_mul = re.compile(r\\\"\\\\d+ [\\\\+*] \\\\d+\\\")\\n        add = re.compile(r\\\"\\\\d+ [\\\\+] \\\\d+\\\")\\n        mul = re.compile(r\\\"\\\\d+ [\\\\*] \\\\d+\\\")\\n\\n        def run(self, line: str) -> int:\\n            while expr := self.parentheses.search(line):\\n                inner_expr = expr[0][1:-1]\\n                line = self.parentheses.sub(str(self.run(inner_expr)), line, count=1)\\n            if self.mode == \\\"first\\\":\\n                while expr := self.add_or_mul.search(line):\\n                    line = self.add_or_mul.sub(str(eval(expr[0])), line, count=1)\\n            else:\\n                while expr := self.add.search(line):\\n                    line = self.add.sub(str(eval(expr[0])), line, count=1)\\n                while expr := self.mul.search(line):\\n                    line = self.mul.sub(str(eval(expr[0])), line, count=1)\\n            return int(line)\\n\\n    evaluator = Evaluator(mode=\\\"first\\\")\\n    first = sum(evaluator.run(line=line) for line in lines)\\n    evaluator.mode = \\\"second\\\"\\n    second = sum(evaluator.run(line=line) for line in lines)\\n\\n    return first, second\";\n",
       "                var nbb_cells = Jupyter.notebook.get_cells();\n",
       "                for (var i = 0; i < nbb_cells.length; ++i) {\n",
       "                    if (nbb_cells[i].input_prompt_number == nbb_cell_id) {\n",
       "                        if (nbb_cells[i].get_text() == nbb_unformatted_code) {\n",
       "                             nbb_cells[i].set_text(nbb_formatted_code);\n",
       "                        }\n",
       "                        break;\n",
       "                    }\n",
       "                }\n",
       "            }, 500);\n",
       "            "
      ],
      "text/plain": [
       "<IPython.core.display.Javascript object>"
      ]
     },
     "metadata": {},
     "output_type": "display_data"
    }
   ],
   "source": [
    "def day_18():\n",
    "    lines = data_to_lines(day=18)\n",
    "\n",
    "    @dataclass\n",
    "    class Evaluator:\n",
    "        mode: Mode\n",
    "        parentheses = re.compile(r\"(\\([^\\(\\)]*\\))\")\n",
    "        add_or_mul = re.compile(r\"\\d+ [\\+*] \\d+\")\n",
    "        add = re.compile(r\"\\d+ [\\+] \\d+\")\n",
    "        mul = re.compile(r\"\\d+ [\\*] \\d+\")\n",
    "\n",
    "        def run(self, line: str) -> int:\n",
    "            while expr := self.parentheses.search(line):\n",
    "                inner_expr = expr[0][1:-1]\n",
    "                line = self.parentheses.sub(str(self.run(inner_expr)), line, count=1)\n",
    "            if self.mode == \"first\":\n",
    "                while expr := self.add_or_mul.search(line):\n",
    "                    line = self.add_or_mul.sub(str(eval(expr[0])), line, count=1)\n",
    "            else:\n",
    "                while expr := self.add.search(line):\n",
    "                    line = self.add.sub(str(eval(expr[0])), line, count=1)\n",
    "                while expr := self.mul.search(line):\n",
    "                    line = self.mul.sub(str(eval(expr[0])), line, count=1)\n",
    "            return int(line)\n",
    "\n",
    "    evaluator = Evaluator(mode=\"first\")\n",
    "    first = sum(evaluator.run(line=line) for line in lines)\n",
    "    evaluator.mode = \"second\"\n",
    "    second = sum(evaluator.run(line=line) for line in lines)\n",
    "\n",
    "    return first, second"
   ]
  },
  {
   "cell_type": "code",
   "execution_count": 37,
   "metadata": {
    "pycharm": {
     "name": "#%%\n"
    },
    "scrolled": true
   },
   "outputs": [
    {
     "name": "stdout",
     "output_type": "stream",
     "text": [
      "Part 1: 4297397455886\n",
      "Part 2: 93000656194428\n"
     ]
    },
    {
     "data": {
      "application/javascript": [
       "\n",
       "            setTimeout(function() {\n",
       "                var nbb_cell_id = 37;\n",
       "                var nbb_unformatted_code = \"print_day(18)\";\n",
       "                var nbb_formatted_code = \"print_day(18)\";\n",
       "                var nbb_cells = Jupyter.notebook.get_cells();\n",
       "                for (var i = 0; i < nbb_cells.length; ++i) {\n",
       "                    if (nbb_cells[i].input_prompt_number == nbb_cell_id) {\n",
       "                        if (nbb_cells[i].get_text() == nbb_unformatted_code) {\n",
       "                             nbb_cells[i].set_text(nbb_formatted_code);\n",
       "                        }\n",
       "                        break;\n",
       "                    }\n",
       "                }\n",
       "            }, 500);\n",
       "            "
      ],
      "text/plain": [
       "<IPython.core.display.Javascript object>"
      ]
     },
     "metadata": {},
     "output_type": "display_data"
    }
   ],
   "source": [
    "print_day(18)"
   ]
  },
  {
   "cell_type": "markdown",
   "metadata": {},
   "source": [
    "## Day 19\n",
    "\n",
    "**Task**: From a list of recursively matching rules and list of messages, check what\n",
    "messages match rule number 0.\n",
    "\n",
    "Since given rules basically define a context-free grammar, my initial thought was to\n",
    "use [Cocke–Younger–Kasami algorithm](https://en.wikipedia.org/wiki/CYK_algorithm) to\n",
    "parse rules. After spending way too much time with that, I just decided to generate\n",
    "regex string recursively. That turned out to be quite compact and good way to solve this\n",
    "problem.\n",
    "\n",
    "For the first part, `get_regex` method joins together regex strings recursively adding\n",
    "logical OR:s where needed. The second parts changed rules are handled as follows:\n",
    "`8: 42 | 42 8` means that rules number 42 can occur one or more times.\n",
    "`11: 42 31 | 42 11 31` means that rules 42 and 31 must same amount of times, all 42:s\n",
    "first and then all 31:s. I don't know if it's possible to create regex for this, so I\n",
    "used kinda hacky solution instead: regex matches if there is either one 42 and one 31,\n",
    "two 42:s and two 31:s etc. up to five times. Max five reps here comes just from\n",
    "trial and error: it seemed to be the lowest amount to produce the correct amount."
   ]
  },
  {
   "cell_type": "code",
   "execution_count": 38,
   "metadata": {
    "pycharm": {
     "name": "#%%\n"
    }
   },
   "outputs": [
    {
     "data": {
      "application/javascript": [
       "\n",
       "            setTimeout(function() {\n",
       "                var nbb_cell_id = 38;\n",
       "                var nbb_unformatted_code = \"def day_19():\\n    blocks = data_to_blocks(day=19)\\n    regex = re.compile(r\\\"\\\\d+\\\")\\n\\n    @dataclass\\n    class RegexFactor:\\n        rules: Dict[int, str]\\n        mode: Mode\\n\\n        def get_regex(self, rule_id: int) -> str:\\n            if self.mode == \\\"second\\\":\\n                if rule_id == 8:\\n                    return self.get_regex(rule_id=42) + \\\"+\\\"\\n                if rule_id == 11:\\n                    max_reps = 5\\n                    return self.or_join(\\n                        self.get_regex(rule_id=42)\\n                        + f\\\"{{{reps}}}\\\"\\n                        + self.get_regex(rule_id=31)\\n                        + f\\\"{{{reps}}}\\\"\\n                        for reps in range(1, max_reps)\\n                    )\\n            if self.rules[rule_id] in \\\"ab\\\":\\n                return self.rules[rule_id]\\n            return self.or_join(\\n                \\\"\\\".join(\\n                    self.get_regex(rule_id=int(rule_id))\\n                    for rule_id in regex.findall(part)\\n                )\\n                for part in self.rules[rule_id].split(\\\" | \\\")\\n            )\\n\\n        @staticmethod\\n        def or_join(iterable: Iterable) -> str:\\n            return \\\"(?:\\\" + \\\"|\\\".join(iterable) + \\\")\\\"\\n\\n    def count_valid_messages(regex: str) -> int:\\n        messages = blocks[1].splitlines()\\n        return sum(bool(re.fullmatch(regex, message)) for message in messages)\\n\\n    rules: Dict[int, str] = {}\\n    for line in blocks[0].splitlines():\\n        rule_num, rule = line.split(\\\": \\\")\\n        rules[int(rule_num)] = rule[1] if \\\"a\\\" in rule or \\\"b\\\" in rule else rule\\n\\n    factor = RegexFactor(rules=rules, mode=\\\"first\\\")\\n    first = count_valid_messages(factor.get_regex(rule_id=0))\\n    factor.mode = \\\"second\\\"\\n    second = count_valid_messages(factor.get_regex(rule_id=0))\\n\\n    return first, second\";\n",
       "                var nbb_formatted_code = \"def day_19():\\n    blocks = data_to_blocks(day=19)\\n    regex = re.compile(r\\\"\\\\d+\\\")\\n\\n    @dataclass\\n    class RegexFactor:\\n        rules: Dict[int, str]\\n        mode: Mode\\n\\n        def get_regex(self, rule_id: int) -> str:\\n            if self.mode == \\\"second\\\":\\n                if rule_id == 8:\\n                    return self.get_regex(rule_id=42) + \\\"+\\\"\\n                if rule_id == 11:\\n                    max_reps = 5\\n                    return self.or_join(\\n                        self.get_regex(rule_id=42)\\n                        + f\\\"{{{reps}}}\\\"\\n                        + self.get_regex(rule_id=31)\\n                        + f\\\"{{{reps}}}\\\"\\n                        for reps in range(1, max_reps)\\n                    )\\n            if self.rules[rule_id] in \\\"ab\\\":\\n                return self.rules[rule_id]\\n            return self.or_join(\\n                \\\"\\\".join(\\n                    self.get_regex(rule_id=int(rule_id))\\n                    for rule_id in regex.findall(part)\\n                )\\n                for part in self.rules[rule_id].split(\\\" | \\\")\\n            )\\n\\n        @staticmethod\\n        def or_join(iterable: Iterable) -> str:\\n            return \\\"(?:\\\" + \\\"|\\\".join(iterable) + \\\")\\\"\\n\\n    def count_valid_messages(regex: str) -> int:\\n        messages = blocks[1].splitlines()\\n        return sum(bool(re.fullmatch(regex, message)) for message in messages)\\n\\n    rules: Dict[int, str] = {}\\n    for line in blocks[0].splitlines():\\n        rule_num, rule = line.split(\\\": \\\")\\n        rules[int(rule_num)] = rule[1] if \\\"a\\\" in rule or \\\"b\\\" in rule else rule\\n\\n    factor = RegexFactor(rules=rules, mode=\\\"first\\\")\\n    first = count_valid_messages(factor.get_regex(rule_id=0))\\n    factor.mode = \\\"second\\\"\\n    second = count_valid_messages(factor.get_regex(rule_id=0))\\n\\n    return first, second\";\n",
       "                var nbb_cells = Jupyter.notebook.get_cells();\n",
       "                for (var i = 0; i < nbb_cells.length; ++i) {\n",
       "                    if (nbb_cells[i].input_prompt_number == nbb_cell_id) {\n",
       "                        if (nbb_cells[i].get_text() == nbb_unformatted_code) {\n",
       "                             nbb_cells[i].set_text(nbb_formatted_code);\n",
       "                        }\n",
       "                        break;\n",
       "                    }\n",
       "                }\n",
       "            }, 500);\n",
       "            "
      ],
      "text/plain": [
       "<IPython.core.display.Javascript object>"
      ]
     },
     "metadata": {},
     "output_type": "display_data"
    }
   ],
   "source": [
    "def day_19():\n",
    "    blocks = data_to_blocks(day=19)\n",
    "    regex = re.compile(r\"\\d+\")\n",
    "\n",
    "    @dataclass\n",
    "    class RegexFactor:\n",
    "        rules: Dict[int, str]\n",
    "        mode: Mode\n",
    "\n",
    "        def get_regex(self, rule_id: int) -> str:\n",
    "            if self.mode == \"second\":\n",
    "                if rule_id == 8:\n",
    "                    return self.get_regex(rule_id=42) + \"+\"\n",
    "                if rule_id == 11:\n",
    "                    max_reps = 5\n",
    "                    return self.or_join(\n",
    "                        self.get_regex(rule_id=42)\n",
    "                        + f\"{{{reps}}}\"\n",
    "                        + self.get_regex(rule_id=31)\n",
    "                        + f\"{{{reps}}}\"\n",
    "                        for reps in range(1, max_reps)\n",
    "                    )\n",
    "            if self.rules[rule_id] in \"ab\":\n",
    "                return self.rules[rule_id]\n",
    "            return self.or_join(\n",
    "                \"\".join(\n",
    "                    self.get_regex(rule_id=int(rule_id))\n",
    "                    for rule_id in regex.findall(part)\n",
    "                )\n",
    "                for part in self.rules[rule_id].split(\" | \")\n",
    "            )\n",
    "\n",
    "        @staticmethod\n",
    "        def or_join(iterable: Iterable) -> str:\n",
    "            return \"(?:\" + \"|\".join(iterable) + \")\"\n",
    "\n",
    "    def count_valid_messages(regex: str) -> int:\n",
    "        messages = blocks[1].splitlines()\n",
    "        return sum(bool(re.fullmatch(regex, message)) for message in messages)\n",
    "\n",
    "    rules: Dict[int, str] = {}\n",
    "    for line in blocks[0].splitlines():\n",
    "        rule_num, rule = line.split(\": \")\n",
    "        rules[int(rule_num)] = rule[1] if \"a\" in rule or \"b\" in rule else rule\n",
    "\n",
    "    factor = RegexFactor(rules=rules, mode=\"first\")\n",
    "    first = count_valid_messages(factor.get_regex(rule_id=0))\n",
    "    factor.mode = \"second\"\n",
    "    second = count_valid_messages(factor.get_regex(rule_id=0))\n",
    "\n",
    "    return first, second"
   ]
  },
  {
   "cell_type": "code",
   "execution_count": 39,
   "metadata": {
    "pycharm": {
     "name": "#%%\n"
    },
    "scrolled": false
   },
   "outputs": [
    {
     "name": "stdout",
     "output_type": "stream",
     "text": [
      "Part 1: 195\n",
      "Part 2: 309\n"
     ]
    },
    {
     "data": {
      "application/javascript": [
       "\n",
       "            setTimeout(function() {\n",
       "                var nbb_cell_id = 39;\n",
       "                var nbb_unformatted_code = \"print_day(19)\";\n",
       "                var nbb_formatted_code = \"print_day(19)\";\n",
       "                var nbb_cells = Jupyter.notebook.get_cells();\n",
       "                for (var i = 0; i < nbb_cells.length; ++i) {\n",
       "                    if (nbb_cells[i].input_prompt_number == nbb_cell_id) {\n",
       "                        if (nbb_cells[i].get_text() == nbb_unformatted_code) {\n",
       "                             nbb_cells[i].set_text(nbb_formatted_code);\n",
       "                        }\n",
       "                        break;\n",
       "                    }\n",
       "                }\n",
       "            }, 500);\n",
       "            "
      ],
      "text/plain": [
       "<IPython.core.display.Javascript object>"
      ]
     },
     "metadata": {},
     "output_type": "display_data"
    }
   ],
   "source": [
    "print_day(19)"
   ]
  },
  {
   "cell_type": "markdown",
   "metadata": {},
   "source": [
    "## Day 20\n",
    "\n",
    "**Task**: "
   ]
  },
  {
   "cell_type": "code",
   "execution_count": 40,
   "metadata": {
    "pycharm": {
     "name": "#%%\n"
    }
   },
   "outputs": [
    {
     "data": {
      "application/javascript": [
       "\n",
       "            setTimeout(function() {\n",
       "                var nbb_cell_id = 40;\n",
       "                var nbb_unformatted_code = \"def day_20():\\n    first = second = None\\n\\n    return first, second\";\n",
       "                var nbb_formatted_code = \"def day_20():\\n    first = second = None\\n\\n    return first, second\";\n",
       "                var nbb_cells = Jupyter.notebook.get_cells();\n",
       "                for (var i = 0; i < nbb_cells.length; ++i) {\n",
       "                    if (nbb_cells[i].input_prompt_number == nbb_cell_id) {\n",
       "                        if (nbb_cells[i].get_text() == nbb_unformatted_code) {\n",
       "                             nbb_cells[i].set_text(nbb_formatted_code);\n",
       "                        }\n",
       "                        break;\n",
       "                    }\n",
       "                }\n",
       "            }, 500);\n",
       "            "
      ],
      "text/plain": [
       "<IPython.core.display.Javascript object>"
      ]
     },
     "metadata": {},
     "output_type": "display_data"
    }
   ],
   "source": [
    "def day_20():\n",
    "    first = second = None\n",
    "\n",
    "    return first, second"
   ]
  },
  {
   "cell_type": "code",
   "execution_count": 41,
   "metadata": {
    "pycharm": {
     "name": "#%%\n"
    },
    "scrolled": true
   },
   "outputs": [
    {
     "name": "stdout",
     "output_type": "stream",
     "text": [
      "Part 1: None\n",
      "Part 2: None\n"
     ]
    },
    {
     "data": {
      "application/javascript": [
       "\n",
       "            setTimeout(function() {\n",
       "                var nbb_cell_id = 41;\n",
       "                var nbb_unformatted_code = \"print_day(20)\";\n",
       "                var nbb_formatted_code = \"print_day(20)\";\n",
       "                var nbb_cells = Jupyter.notebook.get_cells();\n",
       "                for (var i = 0; i < nbb_cells.length; ++i) {\n",
       "                    if (nbb_cells[i].input_prompt_number == nbb_cell_id) {\n",
       "                        if (nbb_cells[i].get_text() == nbb_unformatted_code) {\n",
       "                             nbb_cells[i].set_text(nbb_formatted_code);\n",
       "                        }\n",
       "                        break;\n",
       "                    }\n",
       "                }\n",
       "            }, 500);\n",
       "            "
      ],
      "text/plain": [
       "<IPython.core.display.Javascript object>"
      ]
     },
     "metadata": {},
     "output_type": "display_data"
    }
   ],
   "source": [
    "print_day(20)"
   ]
  },
  {
   "cell_type": "markdown",
   "metadata": {},
   "source": [
    "## Day 21\n",
    "\n",
    "**Task**: Parse allergens and match them with foods from encoded list. Report amount of foods without allergens and all foods with allergens.\n",
    "\n",
    "This puzzle is actually almost like the one from the day 16, so I decided to take a similar approach: first, find out all potentially allerginic foods by filtering them with set intersections. Then find out which allergen matches just one food, pop it out, remove food from all other allergen sets and continue until there's no allergens left. The while loop \n",
    "here is basically copy from day 16.\n",
    "\n",
    "Answer for first is solved by merging sets for dictionary `potential` and checking food appearances against those. Second is just sorting allergens by food."
   ]
  },
  {
   "cell_type": "code",
   "execution_count": 42,
   "metadata": {
    "pycharm": {
     "name": "#%%\n"
    }
   },
   "outputs": [
    {
     "data": {
      "application/javascript": [
       "\n",
       "            setTimeout(function() {\n",
       "                var nbb_cell_id = 42;\n",
       "                var nbb_unformatted_code = \"Food = Allergen = str\\n\\n\\ndef day_21():\\n    lines = data_to_lines(day=21)\\n    potential_allergens: Dict[Allergen, Set[Food]] = defaultdict(set)\\n    food_appearances = Counter()\\n    final_allergens: List[Tuple[Food, Allergen]] = []\\n    regex = re.compile(r\\\"(\\\\w+)\\\")\\n\\n    for line in lines:\\n        foods, allergens = [regex.findall(part) for part in line.split(\\\"contains\\\")]\\n        food_appearances.update(foods)\\n        for allergen in allergens:\\n            if allergen not in potential_allergens:\\n                potential_allergens[allergen] |= set(foods)\\n            potential_allergens[allergen] &= set(foods)\\n\\n    allergenic_foods = functools.reduce(\\n        lambda x, y: {*x, *y}, potential_allergens.values()\\n    )\\n\\n    while potential_allergens:\\n        allergen = next(\\n            allergen\\n            for allergen in potential_allergens\\n            if len(potential_allergens[allergen]) == 1\\n        )\\n        food = list(potential_allergens[allergen])[0]\\n        final_allergens.append((allergen, food))\\n        for foods in potential_allergens.values():\\n            foods.discard(food)\\n        del potential_allergens[allergen]\\n\\n    first = sum(\\n        appearances\\n        for food, appearances in food_appearances.items()\\n        if food not in allergenic_foods\\n    )\\n    second = \\\",\\\".join(food for _, food in sorted(final_allergens))\\n\\n    return first, second\";\n",
       "                var nbb_formatted_code = \"Food = Allergen = str\\n\\n\\ndef day_21():\\n    lines = data_to_lines(day=21)\\n    potential_allergens: Dict[Allergen, Set[Food]] = defaultdict(set)\\n    food_appearances = Counter()\\n    final_allergens: List[Tuple[Food, Allergen]] = []\\n    regex = re.compile(r\\\"(\\\\w+)\\\")\\n\\n    for line in lines:\\n        foods, allergens = [regex.findall(part) for part in line.split(\\\"contains\\\")]\\n        food_appearances.update(foods)\\n        for allergen in allergens:\\n            if allergen not in potential_allergens:\\n                potential_allergens[allergen] |= set(foods)\\n            potential_allergens[allergen] &= set(foods)\\n\\n    allergenic_foods = functools.reduce(\\n        lambda x, y: {*x, *y}, potential_allergens.values()\\n    )\\n\\n    while potential_allergens:\\n        allergen = next(\\n            allergen\\n            for allergen in potential_allergens\\n            if len(potential_allergens[allergen]) == 1\\n        )\\n        food = list(potential_allergens[allergen])[0]\\n        final_allergens.append((allergen, food))\\n        for foods in potential_allergens.values():\\n            foods.discard(food)\\n        del potential_allergens[allergen]\\n\\n    first = sum(\\n        appearances\\n        for food, appearances in food_appearances.items()\\n        if food not in allergenic_foods\\n    )\\n    second = \\\",\\\".join(food for _, food in sorted(final_allergens))\\n\\n    return first, second\";\n",
       "                var nbb_cells = Jupyter.notebook.get_cells();\n",
       "                for (var i = 0; i < nbb_cells.length; ++i) {\n",
       "                    if (nbb_cells[i].input_prompt_number == nbb_cell_id) {\n",
       "                        if (nbb_cells[i].get_text() == nbb_unformatted_code) {\n",
       "                             nbb_cells[i].set_text(nbb_formatted_code);\n",
       "                        }\n",
       "                        break;\n",
       "                    }\n",
       "                }\n",
       "            }, 500);\n",
       "            "
      ],
      "text/plain": [
       "<IPython.core.display.Javascript object>"
      ]
     },
     "metadata": {},
     "output_type": "display_data"
    }
   ],
   "source": [
    "Food = Allergen = str\n",
    "\n",
    "\n",
    "def day_21():\n",
    "    lines = data_to_lines(day=21)\n",
    "    potential_allergens: Dict[Allergen, Set[Food]] = defaultdict(set)\n",
    "    food_appearances = Counter()\n",
    "    final_allergens: List[Tuple[Food, Allergen]] = []\n",
    "    regex = re.compile(r\"(\\w+)\")\n",
    "\n",
    "    for line in lines:\n",
    "        foods, allergens = [regex.findall(part) for part in line.split(\"contains\")]\n",
    "        food_appearances.update(foods)\n",
    "        for allergen in allergens:\n",
    "            if allergen not in potential_allergens:\n",
    "                potential_allergens[allergen] |= set(foods)\n",
    "            potential_allergens[allergen] &= set(foods)\n",
    "\n",
    "    allergenic_foods = functools.reduce(\n",
    "        lambda x, y: {*x, *y}, potential_allergens.values()\n",
    "    )\n",
    "\n",
    "    while potential_allergens:\n",
    "        allergen = next(\n",
    "            allergen\n",
    "            for allergen in potential_allergens\n",
    "            if len(potential_allergens[allergen]) == 1\n",
    "        )\n",
    "        food = list(potential_allergens[allergen])[0]\n",
    "        final_allergens.append((allergen, food))\n",
    "        for foods in potential_allergens.values():\n",
    "            foods.discard(food)\n",
    "        del potential_allergens[allergen]\n",
    "\n",
    "    first = sum(\n",
    "        appearances\n",
    "        for food, appearances in food_appearances.items()\n",
    "        if food not in allergenic_foods\n",
    "    )\n",
    "    second = \",\".join(food for _, food in sorted(final_allergens))\n",
    "\n",
    "    return first, second"
   ]
  },
  {
   "cell_type": "code",
   "execution_count": 43,
   "metadata": {
    "pycharm": {
     "name": "#%%\n"
    },
    "scrolled": false
   },
   "outputs": [
    {
     "name": "stdout",
     "output_type": "stream",
     "text": [
      "Part 1: 2779\n",
      "Part 2: lkv,lfcppl,jhsrjlj,jrhvk,zkls,qjltjd,xslr,rfpbpn\n"
     ]
    },
    {
     "data": {
      "application/javascript": [
       "\n",
       "            setTimeout(function() {\n",
       "                var nbb_cell_id = 43;\n",
       "                var nbb_unformatted_code = \"print_day(21)\";\n",
       "                var nbb_formatted_code = \"print_day(21)\";\n",
       "                var nbb_cells = Jupyter.notebook.get_cells();\n",
       "                for (var i = 0; i < nbb_cells.length; ++i) {\n",
       "                    if (nbb_cells[i].input_prompt_number == nbb_cell_id) {\n",
       "                        if (nbb_cells[i].get_text() == nbb_unformatted_code) {\n",
       "                             nbb_cells[i].set_text(nbb_formatted_code);\n",
       "                        }\n",
       "                        break;\n",
       "                    }\n",
       "                }\n",
       "            }, 500);\n",
       "            "
      ],
      "text/plain": [
       "<IPython.core.display.Javascript object>"
      ]
     },
     "metadata": {},
     "output_type": "display_data"
    }
   ],
   "source": [
    "print_day(21)"
   ]
  },
  {
   "cell_type": "markdown",
   "metadata": {},
   "source": [
    "## Day 22\n",
    "\n",
    "**Task**: Play games called \"Combat\" and \"Recursive Combat\".\n",
    "\n",
    "Good old space cards from 2019, but this time, luckily, without a lot of arithmetics ([check this out if you want to see more](https://adventofcode.com/2019/day/22)). \n",
    "\n",
    "For efficiently simulating cards in decks, it's best to use deque: it supports $O(1)$ insertions and removals in both ends and also gives quite efficient way for slicing. This way\n",
    "it's easy to run games according to given rules. "
   ]
  },
  {
   "cell_type": "code",
   "execution_count": 44,
   "metadata": {
    "pycharm": {
     "name": "#%%\n"
    }
   },
   "outputs": [
    {
     "data": {
      "application/javascript": [
       "\n",
       "            setTimeout(function() {\n",
       "                var nbb_cell_id = 44;\n",
       "                var nbb_unformatted_code = \"Winner = str\\nScore = int\\n\\n\\ndef day_22():\\n    def score(deck: Deque) -> Score:\\n        return sum((i + 1) * num for i, num in enumerate(reversed(deck)))\\n\\n    def play_first(decks: List[Deque]) -> Deque:\\n        while decks[0] and decks[1]:\\n            cards = [deck.popleft() for deck in decks]\\n            if cards[0] > cards[1]:\\n                decks[0].extend(cards)\\n            else:\\n                decks[1].extend(reversed(cards))\\n        return score(deck=decks[0]) if decks[0] else score(deck=decks[1])\\n\\n    def play_second(decks: List[Deque], at_root=False) -> Union[Winner, Score]:\\n        seen = [set() for _ in range(2)]\\n        while decks[0] and decks[1]:\\n            if any(tuple(decks[i]) in seen[i] for i in range(2)):\\n                return \\\"Player 1\\\"\\n            seen[0].add(tuple(decks[0]))\\n            seen[1].add(tuple(decks[1]))\\n            cards = [deck.popleft() for deck in decks]\\n            if all(len(decks[i]) >= cards[i] for i in range(2)):\\n                new_decks = [\\n                    deque(itertools.islice(a, 0, b)) for a, b in zip(decks, cards)\\n                ]\\n                winner = play_second(decks=new_decks)\\n            else:\\n                winner = \\\"Player 1\\\" if cards[0] > cards[1] else \\\"Player 2\\\"\\n            if winner == \\\"Player 1\\\":\\n                decks[0].extend(cards)\\n            else:\\n                decks[1].extend(reversed(cards))\\n        winner = \\\"Player 1\\\" if decks[0] else \\\"Player 2\\\"\\n        if at_root:\\n            return score(deck=decks[0]) if decks[0] else score(deck=decks[1])\\n        return winner\\n\\n    def run(mode):\\n        decks = [\\n            deque([int(x) for x in nums.splitlines()[1:]])\\n            for nums in data_to_blocks(day=22)\\n        ]\\n        return (\\n            play_second(decks=decks, at_root=True)\\n            if mode == \\\"second\\\"\\n            else play_first(decks=decks)\\n        )\\n\\n    return run(mode=\\\"first\\\"), run(mode=\\\"second\\\")\";\n",
       "                var nbb_formatted_code = \"Winner = str\\nScore = int\\n\\n\\ndef day_22():\\n    def score(deck: Deque) -> Score:\\n        return sum((i + 1) * num for i, num in enumerate(reversed(deck)))\\n\\n    def play_first(decks: List[Deque]) -> Deque:\\n        while decks[0] and decks[1]:\\n            cards = [deck.popleft() for deck in decks]\\n            if cards[0] > cards[1]:\\n                decks[0].extend(cards)\\n            else:\\n                decks[1].extend(reversed(cards))\\n        return score(deck=decks[0]) if decks[0] else score(deck=decks[1])\\n\\n    def play_second(decks: List[Deque], at_root=False) -> Union[Winner, Score]:\\n        seen = [set() for _ in range(2)]\\n        while decks[0] and decks[1]:\\n            if any(tuple(decks[i]) in seen[i] for i in range(2)):\\n                return \\\"Player 1\\\"\\n            seen[0].add(tuple(decks[0]))\\n            seen[1].add(tuple(decks[1]))\\n            cards = [deck.popleft() for deck in decks]\\n            if all(len(decks[i]) >= cards[i] for i in range(2)):\\n                new_decks = [\\n                    deque(itertools.islice(a, 0, b)) for a, b in zip(decks, cards)\\n                ]\\n                winner = play_second(decks=new_decks)\\n            else:\\n                winner = \\\"Player 1\\\" if cards[0] > cards[1] else \\\"Player 2\\\"\\n            if winner == \\\"Player 1\\\":\\n                decks[0].extend(cards)\\n            else:\\n                decks[1].extend(reversed(cards))\\n        winner = \\\"Player 1\\\" if decks[0] else \\\"Player 2\\\"\\n        if at_root:\\n            return score(deck=decks[0]) if decks[0] else score(deck=decks[1])\\n        return winner\\n\\n    def run(mode):\\n        decks = [\\n            deque([int(x) for x in nums.splitlines()[1:]])\\n            for nums in data_to_blocks(day=22)\\n        ]\\n        return (\\n            play_second(decks=decks, at_root=True)\\n            if mode == \\\"second\\\"\\n            else play_first(decks=decks)\\n        )\\n\\n    return run(mode=\\\"first\\\"), run(mode=\\\"second\\\")\";\n",
       "                var nbb_cells = Jupyter.notebook.get_cells();\n",
       "                for (var i = 0; i < nbb_cells.length; ++i) {\n",
       "                    if (nbb_cells[i].input_prompt_number == nbb_cell_id) {\n",
       "                        if (nbb_cells[i].get_text() == nbb_unformatted_code) {\n",
       "                             nbb_cells[i].set_text(nbb_formatted_code);\n",
       "                        }\n",
       "                        break;\n",
       "                    }\n",
       "                }\n",
       "            }, 500);\n",
       "            "
      ],
      "text/plain": [
       "<IPython.core.display.Javascript object>"
      ]
     },
     "metadata": {},
     "output_type": "display_data"
    }
   ],
   "source": [
    "Winner = str\n",
    "Score = int\n",
    "\n",
    "\n",
    "def day_22():\n",
    "    def score(deck: Deque) -> Score:\n",
    "        return sum((i + 1) * num for i, num in enumerate(reversed(deck)))\n",
    "\n",
    "    def play_first(decks: List[Deque]) -> Deque:\n",
    "        while decks[0] and decks[1]:\n",
    "            cards = [deck.popleft() for deck in decks]\n",
    "            if cards[0] > cards[1]:\n",
    "                decks[0].extend(cards)\n",
    "            else:\n",
    "                decks[1].extend(reversed(cards))\n",
    "        return score(deck=decks[0]) if decks[0] else score(deck=decks[1])\n",
    "\n",
    "    def play_second(decks: List[Deque], at_root=False) -> Union[Winner, Score]:\n",
    "        seen = [set() for _ in range(2)]\n",
    "        while decks[0] and decks[1]:\n",
    "            if any(tuple(decks[i]) in seen[i] for i in range(2)):\n",
    "                return \"Player 1\"\n",
    "            seen[0].add(tuple(decks[0]))\n",
    "            seen[1].add(tuple(decks[1]))\n",
    "            cards = [deck.popleft() for deck in decks]\n",
    "            if all(len(decks[i]) >= cards[i] for i in range(2)):\n",
    "                new_decks = [\n",
    "                    deque(itertools.islice(a, 0, b)) for a, b in zip(decks, cards)\n",
    "                ]\n",
    "                winner = play_second(decks=new_decks)\n",
    "            else:\n",
    "                winner = \"Player 1\" if cards[0] > cards[1] else \"Player 2\"\n",
    "            if winner == \"Player 1\":\n",
    "                decks[0].extend(cards)\n",
    "            else:\n",
    "                decks[1].extend(reversed(cards))\n",
    "        winner = \"Player 1\" if decks[0] else \"Player 2\"\n",
    "        if at_root:\n",
    "            return score(deck=decks[0]) if decks[0] else score(deck=decks[1])\n",
    "        return winner\n",
    "\n",
    "    def run(mode):\n",
    "        decks = [\n",
    "            deque([int(x) for x in nums.splitlines()[1:]])\n",
    "            for nums in data_to_blocks(day=22)\n",
    "        ]\n",
    "        return (\n",
    "            play_second(decks=decks, at_root=True)\n",
    "            if mode == \"second\"\n",
    "            else play_first(decks=decks)\n",
    "        )\n",
    "\n",
    "    return run(mode=\"first\"), run(mode=\"second\")"
   ]
  },
  {
   "cell_type": "code",
   "execution_count": 45,
   "metadata": {
    "pycharm": {
     "name": "#%%\n"
    },
    "scrolled": false
   },
   "outputs": [
    {
     "name": "stdout",
     "output_type": "stream",
     "text": [
      "Part 1: 35013\n",
      "Part 2: 32806\n"
     ]
    },
    {
     "data": {
      "application/javascript": [
       "\n",
       "            setTimeout(function() {\n",
       "                var nbb_cell_id = 45;\n",
       "                var nbb_unformatted_code = \"print_day(22)\";\n",
       "                var nbb_formatted_code = \"print_day(22)\";\n",
       "                var nbb_cells = Jupyter.notebook.get_cells();\n",
       "                for (var i = 0; i < nbb_cells.length; ++i) {\n",
       "                    if (nbb_cells[i].input_prompt_number == nbb_cell_id) {\n",
       "                        if (nbb_cells[i].get_text() == nbb_unformatted_code) {\n",
       "                             nbb_cells[i].set_text(nbb_formatted_code);\n",
       "                        }\n",
       "                        break;\n",
       "                    }\n",
       "                }\n",
       "            }, 500);\n",
       "            "
      ],
      "text/plain": [
       "<IPython.core.display.Javascript object>"
      ]
     },
     "metadata": {},
     "output_type": "display_data"
    }
   ],
   "source": [
    "print_day(22)"
   ]
  },
  {
   "cell_type": "markdown",
   "metadata": {},
   "source": [
    "## Day 23\n",
    "\n",
    "**Task**: Play cups and balls magic trick for $n$ rounds.\n",
    "\n",
    "This is one of those aoc-puzzles, where it's easy to write first version, then input size \n",
    "bumps up to something like $10^9$ and you're left with solution with entirely wrong data structure / algorithm.\n",
    "\n",
    "Rules themselves are quite simple: take three elements and move them to another place without changing their order, then repeat. A good data structure for this is linked list, but since\n",
    "python doesn't have one in standard library and only single linked list is needed (to know next cups on the right side), one can simulate linked list with regular list. Here, each index \n",
    "$i$ in the list `neighbour` tells which label is on the right side of cup label $i$.\n",
    "\n",
    "And since simulating cup movements is basically just looping over same code $n$ times, it can\n",
    "be sped up with numba."
   ]
  },
  {
   "cell_type": "code",
   "execution_count": 167,
   "metadata": {
    "pycharm": {
     "name": "#%%\n"
    }
   },
   "outputs": [
    {
     "data": {
      "application/javascript": [
       "\n",
       "            setTimeout(function() {\n",
       "                var nbb_cell_id = 167;\n",
       "                var nbb_unformatted_code = \"import time\\ndef day_23() -> Solution:\\n    cups = [int(x) for x in data(day=23)]\\n\\n    @nb.njit\\n    def run(curr: int, neighbour: nb.typed.List, repeat: int) -> nb.typed.List:\\n        n = len(neighbour) - 1\\n        for _ in range(repeat):\\n            first = neighbour[curr]\\n            second = neighbour[first]\\n            last = neighbour[second]\\n            values = {first, second, last}\\n\\n            dest = n if curr == 1 else curr - 1\\n            while dest in values:\\n                dest = n if dest == 1 else dest - 1\\n\\n            neighbour[curr] = neighbour[last]\\n            neighbour[last] = neighbour[dest]\\n            neighbour[dest] = first\\n\\n            curr = neighbour[curr]\\n\\n        return neighbour\\n\\n    def solve(mode: Mode) -> Union[int, str]:\\n        neighbour = nb.typed.List()\\n        n = len(cups)\\n        for _ in range(n + 1):\\n            neighbour.append(0)\\n        for i in range(n - 1):\\n            neighbour[cups[i]] = cups[i + 1]\\n        curr = cups[0]\\n\\n        start = time.time()\\n        if mode == \\\"second\\\":\\n            neighbour[cups[n - 1]] = n + 1\\n            for i in range(n + 2, 10 ** 6 + 1):\\n                neighbour.append(i)\\n            neighbour.append(cups[0])\\n            repeat = 10 ** 7\\n        else:\\n            neighbour[cups[-1]] = cups[0]\\n            repeat = 100\\n        print(\\\"took:\\\", time.time() - start)\\n\\n        start = time.time()\\n        solution = run(curr=curr, neighbour=neighbour, repeat=repeat)\\n        print(\\\"took:\\\", time.time() - start)\\n\\n        if mode == \\\"second\\\":\\n            return solution[1] * solution[solution[1]]\\n\\n        curr, ans = 1, []\\n        while (curr := solution[curr]) != 1:\\n            ans.append(str(curr))\\n        return \\\"\\\".join(ans)\\n\\n    return solve(mode=\\\"first\\\"), solve(mode=\\\"second\\\")\";\n",
       "                var nbb_formatted_code = \"import time\\n\\n\\ndef day_23() -> Solution:\\n    cups = [int(x) for x in data(day=23)]\\n\\n    @nb.njit\\n    def run(curr: int, neighbour: nb.typed.List, repeat: int) -> nb.typed.List:\\n        n = len(neighbour) - 1\\n        for _ in range(repeat):\\n            first = neighbour[curr]\\n            second = neighbour[first]\\n            last = neighbour[second]\\n            values = {first, second, last}\\n\\n            dest = n if curr == 1 else curr - 1\\n            while dest in values:\\n                dest = n if dest == 1 else dest - 1\\n\\n            neighbour[curr] = neighbour[last]\\n            neighbour[last] = neighbour[dest]\\n            neighbour[dest] = first\\n\\n            curr = neighbour[curr]\\n\\n        return neighbour\\n\\n    def solve(mode: Mode) -> Union[int, str]:\\n        neighbour = nb.typed.List()\\n        n = len(cups)\\n        for _ in range(n + 1):\\n            neighbour.append(0)\\n        for i in range(n - 1):\\n            neighbour[cups[i]] = cups[i + 1]\\n        curr = cups[0]\\n\\n        start = time.time()\\n        if mode == \\\"second\\\":\\n            neighbour[cups[n - 1]] = n + 1\\n            for i in range(n + 2, 10 ** 6 + 1):\\n                neighbour.append(i)\\n            neighbour.append(cups[0])\\n            repeat = 10 ** 7\\n        else:\\n            neighbour[cups[-1]] = cups[0]\\n            repeat = 100\\n        print(\\\"took:\\\", time.time() - start)\\n\\n        start = time.time()\\n        solution = run(curr=curr, neighbour=neighbour, repeat=repeat)\\n        print(\\\"took:\\\", time.time() - start)\\n\\n        if mode == \\\"second\\\":\\n            return solution[1] * solution[solution[1]]\\n\\n        curr, ans = 1, []\\n        while (curr := solution[curr]) != 1:\\n            ans.append(str(curr))\\n        return \\\"\\\".join(ans)\\n\\n    return solve(mode=\\\"first\\\"), solve(mode=\\\"second\\\")\";\n",
       "                var nbb_cells = Jupyter.notebook.get_cells();\n",
       "                for (var i = 0; i < nbb_cells.length; ++i) {\n",
       "                    if (nbb_cells[i].input_prompt_number == nbb_cell_id) {\n",
       "                        if (nbb_cells[i].get_text() == nbb_unformatted_code) {\n",
       "                             nbb_cells[i].set_text(nbb_formatted_code);\n",
       "                        }\n",
       "                        break;\n",
       "                    }\n",
       "                }\n",
       "            }, 500);\n",
       "            "
      ],
      "text/plain": [
       "<IPython.core.display.Javascript object>"
      ]
     },
     "metadata": {},
     "output_type": "display_data"
    }
   ],
   "source": [
    "import time\n",
    "\n",
    "\n",
    "def day_23() -> Solution:\n",
    "    cups = [int(x) for x in data(day=23)]\n",
    "\n",
    "    @nb.njit\n",
    "    def run(curr: int, neighbour: nb.typed.List, repeat: int) -> nb.typed.List:\n",
    "        n = len(neighbour) - 1\n",
    "        for _ in range(repeat):\n",
    "            first = neighbour[curr]\n",
    "            second = neighbour[first]\n",
    "            last = neighbour[second]\n",
    "            values = {first, second, last}\n",
    "\n",
    "            dest = n if curr == 1 else curr - 1\n",
    "            while dest in values:\n",
    "                dest = n if dest == 1 else dest - 1\n",
    "\n",
    "            neighbour[curr] = neighbour[last]\n",
    "            neighbour[last] = neighbour[dest]\n",
    "            neighbour[dest] = first\n",
    "\n",
    "            curr = neighbour[curr]\n",
    "\n",
    "        return neighbour\n",
    "\n",
    "    def solve(mode: Mode) -> Union[int, str]:\n",
    "        neighbour = nb.typed.List()\n",
    "        n = len(cups)\n",
    "        for _ in range(n + 1):\n",
    "            neighbour.append(0)\n",
    "        for i in range(n - 1):\n",
    "            neighbour[cups[i]] = cups[i + 1]\n",
    "        curr = cups[0]\n",
    "\n",
    "        start = time.time()\n",
    "        if mode == \"second\":\n",
    "            neighbour[cups[n - 1]] = n + 1\n",
    "            for i in range(n + 2, 10 ** 6 + 1):\n",
    "                neighbour.append(i)\n",
    "            neighbour.append(cups[0])\n",
    "            repeat = 10 ** 7\n",
    "        else:\n",
    "            neighbour[cups[-1]] = cups[0]\n",
    "            repeat = 100\n",
    "        print(\"took:\", time.time() - start)\n",
    "\n",
    "        start = time.time()\n",
    "        solution = run(curr=curr, neighbour=neighbour, repeat=repeat)\n",
    "        print(\"took:\", time.time() - start)\n",
    "\n",
    "        if mode == \"second\":\n",
    "            return solution[1] * solution[solution[1]]\n",
    "\n",
    "        curr, ans = 1, []\n",
    "        while (curr := solution[curr]) != 1:\n",
    "            ans.append(str(curr))\n",
    "        return \"\".join(ans)\n",
    "\n",
    "    return solve(mode=\"first\"), solve(mode=\"second\")"
   ]
  },
  {
   "cell_type": "code",
   "execution_count": 168,
   "metadata": {
    "pycharm": {
     "name": "#%%\n"
    },
    "scrolled": true
   },
   "outputs": [
    {
     "name": "stdout",
     "output_type": "stream",
     "text": [
      "took: 4.291534423828125e-06\n",
      "took: 0.4045839309692383\n",
      "took: 1.6664531230926514\n",
      "took: 4.467679023742676\n",
      "Part 1: 58427369\n",
      "Part 2: 111057672960\n"
     ]
    },
    {
     "data": {
      "application/javascript": [
       "\n",
       "            setTimeout(function() {\n",
       "                var nbb_cell_id = 168;\n",
       "                var nbb_unformatted_code = \"print_day(23)\";\n",
       "                var nbb_formatted_code = \"print_day(23)\";\n",
       "                var nbb_cells = Jupyter.notebook.get_cells();\n",
       "                for (var i = 0; i < nbb_cells.length; ++i) {\n",
       "                    if (nbb_cells[i].input_prompt_number == nbb_cell_id) {\n",
       "                        if (nbb_cells[i].get_text() == nbb_unformatted_code) {\n",
       "                             nbb_cells[i].set_text(nbb_formatted_code);\n",
       "                        }\n",
       "                        break;\n",
       "                    }\n",
       "                }\n",
       "            }, 500);\n",
       "            "
      ],
      "text/plain": [
       "<IPython.core.display.Javascript object>"
      ]
     },
     "metadata": {},
     "output_type": "display_data"
    }
   ],
   "source": [
    "print_day(23)"
   ]
  },
  {
   "cell_type": "markdown",
   "metadata": {},
   "source": [
    "## Day 25\n",
    "\n",
    "**Task**: Given two public keys, find out the encryption key they share.\n",
    "\n",
    "The final day, yeah! Exchange process detailed in the puzzle is a lot like [Diffie-\n",
    "Hellman key exchange](https://en.wikipedia.org/wiki/Diffie%E2%80%93Hellman_key_exchange), \n",
    "and in this case, the secret integer (loop size) must be solved.\n",
    "\n",
    "Transforming process is basically taking $k$th power of the subject number $7$\n",
    "modulo $20201227$, where $k = $ loop size. Since public key $n$ is given, loop \n",
    "size can be found from the equation $7^k \\equiv n \\pmod{20201227}$. \n",
    "\n",
    "Instead of brute forcing loop sizes $1…k$ until correct is found, it's better to\n",
    "calculate [discrete logarithm](https://en.wikipedia.org/wiki/Discrete_logarithm) of\n",
    "$n$ to the base $7$ modulo $20201227$. Luckily, Sympy library provides\n",
    "[suitable function for this](\n",
    "https://docs.sympy.org/latest/modules/ntheory.html?#sympy.ntheory.residue_ntheory.discrete_log)."
   ]
  },
  {
   "cell_type": "code",
   "execution_count": 46,
   "metadata": {
    "pycharm": {
     "name": "#%%\n"
    }
   },
   "outputs": [
    {
     "data": {
      "application/javascript": [
       "\n",
       "            setTimeout(function() {\n",
       "                var nbb_cell_id = 46;\n",
       "                var nbb_unformatted_code = \"def day_25():\\n    card_key, door_key = data_to_nums(day=25)\\n    subject_number, modulo, loop_size = 7, 20201227, 0\\n    \\n    k = discrete_log(modulo, card_key, subject_number)\\n    \\n    return pow(door_key, k, modulo), None\";\n",
       "                var nbb_formatted_code = \"def day_25():\\n    card_key, door_key = data_to_nums(day=25)\\n    subject_number, modulo, loop_size = 7, 20201227, 0\\n\\n    k = discrete_log(modulo, card_key, subject_number)\\n\\n    return pow(door_key, k, modulo), None\";\n",
       "                var nbb_cells = Jupyter.notebook.get_cells();\n",
       "                for (var i = 0; i < nbb_cells.length; ++i) {\n",
       "                    if (nbb_cells[i].input_prompt_number == nbb_cell_id) {\n",
       "                        if (nbb_cells[i].get_text() == nbb_unformatted_code) {\n",
       "                             nbb_cells[i].set_text(nbb_formatted_code);\n",
       "                        }\n",
       "                        break;\n",
       "                    }\n",
       "                }\n",
       "            }, 500);\n",
       "            "
      ],
      "text/plain": [
       "<IPython.core.display.Javascript object>"
      ]
     },
     "metadata": {},
     "output_type": "display_data"
    }
   ],
   "source": [
    "def day_25():\n",
    "    card_key, door_key = data_to_nums(day=25)\n",
    "    subject_number, modulo, loop_size = 7, 20201227, 0\n",
    "    \n",
    "    k = discrete_log(modulo, card_key, subject_number)\n",
    "    \n",
    "    return pow(door_key, k, modulo), None\n"
   ]
  },
  {
   "cell_type": "code",
   "execution_count": 47,
   "metadata": {
    "scrolled": true
   },
   "outputs": [
    {
     "name": "stdout",
     "output_type": "stream",
     "text": [
      "Part 1: 3286137\n",
      "Part 2: None\n"
     ]
    },
    {
     "data": {
      "application/javascript": [
       "\n",
       "            setTimeout(function() {\n",
       "                var nbb_cell_id = 47;\n",
       "                var nbb_unformatted_code = \"print_day(25)\";\n",
       "                var nbb_formatted_code = \"print_day(25)\";\n",
       "                var nbb_cells = Jupyter.notebook.get_cells();\n",
       "                for (var i = 0; i < nbb_cells.length; ++i) {\n",
       "                    if (nbb_cells[i].input_prompt_number == nbb_cell_id) {\n",
       "                        if (nbb_cells[i].get_text() == nbb_unformatted_code) {\n",
       "                             nbb_cells[i].set_text(nbb_formatted_code);\n",
       "                        }\n",
       "                        break;\n",
       "                    }\n",
       "                }\n",
       "            }, 500);\n",
       "            "
      ],
      "text/plain": [
       "<IPython.core.display.Javascript object>"
      ]
     },
     "metadata": {},
     "output_type": "display_data"
    }
   ],
   "source": [
    "print_day(25)"
   ]
  },
  {
   "cell_type": "markdown",
   "metadata": {},
   "source": [
    "# Timings\n",
    "Here's the report on 2018 15\" Macbook Pro (2,8 Ghz i7):"
   ]
  },
  {
   "cell_type": "code",
   "execution_count": 148,
   "metadata": {},
   "outputs": [
    {
     "name": "stdout",
     "output_type": "stream",
     "text": [
      "Day  Secs.\n",
      "===  =====\n",
      " 1  0.122\n",
      " 2  0.002\n",
      " 3  0.001\n",
      " 4  0.002\n",
      " 5  0.001\n",
      " 6  0.004\n",
      " 7  0.017\n",
      " 8  0.019\n",
      " 9  0.013\n",
      "10  0.001\n",
      "11  2.661\n",
      "12  0.002\n",
      "13  0.001\n",
      "14  0.361\n",
      "15  0.955\n",
      "16  0.080\n",
      "17  0.382\n",
      "18  0.086\n",
      "19  0.015\n",
      "20  0.000\n",
      "21  0.002\n",
      "22  1.457\n"
     ]
    },
    {
     "name": "stderr",
     "output_type": "stream",
     "text": [
      "/Users/otahontas/Library/Caches/pypoetry/virtualenvs/aocd-2020-python-OwvBomGB-py3.8/lib/python3.8/site-packages/numba/core/ir_utils.py:2067: NumbaPendingDeprecationWarning: \n",
      "Encountered the use of a type that is scheduled for deprecation: type 'reflected list' found for argument 'neighbour' of function 'day_23.<locals>.run'.\n",
      "\n",
      "For more information visit https://numba.pydata.org/numba-doc/latest/reference/deprecation.html#deprecation-of-reflection-for-list-and-set-types\n",
      "\n",
      "File \"<ipython-input-146-a9eae53b9846>\", line 5:\n",
      "    @nb.njit\n",
      "    def run(\n",
      "    ^\n",
      "\n",
      "  warnings.warn(NumbaPendingDeprecationWarning(msg, loc=loc))\n"
     ]
    },
    {
     "name": "stdout",
     "output_type": "stream",
     "text": [
      "23  5.139\n",
      "CPU times: user 11.1 s, sys: 136 ms, total: 11.3 s\n",
      "Wall time: 11.3 s\n"
     ]
    },
    {
     "data": {
      "application/javascript": [
       "\n",
       "            setTimeout(function() {\n",
       "                var nbb_cell_id = 148;\n",
       "                var nbb_unformatted_code = \"import time\\n\\n\\ndef timing():\\n    \\\"\\\"\\\"Report on timing for all days.\\\"\\\"\\\"\\n    print(\\\"Day  Secs.\\\")\\n    print(\\\"===  =====\\\")\\n    for day in range(1, 24):\\n        start = time.time()\\n        run_day(day)\\n        total = time.time() - start\\n        print(f\\\"{day:2} {total:6.3f}\\\")\\n\\n\\n%time timing()\";\n",
       "                var nbb_formatted_code = \"import time\\n\\n\\ndef timing():\\n    \\\"\\\"\\\"Report on timing for all days.\\\"\\\"\\\"\\n    print(\\\"Day  Secs.\\\")\\n    print(\\\"===  =====\\\")\\n    for day in range(1, 24):\\n        start = time.time()\\n        run_day(day)\\n        total = time.time() - start\\n        print(f\\\"{day:2} {total:6.3f}\\\")\\n\\n\\n%time timing()\";\n",
       "                var nbb_cells = Jupyter.notebook.get_cells();\n",
       "                for (var i = 0; i < nbb_cells.length; ++i) {\n",
       "                    if (nbb_cells[i].input_prompt_number == nbb_cell_id) {\n",
       "                        if (nbb_cells[i].get_text() == nbb_unformatted_code) {\n",
       "                             nbb_cells[i].set_text(nbb_formatted_code);\n",
       "                        }\n",
       "                        break;\n",
       "                    }\n",
       "                }\n",
       "            }, 500);\n",
       "            "
      ],
      "text/plain": [
       "<IPython.core.display.Javascript object>"
      ]
     },
     "metadata": {},
     "output_type": "display_data"
    }
   ],
   "source": [
    "import time\n",
    "\n",
    "\n",
    "def timing():\n",
    "    \"\"\"Report on timing for all days.\"\"\"\n",
    "    print(\"Day  Secs.\")\n",
    "    print(\"===  =====\")\n",
    "    for day in range(1, 24):\n",
    "        start = time.time()\n",
    "        run_day(day)\n",
    "        total = time.time() - start\n",
    "        print(f\"{day:2} {total:6.3f}\")\n",
    "\n",
    "\n",
    "%time timing()"
   ]
  },
  {
   "cell_type": "markdown",
   "metadata": {},
   "source": [
    "Take a look at following:\n",
    "- https://github.com/norvig/pytudes/blob/master/ipynb/Advent-2020.ipynb\n",
    "- https://github.com/sophiebits/adventofcode/\n",
    "- https://github.com/arknave/advent-of-code-2020\n",
    "- https://github.com/mjpieters/adventofcode/tree/master/2020"
   ]
  },
  {
   "cell_type": "code",
   "execution_count": null,
   "metadata": {},
   "outputs": [],
   "source": []
  }
 ],
 "metadata": {
  "kernelspec": {
   "display_name": "Python 3",
   "language": "python",
   "name": "python3"
  },
  "language_info": {
   "codemirror_mode": {
    "name": "ipython",
    "version": 3
   },
   "file_extension": ".py",
   "mimetype": "text/x-python",
   "name": "python",
   "nbconvert_exporter": "python",
   "pygments_lexer": "ipython3",
   "version": "3.8.6"
  }
 },
 "nbformat": 4,
 "nbformat_minor": 1
}
